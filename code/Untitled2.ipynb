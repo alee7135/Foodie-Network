{
 "cells": [
  {
   "cell_type": "code",
   "execution_count": 15,
   "metadata": {
    "collapsed": false
   },
   "outputs": [],
   "source": [
    "# from graph_tool import *\n",
    "# import graph_tool.all as gt\n",
    "from igraph import *\n",
    "import pickle\n",
    "import numpy as np\n",
    "from collections import Counter, defaultdict\n",
    "import numpy as np\n",
    "import time\n",
    "import matplotlib.pyplot as plt\n",
    "import pandas as pd\n",
    "import multiprocessing\n",
    "from scipy.optimize import minimize\n",
    "%matplotlib inline"
   ]
  },
  {
   "cell_type": "code",
   "execution_count": 2,
   "metadata": {
    "collapsed": false
   },
   "outputs": [],
   "source": [
    "# user_ = pickle.load(open(\"../data/user_edges.p\", 'rb' ))\n",
    "# business_ = pickle.load(open(\"../data/business_edges.p\", 'rb' ))\n",
    "review_ = pickle.load(open(\"../data/review_edges.p\", 'rb' ))\n",
    "# cruis_ = pickle.load(open(\"../data/cruis_edges.p\", 'rb' ))\n",
    "\n",
    "dict_all_users_of_a_business = pickle.load(open(\"../data/dict_all_users_of_a_business.p\", 'rb'  ))\n",
    "dict_all_businesses_of_a_user = pickle.load(open(\"../data/dict_all_businesses_of_a_user.p\", 'rb'  ))"
   ]
  },
  {
   "cell_type": "code",
   "execution_count": 3,
   "metadata": {
    "collapsed": false
   },
   "outputs": [],
   "source": [
    "g = gt.Graph(directed=False)\n",
    "vuprop = g.new_vertex_property(\"string\") # prop for user\n",
    "vbprop = g.new_vertex_property(\"string\") # prop for business\n",
    "vcprop = g.new_vertex_property(\"vector<string>\") # prop for cruisine\n",
    "erprop = g.new_edge_property('int16_t') # prop for rating\n",
    "euuprop = g.new_edge_property(\"vector<string>\") # prop for user-user\n",
    "ebbprop = g.new_edge_property(\"vector<string>\") # prop for business-business\n",
    "eubprop = g.new_edge_property(\"vector<string>\") # prop for user-business\n",
    "# ecprop = g.new_edge_property(\"vector<string>\") # prop for business-business by same cruisine"
   ]
  },
  {
   "cell_type": "code",
   "execution_count": 4,
   "metadata": {
    "collapsed": false
   },
   "outputs": [
    {
     "name": "stdout",
     "output_type": "stream",
     "text": [
      "Took 35.646746 seconds\n"
     ]
    }
   ],
   "source": [
    "start = time.time()\n",
    "# Create dictionaries to store the vertex node objects\n",
    "users_vertex = defaultdict()\n",
    "businesses_vertex = defaultdict()\n",
    "# Create dictionaries to store the edge node objects\n",
    "user_edges = defaultdict()\n",
    "business_edges = defaultdict()\n",
    "review_edges = defaultdict()\n",
    "cruis_edges = defaultdict()\n",
    "\n",
    "for user, business, rating, cruisine in review_:  \n",
    "#     print user, business, rating, cruisine\n",
    "    if user not in users_vertex:\n",
    "        vu = g.add_vertex() # vertex of user\n",
    "        users_vertex[user] = vu\n",
    "        g.vertex_properties['user_id'] = vuprop\n",
    "        g.vertex_properties['user_id'][vu] = user.encode(\"utf-8\")\n",
    "\n",
    "    if business not in businesses_vertex:\n",
    "        vb = g.add_vertex() # vertex of business\n",
    "        businesses_vertex[business] = vb\n",
    "        g.vertex_properties['business_id'] = vbprop\n",
    "        g.vertex_properties['business_id'][vb] = business.encode(\"utf-8\")\n",
    "        g.vertex_properties['cruisine'] = vcprop\n",
    "        g.vertex_properties['cruisine'][vb] = cruisine\n",
    "\n",
    "    if (user, business) not in review_edges:\n",
    "        er = g.add_edge(vu,vb) # edge of review (USER,BUSINESS)\n",
    "        review_edges[(user, business)] = er\n",
    "        g.edge_properties['rating'] = erprop\n",
    "        g.edge_properties['rating'][er] = rating\n",
    "        g.edge_properties['review_id'] = eubprop\n",
    "        g.edge_properties['review_id'][er] = (user.encode(\"utf-8\"), business.encode(\"utf-8\"))\n",
    "\n",
    "# for user1, user2 in user_:\n",
    "#     if (user1, user2) not in user_edges:\n",
    "#         euu = g.add_edge(users_vertex[user1], users_vertex[user2])\n",
    "#         user_edges[(user1, user2)] = euu\n",
    "#         g.edge_properties['user_user_id'] = euuprop\n",
    "#         g.edge_properties['user_user_id'][euu] = (user1.encode(\"utf-8\"), user2.encode(\"utf-8\"))\n",
    "\n",
    "# for bus1, bus2 in business_:\n",
    "#     if (bus1, bus2) not in business_edges:\n",
    "#         ebb = g.add_edge(businesses_vertex[bus1], businesses_vertex[bus2])\n",
    "#         business_edges[(bus1, bus2)] = ebb\n",
    "#         g.edge_properties['bus_bus_id'] = ebbprop\n",
    "#         g.edge_properties['bus_bus_id'][ebb] = (bus1.encode(\"utf-8\"), bus2.encode(\"utf-8\"))\n",
    "        \n",
    "# for b1, b2 in cruisine_:\n",
    "#     if (b1, b2) not in cruis_edges:\n",
    "#         ec = g.add_edge(businesses_vertex[b1], businesses_vertex[b2])\n",
    "#         cruis_edges[(b1, b2)] = ec\n",
    "#         g.edge_properties['cruisine_cat'] = ecprop\n",
    "#         g.edge_properties['cruisine_cat'][ec] = (b1.encode(\"utf-8\"), b2.encode(\"utf-8\"))\n",
    "\n",
    "end = time.time()\n",
    "print \"Took %f seconds\" %(end - start)"
   ]
  },
  {
   "cell_type": "code",
   "execution_count": 69,
   "metadata": {
    "collapsed": false
   },
   "outputs": [
    {
     "name": "stdout",
     "output_type": "stream",
     "text": [
      "Edges: 108399\n",
      "Vertices: 17756\n",
      "business_id    (vertex)  (type: string)\n",
      "cruisine       (vertex)  (type: vector<string>)\n",
      "user_id        (vertex)  (type: string)\n",
      "rating         (edge)    (type: int16_t)\n",
      "review_id      (edge)    (type: vector<string>)\n",
      "None\n"
     ]
    }
   ],
   "source": [
    "print 'Edges: %d' %g.num_edges()\n",
    "print 'Vertices: %d' %g.num_vertices()\n",
    "print g.list_properties()"
   ]
  },
  {
   "cell_type": "code",
   "execution_count": 6,
   "metadata": {
    "collapsed": false
   },
   "outputs": [
    {
     "name": "stdout",
     "output_type": "stream",
     "text": [
      "Edges: 11286985\n",
      "Vertices: 17756\n",
      "business_id    (vertex)  (type: string)\n",
      "cruisine       (vertex)  (type: vector<string>)\n",
      "user_id        (vertex)  (type: string)\n",
      "bus_bus_id     (edge)    (type: vector<string>)\n",
      "rating         (edge)    (type: int16_t)\n",
      "review_id      (edge)    (type: vector<string>)\n",
      "user_user_id   (edge)    (type: vector<string>)\n",
      "None\n"
     ]
    }
   ],
   "source": [
    "print 'Edges: %d' %g.num_edges()\n",
    "print 'Vertices: %d' %g.num_vertices()\n",
    "print g.list_properties()"
   ]
  },
  {
   "cell_type": "code",
   "execution_count": 7,
   "metadata": {
    "collapsed": false
   },
   "outputs": [
    {
     "name": "stdout",
     "output_type": "stream",
     "text": [
      "/user_details?userid=v8cFU4eJKgVgGYCyovE3kQ\n",
      "pho-huynh-hiep-2-kevins-noodle-house-san-francisco\n",
      "['Vietnamese', 'vietnamese']\n"
     ]
    }
   ],
   "source": [
    "# Test a couple vertices. There are 2 types of vertices (1.User 2. Business)\n",
    "print g.vertex_properties['user_id'][g.vertex(0)]\n",
    "print g.vertex_properties['business_id'][g.vertex(1)]\n",
    "print g.vertex_properties['cruisine'][g.vertex(1)]"
   ]
  },
  {
   "cell_type": "code",
   "execution_count": 8,
   "metadata": {
    "collapsed": false
   },
   "outputs": [
    {
     "name": "stdout",
     "output_type": "stream",
     "text": [
      "['/user_details?userid=v8cFU4eJKgVgGYCyovE3kQ', 'pho-huynh-hiep-2-kevins-noodle-house-san-francisco']\n",
      "4\n"
     ]
    }
   ],
   "source": [
    "# Test a couple edges\n",
    "print g.edge_properties['review_id'][g.edge(0,1)]\n",
    "print g.edge_properties['rating'][g.edge(0,1)]"
   ]
  },
  {
   "cell_type": "markdown",
   "metadata": {},
   "source": [
    "# Community"
   ]
  },
  {
   "cell_type": "code",
   "execution_count": 5,
   "metadata": {
    "collapsed": false
   },
   "outputs": [
    {
     "data": {
      "text/plain": [
       "(<PropertyMap object with key type 'Vertex' and value type 'vector<double>', for Graph 0x10875da50, at 0x121c7d6d0>,\n",
       " <PropertyMap object with key type 'Vertex' and value type 'bool', for Graph 0x10875da50, at 0x11d5023d0>)"
      ]
     },
     "execution_count": 5,
     "metadata": {},
     "output_type": "execute_result"
    }
   ],
   "source": [
    "gt.graph_draw(g)"
   ]
  },
  {
   "cell_type": "code",
   "execution_count": 73,
   "metadata": {
    "collapsed": false
   },
   "outputs": [],
   "source": [
    "def compute_modularity(g, iters, spins):\n",
    "    b = gt.community_structure(g, iters, spins)\n",
    "    mod = gt.modularity(g, b)\n",
    "    return b, mod"
   ]
  },
  {
   "cell_type": "code",
   "execution_count": 83,
   "metadata": {
    "collapsed": false,
    "scrolled": false
   },
   "outputs": [
    {
     "name": "stdout",
     "output_type": "stream",
     "text": [
      "Original Modularity:  0.53777505541\n",
      "Original Num Components:  88\n",
      "Computed Modularity:  0.784132441231\n",
      "Computed Num Components:  10\n"
     ]
    }
   ],
   "source": [
    "b = gt.community_structure(g, 100, 10, weight=g.edge_properties['rating'])\n",
    "print \"Original Modularity: \", gt.modularity(g, gt.label_components(g)[0])\n",
    "print \"Original Num Components: \", len(np.unique(gt.label_components(g)[1]))\n",
    "print \"Computed Modularity: \", gt.modularity(g, b)\n",
    "print \"Computed Num Components: \", len(np.unique(b.a))"
   ]
  },
  {
   "cell_type": "code",
   "execution_count": 5,
   "metadata": {
    "collapsed": true
   },
   "outputs": [],
   "source": [
    "def optimize_modularity(x):\n",
    "    b = gt.community_structure(g, 100, x)\n",
    "    return -1*(gt.modularity(g, b))"
   ]
  },
  {
   "cell_type": "code",
   "execution_count": 28,
   "metadata": {
    "collapsed": false
   },
   "outputs": [
    {
     "ename": "AttributeError",
     "evalue": "'list' object has no attribute 'x'",
     "output_type": "error",
     "traceback": [
      "\u001b[0;31m---------------------------------------------------------------------------\u001b[0m",
      "\u001b[0;31mAttributeError\u001b[0m                            Traceback (most recent call last)",
      "\u001b[0;32m<ipython-input-28-2f0dc57fce84>\u001b[0m in \u001b[0;36m<module>\u001b[0;34m()\u001b[0m\n\u001b[1;32m      2\u001b[0m \u001b[0;32mfor\u001b[0m \u001b[0mi\u001b[0m \u001b[0;32min\u001b[0m \u001b[0mxrange\u001b[0m\u001b[0;34m(\u001b[0m\u001b[0;36m3\u001b[0m\u001b[0;34m)\u001b[0m\u001b[0;34m:\u001b[0m\u001b[0;34m\u001b[0m\u001b[0m\n\u001b[1;32m      3\u001b[0m     \u001b[0mr\u001b[0m\u001b[0;34m.\u001b[0m\u001b[0mappend\u001b[0m\u001b[0;34m(\u001b[0m\u001b[0mminimize\u001b[0m\u001b[0;34m(\u001b[0m\u001b[0moptimize_modularity\u001b[0m\u001b[0;34m,\u001b[0m \u001b[0;36m0\u001b[0m\u001b[0;34m,\u001b[0m \u001b[0mmethod\u001b[0m\u001b[0;34m=\u001b[0m\u001b[0;34m'COBYLA'\u001b[0m\u001b[0;34m,\u001b[0m \u001b[0moptions\u001b[0m\u001b[0;34m=\u001b[0m\u001b[0;34m{\u001b[0m\u001b[0;34m'disp'\u001b[0m\u001b[0;34m:\u001b[0m \u001b[0mTrue\u001b[0m\u001b[0;34m}\u001b[0m\u001b[0;34m)\u001b[0m\u001b[0;34m.\u001b[0m\u001b[0mx\u001b[0m\u001b[0;34m)\u001b[0m\u001b[0;34m\u001b[0m\u001b[0m\n\u001b[0;32m----> 4\u001b[0;31m \u001b[0mnp\u001b[0m\u001b[0;34m.\u001b[0m\u001b[0mmean\u001b[0m\u001b[0;34m(\u001b[0m\u001b[0mr\u001b[0m\u001b[0;34m.\u001b[0m\u001b[0mx\u001b[0m\u001b[0;34m)\u001b[0m\u001b[0;34m\u001b[0m\u001b[0m\n\u001b[0m",
      "\u001b[0;31mAttributeError\u001b[0m: 'list' object has no attribute 'x'"
     ]
    }
   ],
   "source": [
    "r = []\n",
    "for i in xrange(3):\n",
    "    r.append(minimize(optimize_modularity, 0, method='COBYLA', options={'disp': True}).x)\n",
    "np.mean(r)"
   ]
  },
  {
   "cell_type": "code",
   "execution_count": 30,
   "metadata": {
    "collapsed": false
   },
   "outputs": [
    {
     "data": {
      "text/plain": [
       "0.6998205140765744"
      ]
     },
     "execution_count": 30,
     "metadata": {},
     "output_type": "execute_result"
    }
   ],
   "source": [
    "b = gt.community_structure(g, 100, np.mean(r))\n",
    "gt.modularity(g, b)"
   ]
  },
  {
   "cell_type": "code",
   "execution_count": 14,
   "metadata": {
    "collapsed": false
   },
   "outputs": [],
   "source": [
    "def optimize_nogroups(g):\n",
    "    nstart = 0\n",
    "    nend = 30\n",
    "    mod_list = []\n",
    "    for i in xrange(nstart, nend, 2):\n",
    "        b = gt.community_structure(g, 100, i)\n",
    "        mod_list.append(gt.modularity(g, b))\n",
    "\n",
    "    # Plot of no groups\n",
    "    print xrange(nstart,nend, 2)[np.argmax(mod_list)]\n",
    "    plt.plot(xrange(nstart,nend, 2), mod_list)"
   ]
  },
  {
   "cell_type": "code",
   "execution_count": 15,
   "metadata": {
    "collapsed": false
   },
   "outputs": [
    {
     "name": "stdout",
     "output_type": "stream",
     "text": [
      "18\n"
     ]
    },
    {
     "data": {
      "image/png": "[encoded data removed]",
      "text/plain": [
       "<matplotlib.figure.Figure at 0x1116c7f90>"
      ]
     },
     "metadata": {},
     "output_type": "display_data"
    }
   ],
   "source": [
    "optimize_nogroups(g)"
   ]
  },
  {
   "cell_type": "code",
   "execution_count": 368,
   "metadata": {
    "collapsed": false
   },
   "outputs": [],
   "source": [
    "def optimize_noiterations(g):\n",
    "    nstart = 0\n",
    "    nend = 100\n",
    "    mod_list = []\n",
    "    for i in xrange(nstart, nend, 2):\n",
    "        b = gt.community_structure(g, i, 10)\n",
    "        mod_list.append(gt.modularity(g, b))\n",
    "\n",
    "    # Plot of no iterations\n",
    "    plt.plot(xrange(nstart,nend, 2), mod_list)"
   ]
  },
  {
   "cell_type": "code",
   "execution_count": 369,
   "metadata": {
    "collapsed": false
   },
   "outputs": [
    {
     "data": {
      "image/png": "[encoded data removed]",
      "text/plain": [
       "<matplotlib.figure.Figure at 0x11d9bab90>"
      ]
     },
     "metadata": {},
     "output_type": "display_data"
    }
   ],
   "source": [
    "optimize_noiterations(g)"
   ]
  },
  {
   "cell_type": "markdown",
   "metadata": {},
   "source": [
    "### Try an example"
   ]
  },
  {
   "cell_type": "code",
   "execution_count": 14,
   "metadata": {
    "collapsed": false
   },
   "outputs": [
    {
     "data": {
      "text/plain": [
       "7    2771\n",
       "1    1886\n",
       "5    1845\n",
       "6    1799\n",
       "3    1721\n",
       "2    1675\n",
       "4    1639\n",
       "0    1549\n",
       "9    1507\n",
       "8    1364\n",
       "dtype: int64"
      ]
     },
     "execution_count": 14,
     "metadata": {},
     "output_type": "execute_result"
    }
   ],
   "source": [
    "pd.value_counts(b.a)"
   ]
  },
  {
   "cell_type": "code",
   "execution_count": 11,
   "metadata": {
    "collapsed": false
   },
   "outputs": [
    {
     "data": {
      "text/plain": [
       "4"
      ]
     },
     "execution_count": 11,
     "metadata": {},
     "output_type": "execute_result"
    }
   ],
   "source": [
    "community_group = b.a[int(businesses_vertex['z-and-y-restaurant-san-francisco-3'])]\n",
    "community_group"
   ]
  },
  {
   "cell_type": "code",
   "execution_count": 26,
   "metadata": {
    "collapsed": false
   },
   "outputs": [
    {
     "data": {
      "text/plain": [
       "'z-and-y-restaurant-san-francisco-3'"
      ]
     },
     "execution_count": 26,
     "metadata": {},
     "output_type": "execute_result"
    }
   ],
   "source": [
    "g.vertex_properties['business_id'][businesses['z-and-y-restaurant-san-francisco-3']]"
   ]
  },
  {
   "cell_type": "markdown",
   "metadata": {},
   "source": [
    "# Block Model"
   ]
  },
  {
   "cell_type": "code",
   "execution_count": 257,
   "metadata": {
    "collapsed": false
   },
   "outputs": [
    {
     "data": {
      "text/plain": [
       "<PropertyMap object with key type 'Edge' and value type 'int16_t', for Graph 0x131221290, at 0x1311c8a50>"
      ]
     },
     "execution_count": 257,
     "metadata": {},
     "output_type": "execute_result"
    }
   ],
   "source": [
    "g.edge_properties['rating']"
   ]
  },
  {
   "cell_type": "code",
   "execution_count": 54,
   "metadata": {
    "collapsed": true
   },
   "outputs": [
    {
     "name": "stdout",
     "output_type": "stream",
     "text": [
      "max_B: 242\n",
      "(shrinking from B=17756 to B=242)\n",
      "Shrinking: 17756 -> 8878\n",
      "merging, B=12546 left: 3668 (17828.2, 5210)\n",
      "merging, B=10197 left: 1319 (-2.44724e-11, 2349)\n",
      "merging, B=9255 left: 377 (-2.7464e-11, 942)\n",
      "merging, B=8929 left: 51 (-2.85605e-11, 326)\n",
      "merging, B=8890 left: 12 (-2.17568e-11, 39)\n",
      "merging, B=8878 left: 0 (-1.72804e-11, 12)\n",
      "Performing sweeps for beta = ∞, B=17756 (N=17756)...\n",
      "... performed 20 sweeps with 0 vertex moves (dS = 0)\n",
      "Minimizing for: 8878\n",
      "Performing sweeps for beta = ∞, B=8878 (N=17756)...\n",
      "... performed 30 sweeps with 14200 vertex moves (dS = -28264.4)\n",
      "Shrinking: 8878 -> 4439\n",
      "merging, B=7282 left: 2843 (6107.76, 1596)\n",
      "merging, B=6327 left: 1888 (-1.19316e-11, 955)\n",
      "merging, B=5686 left: 1247 (-2.38454e-11, 641)\n",
      "merging, B=5222 left: 783 (-1.73312e-11, 464)\n",
      "merging, B=4935 left: 496 (-2.64222e-11, 287)\n",
      "merging, B=4732 left: 293 (-1.32756e-11, 203)\n",
      "merging, B=4597 left: 158 (-1.40536e-11, 135)\n",
      "merging, B=4509 left: 70 (-2.29516e-11, 88)\n",
      "merging, B=4451 left: 12 (-1.73217e-12, 58)\n",
      "merging, B=4439 left: 0 (-2.04412e-11, 12)\n",
      "Performing sweeps for beta = ∞, B=8878 (N=8878)...\n",
      "... performed 20 sweeps with 0 vertex moves (dS = 0)\n",
      "Minimizing for: 4439\n",
      "Performing sweeps for beta = ∞, B=4439 (N=17756)...\n",
      "... performed 30 sweeps with 2735 vertex moves (dS = -15112.4)\n",
      "Shrinking: 4439 -> 2220\n",
      "merging, B=3905 left: 1685 (5039.74, 534)\n",
      "merging, B=3548 left: 1328 (41.749, 357)\n",
      "merging, B=3298 left: 1078 (-7.8515e-12, 250)\n",
      "merging, B=3132 left: 912 (-3.38625e-11, 166)\n",
      "merging, B=2961 left: 741 (-7.36766e-12, 171)\n",
      "merging, B=2826 left: 606 (-1.32891e-11, 135)\n",
      "merging, B=2723 left: 503 (-7.41074e-12, 103)\n",
      "merging, B=2632 left: 412 (-7.31126e-12, 91)\n",
      "merging, B=2561 left: 341 (-5.97966e-13, 71)\n",
      "merging, B=2511 left: 291 (-7.32547e-12, 50)\n",
      "merging, B=2458 left: 238 (-2.91982e-11, 53)\n",
      "merging, B=2415 left: 195 (-1.10223e-11, 43)\n",
      "merging, B=2387 left: 167 (-3.20366e-12, 28)\n",
      "merging, B=2358 left: 138 (-9.58122e-13, 29)\n",
      "merging, B=2341 left: 121 (-4.2879e-12, 17)\n",
      "merging, B=2324 left: 104 (-9.90319e-14, 17)\n",
      "merging, B=2308 left: 88 (-7.66254e-12, 16)\n",
      "merging, B=2293 left: 73 (-1.58791e-11, 15)\n",
      "merging, B=2274 left: 54 (-2.76204e-11, 19)\n",
      "merging, B=2262 left: 42 (-6.5441e-12, 12)\n",
      "merging, B=2251 left: 31 (-3.36398e-12, 11)\n",
      "merging, B=2242 left: 22 (-1.20215e-11, 9)\n",
      "merging, B=2236 left: 16 (-2.42428e-11, 6)\n",
      "merging, B=2226 left: 6 (-1.36779e-13, 10)\n",
      "merging, B=2221 left: 1 (-2.32845e-11, 5)\n",
      "merging, B=2220 left: 0 (-2.84217e-14, 1)\n",
      "Performing sweeps for beta = ∞, B=4439 (N=4439)...\n",
      "... performed 20 sweeps with 0 vertex moves (dS = 0)\n",
      "Minimizing for: 2220\n",
      "Performing sweeps for beta = ∞, B=2220 (N=17756)...\n",
      "... performed 30 sweeps with 1527 vertex moves (dS = -9918.57)\n",
      "Shrinking: 2220 -> 1110\n",
      "merging, B=2070 left: 960 (3691.25, 150)\n",
      "merging, B=1952 left: 842 (2489.31, 118)\n",
      "merging, B=1855 left: 745 (4299.59, 97)\n",
      "merging, B=1782 left: 672 (619.452, 73)\n",
      "merging, B=1722 left: 612 (-1.31726e-11, 60)\n",
      "merging, B=1673 left: 563 (0, 49)\n",
      "merging, B=1621 left: 511 (0, 52)\n",
      "merging, B=1573 left: 463 (-3.33067e-15, 48)\n",
      "merging, B=1521 left: 411 (-1.09424e-11, 52)\n",
      "merging, B=1486 left: 376 (0, 35)\n",
      "merging, B=1447 left: 337 (-1.31726e-11, 39)\n",
      "merging, B=1423 left: 313 (-7.27596e-12, 24)\n",
      "merging, B=1386 left: 276 (-3.33067e-15, 37)\n",
      "merging, B=1363 left: 253 (-3.55271e-15, 23)\n",
      "merging, B=1343 left: 233 (-7.10543e-15, 20)\n",
      "merging, B=1324 left: 214 (0, 19)\n",
      "merging, B=1304 left: 194 (0, 20)\n",
      "merging, B=1291 left: 181 (0, 13)\n",
      "merging, B=1280 left: 170 (0, 11)\n",
      "merging, B=1267 left: 157 (0, 13)\n",
      "merging, B=1254 left: 144 (-1.04361e-14, 13)\n",
      "merging, B=1244 left: 134 (-6.66134e-15, 10)\n",
      "merging, B=1230 left: 120 (-3.33067e-15, 14)\n",
      "merging, B=1220 left: 110 (0, 10)\n",
      "merging, B=1210 left: 100 (0, 10)\n",
      "merging, B=1199 left: 89 (-1.06581e-14, 11)\n",
      "merging, B=1190 left: 80 (-7.10543e-15, 9)\n",
      "merging, B=1181 left: 71 (-1.04361e-14, 9)\n",
      "merging, B=1174 left: 64 (0, 7)\n",
      "merging, B=1167 left: 57 (-6.66134e-15, 7)\n",
      "merging, B=1157 left: 47 (-2.4869e-14, 10)\n",
      "merging, B=1150 left: 40 (-7.10543e-15, 7)\n",
      "merging, B=1142 left: 32 (-2.10942e-14, 8)\n",
      "merging, B=1135 left: 25 (-7.10543e-15, 7)\n",
      "merging, B=1128 left: 18 (-1.31868e-11, 7)\n",
      "merging, B=1126 left: 16 (0, 2)\n",
      "merging, B=1123 left: 13 (-7.10543e-15, 3)\n",
      "merging, B=1118 left: 8 (-1.42109e-14, 5)\n",
      "merging, B=1112 left: 2 (-2.84217e-14, 6)\n",
      "merging, B=1110 left: 0 (-2.84217e-14, 2)\n",
      "Performing sweeps for beta = ∞, B=2220 (N=2220)...\n",
      "... performed 20 sweeps with 0 vertex moves (dS = 0)\n",
      "Minimizing for: 1110\n",
      "Performing sweeps for beta = ∞, B=1110 (N=17756)...\n",
      "... performed 30 sweeps with 771 vertex moves (dS = -5566.46)\n",
      "Shrinking: 1110 -> 555\n",
      "merging, B=1080 left: 525 (3957.09, 30)\n",
      "merging, B=1055 left: 500 (558.621, 25)\n",
      "merging, B=1022 left: 467 (1923.82, 33)\n",
      "merging, B=1002 left: 447 (1.64722, 20)\n",
      "merging, B=981 left: 426 (0, 21)\n",
      "merging, B=971 left: 416 (1587.42, 10)\n",
      "merging, B=956 left: 401 (0.326103, 15)\n",
      "merging, B=938 left: 383 (0, 18)\n",
      "merging, B=924 left: 369 (909.982, 14)\n",
      "merging, B=908 left: 353 (384.621, 16)\n",
      "merging, B=894 left: 339 (0, 14)\n",
      "merging, B=882 left: 327 (0, 12)\n",
      "merging, B=862 left: 307 (0, 20)\n",
      "merging, B=851 left: 296 (589.213, 11)\n",
      "merging, B=843 left: 288 (0, 8)\n",
      "merging, B=836 left: 281 (0, 7)\n",
      "merging, B=830 left: 275 (0, 6)\n",
      "merging, B=820 left: 265 (0, 10)\n",
      "merging, B=806 left: 251 (0, 14)\n",
      "merging, B=798 left: 243 (0, 8)\n",
      "merging, B=787 left: 232 (0, 11)\n",
      "merging, B=779 left: 224 (0, 8)\n",
      "merging, B=771 left: 216 (0, 8)\n",
      "merging, B=766 left: 211 (0, 5)\n",
      "merging, B=757 left: 202 (0, 9)\n",
      "merging, B=746 left: 191 (1.8273, 11)\n",
      "merging, B=734 left: 179 (1399.94, 12)\n",
      "merging, B=719 left: 164 (-9.09495e-13, 15)\n",
      "merging, B=714 left: 159 (-1.31726e-11, 5)\n",
      "merging, B=706 left: 151 (0.545788, 8)\n",
      "merging, B=696 left: 141 (-3.33067e-15, 10)\n",
      "merging, B=689 left: 134 (0, 7)\n",
      "merging, B=683 left: 128 (-3.33067e-15, 6)\n",
      "merging, B=681 left: 126 (0, 2)\n",
      "merging, B=671 left: 116 (-3.33067e-15, 10)\n",
      "merging, B=662 left: 107 (-3.55271e-15, 9)\n",
      "merging, B=657 left: 102 (-3.33067e-15, 5)\n",
      "merging, B=654 left: 99 (0, 3)\n",
      "merging, B=650 left: 95 (-3.33067e-15, 4)\n",
      "merging, B=643 left: 88 (-7.10543e-15, 7)\n",
      "merging, B=639 left: 84 (0, 4)\n",
      "merging, B=634 left: 79 (-3.55271e-15, 5)\n",
      "merging, B=628 left: 73 (-3.33067e-15, 6)\n",
      "merging, B=625 left: 70 (-7.10543e-15, 3)\n",
      "merging, B=623 left: 68 (0, 2)\n",
      "merging, B=621 left: 66 (-1.42109e-14, 2)\n",
      "merging, B=617 left: 62 (0, 4)\n",
      "merging, B=612 left: 57 (-3.33067e-15, 5)\n",
      "merging, B=605 left: 50 (-6.66134e-15, 7)\n",
      "merging, B=604 left: 49 (0, 1)\n",
      "merging, B=600 left: 45 (0, 4)\n",
      "merging, B=595 left: 40 (0, 5)\n",
      "merging, B=592 left: 37 (-3.33067e-15, 3)\n",
      "merging, B=589 left: 34 (0, 3)\n",
      "merging, B=587 left: 32 (-3.55271e-15, 2)\n",
      "merging, B=583 left: 28 (-1.06581e-14, 4)\n",
      "merging, B=581 left: 26 (0, 2)\n",
      "merging, B=578 left: 23 (-7.10543e-15, 3)\n",
      "merging, B=576 left: 21 (-1.42109e-14, 2)\n",
      "merging, B=575 left: 20 (0, 1)\n",
      "merging, B=573 left: 18 (-7.10543e-15, 2)\n",
      "merging, B=568 left: 13 (-1.33227e-14, 5)\n",
      "merging, B=566 left: 11 (0, 2)\n",
      "merging, B=564 left: 9 (-1.33227e-14, 2)\n",
      "merging, B=562 left: 7 (0, 2)\n",
      "merging, B=560 left: 5 (-4.26326e-14, 2)\n",
      "merging, B=559 left: 4 (0, 1)\n",
      "merging, B=558 left: 3 (0, 1)\n",
      "merging, B=556 left: 1 (0, 2)\n",
      "merging, B=555 left: 0 (0, 1)\n",
      "Performing sweeps for beta = ∞, B=1110 (N=1110)...\n",
      "... performed 20 sweeps with 0 vertex moves (dS = 0)\n",
      "Minimizing for: 555\n",
      "Performing sweeps for beta = ∞, B=555 (N=17756)...\n",
      "... performed 30 sweeps with 308 vertex moves (dS = -2237.01)\n",
      "Shrinking: 555 -> 278\n",
      "merging, B=554 left: 276 (0, 1)\n",
      "merging, B=549 left: 271 (63436.3, 5)\n",
      "merging, B=546 left: 268 (12788.5, 3)\n",
      "merging, B=543 left: 265 (2.52042e-05, 3)\n",
      "merging, B=542 left: 264 (0, 1)\n",
      "merging, B=540 left: 262 (2.52035e-05, 2)\n",
      "merging, B=539 left: 261 (0, 1)\n",
      "merging, B=537 left: 259 (5.04052e-05, 2)\n",
      "merging, B=535 left: 257 (0, 2)\n",
      "merging, B=532 left: 254 (2.52015e-05, 3)\n",
      "merging, B=531 left: 253 (0, 1)\n",
      "merging, B=529 left: 251 (0, 2)\n",
      "merging, B=528 left: 250 (0, 1)\n",
      "merging, B=527 left: 249 (0, 1)\n",
      "merging, B=524 left: 246 (0, 3)\n",
      "merging, B=522 left: 244 (0, 2)\n",
      "merging, B=520 left: 242 (0, 2)\n",
      "merging, B=516 left: 238 (5.04014e-05, 4)\n",
      "merging, B=514 left: 236 (2.51997e-05, 2)\n",
      "merging, B=512 left: 234 (0, 2)\n",
      "merging, B=510 left: 232 (0, 2)\n",
      "merging, B=508 left: 230 (0, 2)\n",
      "merging, B=506 left: 228 (2.51991e-05, 2)\n",
      "merging, B=503 left: 225 (0, 3)\n",
      "merging, B=502 left: 224 (0, 1)\n",
      "merging, B=500 left: 222 (0, 2)\n",
      "merging, B=497 left: 219 (2.51984e-05, 3)\n",
      "merging, B=495 left: 217 (0, 2)\n",
      "merging, B=494 left: 216 (0, 1)\n",
      "merging, B=493 left: 215 (0, 1)\n",
      "merging, B=491 left: 213 (2.51978e-05, 2)\n",
      "merging, B=488 left: 210 (7.55896e-05, 3)\n",
      "merging, B=487 left: 209 (0, 1)\n",
      "merging, B=485 left: 207 (0, 2)\n",
      "merging, B=484 left: 206 (0, 1)\n",
      "merging, B=483 left: 205 (0, 1)\n",
      "merging, B=481 left: 203 (1119.24, 2)\n",
      "merging, B=479 left: 201 (0.277494, 2)\n",
      "merging, B=478 left: 200 (0, 1)\n",
      "merging, B=477 left: 199 (0, 1)\n",
      "merging, B=475 left: 197 (2.51952e-05, 2)\n",
      "merging, B=474 left: 196 (0, 1)\n",
      "merging, B=473 left: 195 (0, 1)\n",
      "merging, B=472 left: 194 (0, 1)\n",
      "merging, B=471 left: 193 (0, 1)\n",
      "merging, B=470 left: 192 (0, 1)\n",
      "merging, B=468 left: 190 (5.03886e-05, 2)\n",
      "merging, B=467 left: 189 (0, 1)\n",
      "merging, B=465 left: 187 (0, 2)\n",
      "merging, B=463 left: 185 (2.51933e-05, 2)\n",
      "merging, B=462 left: 184 (0, 1)\n",
      "merging, B=460 left: 182 (2.51927e-05, 2)\n",
      "merging, B=459 left: 181 (0, 1)\n",
      "merging, B=458 left: 180 (0, 1)\n",
      "merging, B=457 left: 179 (0, 1)\n",
      "merging, B=456 left: 178 (0, 1)\n",
      "merging, B=455 left: 177 (0, 1)\n",
      "merging, B=454 left: 176 (0, 1)\n",
      "merging, B=452 left: 174 (2.51921e-05, 2)\n",
      "merging, B=451 left: 173 (0, 1)\n",
      "merging, B=449 left: 171 (2.51914e-05, 2)\n",
      "merging, B=447 left: 169 (0, 2)\n",
      "merging, B=446 left: 168 (0, 1)\n",
      "merging, B=445 left: 167 (0, 1)\n",
      "merging, B=444 left: 166 (0, 1)\n",
      "merging, B=442 left: 164 (0, 2)\n",
      "merging, B=441 left: 163 (0, 1)\n",
      "merging, B=440 left: 162 (0, 1)\n",
      "merging, B=439 left: 161 (0, 1)\n",
      "merging, B=438 left: 160 (0, 1)\n",
      "merging, B=437 left: 159 (0, 1)\n",
      "merging, B=436 left: 158 (0, 1)\n",
      "merging, B=435 left: 157 (0, 1)\n",
      "merging, B=434 left: 156 (0, 1)\n",
      "merging, B=432 left: 154 (5.0381e-05, 2)\n",
      "merging, B=431 left: 153 (0, 1)\n",
      "merging, B=430 left: 152 (0, 1)\n",
      "merging, B=429 left: 151 (0, 1)\n",
      "merging, B=428 left: 150 (0, 1)\n",
      "merging, B=427 left: 149 (0, 1)\n",
      "merging, B=426 left: 148 (0, 1)\n",
      "merging, B=425 left: 147 (0, 1)\n",
      "merging, B=423 left: 145 (0, 2)\n",
      "merging, B=422 left: 144 (0, 1)\n",
      "merging, B=421 left: 143 (0, 1)\n",
      "merging, B=420 left: 142 (0, 1)\n",
      "merging, B=419 left: 141 (0, 1)\n",
      "merging, B=417 left: 139 (8120.29, 2)\n",
      "merging, B=415 left: 137 (1169.25, 2)\n",
      "merging, B=413 left: 135 (0, 2)\n",
      "merging, B=411 left: 133 (0, 2)\n",
      "merging, B=409 left: 131 (0, 2)\n",
      "merging, B=407 left: 129 (0, 2)\n",
      "merging, B=405 left: 127 (0, 2)\n",
      "merging, B=403 left: 125 (0, 2)\n",
      "merging, B=401 left: 123 (0, 2)\n",
      "merging, B=400 left: 122 (-5.82077e-11, 1)\n",
      "merging, B=400 left: 122 (0, 0)\n",
      "merging, B=400 left: 122 (0, 0, unweighted)\n",
      "merging, B=351 left: 73 (1317.9, 49, random, unweighted)\n",
      "merging, B=310 left: 32 (1837.44, 41, random, unweighted)\n",
      "merging, B=289 left: 11 (1360.38, 21, random, unweighted)\n",
      "merging, B=279 left: 1 (721.684, 10, random, unweighted)\n",
      "merging, B=278 left: 0 (46.4409, 1, random, unweighted)\n",
      "Performing sweeps for beta = ∞, B=555 (N=555)...\n",
      "... performed 20 sweeps with 0 vertex moves (dS = 0)\n",
      "Minimizing for: 278\n",
      "Performing sweeps for beta = ∞, B=278 (N=17756)...\n",
      "... performed 30 sweeps with 327 vertex moves (dS = -2128.54)\n",
      "Shrinking: 278 -> 242\n",
      "merging, B=269 left: 27 (392.245, 9)\n",
      "merging, B=264 left: 22 (118.132, 5)\n",
      "merging, B=261 left: 19 (347.706, 3)\n",
      "merging, B=256 left: 14 (222.724, 5)\n",
      "merging, B=255 left: 13 (148.805, 1)\n",
      "merging, B=254 left: 12 (1.13687e-13, 1)\n",
      "merging, B=254 left: 12 (0, 0)\n",
      "merging, B=252 left: 10 (340.854, 2, unweighted)\n",
      "merging, B=252 left: 10 (0, 0, unweighted)\n",
      "merging, B=245 left: 3 (501.119, 7, random, unweighted)\n",
      "merging, B=242 left: 0 (180.218, 3, random, unweighted)\n",
      "Performing sweeps for beta = ∞, B=278 (N=278)...\n",
      "... performed 20 sweeps with 0 vertex moves (dS = 0)\n",
      "Minimizing for: 242\n",
      "Performing sweeps for beta = ∞, B=242 (N=17756)...\n",
      "... performed 20 sweeps with 16 vertex moves (dS = -112.767)\n",
      "(using new result for B=242 with L=1.1024e+06)\n",
      "(shrinking from B=242 to B=98)\n",
      "Shrinking: 242 -> 121\n",
      "merging, B=240 left: 119 (99.1027, 2)\n",
      "merging, B=240 left: 119 (0, 0)\n",
      "merging, B=240 left: 119 (0, 0, unweighted)\n",
      "merging, B=190 left: 69 (6865.64, 50, random, unweighted)\n",
      "merging, B=153 left: 32 (6305.63, 37, random, unweighted)\n",
      "merging, B=125 left: 4 (5731.13, 28, random, unweighted)\n",
      "merging, B=121 left: 0 (841.593, 4, random, unweighted)\n",
      "Performing sweeps for beta = ∞, B=242 (N=242)...\n",
      "... performed 20 sweeps with 0 vertex moves (dS = 0)\n",
      "Minimizing for: 121\n",
      "Performing sweeps for beta = ∞, B=121 (N=17756)...\n",
      "... performed 30 sweeps with 883 vertex moves (dS = -5754.91)\n",
      "Shrinking: 121 -> 98\n",
      "merging, B=111 left: 13 (2270.32, 10)\n",
      "merging, B=105 left: 7 (286.389, 6)\n",
      "merging, B=102 left: 4 (2353.83, 3)\n",
      "merging, B=99 left: 1 (135.73, 3)\n",
      "merging, B=98 left: 0 (359.005, 1)\n",
      "Performing sweeps for beta = ∞, B=121 (N=121)...\n",
      "... performed 20 sweeps with 0 vertex moves (dS = 0)\n",
      "Minimizing for: 98\n",
      "Performing sweeps for beta = ∞, B=98 (N=17756)...\n",
      "... performed 20 sweeps with 15 vertex moves (dS = -43.1167)\n",
      "(using new result for B=98 with L=1.06638e+06)\n",
      "(shrinking from B=98 to B=1)\n",
      "(using new result for B=1 with L=1.26513e+06)\n",
      "Current bracket: (1, 98, 242) (1265129.3424467249, 1066379.4252883135, 1102403.0580178765)\n",
      "(shrinking from B=242 to B=153)\n",
      "Shrinking: 242 -> 153\n",
      "merging, B=242 left: 89 (0, 0)\n",
      "merging, B=240 left: 87 (99.1027, 2, unweighted)\n",
      "merging, B=240 left: 87 (0, 0, unweighted)\n",
      "merging, B=204 left: 51 (4055.75, 36, random, unweighted)\n",
      "merging, B=172 left: 19 (4874.18, 32, random, unweighted)\n",
      "merging, B=154 left: 1 (2756.33, 18, random, unweighted)\n",
      "merging, B=153 left: 0 (165.947, 1, random, unweighted)\n",
      "Performing sweeps for beta = ∞, B=242 (N=242)...\n",
      "... performed 20 sweeps with 0 vertex moves (dS = 0)\n",
      "Minimizing for: 153\n",
      "Performing sweeps for beta = ∞, B=153 (N=17756)...\n",
      "... performed 30 sweeps with 447 vertex moves (dS = -3357.92)\n",
      "(using new result for B=153 with L=1.07671e+06)\n",
      "(using previous finished result for B=98)\n",
      "(using previous finished result for B=1)\n",
      "(using previous finished result for B=242)\n",
      "Current bracket: (1, 98, 242) (1265129.3424467249, 1066379.4252883135, 1102403.0580178765)\n",
      "Bisect at 153 with L=1.07671e+06\n",
      "(shrinking from B=98 to B=43)\n",
      "Shrinking: 98 -> 49\n",
      "merging, B=97 left: 48 (0, 1)\n",
      "merging, B=97 left: 48 (0, 0)\n",
      "merging, B=92 left: 43 (2223.43, 5, unweighted)\n",
      "merging, B=92 left: 43 (0, 0, unweighted)\n",
      "merging, B=69 left: 20 (10589.1, 23, random, unweighted)\n",
      "merging, B=57 left: 8 (6619.09, 12, random, unweighted)\n",
      "merging, B=49 left: 0 (4855.14, 8, random, unweighted)\n",
      "Performing sweeps for beta = ∞, B=98 (N=98)...\n",
      "... performed 20 sweeps with 0 vertex moves (dS = 0)\n",
      "Minimizing for: 49\n",
      "Performing sweeps for beta = ∞, B=49 (N=17756)...\n",
      "... performed 30 sweeps with 539 vertex moves (dS = -4932.79)\n",
      "Shrinking: 49 -> 43\n",
      "merging, B=44 left: 1 (3138.71, 5)\n",
      "merging, B=43 left: 0 (804.757, 1)\n",
      "Performing sweeps for beta = ∞, B=49 (N=49)...\n",
      "... performed 20 sweeps with 0 vertex moves (dS = 0)\n",
      "Minimizing for: 43\n",
      "Performing sweeps for beta = ∞, B=43 (N=17756)...\n",
      "... performed 20 sweeps with 155 vertex moves (dS = -1389.89)\n",
      "(using new result for B=43 with L=1.06902e+06)\n",
      "(using previous finished result for B=98)\n",
      "(using previous finished result for B=1)\n",
      "(using previous finished result for B=153)\n",
      "Current bracket: (1, 98, 153) (1265129.3424467249, 1066379.4252883135, 1076707.7576406354)\n",
      "Bisect at 43 with L=1.06902e+06\n",
      "(shrinking from B=98 to B=64)\n",
      "Shrinking: 98 -> 64\n",
      "merging, B=97 left: 33 (0, 1)\n",
      "merging, B=96 left: 32 (1515.88, 1)\n",
      "merging, B=94 left: 30 (244.029, 2)\n",
      "merging, B=94 left: 30 (0, 0)\n",
      "merging, B=92 left: 28 (463.525, 2, unweighted)\n",
      "merging, B=92 left: 28 (0, 0, unweighted)\n",
      "merging, B=78 left: 14 (4557.58, 14, random, unweighted)\n",
      "merging, B=64 left: 0 (5007.93, 14, random, unweighted)\n",
      "Performing sweeps for beta = ∞, B=98 (N=98)...\n",
      "... performed 20 sweeps with 0 vertex moves (dS = 0)\n",
      "Minimizing for: 64\n",
      "Performing sweeps for beta = ∞, B=64 (N=17756)...\n",
      "... performed 20 sweeps with 105 vertex moves (dS = -744.87)\n",
      "(using new result for B=64 with L=1.0654e+06)\n",
      "(using previous finished result for B=98)\n",
      "(using previous finished result for B=43)\n",
      "(using previous finished result for B=153)\n",
      "Current bracket: (43, 98, 153) (1069020.8091844963, 1066379.4252883135, 1076707.7576406354)\n",
      "Bisect at 64 with L=1.0654e+06\n",
      "(shrinking from B=98 to B=77)\n",
      "Shrinking: 98 -> 77\n",
      "merging, B=97 left: 20 (-1.13687e-13, 1)\n",
      "merging, B=97 left: 20 (0, 0)\n",
      "merging, B=92 left: 15 (2223.43, 5, unweighted)\n",
      "merging, B=92 left: 15 (0, 0, unweighted)\n",
      "merging, B=83 left: 6 (2611.51, 9, random, unweighted)\n",
      "merging, B=77 left: 0 (2408.67, 6, random, unweighted)\n",
      "Performing sweeps for beta = ∞, B=98 (N=98)...\n",
      "... performed 20 sweeps with 0 vertex moves (dS = 0)\n",
      "Minimizing for: 77\n",
      "Performing sweeps for beta = ∞, B=77 (N=17756)...\n",
      "... performed 20 sweeps with 106 vertex moves (dS = -528.178)\n",
      "(using new result for B=77 with L=1.06501e+06)\n",
      "(using previous finished result for B=64)\n",
      "(using previous finished result for B=43)\n",
      "(using previous finished result for B=98)\n",
      "Current bracket: (43, 64, 98) (1069020.8091844963, 1065403.9707862271, 1066379.4252883135)\n",
      "Bisect at 77 with L=1.06501e+06\n",
      "(shrinking from B=98 to B=85)\n",
      "Shrinking: 98 -> 85\n",
      "merging, B=96 left: 11 (1515.88, 2)\n",
      "merging, B=95 left: 10 (0, 1)\n",
      "merging, B=95 left: 10 (0, 0)\n",
      "merging, B=92 left: 7 (707.554, 3, unweighted)\n",
      "merging, B=92 left: 7 (0, 0, unweighted)\n",
      "merging, B=85 left: 0 (1912.04, 7, random, unweighted)\n",
      "Performing sweeps for beta = ∞, B=98 (N=98)...\n",
      "... performed 20 sweeps with 0 vertex moves (dS = 0)\n",
      "Minimizing for: 85\n",
      "Performing sweeps for beta = ∞, B=85 (N=17756)...\n",
      "... performed 20 sweeps with 31 vertex moves (dS = -297.586)\n",
      "(using new result for B=85 with L=1.06543e+06)\n",
      "(using previous finished result for B=77)\n",
      "(using previous finished result for B=64)\n",
      "(using previous finished result for B=98)\n",
      "Current bracket: (64, 77, 98) (1065403.9707862271, 1065009.7357595367, 1066379.4252883135)\n",
      "Bisect at 85 with L=1.06543e+06\n",
      "(shrinking from B=77 to B=69)\n",
      "Shrinking: 77 -> 69\n",
      "merging, B=76 left: 7 (13.08, 1)\n",
      "merging, B=76 left: 7 (0, 0)\n",
      "merging, B=75 left: 6 (491.145, 1, unweighted)\n",
      "merging, B=75 left: 6 (0, 0, unweighted)\n",
      "merging, B=69 left: 0 (1915.29, 6, random, unweighted)\n",
      "Performing sweeps for beta = ∞, B=77 (N=77)...\n",
      "... performed 20 sweeps with 0 vertex moves (dS = 0)\n",
      "Minimizing for: 69\n",
      "Performing sweeps for beta = ∞, B=69 (N=17756)...\n",
      "... performed 20 sweeps with 0 vertex moves (dS = 0)\n",
      "(using new result for B=69 with L=1.06491e+06)\n",
      "(using previous finished result for B=77)\n",
      "(using previous finished result for B=64)\n",
      "(using previous finished result for B=85)\n",
      "Current bracket: (64, 77, 85) (1065403.9707862271, 1065009.7357595367, 1065425.1449940875)\n",
      "Bisect at 69 with L=1.06491e+06\n",
      "(shrinking from B=77 to B=72)\n",
      "Shrinking: 77 -> 72\n",
      "merging, B=76 left: 4 (13.08, 1)\n",
      "merging, B=75 left: 3 (491.145, 1)\n",
      "merging, B=75 left: 3 (0, 0)\n",
      "merging, B=75 left: 3 (0, 0, unweighted)\n",
      "merging, B=72 left: 0 (838.708, 3, random, unweighted)\n",
      "Performing sweeps for beta = ∞, B=77 (N=77)...\n",
      "... performed 20 sweeps with 0 vertex moves (dS = 0)\n",
      "Minimizing for: 72\n",
      "Performing sweeps for beta = ∞, B=72 (N=17756)...\n",
      "... performed 20 sweeps with 0 vertex moves (dS = 0)\n",
      "(using new result for B=72 with L=1.06475e+06)\n",
      "(using previous finished result for B=69)\n",
      "(using previous finished result for B=64)\n",
      "(using previous finished result for B=77)\n",
      "Current bracket: (64, 69, 77) (1065403.9707862271, 1064914.7250715829, 1065009.7357595367)\n",
      "Bisect at 72 with L=1.06475e+06\n",
      "(shrinking from B=77 to B=74)\n",
      "Shrinking: 77 -> 74\n",
      "merging, B=76 left: 2 (13.08, 1)\n",
      "merging, B=75 left: 1 (491.145, 1)\n",
      "merging, B=75 left: 1 (0, 0)\n",
      "merging, B=75 left: 1 (0, 0, unweighted)\n",
      "merging, B=74 left: 0 (243.295, 1, random, unweighted)\n",
      "Performing sweeps for beta = ∞, B=77 (N=77)...\n",
      "... performed 20 sweeps with 0 vertex moves (dS = 0)\n",
      "Minimizing for: 74\n",
      "Performing sweeps for beta = ∞, B=74 (N=17756)...\n",
      "... performed 20 sweeps with 0 vertex moves (dS = 0)\n",
      "(using new result for B=74 with L=1.06472e+06)\n",
      "(using previous finished result for B=72)\n",
      "(using previous finished result for B=69)\n",
      "(using previous finished result for B=77)\n",
      "Current bracket: (69, 72, 77) (1064914.7250715829, 1064750.1127299329, 1065009.7357595367)\n",
      "Bisect at 74 with L=1.06472e+06\n",
      "(shrinking from B=77 to B=75)\n",
      "Shrinking: 77 -> 75\n",
      "merging, B=76 left: 1 (13.08, 1)\n",
      "merging, B=76 left: 1 (0, 0)\n",
      "merging, B=75 left: 0 (491.145, 1, unweighted)\n",
      "Performing sweeps for beta = ∞, B=77 (N=77)...\n",
      "... performed 20 sweeps with 0 vertex moves (dS = 0)\n",
      "Minimizing for: 75\n",
      "Performing sweeps for beta = ∞, B=75 (N=17756)...\n",
      "... performed 20 sweeps with 0 vertex moves (dS = 0)\n",
      "(using new result for B=75 with L=1.06478e+06)\n",
      "(using previous finished result for B=74)\n",
      "(using previous finished result for B=72)\n",
      "(using previous finished result for B=77)\n",
      "Current bracket: (72, 74, 77) (1064750.1127299329, 1064720.8153101008, 1065009.7357595367)\n",
      "Bisect at 75 with L=1.06478e+06\n",
      "(shrinking from B=74 to B=73)\n",
      "Shrinking: 74 -> 73\n",
      "merging, B=74 left: 1 (0, 0)\n",
      "merging, B=74 left: 1 (0, 0, unweighted)\n",
      "merging, B=73 left: 0 (249.533, 1, random, unweighted)\n",
      "Performing sweeps for beta = ∞, B=74 (N=74)...\n",
      "... performed 20 sweeps with 0 vertex moves (dS = 0)\n",
      "Minimizing for: 73\n",
      "Performing sweeps for beta = ∞, B=73 (N=17756)...\n",
      "... performed 20 sweeps with 0 vertex moves (dS = 0)\n",
      "(using new result for B=73 with L=1.06463e+06)\n",
      "(using previous finished result for B=74)\n",
      "(using previous finished result for B=72)\n",
      "(using previous finished result for B=75)\n",
      "Current bracket: (72, 74, 75) (1064750.1127299329, 1064720.8153101008, 1064780.047205644)\n",
      "Bisect at 73 with L=1.06463e+06\n",
      "Best result: B=73, L=1.06463e+06\n"
     ]
    }
   ],
   "source": [
    "state = gt.minimize_blockmodel_dl(g, eweight= g.edge_properties['rating'], verbose=True)\n",
    "b = state.b\n",
    "# gt.graph_draw(g, vertex_fill_color=b, vertex_shape=b)"
   ]
  },
  {
   "cell_type": "code",
   "execution_count": 55,
   "metadata": {
    "collapsed": false
   },
   "outputs": [
    {
     "name": "stdout",
     "output_type": "stream",
     "text": [
      "-0.151228940517\n"
     ]
    },
    {
     "data": {
      "text/plain": [
       "<PropertyMap object with key type 'Vertex' and value type 'int32_t', for Graph 0x10875da50, at 0x11daf2bd0>"
      ]
     },
     "execution_count": 55,
     "metadata": {},
     "output_type": "execute_result"
    }
   ],
   "source": [
    "print gt.modularity(g, b)\n",
    "b"
   ]
  },
  {
   "cell_type": "markdown",
   "metadata": {},
   "source": [
    "### Assign the model's component (group) property to our network G graph"
   ]
  },
  {
   "cell_type": "code",
   "execution_count": 56,
   "metadata": {
    "collapsed": true
   },
   "outputs": [],
   "source": [
    "g.vertex_properties['components'] = b"
   ]
  },
  {
   "cell_type": "code",
   "execution_count": 57,
   "metadata": {
    "collapsed": false
   },
   "outputs": [
    {
     "data": {
      "text/plain": [
       "73"
      ]
     },
     "execution_count": 57,
     "metadata": {},
     "output_type": "execute_result"
    }
   ],
   "source": [
    "len(np.unique(g.vertex_properties['components'].a))"
   ]
  },
  {
   "cell_type": "code",
   "execution_count": 354,
   "metadata": {
    "collapsed": true
   },
   "outputs": [
    {
     "ename": "ValueError",
     "evalue": "The lower bound exceeds the upper bound.",
     "output_type": "error",
     "traceback": [
      "\u001b[0;31m---------------------------------------------------------------------------\u001b[0m",
      "\u001b[0;31mValueError\u001b[0m                                Traceback (most recent call last)",
      "\u001b[0;32m<ipython-input-354-d0c1391db12a>\u001b[0m in \u001b[0;36m<module>\u001b[0;34m()\u001b[0m\n\u001b[1;32m      1\u001b[0m \u001b[0mu\u001b[0m \u001b[0;34m=\u001b[0m \u001b[0mgt\u001b[0m\u001b[0;34m.\u001b[0m\u001b[0mGraphView\u001b[0m\u001b[0;34m(\u001b[0m\u001b[0mg\u001b[0m\u001b[0;34m,\u001b[0m \u001b[0mvfilt\u001b[0m\u001b[0;34m=\u001b[0m\u001b[0;32mlambda\u001b[0m \u001b[0mx\u001b[0m\u001b[0;34m:\u001b[0m \u001b[0mg\u001b[0m\u001b[0;34m.\u001b[0m\u001b[0mvertex_properties\u001b[0m\u001b[0;34m[\u001b[0m\u001b[0;34m'components'\u001b[0m\u001b[0;34m]\u001b[0m\u001b[0;34m[\u001b[0m\u001b[0mx\u001b[0m\u001b[0;34m]\u001b[0m \u001b[0;34m==\u001b[0m \u001b[0;36m4\u001b[0m\u001b[0;34m)\u001b[0m\u001b[0;34m\u001b[0m\u001b[0m\n\u001b[1;32m      2\u001b[0m \u001b[0mu\u001b[0m\u001b[0;34m\u001b[0m\u001b[0m\n\u001b[0;32m----> 3\u001b[0;31m \u001b[0mstate\u001b[0m \u001b[0;34m=\u001b[0m \u001b[0mgt\u001b[0m\u001b[0;34m.\u001b[0m\u001b[0mminimize_blockmodel_dl\u001b[0m\u001b[0;34m(\u001b[0m\u001b[0mu\u001b[0m\u001b[0;34m,\u001b[0m \u001b[0meweight\u001b[0m\u001b[0;34m=\u001b[0m \u001b[0mu\u001b[0m\u001b[0;34m.\u001b[0m\u001b[0medge_properties\u001b[0m\u001b[0;34m[\u001b[0m\u001b[0;34m'rating'\u001b[0m\u001b[0;34m]\u001b[0m\u001b[0;34m)\u001b[0m\u001b[0;34m\u001b[0m\u001b[0m\n\u001b[0m\u001b[1;32m      4\u001b[0m \u001b[0mb\u001b[0m \u001b[0;34m=\u001b[0m \u001b[0mstate\u001b[0m\u001b[0;34m.\u001b[0m\u001b[0mb\u001b[0m\u001b[0;34m\u001b[0m\u001b[0m\n\u001b[1;32m      5\u001b[0m \u001b[0mgt\u001b[0m\u001b[0;34m.\u001b[0m\u001b[0mmodularity\u001b[0m\u001b[0;34m(\u001b[0m\u001b[0mu\u001b[0m\u001b[0;34m,\u001b[0m \u001b[0mb\u001b[0m\u001b[0;34m)\u001b[0m\u001b[0;34m\u001b[0m\u001b[0m\n",
      "\u001b[0;32m/usr/local/lib/python2.7/site-packages/graph_tool/community/blockmodel.pyc\u001b[0m in \u001b[0;36mminimize_blockmodel_dl\u001b[0;34m(g, deg_corr, overlap, ec, layers, confine_layers, nonoverlap_init, dl, multigraph, dense, sparse_heuristic, eweight, vweight, clabel, c, nsweeps, adaptive_sweeps, epsilon, anneal, greedy_cooling, sequential, parallel, r, nmerge_sweeps, max_B, min_B, mid_B, checkpoint, minimize_state, exhaustive, init_states, max_BE, verbose, **kwargs)\u001b[0m\n\u001b[1;32m   2261\u001b[0m             \u001b[0mmax_B\u001b[0m \u001b[0;34m=\u001b[0m \u001b[0mmax\u001b[0m\u001b[0;34m(\u001b[0m\u001b[0mg\u001b[0m\u001b[0;34m.\u001b[0m\u001b[0mnum_vertices\u001b[0m\u001b[0;34m(\u001b[0m\u001b[0;34m)\u001b[0m\u001b[0;34m,\u001b[0m \u001b[0;36m1\u001b[0m\u001b[0;34m)\u001b[0m\u001b[0;34m\u001b[0m\u001b[0m\n\u001b[1;32m   2262\u001b[0m         \u001b[0;32melse\u001b[0m\u001b[0;34m:\u001b[0m\u001b[0;34m\u001b[0m\u001b[0m\n\u001b[0;32m-> 2263\u001b[0;31m             \u001b[0mmax_B\u001b[0m \u001b[0;34m=\u001b[0m \u001b[0mget_max_B\u001b[0m\u001b[0;34m(\u001b[0m\u001b[0mg\u001b[0m\u001b[0;34m.\u001b[0m\u001b[0mnum_vertices\u001b[0m\u001b[0;34m(\u001b[0m\u001b[0;34m)\u001b[0m\u001b[0;34m,\u001b[0m \u001b[0mg\u001b[0m\u001b[0;34m.\u001b[0m\u001b[0mnum_edges\u001b[0m\u001b[0;34m(\u001b[0m\u001b[0;34m)\u001b[0m\u001b[0;34m,\u001b[0m \u001b[0mg\u001b[0m\u001b[0;34m.\u001b[0m\u001b[0mis_directed\u001b[0m\u001b[0;34m(\u001b[0m\u001b[0;34m)\u001b[0m\u001b[0;34m)\u001b[0m\u001b[0;34m\u001b[0m\u001b[0m\n\u001b[0m\u001b[1;32m   2264\u001b[0m         \u001b[0;32mif\u001b[0m \u001b[0mverbose\u001b[0m\u001b[0;34m:\u001b[0m\u001b[0;34m\u001b[0m\u001b[0m\n\u001b[1;32m   2265\u001b[0m             \u001b[0;32mprint\u001b[0m\u001b[0;34m(\u001b[0m\u001b[0;34m\"max_B:\"\u001b[0m\u001b[0;34m,\u001b[0m \u001b[0mmax_B\u001b[0m\u001b[0;34m)\u001b[0m\u001b[0;34m\u001b[0m\u001b[0m\n",
      "\u001b[0;32m/usr/local/lib/python2.7/site-packages/graph_tool/community/blockmodel.pyc\u001b[0m in \u001b[0;36mget_max_B\u001b[0;34m(N, E, directed)\u001b[0m\n\u001b[1;32m    765\u001b[0m \u001b[0;34m\u001b[0m\u001b[0m\n\u001b[1;32m    766\u001b[0m     B = fminbound(lambda B: Sdl(B, -log(B), N, E, directed), 1, E,\n\u001b[0;32m--> 767\u001b[0;31m                   xtol=1e-6, maxfun=1500, disp=0)\n\u001b[0m\u001b[1;32m    768\u001b[0m     \u001b[0;32mif\u001b[0m \u001b[0misnan\u001b[0m\u001b[0;34m(\u001b[0m\u001b[0mB\u001b[0m\u001b[0;34m)\u001b[0m\u001b[0;34m:\u001b[0m\u001b[0;34m\u001b[0m\u001b[0m\n\u001b[1;32m    769\u001b[0m         \u001b[0mB\u001b[0m \u001b[0;34m=\u001b[0m \u001b[0;36m1\u001b[0m\u001b[0;34m\u001b[0m\u001b[0m\n",
      "\u001b[0;32m/usr/local/lib/python2.7/site-packages/scipy/optimize/optimize.pyc\u001b[0m in \u001b[0;36mfminbound\u001b[0;34m(func, x1, x2, args, xtol, maxfun, full_output, disp)\u001b[0m\n\u001b[1;32m   1545\u001b[0m                'disp': disp}\n\u001b[1;32m   1546\u001b[0m \u001b[0;34m\u001b[0m\u001b[0m\n\u001b[0;32m-> 1547\u001b[0;31m     \u001b[0mres\u001b[0m \u001b[0;34m=\u001b[0m \u001b[0m_minimize_scalar_bounded\u001b[0m\u001b[0;34m(\u001b[0m\u001b[0mfunc\u001b[0m\u001b[0;34m,\u001b[0m \u001b[0;34m(\u001b[0m\u001b[0mx1\u001b[0m\u001b[0;34m,\u001b[0m \u001b[0mx2\u001b[0m\u001b[0;34m)\u001b[0m\u001b[0;34m,\u001b[0m \u001b[0margs\u001b[0m\u001b[0;34m,\u001b[0m \u001b[0;34m**\u001b[0m\u001b[0moptions\u001b[0m\u001b[0;34m)\u001b[0m\u001b[0;34m\u001b[0m\u001b[0m\n\u001b[0m\u001b[1;32m   1548\u001b[0m     \u001b[0;32mif\u001b[0m \u001b[0mfull_output\u001b[0m\u001b[0;34m:\u001b[0m\u001b[0;34m\u001b[0m\u001b[0m\n\u001b[1;32m   1549\u001b[0m         \u001b[0;32mreturn\u001b[0m \u001b[0mres\u001b[0m\u001b[0;34m[\u001b[0m\u001b[0;34m'x'\u001b[0m\u001b[0;34m]\u001b[0m\u001b[0;34m,\u001b[0m \u001b[0mres\u001b[0m\u001b[0;34m[\u001b[0m\u001b[0;34m'fun'\u001b[0m\u001b[0;34m]\u001b[0m\u001b[0;34m,\u001b[0m \u001b[0mres\u001b[0m\u001b[0;34m[\u001b[0m\u001b[0;34m'status'\u001b[0m\u001b[0;34m]\u001b[0m\u001b[0;34m,\u001b[0m \u001b[0mres\u001b[0m\u001b[0;34m[\u001b[0m\u001b[0;34m'nfev'\u001b[0m\u001b[0;34m]\u001b[0m\u001b[0;34m\u001b[0m\u001b[0m\n",
      "\u001b[0;32m/usr/local/lib/python2.7/site-packages/scipy/optimize/optimize.pyc\u001b[0m in \u001b[0;36m_minimize_scalar_bounded\u001b[0;34m(func, bounds, args, xatol, maxiter, disp, **unknown_options)\u001b[0m\n\u001b[1;32m   1577\u001b[0m                          \" or array scalars.\")\n\u001b[1;32m   1578\u001b[0m     \u001b[0;32mif\u001b[0m \u001b[0mx1\u001b[0m \u001b[0;34m>\u001b[0m \u001b[0mx2\u001b[0m\u001b[0;34m:\u001b[0m\u001b[0;34m\u001b[0m\u001b[0m\n\u001b[0;32m-> 1579\u001b[0;31m         \u001b[0;32mraise\u001b[0m \u001b[0mValueError\u001b[0m\u001b[0;34m(\u001b[0m\u001b[0;34m\"The lower bound exceeds the upper bound.\"\u001b[0m\u001b[0;34m)\u001b[0m\u001b[0;34m\u001b[0m\u001b[0m\n\u001b[0m\u001b[1;32m   1580\u001b[0m \u001b[0;34m\u001b[0m\u001b[0m\n\u001b[1;32m   1581\u001b[0m     \u001b[0mflag\u001b[0m \u001b[0;34m=\u001b[0m \u001b[0;36m0\u001b[0m\u001b[0;34m\u001b[0m\u001b[0m\n",
      "\u001b[0;31mValueError\u001b[0m: The lower bound exceeds the upper bound."
     ]
    }
   ],
   "source": [
    "u = gt.GraphView(g, vfilt=lambda x: g.vertex_properties['components'][x] == 4)\n",
    "u\n",
    "state = gt.minimize_blockmodel_dl(u, eweight= u.edge_properties['rating'])\n",
    "b = state.b\n",
    "gt.modularity(u, b)"
   ]
  },
  {
   "cell_type": "code",
   "execution_count": 325,
   "metadata": {
    "collapsed": false
   },
   "outputs": [
    {
     "data": {
      "text/plain": [
       "PropertyArray([0, 0, 0, ..., 0, 0, 0], dtype=int32)"
      ]
     },
     "execution_count": 325,
     "metadata": {},
     "output_type": "execute_result"
    }
   ],
   "source": [
    "b.a"
   ]
  },
  {
   "cell_type": "code",
   "execution_count": 61,
   "metadata": {
    "collapsed": false
   },
   "outputs": [
    {
     "data": {
      "text/plain": [
       "0.0"
      ]
     },
     "execution_count": 61,
     "metadata": {},
     "output_type": "execute_result"
    }
   ],
   "source": [
    "state1 = gt.minimize_nested_blockmodel_dl(g)\n",
    "gt.modularity(g, state1.clabel)\n",
    "# gt.draw_hierarchy(state1)"
   ]
  },
  {
   "cell_type": "code",
   "execution_count": 7,
   "metadata": {
    "collapsed": false
   },
   "outputs": [
    {
     "data": {
      "text/plain": [
       "(<PropertyMap object with key type 'Vertex' and value type 'vector<double>', for Graph 0x10d3af710, at 0x118a7a9d0>,\n",
       " <PropertyMap object with key type 'Vertex' and value type 'bool', for Graph 0x10d3af710, at 0x10cf7d790>)"
      ]
     },
     "execution_count": 7,
     "metadata": {},
     "output_type": "execute_result"
    }
   ],
   "source": [
    "state = gt.minimize_blockmodel_dl(u)\n",
    "b = state.b\n",
    "gt.graph_draw(u, vertex_fill_color=b, vertex_shape=b)"
   ]
  },
  {
   "cell_type": "markdown",
   "metadata": {},
   "source": [
    "# TESTS"
   ]
  },
  {
   "cell_type": "code",
   "execution_count": 205,
   "metadata": {
    "collapsed": false
   },
   "outputs": [],
   "source": [
    "# vprop = g.new_vertex_property(\"string\")\n",
    "# g.vertex_properties['user_id'] = vprop\n",
    "# g.vertex_properties['user_id'][g.vertex(0)] = 'hello'\n",
    "# g.vertex_properties['business_id'] = vprop\n",
    "# g.vertex_properties['business_id'][g.vertex(0)] = 'bye'\n",
    "\n",
    "eprop = g.new_edge_property('string')\n",
    "g.edge_properties['rating'] = eprop\n",
    "g.edge_properties['rating'][g.edge(0,1)] = 'hello'"
   ]
  },
  {
   "cell_type": "code",
   "execution_count": 244,
   "metadata": {
    "collapsed": true
   },
   "outputs": [],
   "source": [
    "eprop = g.new_edge_property('string')"
   ]
  },
  {
   "cell_type": "code",
   "execution_count": 267,
   "metadata": {
    "collapsed": true
   },
   "outputs": [
    {
     "ename": "ValueError",
     "evalue": "Invalid vertex index: 10",
     "output_type": "error",
     "traceback": [
      "\u001b[0;31m---------------------------------------------------------------------------\u001b[0m",
      "\u001b[0;31mValueError\u001b[0m                                Traceback (most recent call last)",
      "\u001b[0;32m<ipython-input-267-ffd9102cc8ca>\u001b[0m in \u001b[0;36m<module>\u001b[0;34m()\u001b[0m\n\u001b[1;32m      1\u001b[0m \u001b[0mvprop\u001b[0m \u001b[0;34m=\u001b[0m \u001b[0mg\u001b[0m\u001b[0;34m.\u001b[0m\u001b[0mnew_vertex_property\u001b[0m\u001b[0;34m(\u001b[0m\u001b[0;34m'int16_t'\u001b[0m\u001b[0;34m)\u001b[0m\u001b[0;34m\u001b[0m\u001b[0m\n\u001b[1;32m      2\u001b[0m \u001b[0mg\u001b[0m\u001b[0;34m.\u001b[0m\u001b[0mvertex_properties\u001b[0m\u001b[0;34m[\u001b[0m\u001b[0;34m'integer'\u001b[0m\u001b[0;34m]\u001b[0m \u001b[0;34m=\u001b[0m \u001b[0mvprop\u001b[0m\u001b[0;34m\u001b[0m\u001b[0m\n\u001b[0;32m----> 3\u001b[0;31m \u001b[0mg\u001b[0m\u001b[0;34m.\u001b[0m\u001b[0mvertex_properties\u001b[0m\u001b[0;34m[\u001b[0m\u001b[0;34m'integer'\u001b[0m\u001b[0;34m]\u001b[0m\u001b[0;34m[\u001b[0m\u001b[0mg\u001b[0m\u001b[0;34m.\u001b[0m\u001b[0mvertex\u001b[0m\u001b[0;34m(\u001b[0m\u001b[0;36m10\u001b[0m\u001b[0;34m)\u001b[0m\u001b[0;34m]\u001b[0m \u001b[0;34m=\u001b[0m \u001b[0;36m1\u001b[0m\u001b[0;34m\u001b[0m\u001b[0m\n\u001b[0m",
      "\u001b[0;32m/usr/local/lib/python2.7/site-packages/graph_tool/__init__.pyc\u001b[0m in \u001b[0;36mvertex\u001b[0;34m(self, i, use_index, add_missing)\u001b[0m\n\u001b[1;32m   1780\u001b[0m                 \u001b[0mself\u001b[0m\u001b[0;34m.\u001b[0m\u001b[0madd_vertex\u001b[0m\u001b[0;34m(\u001b[0m\u001b[0mint\u001b[0m\u001b[0;34m(\u001b[0m\u001b[0mi\u001b[0m\u001b[0;34m)\u001b[0m \u001b[0;34m-\u001b[0m \u001b[0mself\u001b[0m\u001b[0;34m.\u001b[0m\u001b[0mnum_vertices\u001b[0m\u001b[0;34m(\u001b[0m\u001b[0muse_index\u001b[0m\u001b[0;34m)\u001b[0m \u001b[0;34m+\u001b[0m \u001b[0;36m1\u001b[0m\u001b[0;34m)\u001b[0m\u001b[0;34m\u001b[0m\u001b[0m\n\u001b[1;32m   1781\u001b[0m                 \u001b[0;32mreturn\u001b[0m \u001b[0mself\u001b[0m\u001b[0;34m.\u001b[0m\u001b[0mvertex\u001b[0m\u001b[0;34m(\u001b[0m\u001b[0mint\u001b[0m\u001b[0;34m(\u001b[0m\u001b[0mi\u001b[0m\u001b[0;34m)\u001b[0m\u001b[0;34m,\u001b[0m \u001b[0muse_index\u001b[0m\u001b[0;34m)\u001b[0m\u001b[0;34m\u001b[0m\u001b[0m\n\u001b[0;32m-> 1782\u001b[0;31m             \u001b[0;32mraise\u001b[0m \u001b[0mValueError\u001b[0m\u001b[0;34m(\u001b[0m\u001b[0;34m\"Invalid vertex index: %d\"\u001b[0m \u001b[0;34m%\u001b[0m \u001b[0mint\u001b[0m\u001b[0;34m(\u001b[0m\u001b[0mi\u001b[0m\u001b[0;34m)\u001b[0m\u001b[0;34m)\u001b[0m\u001b[0;34m\u001b[0m\u001b[0m\n\u001b[0m\u001b[1;32m   1783\u001b[0m         \u001b[0;32mreturn\u001b[0m \u001b[0mv\u001b[0m\u001b[0;34m\u001b[0m\u001b[0m\n\u001b[1;32m   1784\u001b[0m \u001b[0;34m\u001b[0m\u001b[0m\n",
      "\u001b[0;31mValueError\u001b[0m: Invalid vertex index: 10"
     ]
    }
   ],
   "source": [
    "vprop = g.new_vertex_property('int16_t')\n",
    "g.vertex_properties['integer'] = vprop\n",
    "g.vertex_properties['integer'][g.vertex(10)] = 1"
   ]
  },
  {
   "cell_type": "code",
   "execution_count": 9,
   "metadata": {
    "collapsed": false
   },
   "outputs": [
    {
     "data": {
      "text/plain": [
       "<generator object <genexpr> at 0x123d85960>"
      ]
     },
     "execution_count": 9,
     "metadata": {},
     "output_type": "execute_result"
    }
   ],
   "source": [
    "g = gt.Graph(directed=False)\n",
    "g.add_vertex(10)"
   ]
  },
  {
   "cell_type": "code",
   "execution_count": 10,
   "metadata": {
    "collapsed": false
   },
   "outputs": [
    {
     "data": {
      "text/plain": [
       "<Edge object with source '4' and target '5' at 0x1266d7df8>"
      ]
     },
     "execution_count": 10,
     "metadata": {},
     "output_type": "execute_result"
    }
   ],
   "source": [
    "g.add_edge(0,1)\n",
    "g.add_edge(1,2)\n",
    "g.add_edge(2,3)\n",
    "g.add_edge(3,4)\n",
    "g.add_edge(4,5)"
   ]
  },
  {
   "cell_type": "code",
   "execution_count": 126,
   "metadata": {
    "collapsed": false
   },
   "outputs": [],
   "source": [
    "vb, eb = gt.betweenness(g)"
   ]
  },
  {
   "cell_type": "code",
   "execution_count": 131,
   "metadata": {
    "collapsed": false
   },
   "outputs": [
    {
     "name": "stdout",
     "output_type": "stream",
     "text": [
      "[0 4]\n"
     ]
    }
   ],
   "source": [
    "init_list = list(g.edges())\n",
    "max_edge_list = np.argsort(eb.a)[:-1][0:2]\n",
    "print max_edge_list\n",
    "for i in max_edge_list:\n",
    "    g.remove_edge(init_list[i])"
   ]
  },
  {
   "cell_type": "code",
   "execution_count": 134,
   "metadata": {
    "collapsed": false
   },
   "outputs": [
    {
     "data": {
      "text/plain": [
       "3"
      ]
     },
     "execution_count": 134,
     "metadata": {},
     "output_type": "execute_result"
    }
   ],
   "source": [
    "list(g.edges())\n",
    "g.num_edges()"
   ]
  },
  {
   "cell_type": "code",
   "execution_count": 130,
   "metadata": {
    "collapsed": false
   },
   "outputs": [
    {
     "data": {
      "text/plain": [
       "PropertyArray([0, 4])"
      ]
     },
     "execution_count": 130,
     "metadata": {},
     "output_type": "execute_result"
    }
   ],
   "source": [
    "np.argsort(eb.a)[:-1][0:2]"
   ]
  },
  {
   "cell_type": "code",
   "execution_count": 83,
   "metadata": {
    "collapsed": false
   },
   "outputs": [
    {
     "name": "stdout",
     "output_type": "stream",
     "text": [
      "(0, 1)\n",
      "(4, 5)\n"
     ]
    }
   ],
   "source": [
    "for i in max_edge_index:\n",
    "    print list(g.edges())[i]"
   ]
  },
  {
   "cell_type": "code",
   "execution_count": 12,
   "metadata": {
    "collapsed": false
   },
   "outputs": [],
   "source": [
    "prop = g.new_edge_property(\"vector<string>\")\n",
    "g.edge_properties['user_bus'] = prop\n",
    "g.edge_properties['user_bus'][g.edge(0,1)] = ['hello','joe']\n",
    "g.edge_properties['user_bus'][g.edge(1,2)] = ['bye','joe']\n",
    "g.edge_properties['user_bus'][g.edge(2,3)] = ['hi','allen']\n",
    "g.edge_properties['user_bus'][g.edge(3,4)] = ['hi','lee']\n",
    "g.edge_properties['user_bus'][g.edge(4,5)] = ['hi','john']\n",
    "vprop = g.new_vertex_property('string')\n",
    "g.vertex_properties['user'] = vprop\n",
    "g.vertex_properties['user'][g.vertex(1)] = 'joe'\n",
    "g.vertex_properties['user'][g.vertex(2)] = 'john'\n",
    "g.vertex_properties['user'][g.vertex(3)] = 'allen'"
   ]
  },
  {
   "cell_type": "code",
   "execution_count": 14,
   "metadata": {
    "collapsed": false
   },
   "outputs": [
    {
     "data": {
      "text/plain": [
       "'joe'"
      ]
     },
     "execution_count": 14,
     "metadata": {},
     "output_type": "execute_result"
    }
   ],
   "source": [
    "g.vertex_properties['user'][g.vertex(1)]"
   ]
  },
  {
   "cell_type": "code",
   "execution_count": 15,
   "metadata": {
    "collapsed": false
   },
   "outputs": [
    {
     "name": "stdout",
     "output_type": "stream",
     "text": [
      "0 1\n",
      "['hello', 'joe']\n",
      "1 2\n",
      "['bye', 'joe']\n",
      "2 3\n",
      "['hi', 'allen']\n",
      "3 4\n",
      "['hi', 'lee']\n",
      "4 5\n",
      "['hi', 'john']\n"
     ]
    }
   ],
   "source": [
    "for i,j in g.edges():\n",
    "    print i,j\n",
    "    print g.edge_properties['user_bus'][g.edge(i,j)]"
   ]
  },
  {
   "cell_type": "code",
   "execution_count": null,
   "metadata": {
    "collapsed": true
   },
   "outputs": [],
   "source": []
  },
  {
   "cell_type": "code",
   "execution_count": 63,
   "metadata": {
    "collapsed": false
   },
   "outputs": [],
   "source": [
    "u = gt.GraphView(g, efilt=lambda x: g.edge_properties['user_bus'][x][-1] == 'joe', vfilt=lambda x: x in [0,1,2])\n",
    "# u = gt.GraphView(g, efilt=lambda x: x in list(g.edges()), vfilt=lambda x: x in list(g.vertices()))\n",
    "# u = gt.GraphView(g, efilt=lambda x: x in list(g.edges()), vfilt=lambda x: x in [0,1] or x in [0])"
   ]
  },
  {
   "cell_type": "code",
   "execution_count": 64,
   "metadata": {
    "collapsed": false
   },
   "outputs": [
    {
     "data": {
      "text/plain": [
       "[<Edge object with source '0' and target '1' at 0x11945c218>,\n",
       " <Edge object with source '1' and target '2' at 0x11945c2b0>]"
      ]
     },
     "execution_count": 64,
     "metadata": {},
     "output_type": "execute_result"
    }
   ],
   "source": [
    "list(u.edges())"
   ]
  },
  {
   "cell_type": "code",
   "execution_count": 65,
   "metadata": {
    "collapsed": false
   },
   "outputs": [
    {
     "data": {
      "text/plain": [
       "[<Vertex object with index '0' at 0x119445750>,\n",
       " <Vertex object with index '1' at 0x1194456d0>,\n",
       " <Vertex object with index '2' at 0x1194571d0>]"
      ]
     },
     "execution_count": 65,
     "metadata": {},
     "output_type": "execute_result"
    }
   ],
   "source": [
    "list(u.vertices())"
   ]
  },
  {
   "cell_type": "code",
   "execution_count": null,
   "metadata": {
    "collapsed": true
   },
   "outputs": [],
   "source": [
    "u = GraphView(g, vfilt=lambda x: g.edge_properties['test'][x] == 'hello')"
   ]
  },
  {
   "cell_type": "code",
   "execution_count": null,
   "metadata": {
    "collapsed": true
   },
   "outputs": [],
   "source": [
    "(g.edge_properties['user_bus'][x]).split(\",\") == 'joe'"
   ]
  },
  {
   "cell_type": "code",
   "execution_count": 412,
   "metadata": {
    "collapsed": false
   },
   "outputs": [
    {
     "name": "stdout",
     "output_type": "stream",
     "text": [
      "(0, 1)\n",
      "(1, 2)\n",
      "(2, 3)\n"
     ]
    }
   ],
   "source": [
    "for i in u.edges():\n",
    "    print i"
   ]
  },
  {
   "cell_type": "code",
   "execution_count": 327,
   "metadata": {
    "collapsed": false
   },
   "outputs": [
    {
     "name": "stdout",
     "output_type": "stream",
     "text": [
      "(1, 2)\n",
      "(2, 1)\n"
     ]
    }
   ],
   "source": [
    "for i in g.edges():\n",
    "    print i"
   ]
  },
  {
   "cell_type": "code",
   "execution_count": 168,
   "metadata": {
    "collapsed": false
   },
   "outputs": [
    {
     "data": {
      "text/plain": [
       "(<PropertyMap object with key type 'Vertex' and value type 'vector<double>', for Graph 0x11bf18b90, at 0x11bf69550>,\n",
       " <PropertyMap object with key type 'Vertex' and value type 'bool', for Graph 0x11bf18b90, at 0x11bf12b90>)"
      ]
     },
     "execution_count": 168,
     "metadata": {},
     "output_type": "execute_result"
    }
   ],
   "source": [
    "g = gt.collection.data[\"polbooks\"]\n",
    "state = gt.minimize_blockmodel_dl(g)\n",
    "b = state.b\n",
    "gt.graph_draw(g, vertex_fill_color=b, vertex_shape=b)"
   ]
  },
  {
   "cell_type": "code",
   "execution_count": 138,
   "metadata": {
    "collapsed": false
   },
   "outputs": [
    {
     "name": "stdout",
     "output_type": "stream",
     "text": [
      "441\n",
      "105\n"
     ]
    }
   ],
   "source": [
    "print g.num_edges()\n",
    "print g.num_vertices()"
   ]
  },
  {
   "cell_type": "code",
   "execution_count": 145,
   "metadata": {
    "collapsed": false
   },
   "outputs": [
    {
     "name": "stdout",
     "output_type": "stream",
     "text": [
      "description    (graph)   (type: string, val: Books about US politics: A network\n",
      "                                             of books about US politics\n",
      "                                             published around the time of the\n",
      "                                             2004 presidential election and sold\n",
      "                                             by the online bookseller\n",
      "                                             Amazon.com. Edges between books\n",
      "                                             represent frequent copurchasing of\n",
      "                                             books by the same buyers. The\n",
      "                                             network was compiled by V. Krebs\n",
      "                                             and is unpublished, but can found\n",
      "                                             on Krebs' `web site\n",
      "                                             <http://www.orgnet.com/>`_.\n",
      "                                             Retrieved from `Mark Newman's\n",
      "                                             website <http://www-personal.umich.\n",
      "                                             edu/~mejn/netdata/>`_.)\n",
      "readme         (graph)   (type: string, val: Books about US politics Compiled by\n",
      "                                             Valdis Krebs  Nodes represent books\n",
      "                                             about US politics sold by the\n",
      "                                             online bookseller Amazon.com.\n",
      "                                             Edges represent frequent co-\n",
      "                                             purchasing of books by the same\n",
      "                                             buyers, as indicated by the\n",
      "                                             \"customers who bought this book\n",
      "                                             also bought these other books\"\n",
      "                                             feature on Amazon.  Nodes have been\n",
      "                                             given values \"l\", \"n\", or \"c\" to\n",
      "                                             indicate whether they are\n",
      "                                             \"liberal\", \"neutral\", or\n",
      "                                             \"conservative\".  These alignments\n",
      "                                             were assigned separately by Mark\n",
      "                                             Newman based on a reading of the\n",
      "                                             descriptions and reviews of the\n",
      "                                             books posted on Amazon.  These data\n",
      "                                             should be cited as V. Krebs,\n",
      "                                             unpublished,\n",
      "                                             http://www.orgnet.com/.)\n",
      "label          (vertex)  (type: string)\n",
      "pos            (vertex)  (type: vector<double>)\n",
      "value          (vertex)  (type: string)\n"
     ]
    }
   ],
   "source": [
    "g.list_properties()"
   ]
  },
  {
   "cell_type": "code",
   "execution_count": 166,
   "metadata": {
    "collapsed": false
   },
   "outputs": [
    {
     "data": {
      "text/plain": [
       "array([-146.8949707 ,   47.89453442])"
      ]
     },
     "execution_count": 166,
     "metadata": {},
     "output_type": "execute_result"
    }
   ],
   "source": [
    "g.vertex_properties.pos[g.vertex(1)]"
   ]
  },
  {
   "cell_type": "code",
   "execution_count": 169,
   "metadata": {
    "collapsed": false
   },
   "outputs": [],
   "source": [
    "g = gt.price_network(3000)"
   ]
  },
  {
   "cell_type": "code",
   "execution_count": 172,
   "metadata": {
    "collapsed": false
   },
   "outputs": [],
   "source": [
    "g = gt.random_graph(1000, lambda: (5,5))"
   ]
  },
  {
   "cell_type": "code",
   "execution_count": 175,
   "metadata": {
    "collapsed": false
   },
   "outputs": [
    {
     "data": {
      "text/plain": [
       "1000"
      ]
     },
     "execution_count": 175,
     "metadata": {},
     "output_type": "execute_result"
    }
   ],
   "source": [
    "g.num_vertices()"
   ]
  },
  {
   "cell_type": "code",
   "execution_count": 180,
   "metadata": {
    "collapsed": true
   },
   "outputs": [],
   "source": [
    "import itertools\n",
    "a =[[1,1,1] ,[1,1,2,[\"Afghan\",\"afghani\"],[\"Middle Eastern\",\"mideastern\"]]]"
   ]
  },
  {
   "cell_type": "code",
   "execution_count": 181,
   "metadata": {
    "collapsed": false
   },
   "outputs": [
    {
     "data": {
      "text/plain": [
       "[1, 1, 1, 1, 1, 2, ['Afghan', 'afghani'], ['Middle Eastern', 'mideastern']]"
      ]
     },
     "execution_count": 181,
     "metadata": {},
     "output_type": "execute_result"
    }
   ],
   "source": [
    "list(itertools.chain(*a))"
   ]
  },
  {
   "cell_type": "code",
   "execution_count": 393,
   "metadata": {
    "collapsed": false
   },
   "outputs": [
    {
     "data": {
      "text/plain": [
       "108399"
      ]
     },
     "execution_count": 393,
     "metadata": {},
     "output_type": "execute_result"
    }
   ],
   "source": [
    "len(master)"
   ]
  },
  {
   "cell_type": "code",
   "execution_count": 8,
   "metadata": {
    "collapsed": true
   },
   "outputs": [],
   "source": [
    "import numpy as np\n",
    "import pandas as pd"
   ]
  },
  {
   "cell_type": "code",
   "execution_count": 3,
   "metadata": {
    "collapsed": false
   },
   "outputs": [],
   "source": [
    "group = []\n",
    "for i in master:\n",
    "    cat = i[-1]\n",
    "    group.append(cat)\n",
    "#     break"
   ]
  },
  {
   "cell_type": "code",
   "execution_count": 4,
   "metadata": {
    "collapsed": false
   },
   "outputs": [
    {
     "data": {
      "text/plain": [
       "108399"
      ]
     },
     "execution_count": 4,
     "metadata": {},
     "output_type": "execute_result"
    }
   ],
   "source": [
    "len(group)"
   ]
  },
  {
   "cell_type": "code",
   "execution_count": 5,
   "metadata": {
    "collapsed": false
   },
   "outputs": [
    {
     "data": {
      "text/plain": [
       "351"
      ]
     },
     "execution_count": 5,
     "metadata": {},
     "output_type": "execute_result"
    }
   ],
   "source": [
    "len(np.unique(np.array(group)))"
   ]
  },
  {
   "cell_type": "code",
   "execution_count": 9,
   "metadata": {
    "collapsed": true
   },
   "outputs": [
    {
     "data": {
      "text/plain": [
       "[Mexican, mexican]                                                                               4569\n",
       "[Japanese, japanese, Sushi Bars, sushi]                                                          3718\n",
       "[American (New), newamerican]                                                                    3696\n",
       "[Asian Fusion, asianfusion]                                                                      3423\n",
       "[Italian, italian]                                                                               3262\n",
       "[Pizza, pizza]                                                                                   3205\n",
       "[Thai, thai]                                                                                     2775\n",
       "[Italian, italian, Pizza, pizza]                                                                 2331\n",
       "[Seafood, seafood]                                                                               1971\n",
       "[Vietnamese, vietnamese]                                                                         1738\n",
       "[Chinese, chinese]                                                                               1736\n",
       "[Korean, korean]                                                                                 1459\n",
       "[American (New), newamerican, Bars, bars]                                                        1446\n",
       "[Burgers, burgers]                                                                               1374\n",
       "[Asian Fusion, asianfusion, Chinese, chinese]                                                    1315\n",
       "[Breakfast & Brunch, breakfast_brunch, American (New), newamerican]                              1273\n",
       "[Indian, indpak]                                                                                 1165\n",
       "[American (Traditional), tradamerican]                                                           1158\n",
       "[Burmese, burmese]                                                                               1138\n",
       "[Sandwiches, sandwiches]                                                                         1128\n",
       "[Armenian, armenian, Middle Eastern, mideastern, Mediterranean, mediterranean]                   1121\n",
       "[Italian, italian, Seafood, seafood]                                                             1114\n",
       "[Japanese, japanese]                                                                             1096\n",
       "[Sandwiches, sandwiches, Vietnamese, vietnamese]                                                  926\n",
       "[Steakhouses, steak]                                                                              847\n",
       "[Steakhouses, steak, American (Traditional), tradamerican]                                        821\n",
       "[Senegalese, senegalese]                                                                          773\n",
       "[Arabian, arabian, Middle Eastern, mideastern]                                                    706\n",
       "[Arabian, arabian, Middle Eastern, mideastern, Mediterranean, mediterranean]                      697\n",
       "[Indian, indpak, Pakistani, pakistani]                                                            647\n",
       "                                                                                                 ... \n",
       "[Barbeque, bbq, Pubs, pubs]                                                                        57\n",
       "[Burgers, burgers, Steakhouses, steak]                                                             55\n",
       "[Cafes, cafes, Dry Cleaning & Laundry, drycleaninglaundry, Internet Cafes, internetcafe]           55\n",
       "[Pizza, pizza, Pubs, pubs]                                                                         55\n",
       "[Burgers, burgers, Coffee & Tea, coffee, Sandwiches, sandwiches]                                   54\n",
       "[American (Traditional), tradamerican, Sports Bars, sportsbars, Dive Bars, divebars]               54\n",
       "[Asian Fusion, asianfusion, Chinese, chinese, Gluten-Free, gluten_free]                            52\n",
       "[Cheesesteaks, cheesesteaks, Sandwiches, sandwiches]                                               52\n",
       "[American (Traditional), tradamerican, Music Venues, musicvenues, Bars, bars]                      52\n",
       "[Indian, indpak, Pizza, pizza, Pakistani, pakistani]                                               52\n",
       "[Gastropubs, gastropubs, American (New), newamerican, Pubs, pubs]                                  51\n",
       "[Cafes, cafes, Wine Bars, wine_bars]                                                               49\n",
       "[Chicken Wings, chicken_wings, Sports Bars, sportsbars, American (Traditional), tradamerican]      49\n",
       "[Mexican, mexican, Tex-Mex, tex-mex, Bars, bars]                                                   49\n",
       "[Pizza, pizza, Wine Bars, wine_bars]                                                               49\n",
       "[Indian, indpak, Vegetarian, vegetarian]                                                           48\n",
       "[Fast Food, hotdogs, Mexican, mexican]                                                             48\n",
       "[Japanese, japanese, Sushi Bars, sushi, Seafood, seafood]                                          46\n",
       "[Mediterranean, mediterranean, Turkish, turkish, Middle Eastern, mideastern]                       43\n",
       "[American (Traditional), tradamerican, Pubs, pubs, Sports Bars, sportsbars]                        43\n",
       "[Burgers, burgers, Steakhouses, steak, Bars, bars]                                                 43\n",
       "[Middle Eastern, mideastern, Persian/Iranian, persian]                                             41\n",
       "[Middle Eastern, mideastern, Sandwiches, sandwiches, Coffee & Tea, coffee]                         40\n",
       "[Mediterranean, mediterranean, Middle Eastern, mideastern, Turkish, turkish]                       40\n",
       "[Cheesesteaks, cheesesteaks, Sandwiches, sandwiches, Sports Bars, sportsbars]                      38\n",
       "[Japanese, japanese, Sushi Bars, sushi, Tapas/Small Plates, tapasmallplates]                       38\n",
       "[Mexican, mexican, Bars, bars, Seafood, seafood]                                                   38\n",
       "[Latin American, latin, Peruvian, peruvian]                                                        36\n",
       "[Indian, indpak, Pakistani, pakistani, Caterers, catering]                                         33\n",
       "[Mexican, mexican, Cocktail Bars, cocktailbars]                                                    32\n",
       "dtype: int64"
      ]
     },
     "execution_count": 9,
     "metadata": {},
     "output_type": "execute_result"
    }
   ],
   "source": [
    "pd.value_counts(np.array(group))"
   ]
  },
  {
   "cell_type": "markdown",
   "metadata": {},
   "source": [
    "# Create MSE #1 - Baseline to Beat"
   ]
  },
  {
   "cell_type": "code",
   "execution_count": 8,
   "metadata": {
    "collapsed": false
   },
   "outputs": [],
   "source": [
    "# Create unique businesses and users so we can count how many rows and columns we needs\n",
    "# users_set = set()\n",
    "# businesses_set = set()\n",
    "# for i in master:\n",
    "#     users_set.add(i[0]) \n",
    "#     businesses_set.add(i[1])\n",
    "# users_list = list(users_set)\n",
    "# businesses_list = list(businesses_set)\n",
    "users = dict_all_businesses_of_a_user.keys()\n",
    "businesses = dict_all_users_of_a_business.keys()"
   ]
  },
  {
   "cell_type": "code",
   "execution_count": 9,
   "metadata": {
    "collapsed": false
   },
   "outputs": [],
   "source": [
    "# Create user and business dictionaries so we can keep track of the indicies when filling in matrix\n",
    "users_dic = defaultdict(int)\n",
    "businesses_dic = defaultdict(int)\n",
    "for i,j in enumerate(users):\n",
    "    users_dic[j] = i\n",
    "for i,j in enumerate(businesses):\n",
    "    businesses_dic[j] = i"
   ]
  },
  {
   "cell_type": "code",
   "execution_count": 32,
   "metadata": {
    "collapsed": false,
    "scrolled": false
   },
   "outputs": [
    {
     "name": "stdout",
     "output_type": "stream",
     "text": [
      "6.9\n"
     ]
    }
   ],
   "source": [
    "# Create matrix of reviews, sparse matrix\n",
    "num_users = len(users)\n",
    "num_businesses = len(businesses)\n",
    "# Create empty matrix\n",
    "mat = np.zeros((num_users, num_businesses))\n",
    "# Iterate each user-business combo and insert the actual review value\n",
    "for user, bus, rating, cruisine in review_[0:10]:\n",
    "    mat[users_dic[user], businesses_dic[bus]] = rating\n",
    "# Compute the average restaurant review based on all users who reviewed each restaurant, which we use later to compute MSE\n",
    "avg_restaurant_rating = np.sum(mat, axis=0) / np.sum(mat!=0, axis=0)\n",
    "\n",
    "mse1 = []\n",
    "# Iterate each restaurant column to compute MSE but ONLY for reviews where there are values\n",
    "for i in xrange(num_businesses):\n",
    "    # take only non-zero column values \n",
    "    mask = mat[:,i] != 0\n",
    "    base_vector = mat[:,i][mask]\n",
    "    # compute the number of users who actually reviewed that restaurant\n",
    "    col_len = sum(mask)\n",
    "    # create a new vector for average restaurant ratings of length previously computed\n",
    "    average_vector = np.zeros(col_len)\n",
    "    # fill in this vector with constant value\n",
    "    average_vector.fill(avg_restaurant_rating[i])\n",
    "    # take different of vectors and square difference to get MSE\n",
    "    mse = np.sum((base_vector - average_vector) ** 2)\n",
    "    # Append this mse for this restaurant ONLY\n",
    "    mse1.append(mse)\n",
    "#     break\n",
    "mse1 = np.array(mse1)\n",
    "print np.mean(mse1[mse1!=0])"
   ]
  },
  {
   "cell_type": "code",
   "execution_count": 79,
   "metadata": {
    "collapsed": true
   },
   "outputs": [
    {
     "name": "stdout",
     "output_type": "stream",
     "text": [
      "(16954, 802)\n",
      "[ 3.71428571  3.60588235  4.16393443  3.24358974  3.70212766  3.45283019\n",
      "  4.13733906  3.79545455  3.67924528  3.89010989  3.8245614   3.69444444\n",
      "  3.63076923  3.58947368  3.75103734  3.81333333  3.94413408  3.97560976\n",
      "  3.46202532  3.45762712  4.18518519  3.38461538  3.64646465  3.7311828\n",
      "  3.95        4.43442623  4.04878049  4.20155039  4.16374269  3.8411215\n",
      "  3.79141104  3.42222222  4.1512605   3.60714286  3.7012987   4.10416667\n",
      "  4.25619835  3.90163934  4.29139073  3.9047619   4.16666667  4.15083799\n",
      "  3.32758621  4.32323232  3.71631206  3.17857143  3.48148148  3.24489796\n",
      "  4.05        4.08955224  4.09333333  3.84        4.16326531  3.79310345\n",
      "  3.9         3.74509804  3.21794872  3.45882353  3.5862069   3.54411765\n",
      "  4.01627219  3.82386364  3.82666667  3.34065934  3.43165468  4.06666667\n",
      "  3.45283019  3.94666667  3.97560976  3.37735849  4.04587156  3.8630137\n",
      "  3.13333333  3.31428571  3.23728814  4.0703125   4.08080808  3.97326203\n",
      "  4.33333333  3.51592357  3.83870968  3.8125      3.97916667  3.95714286\n",
      "  3.88636364  4.02118644  3.5982906   3.66964286  3.1097561   4.\n",
      "  3.53225806  3.20895522  3.8372093   4.04878049  3.54347826  3.703125\n",
      "  4.13043478  4.44461078  3.77777778  4.23768737  3.97173145  3.69318182\n",
      "  3.67307692  4.225       3.97647059  3.55371901  4.43243243  3.90217391\n",
      "  3.93333333  4.14285714  4.          3.6407767   3.94160584  3.88372093\n",
      "  2.84057971  3.68987342  3.67088608  3.52777778  4.02325581  3.7\n",
      "  3.63366337  3.925       3.28        3.67073171  4.04444444  3.72340426\n",
      "  4.17422096  3.77931034  3.96774194  3.58035714  3.70512821  4.1299639\n",
      "  3.96341463  4.22981366  4.1875      3.49166667  4.39189189  3.70833333\n",
      "  3.90114068  3.27868852  4.13584906  3.63636364  4.07407407  3.45121951\n",
      "  4.10344828  3.15882353  3.75838926  4.11363636  4.03333333  4.1627907\n",
      "  4.16831683  3.94736842  3.69354839  3.77777778  3.472       3.62376238\n",
      "  4.30889423  3.925       3.86440678  3.82178218  4.07692308  3.70588235\n",
      "  4.21978022  3.60377358  3.82666667  4.03076923  3.94782609  4.17857143\n",
      "  4.22740525  4.44055944  3.84883721  3.81538462  4.09815951  4.01639344\n",
      "  3.640625    3.61016949  3.91836735  3.53333333  4.          4.\n",
      "  3.47863248  3.63636364  3.59090909  3.29166667  3.23076923  3.66949153\n",
      "  3.43037975  4.          3.57281553  3.41538462  3.9627907   3.88888889\n",
      "  2.88421053  4.23444976  4.22666667  3.75862069  3.7962963   3.90454545\n",
      "  3.94623656  3.94767442  3.74820144  4.22222222  3.89655172  3.56451613\n",
      "  3.75974026  3.95454545  3.20895522  3.73033708  3.84581498  3.66666667\n",
      "  3.75        3.41666667  3.85185185  2.86046512  3.91071429  4.23390558\n",
      "  4.28343949  3.82513661  3.625       3.78095238  3.83574879  4.35643564\n",
      "  4.11219512  3.74891775  4.02564103  3.88135593  3.54545455  4.3028169\n",
      "  3.63333333  3.95726496  3.47457627  3.62318841  4.12        3.78205128\n",
      "  3.5         4.44897959  4.13815789  4.25415282  3.3877551   3.83157895\n",
      "  3.12307692  3.16455696  3.68571429  3.56666667  3.60199005  3.84320557\n",
      "  3.875       3.07608696  4.02797203  4.13286713  3.76811594  3.62962963\n",
      "  3.37549407  4.06666667  4.02970297  4.10218978  4.08178439  3.53020134\n",
      "  3.30434783  3.98477157  4.12280702  3.29347826  4.45977011  3.37068966\n",
      "  3.56470588  3.35576923  3.93103448  3.61688312  3.70909091  4.22834646\n",
      "  3.48863636  3.33928571  4.17808219  4.08        4.16019417  3.61146497\n",
      "  3.56578947  3.82142857  3.97142857  4.06930693  2.93877551  3.48684211\n",
      "  3.69135802  3.78571429  3.59183673  3.89795918  3.8         4.00724638\n",
      "  3.78181818  3.63366337  3.66101695  4.02222222  3.76595745  3.71851852\n",
      "  3.47402597  3.23170732  3.17647059  4.21186441  3.6097561   3.80327869\n",
      "  3.77314815  4.40909091  3.88636364  4.07042254  4.02564103  2.98058252\n",
      "  3.38709677  4.08284024  4.04830918  4.125       3.07142857  3.75714286\n",
      "  3.52808989  3.64912281  4.53793103  3.41071429  3.85393258  3.61458333\n",
      "  3.71621622  3.95348837  4.          3.97201018  3.6433121   3.87058824\n",
      "  4.00925926  4.11666667  3.98425197  3.9244186   3.97540984  3.7375\n",
      "  3.96039604  3.93103448  3.30841121  4.19553073  3.58333333  4.32432432\n",
      "  4.12921348  4.02684564  3.72440945  3.82258065  3.97209302  4.10185185\n",
      "  3.85964912  3.39130435  3.76642336  3.59281437  3.90789474  3.46666667\n",
      "  3.1875      4.15714286  3.86486486  3.87878788  3.32142857  3.87793427\n",
      "  3.68292683  3.18518519  3.86075949  3.98305085  3.73015873  4.02362205\n",
      "  3.80882353  3.85820896  3.69827586  4.20289855  3.0862069   4.264       3.76\n",
      "  3.99744246  3.55232558  3.65517241  3.89839572  4.03550296  3.50909091\n",
      "  3.98876404  3.90350877  3.52380952  3.40277778  3.82758621  3.94690265\n",
      "  3.55731225  3.50769231  3.36893204  3.69230769  3.76344086  4.15384615\n",
      "  3.24503311  3.85294118  4.13333333  3.45588235  3.65625     2.85882353\n",
      "  3.49462366  3.9245283   4.1182266   3.95959596  3.93838863  3.91358025\n",
      "  4.35211268  3.38842975  4.05769231  3.63888889  3.9627907   4.24242424\n",
      "  4.04411765  3.40268456  4.140625    4.09166667  3.8974359   3.40594059\n",
      "  3.94230769  3.51282051  3.67567568  4.27160494  3.85        2.81967213\n",
      "  3.6039604   4.2254902   4.40650407  4.15384615  3.57333333  4.05555556\n",
      "  3.77777778  3.38461538  3.97515528  3.57142857  3.7443609   4.25842697\n",
      "  4.24615385  3.73350582  2.85849057  3.86875     4.18666667  3.91\n",
      "  3.81914894  3.69918699  3.86931818  2.9         3.90384615  3.61290323\n",
      "  3.7254902   3.18181818  3.8372093   4.0872093   4.23030303  4.10452962\n",
      "  3.4556962   3.06666667  2.95041322  3.7804878   4.25225225  3.96938776\n",
      "  4.3245614   3.73076923  3.90909091  3.53012048  4.01010101  4.15086207\n",
      "  3.97654584  4.1492109   3.70731707  4.28        3.76100629  4.2392638\n",
      "  3.51515152  4.39130435  3.78417266  4.01544402  3.84422111  3.86\n",
      "  4.02272727  3.65151515  4.00497512  3.6122449   4.03141361  4.\n",
      "  3.86666667  3.75555556  4.22175732  4.22972973  3.07692308  3.66875\n",
      "  4.17886179  3.80645161  3.73170732  4.01123596  3.21153846  3.88590604\n",
      "  3.79310345  4.13286713  3.73913043  3.74074074  3.83870968  3.7962963\n",
      "  3.99090909  3.66666667  3.91509434  3.99603175  3.92405063  3.88095238\n",
      "  3.5862069   3.475       3.48007968  3.73469388  3.90625     4.44444444\n",
      "  3.69230769  4.02836879  3.76666667  4.01420455  3.97350993  4.09677419\n",
      "  3.73469388  4.34146341  4.10625     2.80952381  3.9245283   4.10185185\n",
      "  3.421875    3.63114754  3.5049505   3.96153846  3.77391304  3.92413793\n",
      "  4.23913043  3.88439306  3.42196532  3.45454545  3.89473684  3.72727273\n",
      "  4.          3.73033708  3.84375     3.88235294  3.6875      3.96116505\n",
      "  3.85454545  3.75824176  3.55789474  3.43396226  3.97931034  3.83399209\n",
      "  4.27272727  3.52816901  3.9122807   3.59405941  3.7         3.56603774\n",
      "  4.05649718  3.97857143  4.5443038   3.56818182  3.975       4.34883721\n",
      "  4.27586207  3.61363636  4.02631579  3.91987179  3.75        3.816609\n",
      "  4.16878403  2.69565217  3.65546218  2.94852941  3.87628866  3.77272727\n",
      "  3.95555556  3.9         4.11061552  4.07692308  3.61290323  3.82894737\n",
      "  4.40816327  3.89893617  3.8         3.51923077  3.93014706  3.7\n",
      "  3.86290323  3.23404255  4.09756098  3.53205128  4.5         4.10384615\n",
      "  3.9         3.70967742  3.96        3.36065574  3.84768212  3.78846154\n",
      "  3.54545455  3.75925926  3.99324324  3.56692913  3.88549618  3.60416667\n",
      "  3.63333333  3.86046512  3.56923077  3.48888889  3.85833333  3.57553957\n",
      "  3.55952381  4.13432836  3.54723127  3.68217054  3.84803922  4.1637931\n",
      "  3.43        3.77192982  3.35294118  3.73417722  3.56382979  3.80681818\n",
      "  3.89189189  3.69230769  3.84644195  3.52941176  3.18181818  3.85555556\n",
      "  3.51764706  3.83333333  4.16216216  3.41395349  3.89150943  4.35816619\n",
      "  3.78095238  4.05932203  3.95541401  3.89855072  3.83333333  3.94628099\n",
      "  3.20512821  4.1589404   4.003003    4.13333333  3.83        4.15686275\n",
      "  3.92553191  3.94444444  3.73880597  3.35964912  4.2         4.15932203\n",
      "  4.00636943  3.27173913  3.13636364  3.84745763  4.46969697  3.96296296\n",
      "  3.26744186  3.8375      3.37383178  3.13380282  4.03508772  3.87407407\n",
      "  3.734375    3.89473684  3.76923077  3.64583333  3.67272727  3.71551724\n",
      "  3.87096774  3.87128713  3.32786885  3.93965517  3.73451327  3.88421053\n",
      "  3.47244094  3.40416667  3.50588235  4.08602151  3.51162791  3.81609195\n",
      "  4.          3.53333333  3.96453901  3.87356322  3.31818182  4.42990654\n",
      "  2.98717949  4.08387097  3.35755814  4.02702703  3.09615385  3.96808511\n",
      "  3.53773585  4.01369863  3.08988764  3.72413793  3.51685393  3.64227642\n",
      "  3.93375394  3.38181818  3.51020408  3.82142857  3.26086957  3.64227642\n",
      "  4.39790576  3.44086022  3.91891892  3.68141593  3.7027027   3.82857143\n",
      "  3.94736842  3.26923077  3.77342048  2.91836735  3.63157895  3.54022989\n",
      "  3.91735537  4.18881119  3.81967213  3.61797753  3.64957265  3.92670157\n",
      "  4.37265416  2.66666667  3.84946237  3.63865546  4.13475177  4.\n",
      "  4.20224719  3.72222222  3.66666667  3.92342342  3.54054054  3.94890511\n",
      "  4.07142857  3.89705882  3.86363636  4.          3.9673913   4.15261044\n",
      "  3.31481481  3.76811594  3.85314685  3.90410959  3.6133829   3.8372093\n",
      "  3.79411765  3.89473684  3.42307692  3.75        3.62162162  3.38709677\n",
      "  4.06617647  3.85714286  4.06319703  3.7393617   3.61038961  3.94573643\n",
      "  3.28070175  3.30864198  4.05434783  3.72222222  2.68539326  3.94666667\n",
      "  3.77477477  3.88135593  4.04477612  3.87769784  2.56923077  3.46728972\n",
      "  3.5625      4.10084034  3.59183673  3.83035714  4.10714286  3.25396825\n",
      "  3.85064935  3.73504274  4.53346856  3.80337079  3.39583333  3.91150442\n",
      "  3.6147541   3.67105263  3.2745098   3.72815534  3.70707071  3.98642534\n",
      "  4.05306122  4.10204082  3.69148936  3.53571429  3.94382022  2.94791667\n",
      "  4.20657277  3.13636364  3.50387597  4.21818182  3.30434783  3.79347826\n",
      "  3.10344828  3.47706422  3.96360153  4.15068493  3.31578947  3.98876404\n",
      "  4.          4.          4.10552764]\n"
     ]
    }
   ],
   "source": [
    "print mat.shape\n",
    "print avg_restaurant_rating"
   ]
  },
  {
   "cell_type": "markdown",
   "metadata": {},
   "source": [
    "# Create MSE #2 - My Adjusted Rating"
   ]
  },
  {
   "cell_type": "code",
   "execution_count": 13,
   "metadata": {
    "collapsed": false
   },
   "outputs": [
    {
     "data": {
      "text/plain": [
       "3"
      ]
     },
     "execution_count": 13,
     "metadata": {},
     "output_type": "execute_result"
    }
   ],
   "source": [
    "# This should be assigned to the master network but we need to iterate through different \n",
    "g.vertex_properties['components'] = b\n",
    "business = 'so-san-francisco-4'\n",
    "g.vertex_properties['components'][businesses_vertex[business]]"
   ]
  },
  {
   "cell_type": "code",
   "execution_count": 448,
   "metadata": {
    "collapsed": false
   },
   "outputs": [
    {
     "name": "stdout",
     "output_type": "stream",
     "text": [
      "/user_details?userid=v8cFU4eJKgVgGYCyovE3kQ pho-huynh-hiep-2-kevins-noodle-house-san-francisco\n",
      "9877\n",
      "9878\n"
     ]
    }
   ],
   "source": [
    "for user, bus, rating, cruisine in review_[0:500]:\n",
    "    print user, bus\n",
    "    break\n",
    "print users_vertex[user]\n",
    "print businesses_vertex[bus]"
   ]
  },
  {
   "cell_type": "code",
   "execution_count": 449,
   "metadata": {
    "collapsed": false
   },
   "outputs": [
    {
     "data": {
      "text/plain": [
       "4"
      ]
     },
     "execution_count": 449,
     "metadata": {},
     "output_type": "execute_result"
    }
   ],
   "source": [
    "g.edge_properties['rating'][g.edge(9877,9878)]"
   ]
  },
  {
   "cell_type": "code",
   "execution_count": 22,
   "metadata": {
    "collapsed": false
   },
   "outputs": [
    {
     "data": {
      "text/plain": [
       "<Vertex object with index '17001' at 0x1210137d0>"
      ]
     },
     "execution_count": 22,
     "metadata": {},
     "output_type": "execute_result"
    }
   ],
   "source": [
    "# g.vertex_properties['business_id'][27634]\n",
    "# g.edge(0, 27634)\n",
    "# for u in u.vertices():\n",
    "#     print u\n",
    "\n",
    "# bus_vertex"
   ]
  },
  {
   "cell_type": "markdown",
   "metadata": {},
   "source": [
    "### First need to prove that clustering communties gives better score"
   ]
  },
  {
   "cell_type": "code",
   "execution_count": 33,
   "metadata": {
    "collapsed": false
   },
   "outputs": [
    {
     "name": "stdout",
     "output_type": "stream",
     "text": [
      "7.06198347107\n"
     ]
    }
   ],
   "source": [
    "user_community_vertices = defaultdict()\n",
    "mat_community = np.zeros((num_users, num_businesses))\n",
    "for user, bus, rating, cruisine in review_[0:10]:\n",
    "    comm = g.vertex_properties['components'][users_vertex[user]]\n",
    "    if user not in user_community_vertices:\n",
    "        u = gt.GraphView(g, vfilt=lambda x: g.vertex_properties['components'][x] == comm and \n",
    "                                        len(g.vertex_properties['user_id'][x]) > 0)    \n",
    "        user_community_vertices[user] = u.vertices()\n",
    "    # need users vertex only which are in this community\n",
    "    # then find the respective user-bus for each eacher within the community\n",
    "    bus_vertex = businesses_vertex[bus]\n",
    "    rate = []\n",
    "    for i in user_community_vertices[user]:\n",
    "        try:\n",
    "#             print i, bus_vertex\n",
    "            rating = g.edge_properties['rating'][g.edge(i, bus_vertex)]\n",
    "            rate.append(rating)\n",
    "        except:\n",
    "            continue\n",
    "            \n",
    "    mat_community[users_dic[user], businesses_dic[bus]] = np.mean(rate)\n",
    "    \n",
    "mse2 = []       \n",
    "for i in xrange(num_businesses): \n",
    "    mask = mat[:,i] != 0\n",
    "    base_vector = mat[:,i][mask]\n",
    "    mask = mat_community[:,i] != 0\n",
    "    community_vector = mat_community[:,i][mask]\n",
    "    \n",
    "    mse = np.sum((base_vector - community_vector) ** 2)\n",
    "    mse2.append(mse)  \n",
    "mse2 = np.array(mse2)\n",
    "print np.mean(mse2[mse2!=0])"
   ]
  },
  {
   "cell_type": "code",
   "execution_count": 27,
   "metadata": {
    "collapsed": false
   },
   "outputs": [],
   "source": [
    "mse2 = np.array(mse2)\n",
    "# print np.mean(mse2[mse2!=0])"
   ]
  },
  {
   "cell_type": "code",
   "execution_count": 253,
   "metadata": {
    "collapsed": true
   },
   "outputs": [
    {
     "name": "stdout",
     "output_type": "stream",
     "text": [
      "1 0.610610227521\n",
      "2 0.610667588523\n",
      "3 0.631454855404\n",
      "4 0.584966009855\n",
      "5 0.599794770108\n",
      "6 0.613439552041\n",
      "7 0.599102937994\n",
      "8 0.636168013949\n",
      "9 0.616739514524\n",
      "10 0.637851104574\n",
      "11 0.617503718426\n",
      "12 0.602621928833\n",
      "13 0.609501366865\n",
      "14 0.607917903384\n",
      "15 0.603794501119\n",
      "16 0.599327990141\n",
      "17 0.617586485597\n",
      "18 0.613786294741\n",
      "19 0.559284737924\n",
      "20 0.646784891017\n",
      "21 0.62959975489\n",
      "22 0.629650202662\n",
      "23 0.610405294438\n",
      "24 0.588102069123\n",
      "25 0.636791804322\n",
      "26 0.615028675477\n",
      "27 0.632997936914\n",
      "28 0.603000823535\n",
      "29 0.646565160209\n",
      "30 0.619165004105\n",
      "31 0.590454530635\n",
      "32 0.639975241335\n",
      "33 0.585435659448\n",
      "34 0.624683415676\n",
      "35 0.628673448036\n",
      "36 0.622957504034\n",
      "37 0.602532757312\n",
      "38 0.591893887384\n",
      "39 0.595874100492\n",
      "40 0.602986131207\n",
      "41 0.556601381606\n",
      "42 0.632938690974\n",
      "43 0.616611158684\n",
      "44 0.610385735504\n",
      "45 0.640257513972\n",
      "46 0.642377114121\n",
      "47 0.658025869686\n",
      "48 0.617434800822\n",
      "49 0.665204832577\n",
      "50 0.66454435361\n",
      "51 0.650885276355\n",
      "52 0.668324961054\n",
      "53 0.613940986898\n",
      "54 0.599528527019\n",
      "55 0.612215598023\n",
      "56 0.689091469615\n",
      "57 0.633047712431\n",
      "58 0.696701849626\n",
      "59 0.652663631335\n",
      "60 0.642220442688\n",
      "61 0.644705602958\n",
      "62 0.693127968998\n",
      "63 0.618930959734\n",
      "64 0.629821873212\n",
      "65 0.609873600809\n",
      "66 0.619487782365\n",
      "67 0.646668499426\n",
      "68 0.662969772727\n",
      "69 0.660947886907\n",
      "70 0.668059047312\n",
      "71 0.681821109435\n",
      "72 0.602785864163\n",
      "73 0.643805197272\n",
      "74 0.674075638006\n",
      "75 0.62887739205\n",
      "76 0.606654327155\n",
      "77 0.682013001443\n",
      "78 0.649731897378\n",
      "79 0.713361875075\n",
      "80 0.676530470927\n",
      "81 0.664747317347\n",
      "82 0.65682838714\n",
      "83 0.617486514878\n",
      "84 0.707468938771\n",
      "85 0.715205358855\n",
      "86 0.644160831288\n",
      "87 0.675998958965\n",
      "88 0.651481988384\n",
      "89 0.670203857446\n",
      "90 0.605089035737\n",
      "91 0.72061340762\n",
      "92 0.670401465066\n",
      "93 0.704946391686\n",
      "94 0.669411764794\n",
      "95 0.708258232935\n",
      "96 0.317760461232\n",
      "97 0.317734074365\n",
      "98 0.312714613188\n",
      "99 0.313500032243\n",
      "100 0.317761508325\n",
      "101 0.313331094599\n",
      "102 0.315559988656\n",
      "103 0.314259652306\n",
      "104 0.319420793777\n",
      "105 0.318908073138\n",
      "106 0.314773926534\n",
      "107 0.315187121067\n",
      "108 0.316421562618\n",
      "109 0.319550110377\n",
      "110 0.314631260685\n",
      "111 0.313442938918\n",
      "112 0.311044824018\n",
      "113 0.316662926786\n",
      "114 0.315290778161\n",
      "115 0.320281131021\n",
      "116 0.315921734871\n",
      "117 0.31478010131\n",
      "118 0.317810565659\n",
      "119 0.318473732019\n",
      "120 0.314883243141\n",
      "121 0.315839076472\n",
      "122 0.317022463968\n",
      "123 0.317013996783\n",
      "124 0.316870713212\n",
      "125 0.31709196762\n",
      "126 0.319688673113\n",
      "127 0.314924788977\n",
      "128 0.323878423004\n",
      "129 0.31302006693\n",
      "130 0.315645523515\n",
      "131 0.316032053169\n",
      "132 0.312996041755\n",
      "133 0.31883200085\n",
      "134 0.317944889519\n",
      "135 0.316775725833\n",
      "136 0.315029455227\n",
      "137 0.316123180652\n",
      "138 0.317228765457\n",
      "139 0.319135163542\n",
      "140 0.312926743714\n",
      "141 0.316360982668\n",
      "142 0.317433019892\n",
      "143 0.313269641887\n",
      "144 0.311602698755\n",
      "145 0.320948287372\n",
      "146 0.321221415363\n",
      "147 0.314633394943\n",
      "148 0.31802275047\n",
      "149 0.31735162856\n",
      "150 0.311049919745\n",
      "151 0.320964350217\n",
      "152 0.311804881314\n",
      "153 0.312320737372\n",
      "154 0.315724475496\n",
      "155 0.321102332499\n",
      "156 0.311650181159\n",
      "157 0.316129308527\n",
      "158 0.317470947166\n",
      "159 0.320755444564\n",
      "160 0.311413748586\n",
      "161 0.313015498349\n",
      "162 0.315739765225\n",
      "163 0.315591784228\n",
      "164 0.315714024673\n",
      "165 0.320328116512\n",
      "166 0.319124643299\n",
      "167 0.316561853541\n",
      "168 0.315430095906\n",
      "169 0.619406334315\n",
      "170 0.587580785036\n",
      "171 0.639011955636\n",
      "172 0.655122919287\n",
      "173 0.621815550976\n",
      "174 0.62647812364\n",
      "175 0.633550275103\n",
      "176 0.642546438352\n",
      "177 0.639968149269\n",
      "178 0.645264892435\n",
      "179 0.663856638481\n",
      "180 0.63421725981\n",
      "181 0.626609557194\n",
      "182 0.619490818102\n",
      "183 0.614621638621\n",
      "184 0.687136066632\n",
      "185 0.631666198241\n",
      "186 0.620154743978\n",
      "187 0.678624435635\n",
      "188 0.627525158724\n",
      "189 0.605503981652\n",
      "190 0.621567464116\n",
      "191 0.604981577274\n",
      "192 0.635700494258\n",
      "193 0.628690965649\n",
      "194 0.628013480772\n",
      "195 0.618218055802\n",
      "196 0.690009179079\n",
      "197 0.611493044597\n",
      "198 0.628622433601\n",
      "199 0.670454858589\n",
      "200 0.647209444299\n",
      "201 0.621280665613\n",
      "202 0.606524446831\n",
      "203 0.645453415884\n",
      "204 0.650406751768\n",
      "205 0.627012340842\n",
      "206 0.64207269442\n",
      "207 0.628861871239\n",
      "208 0.626265969428\n",
      "209 0.643829305344\n",
      "210 0.625051867951\n",
      "211 0.683550096309\n",
      "212 0.607036023483\n",
      "213 0.612525294652\n",
      "214 0.662131229499\n",
      "215 0.645193169805\n",
      "216 0.634836146422\n",
      "217 0.659539635675\n",
      "218 0.65879190892\n",
      "219 0.62339085899\n",
      "220 0.61725101105\n",
      "221 0.645513630495\n",
      "222 0.601276082803\n",
      "223 0.658688194456\n",
      "224 0.645662161416\n",
      "225 0.633612729907\n",
      "226 0.624078765175\n",
      "227 0.640651971142\n",
      "228 0.597273231894\n",
      "229 0.600113187079\n",
      "230 0.658689725645\n",
      "231 0.624982818406\n",
      "232 0.615417784811\n",
      "233 0.635964366139\n",
      "234 0.626492058068\n",
      "235 0.624090611347\n",
      "236 0.574773598257\n",
      "237 0.598387659169\n",
      "238 0.61465558729\n",
      "239 0.691668794774\n",
      "240 0.658512012648\n",
      "241 0.637649349367\n",
      "242 0.649130153672\n",
      "243 0.628776769512\n",
      "244 0.640640107965\n",
      "245 0.62386176921\n",
      "246 0.641811300277\n",
      "247 0.640024708192\n",
      "248 0.634947257391\n",
      "249 0.616226158755\n",
      "250 0.655521892727\n",
      "251 0.62784356487\n",
      "252 0.638450557232\n",
      "253 0.633298545981\n",
      "254 0.673863660367\n",
      "255 0.667612711319\n",
      "256 0.637170609481\n",
      "257 0.633971382765\n",
      "258 0.600360714659\n",
      "259 0.665521820938\n",
      "260 0.635013082016\n",
      "261 0.634204945051\n",
      "262 0.636767543012\n",
      "263 0.648602745702\n",
      "264 0.610076152014\n",
      "265 0.611139105578\n",
      "266 0.632819722945\n",
      "267 0.645937103157\n",
      "268 0.598919282116\n",
      "269 0.627954559216\n",
      "270 0.599111965279\n",
      "271 0.591097609577\n",
      "272 0.635639002982\n",
      "273 0.600520033522\n",
      "274 0.602934451026\n",
      "275 0.613051534696\n",
      "276 0.597749937534\n",
      "277 0.627542762022\n",
      "278 0.620131711896\n",
      "279 0.605346273303\n",
      "280 0.61703846048\n",
      "281 0.574558920401\n",
      "282 0.600887323662\n",
      "283 0.620667319824\n",
      "284 0.617420462617\n",
      "285 0.595846789696\n",
      "286 0.622730944627\n",
      "287 0.639131975129\n",
      "288 0.626146222932\n",
      "289 0.626462341277\n",
      "290 0.617698979777\n",
      "291 0.580329433921\n",
      "292 0.586715377487\n",
      "293 0.563667645157\n",
      "294 0.641018460722\n",
      "295 0.616715130196\n",
      "296 0.594933110255\n",
      "297 0.609225297669\n",
      "298 0.64251756532\n",
      "299 0.608196945471\n",
      "300 0.557574556977\n",
      "301 0.613551048079\n",
      "302 0.635240932637\n",
      "303 0.591841135529\n",
      "304 0.581535247581\n",
      "305 0.62636277372\n",
      "306 0.661769168847\n",
      "307 0.739629215952\n",
      "308 0.653630661411\n",
      "309 0.615742726418\n",
      "310 0.630869889314\n",
      "311 0.656865031309\n",
      "312 0.649157643195\n",
      "313 0.678772139277\n",
      "314 0.640618956325\n",
      "315 0.690278326602\n",
      "316 0.650058314597\n",
      "317 0.667810179175\n",
      "318 0.6296224572\n",
      "319 0.673642430715\n",
      "320 0.652098092354\n",
      "321 0.650843917822\n",
      "322 0.658217361588\n",
      "323 0.671397497189\n",
      "324 0.632766917229\n",
      "325 0.68272190642\n",
      "326 0.670091022152\n",
      "327 0.660475020391\n",
      "328 0.660707728866\n",
      "329 0.655199866971\n",
      "330 0.656549886708\n",
      "331 0.612760312154\n",
      "332 0.611905269597\n",
      "333 0.634311294338\n",
      "334 0.651890272687\n",
      "335 0.643202939043\n",
      "336 0.65372813491\n",
      "337 0.621651401377\n",
      "338 0.63213793524\n",
      "339 0.643090662899\n",
      "340 0.648978857505\n",
      "341 0.658102441337\n",
      "342 0.59317514601\n",
      "343 0.604278926349\n",
      "344 0.649649566816\n",
      "345 0.596524685172\n",
      "346 0.599052270714\n",
      "347 0.631309286518\n",
      "348 0.625770141375\n",
      "349 0.608813694545\n",
      "350 0.619133094255\n",
      "351 0.619601652254\n",
      "352 0.629429242699\n",
      "353 0.638883793846\n",
      "354 0.658220714549\n",
      "355 0.648488801565\n",
      "356 0.628812225504\n",
      "357 0.642279498152\n",
      "358 0.669802395663\n",
      "359 0.675812762521\n",
      "360 0.572314778195\n",
      "361 0.642427364755\n",
      "362 0.621171910581\n",
      "363 0.641176227337\n",
      "364 0.582148341156\n",
      "365 0.614850618216\n",
      "366 0.66193707118\n",
      "367 0.622455713808\n",
      "368 0.588265826594\n",
      "369 0.613393842699\n",
      "370 0.654361438788\n",
      "371 0.633003196828\n",
      "372 0.644734250443\n",
      "373 0.620590165969\n",
      "374 0.64113266597\n",
      "375 0.611976443413\n",
      "376 0.634526183393\n",
      "377 0.652127435925\n",
      "378 0.643684759643\n",
      "379 0.590220958365\n",
      "380 0.661407487585\n",
      "381 0.600608580832\n",
      "382 0.635263163552\n",
      "383 0.574566621766\n",
      "384 0.601790001853\n",
      "385 0.630039426282\n",
      "386 0.613071175541\n",
      "387 0.669376915228\n",
      "388 0.66991199381\n",
      "389 0.642067639875\n",
      "390 0.641111111111\n",
      "391 0.652840463742\n",
      "392 0.632889960552\n",
      "393 0.577274609943\n",
      "394 0.646328791619\n",
      "395 0.663079022002\n",
      "396 0.597496610359\n",
      "397 0.631656682379\n",
      "398 0.626386585399\n",
      "399 0.60143491566\n",
      "400 0.650077211706\n",
      "401 0.608003770468\n",
      "402 0.614028301162\n",
      "403 0.382615267657\n",
      "404 0.374447900253\n",
      "405 0.377368698572\n",
      "406 0.382670175309\n",
      "407 0.379473576903\n",
      "408 0.381018973743\n",
      "409 0.382355033\n",
      "410 0.379058494124\n",
      "411 0.37878867761\n",
      "412 0.381407413111\n",
      "413 0.375985247632\n",
      "414 0.379711505601\n",
      "415 0.37661446699\n",
      "416 0.381135822941\n",
      "417 0.378792539073\n",
      "418 0.377986549448\n",
      "419 0.38060751259\n",
      "420 0.375579478768\n",
      "421 0.377974000256\n",
      "422 0.376933065435\n",
      "423 0.378172855915\n",
      "424 0.380754213903\n",
      "425 0.376247876947\n",
      "426 0.378181289293\n",
      "427 0.378741536857\n",
      "428 0.379137196951\n",
      "429 0.373944409986\n",
      "430 0.379511726246\n",
      "431 0.373736988261\n",
      "432 0.377050688217\n",
      "433 0.375492782057\n",
      "434 0.379106152887\n",
      "435 0.37630684248\n",
      "436 0.385095491915\n",
      "437 0.378907914006\n",
      "438 0.376763154827\n",
      "439 0.37945223072\n",
      "440 0.375640339113\n",
      "441 0.37616147376\n",
      "442 0.376966089196\n",
      "443 0.376983120243\n",
      "444 0.382598661239\n",
      "445 0.383467240925\n",
      "446 0.379186689228\n",
      "447 0.377216646522\n",
      "448 0.379863160674\n",
      "449 0.505015892048\n",
      "450 0.501481168765\n",
      "451 0.505965870625\n",
      "452 0.48748321948\n",
      "453 0.508488865739\n",
      "454 0.499175716961\n",
      "455 0.500899500616\n",
      "456 0.489277029128\n",
      "457 0.505059768892\n",
      "458 0.482393256774\n",
      "459 0.504470922608\n",
      "460 0.494068292006\n",
      "461 0.499567585454\n",
      "462 0.51480172274\n",
      "463 0.524101723246\n",
      "464 0.50422727994\n",
      "465 0.515808693523\n",
      "466 0.485088241298\n",
      "467 0.496293709225\n",
      "468 0.498493030503\n",
      "469 0.498733537519\n",
      "470 0.50301801608\n",
      "471 0.493679007502\n",
      "472 0.525918966989\n",
      "473 0.496707786992\n",
      "474 0.518541286338\n",
      "475 0.478046726137\n",
      "476 0.494344935228\n",
      "477 0.515856182448\n",
      "478 0.505931948611\n",
      "479 0.512041964285\n",
      "480 0.489988477118\n",
      "481 0.507991788944\n",
      "482 0.508592548641\n",
      "483 0.494708145665\n",
      "484 0.495790857912\n",
      "485 0.498039610795\n",
      "486 0.464697215371\n",
      "487 0.492919751523\n",
      "488 0.507143091197\n",
      "489 0.501641966228\n",
      "490 0.497395611971\n",
      "491 0.314802290888\n",
      "492 0.313421266533\n",
      "493 0.316802826057\n",
      "494 0.311177213495\n",
      "495 0.316327712784\n",
      "496 0.317479486866\n",
      "497 0.318568032209\n",
      "498 0.319810983848\n",
      "499 0.316669499422\n",
      "500 0.312563096259\n"
     ]
    }
   ],
   "source": [
    "# multipy each weight by the user rating\n",
    "mat_weights = np.zeros((num_users, num_businesses))\n",
    "# Create user-business weights ONLY where we have reviews\n",
    "count = 0\n",
    "for user, bus, rating, cruisine in review_[0:500]:\n",
    "    count +=1\n",
    "    # Compute the weight for every review\n",
    "    weight = rescale_value(compute_modularity(user, bus))\n",
    "    mat_weights[users_dic[user], businesses_dic[bus]] = weight\n",
    "    print count, weight\n"
   ]
  },
  {
   "cell_type": "code",
   "execution_count": 257,
   "metadata": {
    "collapsed": false
   },
   "outputs": [
    {
     "name": "stdout",
     "output_type": "stream",
     "text": [
      "0.155106842093\n"
     ]
    }
   ],
   "source": [
    "# Can move this up to mse1 function to compute together!\n",
    "mse2 = []\n",
    "for i in xrange(num_businesses): \n",
    "    mask = mat[:,i] != 0\n",
    "    base_vector = mat[:,i][mask]\n",
    "    mask = mat_weights[:,i] != 0\n",
    "    weights_vector = mat_weights[:,i][mask]\n",
    "    total_weight = np.sum(weights_vector)\n",
    "    # multiply the original matrix by our weights matrix and divide by the sum of weights per restaurant\n",
    "    temp = (base_vector * weights_vector) / total_weight\n",
    "    #     temp = (mat * mat_weights) / mat_weights.sum(axis=0)\n",
    "    # Rescale the matrix rating to 1-5 after re-weighting\n",
    "#     mat_scaled = np.apply_along_axis(rescale, 0, temp)\n",
    "    if np.any(temp):\n",
    "        model_vector = rescale_column(temp)\n",
    "    else:\n",
    "        model_vector = temp\n",
    "    mse = np.sum((base_vector - model_vector) ** 2)\n",
    "    mse2.append(mse)\n",
    "\n",
    "    \n",
    "# Take squared difference of original matrix and my scaled matrix, then average by restaurant\n",
    "# temp = np.mean((mat - mat_scaled) **2, axis=0)\n",
    "# Finally, take the average mean square error across all restaurants\n",
    "# ms2 = np.mean(temp)\n",
    "print np.mean(mse2)\n",
    "\n",
    "# How do the 2 MSE compare? Have we improved recommended rating of a restaurant of any new reviewer?\n",
    "# Compare models: the better model will have a large difference between the 2 MSEs with my MSE being lower since the\n",
    "# standard MSE will never change. \n",
    "# Then we could predict reviews for a newcomer to a particular restaurant based on their relationship to communities. "
   ]
  },
  {
   "cell_type": "code",
   "execution_count": 225,
   "metadata": {
    "collapsed": false
   },
   "outputs": [
    {
     "data": {
      "text/plain": [
       "100"
      ]
     },
     "execution_count": 225,
     "metadata": {},
     "output_type": "execute_result"
    }
   ],
   "source": [
    "np.sum(mat!=0)"
   ]
  },
  {
   "cell_type": "code",
   "execution_count": 210,
   "metadata": {
    "collapsed": false
   },
   "outputs": [
    {
     "name": "stdout",
     "output_type": "stream",
     "text": [
      "(0, 802)\n",
      "(0, 802)\n"
     ]
    }
   ],
   "source": [
    "print mat[mat[:,0]!=0].shape\n",
    "print mat_weights[mat_weights[:,0]!=0].shape"
   ]
  },
  {
   "cell_type": "code",
   "execution_count": 197,
   "metadata": {
    "collapsed": false
   },
   "outputs": [
    {
     "data": {
      "text/plain": [
       "3"
      ]
     },
     "execution_count": 197,
     "metadata": {},
     "output_type": "execute_result"
    }
   ],
   "source": [
    "np.sum((mat_weights.sum(axis=0))!=0)"
   ]
  },
  {
   "cell_type": "code",
   "execution_count": 164,
   "metadata": {
    "collapsed": true
   },
   "outputs": [],
   "source": [
    "def gather_user_verticies(user):\n",
    "    # Gather up all verticies related to this restaurant \n",
    "    # The first vertex is the restaurant itself\n",
    "#     vertex_list = [businesses_vertex[business]] \n",
    "    # Append all users of this business[business]\n",
    "#     users = dict_all_users_of_a_business[business]\n",
    "    # Append all businesses of each user of this business\n",
    "    vertex_list = [users_vertex[user]]\n",
    "#     for user in users:\n",
    "#     vertex_list.append(users[user])\n",
    "    businesses = dict_all_businesses_of_a_user[user]\n",
    "    for business in businesses:\n",
    "        vertex_list.append(businesses_vertex[business])\n",
    "    return vertex_list"
   ]
  },
  {
   "cell_type": "code",
   "execution_count": 139,
   "metadata": {
    "collapsed": false
   },
   "outputs": [
    {
     "name": "stdout",
     "output_type": "stream",
     "text": [
      "sauce-san-francisco\n",
      "playground-san-francisco\n",
      "seniores-pizza-san-francisco\n",
      "yojimbo-alameda\n",
      "little-star-pizza-san-francisco\n",
      "san-tung-chinese-restaurant-san-francisco\n",
      "yoshis-oakland-oakland\n",
      "pho-huynh-hiep-2-kevins-noodle-house-san-francisco\n",
      "fentons-creamery-oakland-2\n",
      "shooting-star-cafe-oakland\n",
      "kowloon-tong-dessert-cafe-san-francisco\n",
      "geta-oakland\n",
      "volcano-san-francisco\n",
      "champa-garden-oakland\n",
      "el-farolito-san-francisco-2\n",
      "hang-ten-boiler-alameda\n",
      "homeroom-oakland\n",
      "ohgane-korean-restaurant-oakland\n",
      "sushirrito-san-francisco-4\n",
      "\n",
      "sauce-san-francisco\n",
      "20\n"
     ]
    }
   ],
   "source": [
    "user_vertex_list = gather_user_verticies(\"/user_details?userid=vkcbILTGGd1ejg5xSmAHeQ\")\n",
    "print '\\n', g.vertex_properties['business_id'][7796]\n",
    "print len(user_vertex_list)"
   ]
  },
  {
   "cell_type": "code",
   "execution_count": 149,
   "metadata": {
    "collapsed": false
   },
   "outputs": [],
   "source": [
    "u = gt.GraphView(g, vfilt=lambda x: g.vertex_properties['components'][x] == 9 or x in user_vertex_list)  #   "
   ]
  },
  {
   "cell_type": "code",
   "execution_count": 156,
   "metadata": {
    "collapsed": false
   },
   "outputs": [
    {
     "data": {
      "text/plain": [
       "9"
      ]
     },
     "execution_count": 156,
     "metadata": {},
     "output_type": "execute_result"
    }
   ],
   "source": [
    "for i in list(u.vertices()):\n",
    "    print u.vertex_properties['components'][i]"
   ]
  },
  {
   "cell_type": "code",
   "execution_count": null,
   "metadata": {
    "collapsed": true
   },
   "outputs": [],
   "source": []
  },
  {
   "cell_type": "code",
   "execution_count": 165,
   "metadata": {
    "collapsed": false
   },
   "outputs": [],
   "source": [
    "def compute_modularity(user, bus):\n",
    "    # Create filtered network including only the cluster which restaurant belongs and the restaurant's network\n",
    "    # User provides a business and I take my master network and filter based on the community which the restaurant \n",
    "    # belongs to AND on the user-business network.\n",
    "    group = g.vertex_properties['components'][businesses_vertex[bus]]\n",
    "    user_vertex_list = gather_user_verticies(user)\n",
    "    u = gt.GraphView(g, vfilt=lambda x: g.vertex_properties['components'][x] == group or\n",
    "                                        x in user_vertex_list)\n",
    "    state = gt.minimize_blockmodel_dl(u, eweight= u.edge_properties['rating'])\n",
    "    b = state.b\n",
    "    modularity = gt.modularity(u, b)\n",
    "    return modularity"
   ]
  },
  {
   "cell_type": "code",
   "execution_count": 168,
   "metadata": {
    "collapsed": false
   },
   "outputs": [
    {
     "name": "stdout",
     "output_type": "stream",
     "text": [
      "0.228655835946\n",
      "0.599430748436\n"
     ]
    }
   ],
   "source": [
    "print compute_modularity(\"/user_details?userid=vkcbILTGGd1ejg5xSmAHeQ\", \"sauce-san-francisco\")\n",
    "print compute_modularity(\"/user_details?userid=vkcbILTGGd1ejg5xSmAHeQ\", \"kowloon-tong-dessert-cafe-san-francisco\")"
   ]
  },
  {
   "cell_type": "code",
   "execution_count": null,
   "metadata": {
    "collapsed": true
   },
   "outputs": [],
   "source": [
    "# compute the weighted average"
   ]
  },
  {
   "cell_type": "code",
   "execution_count": 57,
   "metadata": {
    "collapsed": false
   },
   "outputs": [
    {
     "data": {
      "text/plain": [
       "array([[2, 0, 2, 2],\n",
       "       [1, 2, 1, 0],\n",
       "       [1, 1, 2, 0]])"
      ]
     },
     "execution_count": 57,
     "metadata": {},
     "output_type": "execute_result"
    }
   ],
   "source": [
    "a = np.array([[2,0,2,2], [1,2,1,0], [1,1,2,0]])\n",
    "b = np.array([[0.5,0.5,0.5,0.5],[0.5,0.5,0.5,0.5],[0.5,0.5,0.5,0.5]])\n",
    "a"
   ]
  },
  {
   "cell_type": "code",
   "execution_count": 59,
   "metadata": {
    "collapsed": false
   },
   "outputs": [
    {
     "data": {
      "text/plain": [
       "array([[ 2.25,  0.25,  2.25,  2.25],\n",
       "       [ 0.25,  2.25,  0.25,  0.25],\n",
       "       [ 0.25,  0.25,  2.25,  0.25]])"
      ]
     },
     "execution_count": 59,
     "metadata": {},
     "output_type": "execute_result"
    }
   ],
   "source": [
    "(a - b) **2"
   ]
  },
  {
   "cell_type": "code",
   "execution_count": 55,
   "metadata": {
    "collapsed": false
   },
   "outputs": [
    {
     "data": {
      "text/plain": [
       "array([[ 5.,  5.,  5.,  5.],\n",
       "       [ 1.,  5.,  1.,  1.],\n",
       "       [ 1.,  1.,  5.,  1.]])"
      ]
     },
     "execution_count": 55,
     "metadata": {},
     "output_type": "execute_result"
    }
   ],
   "source": [
    "scaled = (a * b) / b.sum(axis=0)\n",
    "np.apply_along_axis(rescale, 0, scaled)"
   ]
  },
  {
   "cell_type": "code",
   "execution_count": 183,
   "metadata": {
    "collapsed": false
   },
   "outputs": [],
   "source": [
    "def rescale_column(column):\n",
    "    OldMax = np.max(column)\n",
    "    OldMin = np.min(column)\n",
    "    NewMax = 5.0\n",
    "    NewMin = 1.0\n",
    "    OldRange = (OldMax - OldMin)  \n",
    "    NewRange = (NewMax - NewMin)\n",
    "    NewValues = map(lambda x: (((x - OldMin) * NewRange) / OldRange) + NewMin, column)\n",
    "    return NewValues\n",
    "def rescale_value(value):\n",
    "    OldMax = 1.0\n",
    "    OldMin = -1.0\n",
    "    NewMax = 1.0\n",
    "    NewMin = 0.0\n",
    "    OldRange = (OldMax - OldMin)  \n",
    "    NewRange = (NewMax - NewMin)\n",
    "    NewValue = (((value - OldMin) * NewRange) / OldRange) + NewMin\n",
    "    return NewValue"
   ]
  },
  {
   "cell_type": "code",
   "execution_count": 52,
   "metadata": {
    "collapsed": false
   },
   "outputs": [
    {
     "name": "stdout",
     "output_type": "stream",
     "text": [
      "0.33333333 4.0 0.33333334 1.0\n",
      "[0.33333333, 0.66666667, 0.33333333, 0.33333333]\n"
     ]
    },
    {
     "data": {
      "text/plain": [
       "[1.0, 5.0, 1.0, 1.0]"
      ]
     },
     "execution_count": 52,
     "metadata": {},
     "output_type": "execute_result"
    }
   ],
   "source": [
    "rescale([ 0.33333333,  0.66666667,  0.33333333,  0.33333333])"
   ]
  },
  {
   "cell_type": "code",
   "execution_count": 24,
   "metadata": {
    "collapsed": false
   },
   "outputs": [
    {
     "data": {
      "text/plain": [
       "0.33333332999999998"
      ]
     },
     "execution_count": 24,
     "metadata": {},
     "output_type": "execute_result"
    }
   ],
   "source": [
    "np.max(np.array([ 0.33333333,  0.33333333,  0.33333333,  0.33333333]))"
   ]
  },
  {
   "cell_type": "code",
   "execution_count": null,
   "metadata": {
    "collapsed": true
   },
   "outputs": [],
   "source": [
    "map(lambda x: (((x - OldMin) * NewRange) / OldRange) + NewMin, column)"
   ]
  },
  {
   "cell_type": "code",
   "execution_count": 40,
   "metadata": {
    "collapsed": false
   },
   "outputs": [
    {
     "data": {
      "text/plain": [
       "array([ 0.,  0.,  0.])"
      ]
     },
     "execution_count": 40,
     "metadata": {},
     "output_type": "execute_result"
    }
   ],
   "source": [
    "a = np.zeros(3)\n",
    "a"
   ]
  },
  {
   "cell_type": "code",
   "execution_count": 43,
   "metadata": {
    "collapsed": false
   },
   "outputs": [],
   "source": [
    "a[0] = np.mean([])\n",
    "a[2] = 5"
   ]
  },
  {
   "cell_type": "code",
   "execution_count": 57,
   "metadata": {
    "collapsed": false
   },
   "outputs": [],
   "source": [
    "a = []"
   ]
  },
  {
   "cell_type": "code",
   "execution_count": 58,
   "metadata": {
    "collapsed": false
   },
   "outputs": [],
   "source": [
    "for i in []:\n",
    "    a.append(i)"
   ]
  },
  {
   "cell_type": "code",
   "execution_count": 60,
   "metadata": {
    "collapsed": false
   },
   "outputs": [],
   "source": [
    "def foo(a):\n",
    "    print a +1"
   ]
  },
  {
   "cell_type": "code",
   "execution_count": 66,
   "metadata": {
    "collapsed": false
   },
   "outputs": [],
   "source": [
    "pool = multiprocessing.Pool(10)"
   ]
  },
  {
   "cell_type": "code",
   "execution_count": null,
   "metadata": {
    "collapsed": true
   },
   "outputs": [],
   "source": [
    "pool.map(city_search_parallel, cities)"
   ]
  },
  {
   "cell_type": "code",
   "execution_count": 68,
   "metadata": {
    "collapsed": false
   },
   "outputs": [
    {
     "data": {
      "text/plain": [
       "[(0, 'a'), (1, 'a'), (1, 'a')]"
      ]
     },
     "execution_count": 68,
     "metadata": {},
     "output_type": "execute_result"
    }
   ],
   "source": [
    "zip((0,1,1),('a','a','a'))"
   ]
  },
  {
   "cell_type": "code",
   "execution_count": 69,
   "metadata": {
    "collapsed": true
   },
   "outputs": [],
   "source": [
    "from igraph import *"
   ]
  },
  {
   "cell_type": "code",
   "execution_count": 271,
   "metadata": {
    "collapsed": true
   },
   "outputs": [],
   "source": [
    "g = Graph()"
   ]
  },
  {
   "cell_type": "code",
   "execution_count": 272,
   "metadata": {
    "collapsed": true
   },
   "outputs": [],
   "source": [
    "g.add_vertices(3)\n",
    "g.add_edges([(0,1), (1,2)])"
   ]
  },
  {
   "cell_type": "code",
   "execution_count": 273,
   "metadata": {
    "collapsed": false
   },
   "outputs": [
    {
     "data": {
      "text/plain": [
       "[(0, 1), (1, 2)]"
      ]
     },
     "execution_count": 273,
     "metadata": {},
     "output_type": "execute_result"
    }
   ],
   "source": [
    "g.get_edgelist()"
   ]
  },
  {
   "cell_type": "code",
   "execution_count": 78,
   "metadata": {
    "collapsed": false
   },
   "outputs": [
    {
     "data": {
      "text/plain": [
       "'IGRAPH U--- 3 2 -- '"
      ]
     },
     "execution_count": 78,
     "metadata": {},
     "output_type": "execute_result"
    }
   ],
   "source": [
    "g.summary()"
   ]
  },
  {
   "cell_type": "code",
   "execution_count": 85,
   "metadata": {
    "collapsed": false
   },
   "outputs": [],
   "source": [
    "g.vs[\"name\"] = [\"Alice\", \"Bob\", \"Claire\", \"Dennis\", \"Esther\", \"Frank\", \"George\"]\n",
    ">>> g.vs[\"age\"] = [25, 31, 18, 47, 22, 23, 50]\n",
    ">>> g.vs[\"gender\"] = [\"f\", \"m\", \"f\", \"m\", \"f\", \"m\", \"m\"]\n",
    ">>> g.es[\"is_formal\"] = [False, False, True, True, True, False, True, False, False]"
   ]
  },
  {
   "cell_type": "code",
   "execution_count": 94,
   "metadata": {
    "collapsed": false
   },
   "outputs": [
    {
     "data": {
      "text/plain": [
       "['gender', 'age', 'name']"
      ]
     },
     "execution_count": 94,
     "metadata": {},
     "output_type": "execute_result"
    }
   ],
   "source": [
    "g.vs.attributes()"
   ]
  },
  {
   "cell_type": "code",
   "execution_count": 100,
   "metadata": {
    "collapsed": false
   },
   "outputs": [
    {
     "name": "stdout",
     "output_type": "stream",
     "text": [
      "['is_formal']\n",
      "['gender', 'age', 'name']\n"
     ]
    }
   ],
   "source": [
    "g.get_eid(0,1)\n",
    "print g.edge_attributes()\n",
    "print g.vertex_attributes()"
   ]
  },
  {
   "cell_type": "code",
   "execution_count": 102,
   "metadata": {
    "collapsed": false
   },
   "outputs": [
    {
     "data": {
      "text/plain": [
       "igraph.Vertex(<igraph.Graph object at 0x11bce1af8>,0,{'gender': 'f', 'age': 25, 'name': 'Alice'})"
      ]
     },
     "execution_count": 102,
     "metadata": {},
     "output_type": "execute_result"
    }
   ],
   "source": [
    "g.vs[0]\n",
    "g.vs[0]"
   ]
  },
  {
   "cell_type": "code",
   "execution_count": 104,
   "metadata": {
    "collapsed": false
   },
   "outputs": [
    {
     "name": "stdout",
     "output_type": "stream",
     "text": [
      "[2.0, 2.0]\n",
      "[2.0, 2.0]\n"
     ]
    }
   ],
   "source": [
    "print g.es.edge_betweenness()\n",
    "print g.edge_betweenness()"
   ]
  },
  {
   "cell_type": "code",
   "execution_count": 108,
   "metadata": {
    "collapsed": false
   },
   "outputs": [
    {
     "data": {
      "text/plain": [
       "['Bob']"
      ]
     },
     "execution_count": 108,
     "metadata": {},
     "output_type": "execute_result"
    }
   ],
   "source": [
    "g.vs.select(_degree = g.maxdegree())[\"name\"]"
   ]
  },
  {
   "cell_type": "code",
   "execution_count": 112,
   "metadata": {
    "collapsed": false
   },
   "outputs": [
    {
     "data": {
      "text/plain": [
       "0"
      ]
     },
     "execution_count": 112,
     "metadata": {},
     "output_type": "execute_result"
    }
   ],
   "source": [
    "g.vs[0].index"
   ]
  },
  {
   "cell_type": "code",
   "execution_count": 137,
   "metadata": {
    "collapsed": true
   },
   "outputs": [],
   "source": [
    "g = Graph()"
   ]
  },
  {
   "cell_type": "code",
   "execution_count": 290,
   "metadata": {
    "collapsed": false
   },
   "outputs": [],
   "source": [
    "g.add_vertex(name='allen')\n",
    "g.add_vertex(name='john')\n",
    "# g.add_edge(0,1)"
   ]
  },
  {
   "cell_type": "code",
   "execution_count": 162,
   "metadata": {
    "collapsed": false
   },
   "outputs": [],
   "source": [
    "g.vs.select(name_eq='allen')[0]['cruisine'] = 'chinese'"
   ]
  },
  {
   "cell_type": "code",
   "execution_count": 181,
   "metadata": {
    "collapsed": false
   },
   "outputs": [
    {
     "data": {
      "text/plain": [
       "0"
      ]
     },
     "execution_count": 181,
     "metadata": {},
     "output_type": "execute_result"
    }
   ],
   "source": [
    "g.vs.select(name_eq='allen')[0].index"
   ]
  },
  {
   "cell_type": "code",
   "execution_count": 172,
   "metadata": {
    "collapsed": false
   },
   "outputs": [
    {
     "data": {
      "text/plain": [
       "True"
      ]
     },
     "execution_count": 172,
     "metadata": {},
     "output_type": "execute_result"
    }
   ],
   "source": [
    "'allen' in set(g.vs['name'])"
   ]
  },
  {
   "cell_type": "code",
   "execution_count": 192,
   "metadata": {
    "collapsed": false
   },
   "outputs": [
    {
     "data": {
      "text/plain": [
       "igraph.Vertex(<igraph.Graph object at 0x11c1ebce8>,0,{'name': 'allen', 'cruisine': 'chinese'})"
      ]
     },
     "execution_count": 192,
     "metadata": {},
     "output_type": "execute_result"
    }
   ],
   "source": [
    "g.vs[0]"
   ]
  },
  {
   "cell_type": "code",
   "execution_count": 195,
   "metadata": {
    "collapsed": false
   },
   "outputs": [],
   "source": [
    "g.add_edge(0,1)"
   ]
  },
  {
   "cell_type": "code",
   "execution_count": 197,
   "metadata": {
    "collapsed": false
   },
   "outputs": [
    {
     "data": {
      "text/plain": [
       "igraph.Edge(<igraph.Graph object at 0x11c1ebce8>, 0, {})"
      ]
     },
     "execution_count": 197,
     "metadata": {},
     "output_type": "execute_result"
    }
   ],
   "source": [
    "g.es(0,1)[0]"
   ]
  },
  {
   "cell_type": "code",
   "execution_count": 220,
   "metadata": {
    "collapsed": false
   },
   "outputs": [
    {
     "name": "stdout",
     "output_type": "stream",
     "text": [
      "igraph.Edge(<igraph.Graph object at 0x11c1ebce8>, 0, {})\n",
      "igraph.Edge(<igraph.Graph object at 0x11c1ebce8>, 0, {})\n",
      "igraph.Vertex(<igraph.Graph object at 0x11c1ebce8>,0,{'name': 'allen', 'cruisine': 'chinese'})\n"
     ]
    }
   ],
   "source": [
    "print g.es[0,1,2][0]\n",
    "print g.es(0,1,2)[0]\n",
    "print g.vs[0]"
   ]
  },
  {
   "cell_type": "code",
   "execution_count": 224,
   "metadata": {
    "collapsed": false
   },
   "outputs": [],
   "source": [
    "g.add_edge(0,1,name='test')"
   ]
  },
  {
   "cell_type": "code",
   "execution_count": 228,
   "metadata": {
    "collapsed": false
   },
   "outputs": [
    {
     "data": {
      "text/plain": [
       "['name']"
      ]
     },
     "execution_count": 228,
     "metadata": {},
     "output_type": "execute_result"
    }
   ],
   "source": [
    "g.es.attribute_names()"
   ]
  },
  {
   "cell_type": "code",
   "execution_count": 257,
   "metadata": {
    "collapsed": false
   },
   "outputs": [
    {
     "data": {
      "text/plain": [
       "[igraph.Vertex(<igraph.Graph object at 0x11c1ebce8>,0,{'name': 'allen', 'cruisine': 'chinese'}),\n",
       " igraph.Vertex(<igraph.Graph object at 0x11c1ebce8>,1,{'name': 'john', 'cruisine': None})]"
      ]
     },
     "execution_count": 257,
     "metadata": {},
     "output_type": "execute_result"
    }
   ],
   "source": [
    "list(g.vs())"
   ]
  },
  {
   "cell_type": "code",
   "execution_count": 264,
   "metadata": {
    "collapsed": false
   },
   "outputs": [
    {
     "data": {
      "text/plain": [
       "(0, 1)"
      ]
     },
     "execution_count": 264,
     "metadata": {},
     "output_type": "execute_result"
    }
   ],
   "source": [
    "Graph()\n",
    "# print list(g.vs()), '\\n'\n",
    "edge = list(g.es())[1]\n",
    "edge.tuple"
   ]
  },
  {
   "cell_type": "code",
   "execution_count": 280,
   "metadata": {
    "collapsed": false
   },
   "outputs": [],
   "source": [
    "c = g.community_fastgreedy()"
   ]
  },
  {
   "cell_type": "code",
   "execution_count": 278,
   "metadata": {
    "collapsed": false
   },
   "outputs": [],
   "source": [
    "a =c.as_clustering()"
   ]
  },
  {
   "cell_type": "code",
   "execution_count": 279,
   "metadata": {
    "collapsed": false
   },
   "outputs": [
    {
     "data": {
      "text/plain": [
       "[0, 0, 0]"
      ]
     },
     "execution_count": 279,
     "metadata": {},
     "output_type": "execute_result"
    }
   ],
   "source": [
    "c.ed"
   ]
  },
  {
   "cell_type": "code",
   "execution_count": 256,
   "metadata": {
    "collapsed": false
   },
   "outputs": [
    {
     "data": {
      "text/plain": [
       "'Clustering with 2 elements and 1 clusters'"
      ]
     },
     "execution_count": 256,
     "metadata": {},
     "output_type": "execute_result"
    }
   ],
   "source": [
    "c.summary()"
   ]
  },
  {
   "cell_type": "code",
   "execution_count": 247,
   "metadata": {
    "collapsed": false
   },
   "outputs": [
    {
     "data": {
      "text/plain": [
       "0.0"
      ]
     },
     "execution_count": 247,
     "metadata": {},
     "output_type": "execute_result"
    }
   ],
   "source": [
    "c.modularity"
   ]
  },
  {
   "cell_type": "code",
   "execution_count": 282,
   "metadata": {
    "collapsed": false
   },
   "outputs": [
    {
     "data": {
      "text/plain": [
       "[(0, 1), (1, 2)]"
      ]
     },
     "execution_count": 282,
     "metadata": {},
     "output_type": "execute_result"
    }
   ],
   "source": [
    "g.get_edgelist()"
   ]
  },
  {
   "cell_type": "code",
   "execution_count": 283,
   "metadata": {
    "collapsed": false
   },
   "outputs": [
    {
     "data": {
      "text/plain": [
       "<igraph.EdgeSeq at 0x11c2c3bf0>"
      ]
     },
     "execution_count": 283,
     "metadata": {},
     "output_type": "execute_result"
    }
   ],
   "source": [
    "g.es[0,1]"
   ]
  },
  {
   "cell_type": "code",
   "execution_count": 296,
   "metadata": {
    "collapsed": false
   },
   "outputs": [],
   "source": [
    "test = g.vs.select(name_eq='allen')"
   ]
  },
  {
   "cell_type": "code",
   "execution_count": 297,
   "metadata": {
    "collapsed": false
   },
   "outputs": [
    {
     "data": {
      "text/plain": [
       "[igraph.Vertex(<igraph.Graph object at 0x11c1ebed8>,3,{'name': 'allen'})]"
      ]
     },
     "execution_count": 297,
     "metadata": {},
     "output_type": "execute_result"
    }
   ],
   "source": [
    "[i for i in test]"
   ]
  },
  {
   "cell_type": "code",
   "execution_count": 295,
   "metadata": {
    "collapsed": false
   },
   "outputs": [
    {
     "data": {
      "text/plain": [
       "[igraph.Vertex(<igraph.Graph object at 0x11c1ebed8>,0,{'name': None}),\n",
       " igraph.Vertex(<igraph.Graph object at 0x11c1ebed8>,1,{'name': None}),\n",
       " igraph.Vertex(<igraph.Graph object at 0x11c1ebed8>,2,{'name': None}),\n",
       " igraph.Vertex(<igraph.Graph object at 0x11c1ebed8>,3,{'name': 'allen'}),\n",
       " igraph.Vertex(<igraph.Graph object at 0x11c1ebed8>,4,{'name': 'john'})]"
      ]
     },
     "execution_count": 295,
     "metadata": {},
     "output_type": "execute_result"
    }
   ],
   "source": [
    "[i for i in g.vs]"
   ]
  },
  {
   "cell_type": "code",
   "execution_count": 268,
   "metadata": {
    "collapsed": false
   },
   "outputs": [],
   "source": [
    "g.write_pickle(\"../data/delete.p\")"
   ]
  },
  {
   "cell_type": "code",
   "execution_count": 270,
   "metadata": {
    "collapsed": true
   },
   "outputs": [],
   "source": [
    "a = {'a':1}\n",
    "b = {'b':2}\n",
    "c = {'a':a,'b':b}"
   ]
  },
  {
   "cell_type": "code",
   "execution_count": 282,
   "metadata": {
    "collapsed": false
   },
   "outputs": [],
   "source": [
    "pickle.dump(c, open(\"delete.p\",\"wb\"))"
   ]
  },
  {
   "cell_type": "code",
   "execution_count": 283,
   "metadata": {
    "collapsed": false
   },
   "outputs": [],
   "source": [
    "g = pickle.load(open(\"delete.p\",\"rb\"))"
   ]
  },
  {
   "cell_type": "code",
   "execution_count": 285,
   "metadata": {
    "collapsed": false
   },
   "outputs": [
    {
     "data": {
      "text/plain": [
       "{'a': {'a': 1}, 'b': {'b': 2}}"
      ]
     },
     "execution_count": 285,
     "metadata": {},
     "output_type": "execute_result"
    }
   ],
   "source": [
    "g"
   ]
  },
  {
   "cell_type": "code",
   "execution_count": 284,
   "metadata": {
    "collapsed": false
   },
   "outputs": [
    {
     "ename": "IOError",
     "evalue": "[Errno 2] No such file or directory: 'graph.p'",
     "output_type": "error",
     "traceback": [
      "\u001b[0;31m---------------------------------------------------------------------------\u001b[0m",
      "\u001b[0;31mIOError\u001b[0m                                   Traceback (most recent call last)",
      "\u001b[0;32m<ipython-input-284-142b369c3af4>\u001b[0m in \u001b[0;36m<module>\u001b[0;34m()\u001b[0m\n\u001b[0;32m----> 1\u001b[0;31m \u001b[0mgraph\u001b[0m \u001b[0;34m=\u001b[0m \u001b[0mpickle\u001b[0m\u001b[0;34m.\u001b[0m\u001b[0mload\u001b[0m\u001b[0;34m(\u001b[0m\u001b[0mopen\u001b[0m\u001b[0;34m(\u001b[0m\u001b[0;34m\"graph.p\"\u001b[0m\u001b[0;34m,\u001b[0m \u001b[0;34m\"rb\"\u001b[0m\u001b[0;34m)\u001b[0m\u001b[0;34m)\u001b[0m\u001b[0;34m\u001b[0m\u001b[0m\n\u001b[0m",
      "\u001b[0;31mIOError\u001b[0m: [Errno 2] No such file or directory: 'graph.p'"
     ]
    }
   ],
   "source": [
    "graph = pickle.load(open(\"graph.p\", \"rb\"))"
   ]
  },
  {
   "cell_type": "code",
   "execution_count": 18,
   "metadata": {
    "collapsed": false
   },
   "outputs": [
    {
     "ename": "KeyboardInterrupt",
     "evalue": "",
     "output_type": "error",
     "traceback": [
      "\u001b[0;31m---------------------------------------------------------------------------\u001b[0m",
      "\u001b[0;31mKeyboardInterrupt\u001b[0m                         Traceback (most recent call last)",
      "\u001b[0;32m<ipython-input-18-d5e5b14a755a>\u001b[0m in \u001b[0;36m<module>\u001b[0;34m()\u001b[0m\n\u001b[0;32m----> 1\u001b[0;31m \u001b[0mlayout\u001b[0m \u001b[0;34m=\u001b[0m \u001b[0mgraph\u001b[0m\u001b[0;34m.\u001b[0m\u001b[0mlayout\u001b[0m\u001b[0;34m(\u001b[0m\u001b[0;34m\"kk\"\u001b[0m\u001b[0;34m)\u001b[0m\u001b[0;34m\u001b[0m\u001b[0m\n\u001b[0m\u001b[1;32m      2\u001b[0m \u001b[0mplot\u001b[0m\u001b[0;34m(\u001b[0m\u001b[0mgraph\u001b[0m\u001b[0;34m,\u001b[0m\u001b[0mlayout\u001b[0m\u001b[0;34m=\u001b[0m\u001b[0mlayout\u001b[0m\u001b[0;34m)\u001b[0m\u001b[0;34m\u001b[0m\u001b[0m\n",
      "\u001b[0;32m/usr/local/lib/python2.7/site-packages/igraph/__init__.pyc\u001b[0m in \u001b[0;36mlayout\u001b[0;34m(self, layout, *args, **kwds)\u001b[0m\n\u001b[1;32m   1420\u001b[0m         \u001b[0;32mif\u001b[0m \u001b[0;32mnot\u001b[0m \u001b[0mhasattr\u001b[0m\u001b[0;34m(\u001b[0m\u001b[0mmethod\u001b[0m\u001b[0;34m,\u001b[0m \u001b[0;34m\"__call__\"\u001b[0m\u001b[0;34m)\u001b[0m\u001b[0;34m:\u001b[0m\u001b[0;34m\u001b[0m\u001b[0m\n\u001b[1;32m   1421\u001b[0m             \u001b[0;32mraise\u001b[0m \u001b[0mValueError\u001b[0m\u001b[0;34m(\u001b[0m\u001b[0;34m\"layout method must be callable\"\u001b[0m\u001b[0;34m)\u001b[0m\u001b[0;34m\u001b[0m\u001b[0m\n\u001b[0;32m-> 1422\u001b[0;31m         \u001b[0ml\u001b[0m \u001b[0;34m=\u001b[0m \u001b[0mmethod\u001b[0m\u001b[0;34m(\u001b[0m\u001b[0mself\u001b[0m\u001b[0;34m,\u001b[0m \u001b[0;34m*\u001b[0m\u001b[0margs\u001b[0m\u001b[0;34m,\u001b[0m \u001b[0;34m**\u001b[0m\u001b[0mkwds\u001b[0m\u001b[0;34m)\u001b[0m\u001b[0;34m\u001b[0m\u001b[0m\n\u001b[0m\u001b[1;32m   1423\u001b[0m         \u001b[0;32mif\u001b[0m \u001b[0;32mnot\u001b[0m \u001b[0misinstance\u001b[0m\u001b[0;34m(\u001b[0m\u001b[0ml\u001b[0m\u001b[0;34m,\u001b[0m \u001b[0mLayout\u001b[0m\u001b[0;34m)\u001b[0m\u001b[0;34m:\u001b[0m\u001b[0;34m\u001b[0m\u001b[0m\n\u001b[1;32m   1424\u001b[0m             \u001b[0ml\u001b[0m \u001b[0;34m=\u001b[0m \u001b[0mLayout\u001b[0m\u001b[0;34m(\u001b[0m\u001b[0ml\u001b[0m\u001b[0;34m)\u001b[0m\u001b[0;34m\u001b[0m\u001b[0m\n",
      "\u001b[0;32m/usr/local/lib/python2.7/site-packages/igraph/__init__.pyc\u001b[0m in \u001b[0;36mresult\u001b[0;34m(*args, **kwds)\u001b[0m\n\u001b[1;32m   3947\u001b[0m     \"\"\"\n\u001b[1;32m   3948\u001b[0m     \u001b[0;32mdef\u001b[0m \u001b[0mresult\u001b[0m\u001b[0;34m(\u001b[0m\u001b[0;34m*\u001b[0m\u001b[0margs\u001b[0m\u001b[0;34m,\u001b[0m \u001b[0;34m**\u001b[0m\u001b[0mkwds\u001b[0m\u001b[0;34m)\u001b[0m\u001b[0;34m:\u001b[0m\u001b[0;34m\u001b[0m\u001b[0m\n\u001b[0;32m-> 3949\u001b[0;31m         \u001b[0mlayout\u001b[0m \u001b[0;34m=\u001b[0m \u001b[0mfunc\u001b[0m\u001b[0;34m(\u001b[0m\u001b[0;34m*\u001b[0m\u001b[0margs\u001b[0m\u001b[0;34m,\u001b[0m \u001b[0;34m**\u001b[0m\u001b[0mkwds\u001b[0m\u001b[0;34m)\u001b[0m\u001b[0;34m\u001b[0m\u001b[0m\n\u001b[0m\u001b[1;32m   3950\u001b[0m         \u001b[0;32mif\u001b[0m \u001b[0;32mnot\u001b[0m \u001b[0misinstance\u001b[0m\u001b[0;34m(\u001b[0m\u001b[0mlayout\u001b[0m\u001b[0;34m,\u001b[0m \u001b[0mLayout\u001b[0m\u001b[0;34m)\u001b[0m\u001b[0;34m:\u001b[0m\u001b[0;34m\u001b[0m\u001b[0m\n\u001b[1;32m   3951\u001b[0m             \u001b[0mlayout\u001b[0m \u001b[0;34m=\u001b[0m \u001b[0mLayout\u001b[0m\u001b[0;34m(\u001b[0m\u001b[0mlayout\u001b[0m\u001b[0;34m)\u001b[0m\u001b[0;34m\u001b[0m\u001b[0m\n",
      "\u001b[0;31mKeyboardInterrupt\u001b[0m: "
     ]
    }
   ],
   "source": [
    "layout = graph.layout(\"kk\")\n",
    "plot(graph,layout=layout)"
   ]
  },
  {
   "cell_type": "code",
   "execution_count": 5,
   "metadata": {
    "collapsed": false
   },
   "outputs": [
    {
     "data": {
      "text/plain": [
       "0.32611828945228916"
      ]
     },
     "execution_count": 5,
     "metadata": {},
     "output_type": "execute_result"
    }
   ],
   "source": [
    "gcf = graph.community_fastgreedy(weights='rating')\n",
    "gcfc = gcf.as_clustering()\n",
    "gcfc.modularity"
   ]
  },
  {
   "cell_type": "code",
   "execution_count": 6,
   "metadata": {
    "collapsed": false
   },
   "outputs": [
    {
     "data": {
      "text/plain": [
       "array([ 0,  1,  2,  3,  4,  5,  6,  7,  8,  9, 10, 11])"
      ]
     },
     "execution_count": 6,
     "metadata": {},
     "output_type": "execute_result"
    }
   ],
   "source": [
    "graph.vs['membership'] = gcfc.membership\n",
    "np.unique(gcfc.membership)"
   ]
  },
  {
   "cell_type": "code",
   "execution_count": 7,
   "metadata": {
    "collapsed": false
   },
   "outputs": [],
   "source": [
    "gs = graph.vs.select(membership_ne=9)\n",
    "# assert(len(np.unique([i['membership'] for i in gs])) != 9)\n",
    "a = len(gs)"
   ]
  },
  {
   "cell_type": "code",
   "execution_count": 8,
   "metadata": {
    "collapsed": true
   },
   "outputs": [],
   "source": [
    "graph2 = graph.copy()"
   ]
  },
  {
   "cell_type": "code",
   "execution_count": 9,
   "metadata": {
    "collapsed": false
   },
   "outputs": [],
   "source": [
    "graph2.delete_vertices(list(set([i.index for i in gs])))\n",
    "b = len([i for i in graph2.vs])\n",
    "assert a+b == 17756"
   ]
  },
  {
   "cell_type": "code",
   "execution_count": 10,
   "metadata": {
    "collapsed": false
   },
   "outputs": [
    {
     "data": {
      "text/plain": [
       "array([9])"
      ]
     },
     "execution_count": 10,
     "metadata": {},
     "output_type": "execute_result"
    }
   ],
   "source": [
    "np.unique(graph2.vs['membership'])"
   ]
  },
  {
   "cell_type": "code",
   "execution_count": 314,
   "metadata": {
    "collapsed": false
   },
   "outputs": [
    {
     "name": "stdout",
     "output_type": "stream",
     "text": [
      "closeness 0.265896971787 0.454500052744\n",
      "diversity 1.0 1.0\n",
      "density 0.000687684852694 0.00995024875622\n"
     ]
    }
   ],
   "source": [
    "graph2.modularity(graph2.vs['membership'],weights='rating')\n",
    "# test = graph2.community_fastgreedy(weights='rating')\n",
    "# test2 = test.as_clustering()\n",
    "# test2.modularity\n",
    "print 'closeness', np.mean(graph.closeness()), np.mean(graph2.closeness())\n",
    "print 'diversity', np.mean(graph.diversity()), np.mean(graph2.diversity())\n",
    "print 'density', np.mean(graph.density()), np.mean(graph2.density())\n"
   ]
  },
  {
   "cell_type": "code",
   "execution_count": 17,
   "metadata": {
    "collapsed": false
   },
   "outputs": [
    {
     "data": {
      "image/svg+xml": [
       "<?xml version=\"1.0\" encoding=\"UTF-8\"?>\n",
       "<svg xmlns=\"http://www.w3.org/2000/svg\" xmlns:xlink=\"http://www.w3.org/1999/xlink\" width=\"600pt\" height=\"600pt\" viewBox=\"0 0 600 600\" version=\"1.1\">\n",
       "<g id=\"surface2\">\n",
       "<rect x=\"0\" y=\"0\" width=\"600\" height=\"600\" style=\"fill:rgb(100%,100%,100%);fill-opacity:1;stroke:none;\"/>\n",
       "<path style=\"fill:none;stroke-width:1;stroke-linecap:butt;stroke-linejoin:miter;stroke:rgb(26.666667%,26.666667%,26.666667%);stroke-opacity:1;stroke-miterlimit:10;\" d=\"M 286.597656 68.578125 L 250.238281 177.160156 \"/>\n",
       "<path style=\"fill:none;stroke-width:1;stroke-linecap:butt;stroke-linejoin:miter;stroke:rgb(26.666667%,26.666667%,26.666667%);stroke-opacity:1;stroke-miterlimit:10;\" d=\"M 250.238281 177.160156 L 454.320312 103.085938 \"/>\n",
       "<path style=\"fill:none;stroke-width:1;stroke-linecap:butt;stroke-linejoin:miter;stroke:rgb(26.666667%,26.666667%,26.666667%);stroke-opacity:1;stroke-miterlimit:10;\" d=\"M 250.238281 177.160156 L 312.773438 263.773438 \"/>\n",
       "<path style=\"fill:none;stroke-width:1;stroke-linecap:butt;stroke-linejoin:miter;stroke:rgb(26.666667%,26.666667%,26.666667%);stroke-opacity:1;stroke-miterlimit:10;\" d=\"M 250.238281 177.160156 L 281.933594 21.519531 \"/>\n",
       "<path style=\"fill:none;stroke-width:1;stroke-linecap:butt;stroke-linejoin:miter;stroke:rgb(26.666667%,26.666667%,26.666667%);stroke-opacity:1;stroke-miterlimit:10;\" d=\"M 331.160156 142.707031 L 250.238281 177.160156 \"/>\n",
       "<path style=\"fill:none;stroke-width:1;stroke-linecap:butt;stroke-linejoin:miter;stroke:rgb(26.666667%,26.666667%,26.666667%);stroke-opacity:1;stroke-miterlimit:10;\" d=\"M 250.238281 177.160156 L 257.464844 139.085938 \"/>\n",
       "<path style=\"fill:none;stroke-width:1;stroke-linecap:butt;stroke-linejoin:miter;stroke:rgb(26.666667%,26.666667%,26.666667%);stroke-opacity:1;stroke-miterlimit:10;\" d=\"M 250.238281 177.160156 L 405.605469 288.371094 \"/>\n",
       "<path style=\"fill:none;stroke-width:1;stroke-linecap:butt;stroke-linejoin:miter;stroke:rgb(26.666667%,26.666667%,26.666667%);stroke-opacity:1;stroke-miterlimit:10;\" d=\"M 250.238281 177.160156 L 350.011719 80.953125 \"/>\n",
       "<path style=\"fill:none;stroke-width:1;stroke-linecap:butt;stroke-linejoin:miter;stroke:rgb(26.666667%,26.666667%,26.666667%);stroke-opacity:1;stroke-miterlimit:10;\" d=\"M 250.238281 177.160156 L 44.984375 161.988281 \"/>\n",
       "<path style=\"fill:none;stroke-width:1;stroke-linecap:butt;stroke-linejoin:miter;stroke:rgb(26.666667%,26.666667%,26.666667%);stroke-opacity:1;stroke-miterlimit:10;\" d=\"M 250.238281 177.160156 L 235.863281 105.613281 \"/>\n",
       "<path style=\"fill:none;stroke-width:1;stroke-linecap:butt;stroke-linejoin:miter;stroke:rgb(26.666667%,26.666667%,26.666667%);stroke-opacity:1;stroke-miterlimit:10;\" d=\"M 250.238281 177.160156 L 132.148438 125.460938 \"/>\n",
       "<path style=\"fill:none;stroke-width:1;stroke-linecap:butt;stroke-linejoin:miter;stroke:rgb(26.666667%,26.666667%,26.666667%);stroke-opacity:1;stroke-miterlimit:10;\" d=\"M 250.238281 177.160156 L 136.480469 152.625 \"/>\n",
       "<path style=\"fill:none;stroke-width:1;stroke-linecap:butt;stroke-linejoin:miter;stroke:rgb(26.666667%,26.666667%,26.666667%);stroke-opacity:1;stroke-miterlimit:10;\" d=\"M 250.238281 177.160156 L 61.617188 137.53125 \"/>\n",
       "<path style=\"fill:none;stroke-width:1;stroke-linecap:butt;stroke-linejoin:miter;stroke:rgb(26.666667%,26.666667%,26.666667%);stroke-opacity:1;stroke-miterlimit:10;\" d=\"M 250.238281 177.160156 L 187.378906 63.140625 \"/>\n",
       "<path style=\"fill:none;stroke-width:1;stroke-linecap:butt;stroke-linejoin:miter;stroke:rgb(26.666667%,26.666667%,26.666667%);stroke-opacity:1;stroke-miterlimit:10;\" d=\"M 250.238281 177.160156 L 199.25 24.832031 \"/>\n",
       "<path style=\"fill:none;stroke-width:1;stroke-linecap:butt;stroke-linejoin:miter;stroke:rgb(26.666667%,26.666667%,26.666667%);stroke-opacity:1;stroke-miterlimit:10;\" d=\"M 250.238281 177.160156 L 233.582031 285.757812 \"/>\n",
       "<path style=\"fill:none;stroke-width:1;stroke-linecap:butt;stroke-linejoin:miter;stroke:rgb(26.666667%,26.666667%,26.666667%);stroke-opacity:1;stroke-miterlimit:10;\" d=\"M 250.238281 177.160156 L 275.90625 104.144531 \"/>\n",
       "<path style=\"fill:none;stroke-width:1;stroke-linecap:butt;stroke-linejoin:miter;stroke:rgb(26.666667%,26.666667%,26.666667%);stroke-opacity:1;stroke-miterlimit:10;\" d=\"M 250.238281 177.160156 L 102.449219 232.753906 \"/>\n",
       "<path style=\"fill:none;stroke-width:1;stroke-linecap:butt;stroke-linejoin:miter;stroke:rgb(26.666667%,26.666667%,26.666667%);stroke-opacity:1;stroke-miterlimit:10;\" d=\"M 250.238281 177.160156 L 181.585938 325.246094 \"/>\n",
       "<path style=\"fill:none;stroke-width:1;stroke-linecap:butt;stroke-linejoin:miter;stroke:rgb(26.666667%,26.666667%,26.666667%);stroke-opacity:1;stroke-miterlimit:10;\" d=\"M 250.238281 177.160156 L 74.542969 162.027344 \"/>\n",
       "<path style=\"fill:none;stroke-width:1;stroke-linecap:butt;stroke-linejoin:miter;stroke:rgb(26.666667%,26.666667%,26.666667%);stroke-opacity:1;stroke-miterlimit:10;\" d=\"M 250.238281 177.160156 L 338.390625 302.035156 \"/>\n",
       "<path style=\"fill:none;stroke-width:1;stroke-linecap:butt;stroke-linejoin:miter;stroke:rgb(26.666667%,26.666667%,26.666667%);stroke-opacity:1;stroke-miterlimit:10;\" d=\"M 250.238281 177.160156 L 69.589844 217.863281 \"/>\n",
       "<path style=\"fill:none;stroke-width:1;stroke-linecap:butt;stroke-linejoin:miter;stroke:rgb(26.666667%,26.666667%,26.666667%);stroke-opacity:1;stroke-miterlimit:10;\" d=\"M 250.238281 177.160156 L 456.3125 242.269531 \"/>\n",
       "<path style=\"fill:none;stroke-width:1;stroke-linecap:butt;stroke-linejoin:miter;stroke:rgb(26.666667%,26.666667%,26.666667%);stroke-opacity:1;stroke-miterlimit:10;\" d=\"M 250.238281 177.160156 L 98.9375 145.828125 \"/>\n",
       "<path style=\"fill:none;stroke-width:1;stroke-linecap:butt;stroke-linejoin:miter;stroke:rgb(26.666667%,26.666667%,26.666667%);stroke-opacity:1;stroke-miterlimit:10;\" d=\"M 250.238281 177.160156 L 206.578125 156.09375 \"/>\n",
       "<path style=\"fill:none;stroke-width:1;stroke-linecap:butt;stroke-linejoin:miter;stroke:rgb(26.666667%,26.666667%,26.666667%);stroke-opacity:1;stroke-miterlimit:10;\" d=\"M 250.238281 177.160156 L 427.839844 76.058594 \"/>\n",
       "<path style=\"fill:none;stroke-width:1;stroke-linecap:butt;stroke-linejoin:miter;stroke:rgb(26.666667%,26.666667%,26.666667%);stroke-opacity:1;stroke-miterlimit:10;\" d=\"M 250.238281 177.160156 L 139.3125 241.171875 \"/>\n",
       "<path style=\"fill:none;stroke-width:1;stroke-linecap:butt;stroke-linejoin:miter;stroke:rgb(26.666667%,26.666667%,26.666667%);stroke-opacity:1;stroke-miterlimit:10;\" d=\"M 250.238281 177.160156 L 420.996094 90.542969 \"/>\n",
       "<path style=\"fill:none;stroke-width:1;stroke-linecap:butt;stroke-linejoin:miter;stroke:rgb(26.666667%,26.666667%,26.666667%);stroke-opacity:1;stroke-miterlimit:10;\" d=\"M 250.238281 177.160156 L 123.828125 306.878906 \"/>\n",
       "<path style=\"fill:none;stroke-width:1;stroke-linecap:butt;stroke-linejoin:miter;stroke:rgb(26.666667%,26.666667%,26.666667%);stroke-opacity:1;stroke-miterlimit:10;\" d=\"M 253.039062 308.691406 L 250.238281 177.160156 \"/>\n",
       "<path style=\"fill:none;stroke-width:1;stroke-linecap:butt;stroke-linejoin:miter;stroke:rgb(26.666667%,26.666667%,26.666667%);stroke-opacity:1;stroke-miterlimit:10;\" d=\"M 250.238281 177.160156 L 20.5625 169.773438 \"/>\n",
       "<path style=\"fill:none;stroke-width:1;stroke-linecap:butt;stroke-linejoin:miter;stroke:rgb(26.666667%,26.666667%,26.666667%);stroke-opacity:1;stroke-miterlimit:10;\" d=\"M 250.238281 177.160156 L 473.191406 217.066406 \"/>\n",
       "<path style=\"fill:none;stroke-width:1;stroke-linecap:butt;stroke-linejoin:miter;stroke:rgb(26.666667%,26.666667%,26.666667%);stroke-opacity:1;stroke-miterlimit:10;\" d=\"M 250.238281 177.160156 L 156.144531 52.253906 \"/>\n",
       "<path style=\"fill:none;stroke-width:1;stroke-linecap:butt;stroke-linejoin:miter;stroke:rgb(26.666667%,26.666667%,26.666667%);stroke-opacity:1;stroke-miterlimit:10;\" d=\"M 250.238281 177.160156 L 211.207031 234.996094 \"/>\n",
       "<path style=\"fill:none;stroke-width:1;stroke-linecap:butt;stroke-linejoin:miter;stroke:rgb(26.666667%,26.666667%,26.666667%);stroke-opacity:1;stroke-miterlimit:10;\" d=\"M 250.238281 177.160156 L 172.179688 135.726562 \"/>\n",
       "<path style=\"fill:none;stroke-width:1;stroke-linecap:butt;stroke-linejoin:miter;stroke:rgb(26.666667%,26.666667%,26.666667%);stroke-opacity:1;stroke-miterlimit:10;\" d=\"M 250.238281 177.160156 L 77.085938 187.769531 \"/>\n",
       "<path style=\"fill:none;stroke-width:1;stroke-linecap:butt;stroke-linejoin:miter;stroke:rgb(26.666667%,26.666667%,26.666667%);stroke-opacity:1;stroke-miterlimit:10;\" d=\"M 250.238281 177.160156 L 127.136719 81.269531 \"/>\n",
       "<path style=\"fill:none;stroke-width:1;stroke-linecap:butt;stroke-linejoin:miter;stroke:rgb(26.666667%,26.666667%,26.666667%);stroke-opacity:1;stroke-miterlimit:10;\" d=\"M 250.238281 177.160156 L 98.304688 276.617188 \"/>\n",
       "<path style=\"fill:none;stroke-width:1;stroke-linecap:butt;stroke-linejoin:miter;stroke:rgb(26.666667%,26.666667%,26.666667%);stroke-opacity:1;stroke-miterlimit:10;\" d=\"M 250.238281 177.160156 L 362.480469 39.746094 \"/>\n",
       "<path style=\"fill:none;stroke-width:1;stroke-linecap:butt;stroke-linejoin:miter;stroke:rgb(26.666667%,26.666667%,26.666667%);stroke-opacity:1;stroke-miterlimit:10;\" d=\"M 250.238281 177.160156 L 21.925781 198.109375 \"/>\n",
       "<path style=\"fill:none;stroke-width:1;stroke-linecap:butt;stroke-linejoin:miter;stroke:rgb(26.666667%,26.666667%,26.666667%);stroke-opacity:1;stroke-miterlimit:10;\" d=\"M 250.238281 177.160156 L 256.296875 54.347656 \"/>\n",
       "<path style=\"fill:none;stroke-width:1;stroke-linecap:butt;stroke-linejoin:miter;stroke:rgb(26.666667%,26.666667%,26.666667%);stroke-opacity:1;stroke-miterlimit:10;\" d=\"M 250.238281 177.160156 L 363.988281 101.644531 \"/>\n",
       "<path style=\"fill:none;stroke-width:1;stroke-linecap:butt;stroke-linejoin:miter;stroke:rgb(26.666667%,26.666667%,26.666667%);stroke-opacity:1;stroke-miterlimit:10;\" d=\"M 250.238281 177.160156 L 302.082031 237.136719 \"/>\n",
       "<path style=\"fill:none;stroke-width:1;stroke-linecap:butt;stroke-linejoin:miter;stroke:rgb(26.666667%,26.666667%,26.666667%);stroke-opacity:1;stroke-miterlimit:10;\" d=\"M 250.238281 177.160156 L 412.519531 67.246094 \"/>\n",
       "<path style=\"fill:none;stroke-width:1;stroke-linecap:butt;stroke-linejoin:miter;stroke:rgb(26.666667%,26.666667%,26.666667%);stroke-opacity:1;stroke-miterlimit:10;\" d=\"M 250.238281 177.160156 L 52.449219 256.570312 \"/>\n",
       "<path style=\"fill:none;stroke-width:1;stroke-linecap:butt;stroke-linejoin:miter;stroke:rgb(26.666667%,26.666667%,26.666667%);stroke-opacity:1;stroke-miterlimit:10;\" d=\"M 250.238281 177.160156 L 253.492188 81.257812 \"/>\n",
       "<path style=\"fill:none;stroke-width:1;stroke-linecap:butt;stroke-linejoin:miter;stroke:rgb(26.666667%,26.666667%,26.666667%);stroke-opacity:1;stroke-miterlimit:10;\" d=\"M 250.238281 177.160156 L 101.980469 59.332031 \"/>\n",
       "<path style=\"fill:none;stroke-width:1;stroke-linecap:butt;stroke-linejoin:miter;stroke:rgb(26.666667%,26.666667%,26.666667%);stroke-opacity:1;stroke-miterlimit:10;\" d=\"M 250.238281 177.160156 L 228.285156 328.78125 \"/>\n",
       "<path style=\"fill:none;stroke-width:1;stroke-linecap:butt;stroke-linejoin:miter;stroke:rgb(26.666667%,26.666667%,26.666667%);stroke-opacity:1;stroke-miterlimit:10;\" d=\"M 250.238281 177.160156 L 64.011719 114.59375 \"/>\n",
       "<path style=\"fill:none;stroke-width:1;stroke-linecap:butt;stroke-linejoin:miter;stroke:rgb(26.666667%,26.666667%,26.666667%);stroke-opacity:1;stroke-miterlimit:10;\" d=\"M 250.238281 177.160156 L 481.269531 173.265625 \"/>\n",
       "<path style=\"fill:none;stroke-width:1;stroke-linecap:butt;stroke-linejoin:miter;stroke:rgb(26.666667%,26.666667%,26.666667%);stroke-opacity:1;stroke-miterlimit:10;\" d=\"M 250.238281 177.160156 L 296.929688 159.480469 \"/>\n",
       "<path style=\"fill:none;stroke-width:1;stroke-linecap:butt;stroke-linejoin:miter;stroke:rgb(26.666667%,26.666667%,26.666667%);stroke-opacity:1;stroke-miterlimit:10;\" d=\"M 323.273438 473.871094 L 128.238281 562.960938 \"/>\n",
       "<path style=\"fill:none;stroke-width:1;stroke-linecap:butt;stroke-linejoin:miter;stroke:rgb(26.666667%,26.666667%,26.666667%);stroke-opacity:1;stroke-miterlimit:10;\" d=\"M 187.496094 311.980469 L 250.238281 177.160156 \"/>\n",
       "<path style=\"fill:none;stroke-width:1;stroke-linecap:butt;stroke-linejoin:miter;stroke:rgb(26.666667%,26.666667%,26.666667%);stroke-opacity:1;stroke-miterlimit:10;\" d=\"M 250.238281 177.160156 L 284.957031 302.261719 \"/>\n",
       "<path style=\"fill:none;stroke-width:1;stroke-linecap:butt;stroke-linejoin:miter;stroke:rgb(26.666667%,26.666667%,26.666667%);stroke-opacity:1;stroke-miterlimit:10;\" d=\"M 232.515625 259.265625 L 250.238281 177.160156 \"/>\n",
       "<path style=\"fill:none;stroke-width:1;stroke-linecap:butt;stroke-linejoin:miter;stroke:rgb(26.666667%,26.666667%,26.666667%);stroke-opacity:1;stroke-miterlimit:10;\" d=\"M 250.238281 177.160156 L 204.074219 87.214844 \"/>\n",
       "<path style=\"fill:none;stroke-width:1;stroke-linecap:butt;stroke-linejoin:miter;stroke:rgb(26.666667%,26.666667%,26.666667%);stroke-opacity:1;stroke-miterlimit:10;\" d=\"M 243.4375 579.023438 L 323.273438 473.871094 \"/>\n",
       "<path style=\"fill:none;stroke-width:1;stroke-linecap:butt;stroke-linejoin:miter;stroke:rgb(26.666667%,26.666667%,26.666667%);stroke-opacity:1;stroke-miterlimit:10;\" d=\"M 291.300781 344.824219 L 323.273438 473.871094 \"/>\n",
       "<path style=\"fill:none;stroke-width:1;stroke-linecap:butt;stroke-linejoin:miter;stroke:rgb(26.666667%,26.666667%,26.666667%);stroke-opacity:1;stroke-miterlimit:10;\" d=\"M 323.273438 473.871094 L 580 496.0625 \"/>\n",
       "<path style=\"fill:none;stroke-width:1;stroke-linecap:butt;stroke-linejoin:miter;stroke:rgb(26.666667%,26.666667%,26.666667%);stroke-opacity:1;stroke-miterlimit:10;\" d=\"M 323.273438 473.871094 L 91.679688 553.644531 \"/>\n",
       "<path style=\"fill:none;stroke-width:1;stroke-linecap:butt;stroke-linejoin:miter;stroke:rgb(26.666667%,26.666667%,26.666667%);stroke-opacity:1;stroke-miterlimit:10;\" d=\"M 323.273438 473.871094 L 410.429688 565.183594 \"/>\n",
       "<path style=\"fill:none;stroke-width:1;stroke-linecap:butt;stroke-linejoin:miter;stroke:rgb(26.666667%,26.666667%,26.666667%);stroke-opacity:1;stroke-miterlimit:10;\" d=\"M 484.738281 542.585938 L 323.273438 473.871094 \"/>\n",
       "<path style=\"fill:none;stroke-width:1;stroke-linecap:butt;stroke-linejoin:miter;stroke:rgb(26.666667%,26.666667%,26.666667%);stroke-opacity:1;stroke-miterlimit:10;\" d=\"M 323.273438 473.871094 L 518.3125 528.664062 \"/>\n",
       "<path style=\"fill:none;stroke-width:1;stroke-linecap:butt;stroke-linejoin:miter;stroke:rgb(26.666667%,26.666667%,26.666667%);stroke-opacity:1;stroke-miterlimit:10;\" d=\"M 323.273438 473.871094 L 165.414062 570.28125 \"/>\n",
       "<path style=\"fill:none;stroke-width:1;stroke-linecap:butt;stroke-linejoin:miter;stroke:rgb(26.666667%,26.666667%,26.666667%);stroke-opacity:1;stroke-miterlimit:10;\" d=\"M 323.273438 473.871094 L 327.097656 578.183594 \"/>\n",
       "<path style=\"fill:none;stroke-width:1;stroke-linecap:butt;stroke-linejoin:miter;stroke:rgb(26.666667%,26.666667%,26.666667%);stroke-opacity:1;stroke-miterlimit:10;\" d=\"M 323.273438 473.871094 L 203.855469 575.722656 \"/>\n",
       "<path style=\"fill:none;stroke-width:1;stroke-linecap:butt;stroke-linejoin:miter;stroke:rgb(26.666667%,26.666667%,26.666667%);stroke-opacity:1;stroke-miterlimit:10;\" d=\"M 323.273438 473.871094 L 369.527344 573.195312 \"/>\n",
       "<path style=\"fill:none;stroke-width:1;stroke-linecap:butt;stroke-linejoin:miter;stroke:rgb(26.666667%,26.666667%,26.666667%);stroke-opacity:1;stroke-miterlimit:10;\" d=\"M 323.273438 473.871094 L 284.636719 580 \"/>\n",
       "<path style=\"fill:none;stroke-width:1;stroke-linecap:butt;stroke-linejoin:miter;stroke:rgb(26.666667%,26.666667%,26.666667%);stroke-opacity:1;stroke-miterlimit:10;\" d=\"M 250.238281 177.160156 L 97.296875 79.207031 \"/>\n",
       "<path style=\"fill:none;stroke-width:1;stroke-linecap:butt;stroke-linejoin:miter;stroke:rgb(26.666667%,26.666667%,26.666667%);stroke-opacity:1;stroke-miterlimit:10;\" d=\"M 250.238281 177.160156 L 69.730469 80.070312 \"/>\n",
       "<path style=\"fill:none;stroke-width:1;stroke-linecap:butt;stroke-linejoin:miter;stroke:rgb(26.666667%,26.666667%,26.666667%);stroke-opacity:1;stroke-miterlimit:10;\" d=\"M 250.238281 177.160156 L 240.242188 20 \"/>\n",
       "<path style=\"fill:none;stroke-width:1;stroke-linecap:butt;stroke-linejoin:miter;stroke:rgb(26.666667%,26.666667%,26.666667%);stroke-opacity:1;stroke-miterlimit:10;\" d=\"M 250.238281 177.160156 L 29.375 131.785156 \"/>\n",
       "<path style=\"fill:none;stroke-width:1;stroke-linecap:butt;stroke-linejoin:miter;stroke:rgb(26.666667%,26.666667%,26.666667%);stroke-opacity:1;stroke-miterlimit:10;\" d=\"M 250.238281 177.160156 L 223.898438 313.488281 \"/>\n",
       "<path style=\"fill:none;stroke-width:1;stroke-linecap:butt;stroke-linejoin:miter;stroke:rgb(26.666667%,26.666667%,26.666667%);stroke-opacity:1;stroke-miterlimit:10;\" d=\"M 250.238281 177.160156 L 85.007812 67.675781 \"/>\n",
       "<path style=\"fill:none;stroke-width:1;stroke-linecap:butt;stroke-linejoin:miter;stroke:rgb(26.666667%,26.666667%,26.666667%);stroke-opacity:1;stroke-miterlimit:10;\" d=\"M 250.238281 177.160156 L 44.824219 182.90625 \"/>\n",
       "<path style=\"fill:none;stroke-width:1;stroke-linecap:butt;stroke-linejoin:miter;stroke:rgb(26.666667%,26.666667%,26.666667%);stroke-opacity:1;stroke-miterlimit:10;\" d=\"M 250.238281 177.160156 L 181.78125 41.535156 \"/>\n",
       "<path style=\"fill:none;stroke-width:1;stroke-linecap:butt;stroke-linejoin:miter;stroke:rgb(26.666667%,26.666667%,26.666667%);stroke-opacity:1;stroke-miterlimit:10;\" d=\"M 250.238281 177.160156 L 239.519531 36.175781 \"/>\n",
       "<path style=\"fill:none;stroke-width:1;stroke-linecap:butt;stroke-linejoin:miter;stroke:rgb(26.666667%,26.666667%,26.666667%);stroke-opacity:1;stroke-miterlimit:10;\" d=\"M 250.238281 177.160156 L 380.066406 66.59375 \"/>\n",
       "<path style=\"fill:none;stroke-width:1;stroke-linecap:butt;stroke-linejoin:miter;stroke:rgb(26.666667%,26.666667%,26.666667%);stroke-opacity:1;stroke-miterlimit:10;\" d=\"M 250.238281 177.160156 L 447.570312 131.460938 \"/>\n",
       "<path style=\"fill:none;stroke-width:1;stroke-linecap:butt;stroke-linejoin:miter;stroke:rgb(26.666667%,26.666667%,26.666667%);stroke-opacity:1;stroke-miterlimit:10;\" d=\"M 291.300781 344.824219 L 250.238281 177.160156 \"/>\n",
       "<path style=\"fill:none;stroke-width:1;stroke-linecap:butt;stroke-linejoin:miter;stroke:rgb(26.666667%,26.666667%,26.666667%);stroke-opacity:1;stroke-miterlimit:10;\" d=\"M 250.238281 177.160156 L 350.347656 266.921875 \"/>\n",
       "<path style=\"fill:none;stroke-width:1;stroke-linecap:butt;stroke-linejoin:miter;stroke:rgb(26.666667%,26.666667%,26.666667%);stroke-opacity:1;stroke-miterlimit:10;\" d=\"M 250.238281 177.160156 L 471.058594 129.945312 \"/>\n",
       "<path style=\"fill:none;stroke-width:1;stroke-linecap:butt;stroke-linejoin:miter;stroke:rgb(26.666667%,26.666667%,26.666667%);stroke-opacity:1;stroke-miterlimit:10;\" d=\"M 250.238281 177.160156 L 131.425781 61.539062 \"/>\n",
       "<path style=\"fill:none;stroke-width:1;stroke-linecap:butt;stroke-linejoin:miter;stroke:rgb(26.666667%,26.666667%,26.666667%);stroke-opacity:1;stroke-miterlimit:10;\" d=\"M 250.238281 177.160156 L 250.503906 327.308594 \"/>\n",
       "<path style=\"fill:none;stroke-width:1;stroke-linecap:butt;stroke-linejoin:miter;stroke:rgb(26.666667%,26.666667%,26.666667%);stroke-opacity:1;stroke-miterlimit:10;\" d=\"M 273.578125 259.5625 L 250.238281 177.160156 \"/>\n",
       "<path style=\"fill:none;stroke-width:1;stroke-linecap:butt;stroke-linejoin:miter;stroke:rgb(26.666667%,26.666667%,26.666667%);stroke-opacity:1;stroke-miterlimit:10;\" d=\"M 250.238281 177.160156 L 427.222656 248.992188 \"/>\n",
       "<path style=\"fill:none;stroke-width:1;stroke-linecap:butt;stroke-linejoin:miter;stroke:rgb(26.666667%,26.666667%,26.666667%);stroke-opacity:1;stroke-miterlimit:10;\" d=\"M 372.816406 304.535156 L 250.238281 177.160156 \"/>\n",
       "<path style=\"fill:none;stroke-width:1;stroke-linecap:butt;stroke-linejoin:miter;stroke:rgb(26.666667%,26.666667%,26.666667%);stroke-opacity:1;stroke-miterlimit:10;\" d=\"M 250.238281 177.160156 L 328.144531 216.269531 \"/>\n",
       "<path style=\"fill:none;stroke-width:1;stroke-linecap:butt;stroke-linejoin:miter;stroke:rgb(26.666667%,26.666667%,26.666667%);stroke-opacity:1;stroke-miterlimit:10;\" d=\"M 250.238281 177.160156 L 345.253906 242.210938 \"/>\n",
       "<path style=\"fill:none;stroke-width:1;stroke-linecap:butt;stroke-linejoin:miter;stroke:rgb(26.666667%,26.666667%,26.666667%);stroke-opacity:1;stroke-miterlimit:10;\" d=\"M 250.238281 177.160156 L 385.039062 252.273438 \"/>\n",
       "<path style=\"fill:none;stroke-width:1;stroke-linecap:butt;stroke-linejoin:miter;stroke:rgb(26.666667%,26.666667%,26.666667%);stroke-opacity:1;stroke-miterlimit:10;\" d=\"M 250.238281 177.160156 L 69.742188 239.777344 \"/>\n",
       "<path style=\"fill:none;stroke-width:1;stroke-linecap:butt;stroke-linejoin:miter;stroke:rgb(26.666667%,26.666667%,26.666667%);stroke-opacity:1;stroke-miterlimit:10;\" d=\"M 250.238281 177.160156 L 227.988281 209.835938 \"/>\n",
       "<path style=\"fill:none;stroke-width:1;stroke-linecap:butt;stroke-linejoin:miter;stroke:rgb(26.666667%,26.666667%,26.666667%);stroke-opacity:1;stroke-miterlimit:10;\" d=\"M 250.238281 177.160156 L 460.109375 163.511719 \"/>\n",
       "<path style=\"fill:none;stroke-width:1;stroke-linecap:butt;stroke-linejoin:miter;stroke:rgb(26.666667%,26.666667%,26.666667%);stroke-opacity:1;stroke-miterlimit:10;\" d=\"M 250.238281 177.160156 L 381.007812 47.765625 \"/>\n",
       "<path style=\"fill:none;stroke-width:1;stroke-linecap:butt;stroke-linejoin:miter;stroke:rgb(26.666667%,26.666667%,26.666667%);stroke-opacity:1;stroke-miterlimit:10;\" d=\"M 250.238281 177.160156 L 386.171875 181.578125 \"/>\n",
       "<path style=\"fill:none;stroke-width:1;stroke-linecap:butt;stroke-linejoin:miter;stroke:rgb(26.666667%,26.666667%,26.666667%);stroke-opacity:1;stroke-miterlimit:10;\" d=\"M 250.238281 177.160156 L 478.324219 201.613281 \"/>\n",
       "<path style=\"fill:none;stroke-width:1;stroke-linecap:butt;stroke-linejoin:miter;stroke:rgb(26.666667%,26.666667%,26.666667%);stroke-opacity:1;stroke-miterlimit:10;\" d=\"M 250.238281 177.160156 L 211.585938 42.054688 \"/>\n",
       "<path style=\"fill:none;stroke-width:1;stroke-linecap:butt;stroke-linejoin:miter;stroke:rgb(26.666667%,26.666667%,26.666667%);stroke-opacity:1;stroke-miterlimit:10;\" d=\"M 250.238281 177.160156 L 401.101562 208.246094 \"/>\n",
       "<path style=\"fill:none;stroke-width:1;stroke-linecap:butt;stroke-linejoin:miter;stroke:rgb(26.666667%,26.666667%,26.666667%);stroke-opacity:1;stroke-miterlimit:10;\" d=\"M 250.238281 177.160156 L 354.210938 312.476562 \"/>\n",
       "<path style=\"fill:none;stroke-width:1;stroke-linecap:butt;stroke-linejoin:miter;stroke:rgb(26.666667%,26.666667%,26.666667%);stroke-opacity:1;stroke-miterlimit:10;\" d=\"M 250.238281 177.160156 L 162.789062 79.308594 \"/>\n",
       "<path style=\"fill:none;stroke-width:1;stroke-linecap:butt;stroke-linejoin:miter;stroke:rgb(26.666667%,26.666667%,26.666667%);stroke-opacity:1;stroke-miterlimit:10;\" d=\"M 177.273438 27.640625 L 250.238281 177.160156 \"/>\n",
       "<path style=\"fill:none;stroke-width:1;stroke-linecap:butt;stroke-linejoin:miter;stroke:rgb(26.666667%,26.666667%,26.666667%);stroke-opacity:1;stroke-miterlimit:10;\" d=\"M 250.238281 177.160156 L 74.628906 279.53125 \"/>\n",
       "<path style=\"fill:none;stroke-width:1;stroke-linecap:butt;stroke-linejoin:miter;stroke:rgb(26.666667%,26.666667%,26.666667%);stroke-opacity:1;stroke-miterlimit:10;\" d=\"M 250.238281 177.160156 L 150.914062 103.234375 \"/>\n",
       "<path style=\"fill:none;stroke-width:1;stroke-linecap:butt;stroke-linejoin:miter;stroke:rgb(26.666667%,26.666667%,26.666667%);stroke-opacity:1;stroke-miterlimit:10;\" d=\"M 250.238281 177.160156 L 358.394531 288.402344 \"/>\n",
       "<path style=\"fill:none;stroke-width:1;stroke-linecap:butt;stroke-linejoin:miter;stroke:rgb(26.666667%,26.666667%,26.666667%);stroke-opacity:1;stroke-miterlimit:10;\" d=\"M 250.238281 177.160156 L 107.945312 298.972656 \"/>\n",
       "<path style=\"fill:none;stroke-width:1;stroke-linecap:butt;stroke-linejoin:miter;stroke:rgb(26.666667%,26.666667%,26.666667%);stroke-opacity:1;stroke-miterlimit:10;\" d=\"M 250.238281 177.160156 L 466.402344 230.578125 \"/>\n",
       "<path style=\"fill:none;stroke-width:1;stroke-linecap:butt;stroke-linejoin:miter;stroke:rgb(26.666667%,26.666667%,26.666667%);stroke-opacity:1;stroke-miterlimit:10;\" d=\"M 250.238281 177.160156 L 91.855469 122.582031 \"/>\n",
       "<path style=\"fill:none;stroke-width:1;stroke-linecap:butt;stroke-linejoin:miter;stroke:rgb(26.666667%,26.666667%,26.666667%);stroke-opacity:1;stroke-miterlimit:10;\" d=\"M 250.238281 177.160156 L 274.726562 37.296875 \"/>\n",
       "<path style=\"fill:none;stroke-width:1;stroke-linecap:butt;stroke-linejoin:miter;stroke:rgb(26.666667%,26.666667%,26.666667%);stroke-opacity:1;stroke-miterlimit:10;\" d=\"M 250.238281 177.160156 L 218.875 22.269531 \"/>\n",
       "<path style=\"fill:none;stroke-width:1;stroke-linecap:butt;stroke-linejoin:miter;stroke:rgb(26.666667%,26.666667%,26.666667%);stroke-opacity:1;stroke-miterlimit:10;\" d=\"M 250.238281 177.160156 L 33.34375 144.164062 \"/>\n",
       "<path style=\"fill:none;stroke-width:1;stroke-linecap:butt;stroke-linejoin:miter;stroke:rgb(26.666667%,26.666667%,26.666667%);stroke-opacity:1;stroke-miterlimit:10;\" d=\"M 250.238281 177.160156 L 147.621094 299.175781 \"/>\n",
       "<path style=\"fill:none;stroke-width:1;stroke-linecap:butt;stroke-linejoin:miter;stroke:rgb(26.666667%,26.666667%,26.666667%);stroke-opacity:1;stroke-miterlimit:10;\" d=\"M 250.238281 177.160156 L 409.421875 265.71875 \"/>\n",
       "<path style=\"fill:none;stroke-width:1;stroke-linecap:butt;stroke-linejoin:miter;stroke:rgb(26.666667%,26.666667%,26.666667%);stroke-opacity:1;stroke-miterlimit:10;\" d=\"M 250.238281 177.160156 L 439.445312 150.820312 \"/>\n",
       "<path style=\"fill:none;stroke-width:1;stroke-linecap:butt;stroke-linejoin:miter;stroke:rgb(26.666667%,26.666667%,26.666667%);stroke-opacity:1;stroke-miterlimit:10;\" d=\"M 250.238281 177.160156 L 449.199219 254.992188 \"/>\n",
       "<path style=\"fill:none;stroke-width:1;stroke-linecap:butt;stroke-linejoin:miter;stroke:rgb(26.666667%,26.666667%,26.666667%);stroke-opacity:1;stroke-miterlimit:10;\" d=\"M 250.238281 177.160156 L 40.640625 245.589844 \"/>\n",
       "<path style=\"fill:none;stroke-width:1;stroke-linecap:butt;stroke-linejoin:miter;stroke:rgb(26.666667%,26.666667%,26.666667%);stroke-opacity:1;stroke-miterlimit:10;\" d=\"M 250.238281 177.160156 L 44.769531 106.367188 \"/>\n",
       "<path style=\"fill:none;stroke-width:1;stroke-linecap:butt;stroke-linejoin:miter;stroke:rgb(26.666667%,26.666667%,26.666667%);stroke-opacity:1;stroke-miterlimit:10;\" d=\"M 250.238281 177.160156 L 205.5625 326.746094 \"/>\n",
       "<path style=\"fill:none;stroke-width:1;stroke-linecap:butt;stroke-linejoin:miter;stroke:rgb(26.666667%,26.666667%,26.666667%);stroke-opacity:1;stroke-miterlimit:10;\" d=\"M 250.238281 177.160156 L 278.894531 209.957031 \"/>\n",
       "<path style=\"fill:none;stroke-width:1;stroke-linecap:butt;stroke-linejoin:miter;stroke:rgb(26.666667%,26.666667%,26.666667%);stroke-opacity:1;stroke-miterlimit:10;\" d=\"M 26.09375 211.632812 L 250.238281 177.160156 \"/>\n",
       "<path style=\"fill:none;stroke-width:1;stroke-linecap:butt;stroke-linejoin:miter;stroke:rgb(26.666667%,26.666667%,26.666667%);stroke-opacity:1;stroke-miterlimit:10;\" d=\"M 250.238281 177.160156 L 153.839844 268.644531 \"/>\n",
       "<path style=\"fill:none;stroke-width:1;stroke-linecap:butt;stroke-linejoin:miter;stroke:rgb(26.666667%,26.666667%,26.666667%);stroke-opacity:1;stroke-miterlimit:10;\" d=\"M 250.238281 177.160156 L 62.28125 268.398438 \"/>\n",
       "<path style=\"fill:none;stroke-width:1;stroke-linecap:butt;stroke-linejoin:miter;stroke:rgb(26.666667%,26.666667%,26.666667%);stroke-opacity:1;stroke-miterlimit:10;\" d=\"M 250.238281 177.160156 L 177.46875 213.410156 \"/>\n",
       "<path style=\"fill:none;stroke-width:1;stroke-linecap:butt;stroke-linejoin:miter;stroke:rgb(26.666667%,26.666667%,26.666667%);stroke-opacity:1;stroke-miterlimit:10;\" d=\"M 250.238281 177.160156 L 142.238281 189.550781 \"/>\n",
       "<path style=\"fill:none;stroke-width:1;stroke-linecap:butt;stroke-linejoin:miter;stroke:rgb(26.666667%,26.666667%,26.666667%);stroke-opacity:1;stroke-miterlimit:10;\" d=\"M 250.238281 177.160156 L 142.84375 314.789062 \"/>\n",
       "<path style=\"fill:none;stroke-width:1;stroke-linecap:butt;stroke-linejoin:miter;stroke:rgb(26.666667%,26.666667%,26.666667%);stroke-opacity:1;stroke-miterlimit:10;\" d=\"M 250.238281 177.160156 L 78.347656 96.050781 \"/>\n",
       "<path style=\"fill:none;stroke-width:1;stroke-linecap:butt;stroke-linejoin:miter;stroke:rgb(26.666667%,26.666667%,26.666667%);stroke-opacity:1;stroke-miterlimit:10;\" d=\"M 250.238281 177.160156 L 110.402344 102.554688 \"/>\n",
       "<path style=\"fill:none;stroke-width:1;stroke-linecap:butt;stroke-linejoin:miter;stroke:rgb(26.666667%,26.666667%,26.666667%);stroke-opacity:1;stroke-miterlimit:10;\" d=\"M 250.238281 177.160156 L 306.746094 189.714844 \"/>\n",
       "<path style=\"fill:none;stroke-width:1;stroke-linecap:butt;stroke-linejoin:miter;stroke:rgb(26.666667%,26.666667%,26.666667%);stroke-opacity:1;stroke-miterlimit:10;\" d=\"M 204.515625 295.433594 L 250.238281 177.160156 \"/>\n",
       "<path style=\"fill:none;stroke-width:1;stroke-linecap:butt;stroke-linejoin:miter;stroke:rgb(26.666667%,26.666667%,26.666667%);stroke-opacity:1;stroke-miterlimit:10;\" d=\"M 250.238281 177.160156 L 454.726562 182.894531 \"/>\n",
       "<path style=\"fill:none;stroke-width:1;stroke-linecap:butt;stroke-linejoin:miter;stroke:rgb(26.666667%,26.666667%,26.666667%);stroke-opacity:1;stroke-miterlimit:10;\" d=\"M 250.238281 177.160156 L 473.21875 143.824219 \"/>\n",
       "<path style=\"fill:none;stroke-width:1;stroke-linecap:butt;stroke-linejoin:miter;stroke:rgb(26.666667%,26.666667%,26.666667%);stroke-opacity:1;stroke-miterlimit:10;\" d=\"M 250.238281 177.160156 L 479.757812 187.308594 \"/>\n",
       "<path style=\"fill:none;stroke-width:1;stroke-linecap:butt;stroke-linejoin:miter;stroke:rgb(26.666667%,26.666667%,26.666667%);stroke-opacity:1;stroke-miterlimit:10;\" d=\"M 250.238281 177.160156 L 421.589844 279.203125 \"/>\n",
       "<path style=\"fill:none;stroke-width:1;stroke-linecap:butt;stroke-linejoin:miter;stroke:rgb(26.666667%,26.666667%,26.666667%);stroke-opacity:1;stroke-miterlimit:10;\" d=\"M 250.238281 177.160156 L 359.882812 201.917969 \"/>\n",
       "<path style=\"fill:none;stroke-width:1;stroke-linecap:butt;stroke-linejoin:miter;stroke:rgb(26.666667%,26.666667%,26.666667%);stroke-opacity:1;stroke-miterlimit:10;\" d=\"M 219.3125 130.09375 L 250.238281 177.160156 \"/>\n",
       "<path style=\"fill:none;stroke-width:1;stroke-linecap:butt;stroke-linejoin:miter;stroke:rgb(26.666667%,26.666667%,26.666667%);stroke-opacity:1;stroke-miterlimit:10;\" d=\"M 250.238281 177.160156 L 443.050781 89.925781 \"/>\n",
       "<path style=\"fill:none;stroke-width:1;stroke-linecap:butt;stroke-linejoin:miter;stroke:rgb(26.666667%,26.666667%,26.666667%);stroke-opacity:1;stroke-miterlimit:10;\" d=\"M 250.238281 177.160156 L 269.546875 283.464844 \"/>\n",
       "<path style=\"fill:none;stroke-width:1;stroke-linecap:butt;stroke-linejoin:miter;stroke:rgb(26.666667%,26.666667%,26.666667%);stroke-opacity:1;stroke-miterlimit:10;\" d=\"M 250.238281 177.160156 L 38.699219 120.53125 \"/>\n",
       "<path style=\"fill:none;stroke-width:1;stroke-linecap:butt;stroke-linejoin:miter;stroke:rgb(26.666667%,26.666667%,26.666667%);stroke-opacity:1;stroke-miterlimit:10;\" d=\"M 250.238281 177.160156 L 398.566406 107.425781 \"/>\n",
       "<path style=\"fill:none;stroke-width:1;stroke-linecap:butt;stroke-linejoin:miter;stroke:rgb(26.666667%,26.666667%,26.666667%);stroke-opacity:1;stroke-miterlimit:10;\" d=\"M 250.238281 177.160156 L 321.382812 67.1875 \"/>\n",
       "<path style=\"fill:none;stroke-width:1;stroke-linecap:butt;stroke-linejoin:miter;stroke:rgb(26.666667%,26.666667%,26.666667%);stroke-opacity:1;stroke-miterlimit:10;\" d=\"M 250.238281 177.160156 L 101.195312 205.253906 \"/>\n",
       "<path style=\"fill:none;stroke-width:1;stroke-linecap:butt;stroke-linejoin:miter;stroke:rgb(26.666667%,26.666667%,26.666667%);stroke-opacity:1;stroke-miterlimit:10;\" d=\"M 250.238281 177.160156 L 462.445312 116.527344 \"/>\n",
       "<path style=\"fill:none;stroke-width:1;stroke-linecap:butt;stroke-linejoin:miter;stroke:rgb(26.666667%,26.666667%,26.666667%);stroke-opacity:1;stroke-miterlimit:10;\" d=\"M 250.238281 177.160156 L 399.15625 56.6875 \"/>\n",
       "<path style=\"fill:none;stroke-width:1;stroke-linecap:butt;stroke-linejoin:miter;stroke:rgb(26.666667%,26.666667%,26.666667%);stroke-opacity:1;stroke-miterlimit:10;\" d=\"M 250.238281 177.160156 L 110.027344 175.046875 \"/>\n",
       "<path style=\"fill:none;stroke-width:1;stroke-linecap:butt;stroke-linejoin:miter;stroke:rgb(26.666667%,26.666667%,26.666667%);stroke-opacity:1;stroke-miterlimit:10;\" d=\"M 250.238281 177.160156 L 194.976562 268.074219 \"/>\n",
       "<path style=\"fill:none;stroke-width:1;stroke-linecap:butt;stroke-linejoin:miter;stroke:rgb(26.666667%,26.666667%,26.666667%);stroke-opacity:1;stroke-miterlimit:10;\" d=\"M 250.238281 177.160156 L 135.714844 41.292969 \"/>\n",
       "<path style=\"fill:none;stroke-width:1;stroke-linecap:butt;stroke-linejoin:miter;stroke:rgb(26.666667%,26.666667%,26.666667%);stroke-opacity:1;stroke-miterlimit:10;\" d=\"M 250.238281 177.160156 L 392.925781 83.511719 \"/>\n",
       "<path style=\"fill:none;stroke-width:1;stroke-linecap:butt;stroke-linejoin:miter;stroke:rgb(26.666667%,26.666667%,26.666667%);stroke-opacity:1;stroke-miterlimit:10;\" d=\"M 250.238281 177.160156 L 117.175781 259.453125 \"/>\n",
       "<path style=\"fill:none;stroke-width:1;stroke-linecap:butt;stroke-linejoin:miter;stroke:rgb(26.666667%,26.666667%,26.666667%);stroke-opacity:1;stroke-miterlimit:10;\" d=\"M 323.273438 473.871094 L 448.792969 554.835938 \"/>\n",
       "<path style=\"fill:none;stroke-width:1;stroke-linecap:butt;stroke-linejoin:miter;stroke:rgb(26.666667%,26.666667%,26.666667%);stroke-opacity:1;stroke-miterlimit:10;\" d=\"M 323.273438 473.871094 L 550.054688 513.121094 \"/>\n",
       "<path style=\"fill:none;stroke-width:1;stroke-linecap:butt;stroke-linejoin:miter;stroke:rgb(26.666667%,26.666667%,26.666667%);stroke-opacity:1;stroke-miterlimit:10;\" d=\"M 250.238281 177.160156 L 434.4375 110.339844 \"/>\n",
       "<path style=\"fill:none;stroke-width:1;stroke-linecap:butt;stroke-linejoin:miter;stroke:rgb(26.666667%,26.666667%,26.666667%);stroke-opacity:1;stroke-miterlimit:10;\" d=\"M 250.238281 177.160156 L 402.75 150.398438 \"/>\n",
       "<path style=\"fill:none;stroke-width:1;stroke-linecap:butt;stroke-linejoin:miter;stroke:rgb(26.666667%,26.666667%,26.666667%);stroke-opacity:1;stroke-miterlimit:10;\" d=\"M 250.238281 177.160156 L 436.050781 267.257812 \"/>\n",
       "<path style=\"fill:none;stroke-width:1;stroke-linecap:butt;stroke-linejoin:miter;stroke:rgb(26.666667%,26.666667%,26.666667%);stroke-opacity:1;stroke-miterlimit:10;\" d=\"M 250.238281 177.160156 L 260.816406 21.0625 \"/>\n",
       "<path style=\"fill:none;stroke-width:1;stroke-linecap:butt;stroke-linejoin:miter;stroke:rgb(26.666667%,26.666667%,26.666667%);stroke-opacity:1;stroke-miterlimit:10;\" d=\"M 250.238281 177.160156 L 480.292969 156.863281 \"/>\n",
       "<path style=\"fill:none;stroke-width:1;stroke-linecap:butt;stroke-linejoin:miter;stroke:rgb(26.666667%,26.666667%,26.666667%);stroke-opacity:1;stroke-miterlimit:10;\" d=\"M 250.238281 177.160156 L 223.714844 64.785156 \"/>\n",
       "<path style=\"fill:none;stroke-width:1;stroke-linecap:butt;stroke-linejoin:miter;stroke:rgb(26.666667%,26.666667%,26.666667%);stroke-opacity:1;stroke-miterlimit:10;\" d=\"M 250.238281 177.160156 L 301.78125 24.765625 \"/>\n",
       "<path style=\"fill:none;stroke-width:1;stroke-linecap:butt;stroke-linejoin:miter;stroke:rgb(26.666667%,26.666667%,26.666667%);stroke-opacity:1;stroke-miterlimit:10;\" d=\"M 250.238281 177.160156 L 301.28125 44.84375 \"/>\n",
       "<path style=\"fill:none;stroke-width:1;stroke-linecap:butt;stroke-linejoin:miter;stroke:rgb(26.666667%,26.666667%,26.666667%);stroke-opacity:1;stroke-miterlimit:10;\" d=\"M 250.238281 177.160156 L 370.847656 128.433594 \"/>\n",
       "<path style=\"fill:none;stroke-width:1;stroke-linecap:butt;stroke-linejoin:miter;stroke:rgb(26.666667%,26.666667%,26.666667%);stroke-opacity:1;stroke-miterlimit:10;\" d=\"M 250.238281 177.160156 L 330.761719 45.203125 \"/>\n",
       "<path style=\"fill:none;stroke-width:1;stroke-linecap:butt;stroke-linejoin:miter;stroke:rgb(26.666667%,26.666667%,26.666667%);stroke-opacity:1;stroke-miterlimit:10;\" d=\"M 250.238281 177.160156 L 83.636719 257.574219 \"/>\n",
       "<path style=\"fill:none;stroke-width:1;stroke-linecap:butt;stroke-linejoin:miter;stroke:rgb(26.666667%,26.666667%,26.666667%);stroke-opacity:1;stroke-miterlimit:10;\" d=\"M 250.238281 177.160156 L 442.832031 223.941406 \"/>\n",
       "<path style=\"fill:none;stroke-width:1;stroke-linecap:butt;stroke-linejoin:miter;stroke:rgb(26.666667%,26.666667%,26.666667%);stroke-opacity:1;stroke-miterlimit:10;\" d=\"M 250.238281 177.160156 L 49.074219 203.738281 \"/>\n",
       "<path style=\"fill:none;stroke-width:1;stroke-linecap:butt;stroke-linejoin:miter;stroke:rgb(26.666667%,26.666667%,26.666667%);stroke-opacity:1;stroke-miterlimit:10;\" d=\"M 250.238281 177.160156 L 126.566406 284.429688 \"/>\n",
       "<path style=\"fill:none;stroke-width:1;stroke-linecap:butt;stroke-linejoin:miter;stroke:rgb(26.666667%,26.666667%,26.666667%);stroke-opacity:1;stroke-miterlimit:10;\" d=\"M 250.238281 177.160156 L 21.253906 154.832031 \"/>\n",
       "<path style=\"fill:none;stroke-width:1;stroke-linecap:butt;stroke-linejoin:miter;stroke:rgb(26.666667%,26.666667%,26.666667%);stroke-opacity:1;stroke-miterlimit:10;\" d=\"M 250.238281 177.160156 L 256.691406 233.359375 \"/>\n",
       "<path style=\"fill:none;stroke-width:1;stroke-linecap:butt;stroke-linejoin:miter;stroke:rgb(26.666667%,26.666667%,26.666667%);stroke-opacity:1;stroke-miterlimit:10;\" d=\"M 250.238281 177.160156 L 136.933594 215.425781 \"/>\n",
       "<path style=\"fill:none;stroke-width:1;stroke-linecap:butt;stroke-linejoin:miter;stroke:rgb(26.666667%,26.666667%,26.666667%);stroke-opacity:1;stroke-miterlimit:10;\" d=\"M 250.238281 177.160156 L 43.148438 232.246094 \"/>\n",
       "<path style=\"fill:none;stroke-width:1;stroke-linecap:butt;stroke-linejoin:miter;stroke:rgb(26.666667%,26.666667%,26.666667%);stroke-opacity:1;stroke-miterlimit:10;\" d=\"M 250.238281 177.160156 L 172.355469 289.792969 \"/>\n",
       "<path style=\"fill:none;stroke-width:1;stroke-linecap:butt;stroke-linejoin:miter;stroke:rgb(26.666667%,26.666667%,26.666667%);stroke-opacity:1;stroke-miterlimit:10;\" d=\"M 250.238281 177.160156 L 456.160156 205.433594 \"/>\n",
       "<path style=\"fill:none;stroke-width:1;stroke-linecap:butt;stroke-linejoin:miter;stroke:rgb(26.666667%,26.666667%,26.666667%);stroke-opacity:1;stroke-miterlimit:10;\" d=\"M 250.238281 177.160156 L 329.5625 319.003906 \"/>\n",
       "<path style=\"fill:none;stroke-width:1;stroke-linecap:butt;stroke-linejoin:miter;stroke:rgb(26.666667%,26.666667%,26.666667%);stroke-opacity:1;stroke-miterlimit:10;\" d=\"M 250.238281 177.160156 L 421.207031 172.800781 \"/>\n",
       "<path style=\"fill:none;stroke-width:1;stroke-linecap:butt;stroke-linejoin:miter;stroke:rgb(26.666667%,26.666667%,26.666667%);stroke-opacity:1;stroke-miterlimit:10;\" d=\"M 250.238281 177.160156 L 297.175781 321.507812 \"/>\n",
       "<path style=\"fill:none;stroke-width:1;stroke-linecap:butt;stroke-linejoin:miter;stroke:rgb(26.666667%,26.666667%,26.666667%);stroke-opacity:1;stroke-miterlimit:10;\" d=\"M 250.238281 177.160156 L 355.601562 56.285156 \"/>\n",
       "<path style=\"fill:none;stroke-width:1;stroke-linecap:butt;stroke-linejoin:miter;stroke:rgb(26.666667%,26.666667%,26.666667%);stroke-opacity:1;stroke-miterlimit:10;\" d=\"M 250.238281 177.160156 L 20 184.097656 \"/>\n",
       "<path style=\"fill:none;stroke-width:1;stroke-linecap:butt;stroke-linejoin:miter;stroke:rgb(26.666667%,26.666667%,26.666667%);stroke-opacity:1;stroke-miterlimit:10;\" d=\"M 250.238281 177.160156 L 377.214844 228.246094 \"/>\n",
       "<path style=\"fill:none;stroke-width:1;stroke-linecap:butt;stroke-linejoin:miter;stroke:rgb(26.666667%,26.666667%,26.666667%);stroke-opacity:1;stroke-miterlimit:10;\" d=\"M 250.238281 177.160156 L 187.339844 109.941406 \"/>\n",
       "<path style=\"fill:none;stroke-width:1;stroke-linecap:butt;stroke-linejoin:miter;stroke:rgb(26.666667%,26.666667%,26.666667%);stroke-opacity:1;stroke-miterlimit:10;\" d=\"M 250.238281 177.160156 L 339.789062 175.570312 \"/>\n",
       "<path style=\"fill:none;stroke-width:1;stroke-linecap:butt;stroke-linejoin:miter;stroke:rgb(26.666667%,26.666667%,26.666667%);stroke-opacity:1;stroke-miterlimit:10;\" d=\"M 250.238281 177.160156 L 310.128906 91.699219 \"/>\n",
       "<path style=\"fill:none;stroke-width:1;stroke-linecap:butt;stroke-linejoin:miter;stroke:rgb(26.666667%,26.666667%,26.666667%);stroke-opacity:1;stroke-miterlimit:10;\" d=\"M 250.238281 177.160156 L 414.046875 128.074219 \"/>\n",
       "<path style=\"fill:none;stroke-width:1;stroke-linecap:butt;stroke-linejoin:miter;stroke:rgb(26.666667%,26.666667%,26.666667%);stroke-opacity:1;stroke-miterlimit:10;\" d=\"M 250.238281 177.160156 L 162.300781 317.808594 \"/>\n",
       "<path style=\"fill:none;stroke-width:1;stroke-linecap:butt;stroke-linejoin:miter;stroke:rgb(26.666667%,26.666667%,26.666667%);stroke-opacity:1;stroke-miterlimit:10;\" d=\"M 250.238281 177.160156 L 168.214844 168.640625 \"/>\n",
       "<path style=\"fill:none;stroke-width:1;stroke-linecap:butt;stroke-linejoin:miter;stroke:rgb(26.666667%,26.666667%,26.666667%);stroke-opacity:1;stroke-miterlimit:10;\" d=\"M 250.238281 177.160156 L 293.699219 128.109375 \"/>\n",
       "<path style=\"fill:none;stroke-width:1;stroke-linecap:butt;stroke-linejoin:miter;stroke:rgb(26.666667%,26.666667%,26.666667%);stroke-opacity:1;stroke-miterlimit:10;\" d=\"M 250.238281 177.160156 L 116.699219 49.234375 \"/>\n",
       "<path style=\"fill:none;stroke-width:1;stroke-linecap:butt;stroke-linejoin:miter;stroke:rgb(26.666667%,26.666667%,26.666667%);stroke-opacity:1;stroke-miterlimit:10;\" d=\"M 250.238281 177.160156 L 414.667969 231.515625 \"/>\n",
       "<path style=\"fill:none;stroke-width:1;stroke-linecap:butt;stroke-linejoin:miter;stroke:rgb(26.666667%,26.666667%,26.666667%);stroke-opacity:1;stroke-miterlimit:10;\" d=\"M 250.238281 177.160156 L 321.261719 28.054688 \"/>\n",
       "<path style=\"fill:none;stroke-width:1;stroke-linecap:butt;stroke-linejoin:miter;stroke:rgb(26.666667%,26.666667%,26.666667%);stroke-opacity:1;stroke-miterlimit:10;\" d=\"M 250.238281 177.160156 L 389.585938 296.921875 \"/>\n",
       "<path style=\"fill:none;stroke-width:1;stroke-linecap:butt;stroke-linejoin:miter;stroke:rgb(26.666667%,26.666667%,26.666667%);stroke-opacity:1;stroke-miterlimit:10;\" d=\"M 250.238281 177.160156 L 272.417969 322.902344 \"/>\n",
       "<path style=\"fill:none;stroke-width:1;stroke-linecap:butt;stroke-linejoin:miter;stroke:rgb(26.666667%,26.666667%,26.666667%);stroke-opacity:1;stroke-miterlimit:10;\" d=\"M 250.238281 177.160156 L 155.652344 34.324219 \"/>\n",
       "<path style=\"fill:none;stroke-width:1;stroke-linecap:butt;stroke-linejoin:miter;stroke:rgb(26.666667%,26.666667%,26.666667%);stroke-opacity:1;stroke-miterlimit:10;\" d=\"M 250.238281 177.160156 L 428.28125 197.355469 \"/>\n",
       "<path style=\"fill:none;stroke-width:1;stroke-linecap:butt;stroke-linejoin:miter;stroke:rgb(26.666667%,26.666667%,26.666667%);stroke-opacity:1;stroke-miterlimit:10;\" d=\"M 250.238281 177.160156 L 175.765625 244.167969 \"/>\n",
       "<path style=\"fill:none;stroke-width:1;stroke-linecap:butt;stroke-linejoin:miter;stroke:rgb(26.666667%,26.666667%,26.666667%);stroke-opacity:1;stroke-miterlimit:10;\" d=\"M 250.238281 177.160156 L 90.8125 291.261719 \"/>\n",
       "<path style=\"fill:none;stroke-width:1;stroke-linecap:butt;stroke-linejoin:miter;stroke:rgb(26.666667%,26.666667%,26.666667%);stroke-opacity:1;stroke-miterlimit:10;\" d=\"M 250.238281 177.160156 L 55.988281 93.324219 \"/>\n",
       "<path style=\"fill:none;stroke-width:1;stroke-linecap:butt;stroke-linejoin:miter;stroke:rgb(26.666667%,26.666667%,26.666667%);stroke-opacity:1;stroke-miterlimit:10;\" d=\"M 314.300781 286.277344 L 250.238281 177.160156 \"/>\n",
       "<path style=\"fill:none;stroke-width:1;stroke-linecap:butt;stroke-linejoin:miter;stroke:rgb(26.666667%,26.666667%,26.666667%);stroke-opacity:1;stroke-miterlimit:10;\" d=\"M 250.238281 177.160156 L 383.824219 277.367188 \"/>\n",
       "<path style=\"fill:none;stroke-width:1;stroke-linecap:butt;stroke-linejoin:miter;stroke:rgb(26.666667%,26.666667%,26.666667%);stroke-opacity:1;stroke-miterlimit:10;\" d=\"M 250.238281 177.160156 L 367.265625 156.09375 \"/>\n",
       "<path style=\"fill:none;stroke-width:1;stroke-linecap:butt;stroke-linejoin:miter;stroke:rgb(26.666667%,26.666667%,26.666667%);stroke-opacity:1;stroke-miterlimit:10;\" d=\"M 250.238281 177.160156 L 195.515625 188.847656 \"/>\n",
       "<path style=\"fill:none;stroke-width:1;stroke-linecap:butt;stroke-linejoin:miter;stroke:rgb(26.666667%,26.666667%,26.666667%);stroke-opacity:1;stroke-miterlimit:10;\" d=\"M 343.058594 32.675781 L 250.238281 177.160156 \"/>\n",
       "<path style=\"fill:none;stroke-width:1;stroke-linecap:butt;stroke-linejoin:miter;stroke:rgb(26.666667%,26.666667%,26.666667%);stroke-opacity:1;stroke-miterlimit:10;\" d=\"M 250.238281 177.160156 L 29.449219 224.699219 \"/>\n",
       "<path style=\"fill:none;stroke-width:1;stroke-linecap:butt;stroke-linejoin:miter;stroke:rgb(26.666667%,26.666667%,26.666667%);stroke-opacity:1;stroke-miterlimit:10;\" d=\"M 250.238281 177.160156 L 312.515625 310.496094 \"/>\n",
       "<path style=\"fill:none;stroke-width:1;stroke-linecap:butt;stroke-linejoin:miter;stroke:rgb(26.666667%,26.666667%,26.666667%);stroke-opacity:1;stroke-miterlimit:10;\" d=\"M 330.984375 113.824219 L 250.238281 177.160156 \"/>\n",
       "<path style=\"fill-rule:nonzero;fill:rgb(100%,0%,0%);fill-opacity:1;stroke-width:1;stroke-linecap:butt;stroke-linejoin:miter;stroke:rgb(0%,0%,0%);stroke-opacity:1;stroke-miterlimit:10;\" d=\"M 494.738281 542.585938 C 494.738281 548.109375 490.261719 552.585938 484.738281 552.585938 C 479.214844 552.585938 474.738281 548.109375 474.738281 542.585938 C 474.738281 537.0625 479.214844 532.585938 484.738281 532.585938 C 490.261719 532.585938 494.738281 537.0625 494.738281 542.585938 \"/>\n",
       "<path style=\"fill-rule:nonzero;fill:rgb(100%,0%,0%);fill-opacity:1;stroke-width:1;stroke-linecap:butt;stroke-linejoin:miter;stroke:rgb(0%,0%,0%);stroke-opacity:1;stroke-miterlimit:10;\" d=\"M 197.496094 311.980469 C 197.496094 317.503906 193.019531 321.980469 187.496094 321.980469 C 181.972656 321.980469 177.496094 317.503906 177.496094 311.980469 C 177.496094 306.460938 181.972656 301.980469 187.496094 301.980469 C 193.019531 301.980469 197.496094 306.460938 197.496094 311.980469 \"/>\n",
       "<path style=\"fill-rule:nonzero;fill:rgb(100%,0%,0%);fill-opacity:1;stroke-width:1;stroke-linecap:butt;stroke-linejoin:miter;stroke:rgb(0%,0%,0%);stroke-opacity:1;stroke-miterlimit:10;\" d=\"M 301.300781 344.824219 C 301.300781 350.34375 296.824219 354.824219 291.300781 354.824219 C 285.777344 354.824219 281.300781 350.34375 281.300781 344.824219 C 281.300781 339.300781 285.777344 334.824219 291.300781 334.824219 C 296.824219 334.824219 301.300781 339.300781 301.300781 344.824219 \"/>\n",
       "<path style=\"fill-rule:nonzero;fill:rgb(100%,0%,0%);fill-opacity:1;stroke-width:1;stroke-linecap:butt;stroke-linejoin:miter;stroke:rgb(0%,0%,0%);stroke-opacity:1;stroke-miterlimit:10;\" d=\"M 242.515625 259.265625 C 242.515625 264.789062 238.039062 269.265625 232.515625 269.265625 C 226.992188 269.265625 222.515625 264.789062 222.515625 259.265625 C 222.515625 253.742188 226.992188 249.265625 232.515625 249.265625 C 238.039062 249.265625 242.515625 253.742188 242.515625 259.265625 \"/>\n",
       "<path style=\"fill-rule:nonzero;fill:rgb(100%,0%,0%);fill-opacity:1;stroke-width:1;stroke-linecap:butt;stroke-linejoin:miter;stroke:rgb(0%,0%,0%);stroke-opacity:1;stroke-miterlimit:10;\" d=\"M 324.300781 286.277344 C 324.300781 291.800781 319.824219 296.277344 314.300781 296.277344 C 308.777344 296.277344 304.300781 291.800781 304.300781 286.277344 C 304.300781 280.753906 308.777344 276.277344 314.300781 276.277344 C 319.824219 276.277344 324.300781 280.753906 324.300781 286.277344 \"/>\n",
       "<path style=\"fill-rule:nonzero;fill:rgb(100%,0%,0%);fill-opacity:1;stroke-width:1;stroke-linecap:butt;stroke-linejoin:miter;stroke:rgb(0%,0%,0%);stroke-opacity:1;stroke-miterlimit:10;\" d=\"M 263.039062 308.691406 C 263.039062 314.214844 258.5625 318.691406 253.039062 318.691406 C 247.515625 318.691406 243.039062 314.214844 243.039062 308.691406 C 243.039062 303.167969 247.515625 298.691406 253.039062 298.691406 C 258.5625 298.691406 263.039062 303.167969 263.039062 308.691406 \"/>\n",
       "<path style=\"fill-rule:nonzero;fill:rgb(100%,0%,0%);fill-opacity:1;stroke-width:1;stroke-linecap:butt;stroke-linejoin:miter;stroke:rgb(0%,0%,0%);stroke-opacity:1;stroke-miterlimit:10;\" d=\"M 214.515625 295.433594 C 214.515625 300.957031 210.039062 305.433594 204.515625 305.433594 C 198.992188 305.433594 194.515625 300.957031 194.515625 295.433594 C 194.515625 289.910156 198.992188 285.433594 204.515625 285.433594 C 210.039062 285.433594 214.515625 289.910156 214.515625 295.433594 \"/>\n",
       "<path style=\"fill-rule:nonzero;fill:rgb(100%,0%,0%);fill-opacity:1;stroke-width:1;stroke-linecap:butt;stroke-linejoin:miter;stroke:rgb(0%,0%,0%);stroke-opacity:1;stroke-miterlimit:10;\" d=\"M 353.058594 32.675781 C 353.058594 38.199219 348.582031 42.675781 343.058594 42.675781 C 337.539062 42.675781 333.058594 38.199219 333.058594 32.675781 C 333.058594 27.15625 337.539062 22.675781 343.058594 22.675781 C 348.582031 22.675781 353.058594 27.15625 353.058594 32.675781 \"/>\n",
       "<path style=\"fill-rule:nonzero;fill:rgb(100%,0%,0%);fill-opacity:1;stroke-width:1;stroke-linecap:butt;stroke-linejoin:miter;stroke:rgb(0%,0%,0%);stroke-opacity:1;stroke-miterlimit:10;\" d=\"M 382.816406 304.535156 C 382.816406 310.054688 378.335938 314.535156 372.816406 314.535156 C 367.292969 314.535156 362.816406 310.054688 362.816406 304.535156 C 362.816406 299.011719 367.292969 294.535156 372.816406 294.535156 C 378.335938 294.535156 382.816406 299.011719 382.816406 304.535156 \"/>\n",
       "<path style=\"fill-rule:nonzero;fill:rgb(100%,0%,0%);fill-opacity:1;stroke-width:1;stroke-linecap:butt;stroke-linejoin:miter;stroke:rgb(0%,0%,0%);stroke-opacity:1;stroke-miterlimit:10;\" d=\"M 283.578125 259.5625 C 283.578125 265.085938 279.101562 269.5625 273.578125 269.5625 C 268.054688 269.5625 263.578125 265.085938 263.578125 259.5625 C 263.578125 254.039062 268.054688 249.5625 273.578125 249.5625 C 279.101562 249.5625 283.578125 254.039062 283.578125 259.5625 \"/>\n",
       "<path style=\"fill-rule:nonzero;fill:rgb(100%,0%,0%);fill-opacity:1;stroke-width:1;stroke-linecap:butt;stroke-linejoin:miter;stroke:rgb(0%,0%,0%);stroke-opacity:1;stroke-miterlimit:10;\" d=\"M 36.09375 211.632812 C 36.09375 217.152344 31.617188 221.632812 26.09375 221.632812 C 20.570312 221.632812 16.09375 217.152344 16.09375 211.632812 C 16.09375 206.109375 20.570312 201.632812 26.09375 201.632812 C 31.617188 201.632812 36.09375 206.109375 36.09375 211.632812 \"/>\n",
       "<path style=\"fill-rule:nonzero;fill:rgb(100%,0%,0%);fill-opacity:1;stroke-width:1;stroke-linecap:butt;stroke-linejoin:miter;stroke:rgb(0%,0%,0%);stroke-opacity:1;stroke-miterlimit:10;\" d=\"M 229.3125 130.09375 C 229.3125 135.613281 224.835938 140.09375 219.3125 140.09375 C 213.789062 140.09375 209.3125 135.613281 209.3125 130.09375 C 209.3125 124.570312 213.789062 120.09375 219.3125 120.09375 C 224.835938 120.09375 229.3125 124.570312 229.3125 130.09375 \"/>\n",
       "<path style=\"fill-rule:nonzero;fill:rgb(100%,0%,0%);fill-opacity:1;stroke-width:1;stroke-linecap:butt;stroke-linejoin:miter;stroke:rgb(0%,0%,0%);stroke-opacity:1;stroke-miterlimit:10;\" d=\"M 340.984375 113.824219 C 340.984375 119.347656 336.503906 123.824219 330.984375 123.824219 C 325.460938 123.824219 320.984375 119.347656 320.984375 113.824219 C 320.984375 108.300781 325.460938 103.824219 330.984375 103.824219 C 336.503906 103.824219 340.984375 108.300781 340.984375 113.824219 \"/>\n",
       "<path style=\"fill-rule:nonzero;fill:rgb(100%,0%,0%);fill-opacity:1;stroke-width:1;stroke-linecap:butt;stroke-linejoin:miter;stroke:rgb(0%,0%,0%);stroke-opacity:1;stroke-miterlimit:10;\" d=\"M 187.273438 27.640625 C 187.273438 33.160156 182.792969 37.640625 177.273438 37.640625 C 171.75 37.640625 167.273438 33.160156 167.273438 27.640625 C 167.273438 22.117188 171.75 17.640625 177.273438 17.640625 C 182.792969 17.640625 187.273438 22.117188 187.273438 27.640625 \"/>\n",
       "<path style=\"fill-rule:nonzero;fill:rgb(100%,0%,0%);fill-opacity:1;stroke-width:1;stroke-linecap:butt;stroke-linejoin:miter;stroke:rgb(0%,0%,0%);stroke-opacity:1;stroke-miterlimit:10;\" d=\"M 341.160156 142.707031 C 341.160156 148.230469 336.683594 152.707031 331.160156 152.707031 C 325.640625 152.707031 321.160156 148.230469 321.160156 142.707031 C 321.160156 137.1875 325.640625 132.707031 331.160156 132.707031 C 336.683594 132.707031 341.160156 137.1875 341.160156 142.707031 \"/>\n",
       "<path style=\"fill-rule:nonzero;fill:rgb(100%,0%,0%);fill-opacity:1;stroke-width:1;stroke-linecap:butt;stroke-linejoin:miter;stroke:rgb(0%,0%,0%);stroke-opacity:1;stroke-miterlimit:10;\" d=\"M 296.597656 68.578125 C 296.597656 74.101562 292.121094 78.578125 286.597656 78.578125 C 281.074219 78.578125 276.597656 74.101562 276.597656 68.578125 C 276.597656 63.054688 281.074219 58.578125 286.597656 58.578125 C 292.121094 58.578125 296.597656 63.054688 296.597656 68.578125 \"/>\n",
       "<path style=\"fill-rule:nonzero;fill:rgb(100%,0%,0%);fill-opacity:1;stroke-width:1;stroke-linecap:butt;stroke-linejoin:miter;stroke:rgb(0%,0%,0%);stroke-opacity:1;stroke-miterlimit:10;\" d=\"M 260.238281 177.160156 C 260.238281 182.679688 255.761719 187.160156 250.238281 187.160156 C 244.714844 187.160156 240.238281 182.679688 240.238281 177.160156 C 240.238281 171.636719 244.714844 167.160156 250.238281 167.160156 C 255.761719 167.160156 260.238281 171.636719 260.238281 177.160156 \"/>\n",
       "<path style=\"fill-rule:nonzero;fill:rgb(100%,0%,0%);fill-opacity:1;stroke-width:1;stroke-linecap:butt;stroke-linejoin:miter;stroke:rgb(0%,0%,0%);stroke-opacity:1;stroke-miterlimit:10;\" d=\"M 464.320312 103.085938 C 464.320312 108.609375 459.84375 113.085938 454.320312 113.085938 C 448.796875 113.085938 444.320312 108.609375 444.320312 103.085938 C 444.320312 97.5625 448.796875 93.085938 454.320312 93.085938 C 459.84375 93.085938 464.320312 97.5625 464.320312 103.085938 \"/>\n",
       "<path style=\"fill-rule:nonzero;fill:rgb(100%,0%,0%);fill-opacity:1;stroke-width:1;stroke-linecap:butt;stroke-linejoin:miter;stroke:rgb(0%,0%,0%);stroke-opacity:1;stroke-miterlimit:10;\" d=\"M 322.773438 263.773438 C 322.773438 269.296875 318.296875 273.773438 312.773438 273.773438 C 307.253906 273.773438 302.773438 269.296875 302.773438 263.773438 C 302.773438 258.25 307.253906 253.773438 312.773438 253.773438 C 318.296875 253.773438 322.773438 258.25 322.773438 263.773438 \"/>\n",
       "<path style=\"fill-rule:nonzero;fill:rgb(100%,0%,0%);fill-opacity:1;stroke-width:1;stroke-linecap:butt;stroke-linejoin:miter;stroke:rgb(0%,0%,0%);stroke-opacity:1;stroke-miterlimit:10;\" d=\"M 291.933594 21.519531 C 291.933594 27.042969 287.457031 31.519531 281.933594 31.519531 C 276.410156 31.519531 271.933594 27.042969 271.933594 21.519531 C 271.933594 16 276.410156 11.519531 281.933594 11.519531 C 287.457031 11.519531 291.933594 16 291.933594 21.519531 \"/>\n",
       "<path style=\"fill-rule:nonzero;fill:rgb(100%,0%,0%);fill-opacity:1;stroke-width:1;stroke-linecap:butt;stroke-linejoin:miter;stroke:rgb(0%,0%,0%);stroke-opacity:1;stroke-miterlimit:10;\" d=\"M 267.464844 139.085938 C 267.464844 144.609375 262.988281 149.085938 257.464844 149.085938 C 251.941406 149.085938 247.464844 144.609375 247.464844 139.085938 C 247.464844 133.5625 251.941406 129.085938 257.464844 129.085938 C 262.988281 129.085938 267.464844 133.5625 267.464844 139.085938 \"/>\n",
       "<path style=\"fill-rule:nonzero;fill:rgb(100%,0%,0%);fill-opacity:1;stroke-width:1;stroke-linecap:butt;stroke-linejoin:miter;stroke:rgb(0%,0%,0%);stroke-opacity:1;stroke-miterlimit:10;\" d=\"M 415.605469 288.371094 C 415.605469 293.894531 411.125 298.371094 405.605469 298.371094 C 400.082031 298.371094 395.605469 293.894531 395.605469 288.371094 C 395.605469 282.847656 400.082031 278.371094 405.605469 278.371094 C 411.125 278.371094 415.605469 282.847656 415.605469 288.371094 \"/>\n",
       "<path style=\"fill-rule:nonzero;fill:rgb(100%,0%,0%);fill-opacity:1;stroke-width:1;stroke-linecap:butt;stroke-linejoin:miter;stroke:rgb(0%,0%,0%);stroke-opacity:1;stroke-miterlimit:10;\" d=\"M 360.011719 80.953125 C 360.011719 86.476562 355.53125 90.953125 350.011719 90.953125 C 344.488281 90.953125 340.011719 86.476562 340.011719 80.953125 C 340.011719 75.429688 344.488281 70.953125 350.011719 70.953125 C 355.53125 70.953125 360.011719 75.429688 360.011719 80.953125 \"/>\n",
       "<path style=\"fill-rule:nonzero;fill:rgb(100%,0%,0%);fill-opacity:1;stroke-width:1;stroke-linecap:butt;stroke-linejoin:miter;stroke:rgb(0%,0%,0%);stroke-opacity:1;stroke-miterlimit:10;\" d=\"M 54.984375 161.988281 C 54.984375 167.511719 50.507812 171.988281 44.984375 171.988281 C 39.460938 171.988281 34.984375 167.511719 34.984375 161.988281 C 34.984375 156.464844 39.460938 151.988281 44.984375 151.988281 C 50.507812 151.988281 54.984375 156.464844 54.984375 161.988281 \"/>\n",
       "<path style=\"fill-rule:nonzero;fill:rgb(100%,0%,0%);fill-opacity:1;stroke-width:1;stroke-linecap:butt;stroke-linejoin:miter;stroke:rgb(0%,0%,0%);stroke-opacity:1;stroke-miterlimit:10;\" d=\"M 245.863281 105.613281 C 245.863281 111.136719 241.386719 115.613281 235.863281 115.613281 C 230.34375 115.613281 225.863281 111.136719 225.863281 105.613281 C 225.863281 100.089844 230.34375 95.613281 235.863281 95.613281 C 241.386719 95.613281 245.863281 100.089844 245.863281 105.613281 \"/>\n",
       "<path style=\"fill-rule:nonzero;fill:rgb(100%,0%,0%);fill-opacity:1;stroke-width:1;stroke-linecap:butt;stroke-linejoin:miter;stroke:rgb(0%,0%,0%);stroke-opacity:1;stroke-miterlimit:10;\" d=\"M 142.148438 125.460938 C 142.148438 130.980469 137.671875 135.460938 132.148438 135.460938 C 126.625 135.460938 122.148438 130.980469 122.148438 125.460938 C 122.148438 119.9375 126.625 115.460938 132.148438 115.460938 C 137.671875 115.460938 142.148438 119.9375 142.148438 125.460938 \"/>\n",
       "<path style=\"fill-rule:nonzero;fill:rgb(100%,0%,0%);fill-opacity:1;stroke-width:1;stroke-linecap:butt;stroke-linejoin:miter;stroke:rgb(0%,0%,0%);stroke-opacity:1;stroke-miterlimit:10;\" d=\"M 146.480469 152.625 C 146.480469 158.148438 142.003906 162.625 136.480469 162.625 C 130.957031 162.625 126.480469 158.148438 126.480469 152.625 C 126.480469 147.101562 130.957031 142.625 136.480469 142.625 C 142.003906 142.625 146.480469 147.101562 146.480469 152.625 \"/>\n",
       "<path style=\"fill-rule:nonzero;fill:rgb(100%,0%,0%);fill-opacity:1;stroke-width:1;stroke-linecap:butt;stroke-linejoin:miter;stroke:rgb(0%,0%,0%);stroke-opacity:1;stroke-miterlimit:10;\" d=\"M 71.617188 137.53125 C 71.617188 143.054688 67.140625 147.53125 61.617188 147.53125 C 56.09375 147.53125 51.617188 143.054688 51.617188 137.53125 C 51.617188 132.007812 56.09375 127.53125 61.617188 127.53125 C 67.140625 127.53125 71.617188 132.007812 71.617188 137.53125 \"/>\n",
       "<path style=\"fill-rule:nonzero;fill:rgb(100%,0%,0%);fill-opacity:1;stroke-width:1;stroke-linecap:butt;stroke-linejoin:miter;stroke:rgb(0%,0%,0%);stroke-opacity:1;stroke-miterlimit:10;\" d=\"M 197.378906 63.140625 C 197.378906 68.664062 192.898438 73.140625 187.378906 73.140625 C 181.855469 73.140625 177.378906 68.664062 177.378906 63.140625 C 177.378906 57.621094 181.855469 53.140625 187.378906 53.140625 C 192.898438 53.140625 197.378906 57.621094 197.378906 63.140625 \"/>\n",
       "<path style=\"fill-rule:nonzero;fill:rgb(100%,0%,0%);fill-opacity:1;stroke-width:1;stroke-linecap:butt;stroke-linejoin:miter;stroke:rgb(0%,0%,0%);stroke-opacity:1;stroke-miterlimit:10;\" d=\"M 209.25 24.832031 C 209.25 30.351562 204.773438 34.832031 199.25 34.832031 C 193.726562 34.832031 189.25 30.351562 189.25 24.832031 C 189.25 19.308594 193.726562 14.832031 199.25 14.832031 C 204.773438 14.832031 209.25 19.308594 209.25 24.832031 \"/>\n",
       "<path style=\"fill-rule:nonzero;fill:rgb(100%,0%,0%);fill-opacity:1;stroke-width:1;stroke-linecap:butt;stroke-linejoin:miter;stroke:rgb(0%,0%,0%);stroke-opacity:1;stroke-miterlimit:10;\" d=\"M 243.582031 285.757812 C 243.582031 291.28125 239.105469 295.757812 233.582031 295.757812 C 228.058594 295.757812 223.582031 291.28125 223.582031 285.757812 C 223.582031 280.234375 228.058594 275.757812 233.582031 275.757812 C 239.105469 275.757812 243.582031 280.234375 243.582031 285.757812 \"/>\n",
       "<path style=\"fill-rule:nonzero;fill:rgb(100%,0%,0%);fill-opacity:1;stroke-width:1;stroke-linecap:butt;stroke-linejoin:miter;stroke:rgb(0%,0%,0%);stroke-opacity:1;stroke-miterlimit:10;\" d=\"M 285.90625 104.144531 C 285.90625 109.664062 281.429688 114.144531 275.90625 114.144531 C 270.382812 114.144531 265.90625 109.664062 265.90625 104.144531 C 265.90625 98.621094 270.382812 94.144531 275.90625 94.144531 C 281.429688 94.144531 285.90625 98.621094 285.90625 104.144531 \"/>\n",
       "<path style=\"fill-rule:nonzero;fill:rgb(100%,0%,0%);fill-opacity:1;stroke-width:1;stroke-linecap:butt;stroke-linejoin:miter;stroke:rgb(0%,0%,0%);stroke-opacity:1;stroke-miterlimit:10;\" d=\"M 112.449219 232.753906 C 112.449219 238.277344 107.972656 242.753906 102.449219 242.753906 C 96.925781 242.753906 92.449219 238.277344 92.449219 232.753906 C 92.449219 227.230469 96.925781 222.753906 102.449219 222.753906 C 107.972656 222.753906 112.449219 227.230469 112.449219 232.753906 \"/>\n",
       "<path style=\"fill-rule:nonzero;fill:rgb(100%,0%,0%);fill-opacity:1;stroke-width:1;stroke-linecap:butt;stroke-linejoin:miter;stroke:rgb(0%,0%,0%);stroke-opacity:1;stroke-miterlimit:10;\" d=\"M 191.585938 325.246094 C 191.585938 330.769531 187.109375 335.246094 181.585938 335.246094 C 176.066406 335.246094 171.585938 330.769531 171.585938 325.246094 C 171.585938 319.726562 176.066406 315.246094 181.585938 315.246094 C 187.109375 315.246094 191.585938 319.726562 191.585938 325.246094 \"/>\n",
       "<path style=\"fill-rule:nonzero;fill:rgb(100%,0%,0%);fill-opacity:1;stroke-width:1;stroke-linecap:butt;stroke-linejoin:miter;stroke:rgb(0%,0%,0%);stroke-opacity:1;stroke-miterlimit:10;\" d=\"M 84.542969 162.027344 C 84.542969 167.550781 80.066406 172.027344 74.542969 172.027344 C 69.023438 172.027344 64.542969 167.550781 64.542969 162.027344 C 64.542969 156.507812 69.023438 152.027344 74.542969 152.027344 C 80.066406 152.027344 84.542969 156.507812 84.542969 162.027344 \"/>\n",
       "<path style=\"fill-rule:nonzero;fill:rgb(100%,0%,0%);fill-opacity:1;stroke-width:1;stroke-linecap:butt;stroke-linejoin:miter;stroke:rgb(0%,0%,0%);stroke-opacity:1;stroke-miterlimit:10;\" d=\"M 348.390625 302.035156 C 348.390625 307.558594 343.914062 312.035156 338.390625 312.035156 C 332.867188 312.035156 328.390625 307.558594 328.390625 302.035156 C 328.390625 296.511719 332.867188 292.035156 338.390625 292.035156 C 343.914062 292.035156 348.390625 296.511719 348.390625 302.035156 \"/>\n",
       "<path style=\"fill-rule:nonzero;fill:rgb(100%,0%,0%);fill-opacity:1;stroke-width:1;stroke-linecap:butt;stroke-linejoin:miter;stroke:rgb(0%,0%,0%);stroke-opacity:1;stroke-miterlimit:10;\" d=\"M 79.589844 217.863281 C 79.589844 223.386719 75.113281 227.863281 69.589844 227.863281 C 64.070312 227.863281 59.589844 223.386719 59.589844 217.863281 C 59.589844 212.339844 64.070312 207.863281 69.589844 207.863281 C 75.113281 207.863281 79.589844 212.339844 79.589844 217.863281 \"/>\n",
       "<path style=\"fill-rule:nonzero;fill:rgb(100%,0%,0%);fill-opacity:1;stroke-width:1;stroke-linecap:butt;stroke-linejoin:miter;stroke:rgb(0%,0%,0%);stroke-opacity:1;stroke-miterlimit:10;\" d=\"M 466.3125 242.269531 C 466.3125 247.789062 461.835938 252.269531 456.3125 252.269531 C 450.792969 252.269531 446.3125 247.789062 446.3125 242.269531 C 446.3125 236.746094 450.792969 232.269531 456.3125 232.269531 C 461.835938 232.269531 466.3125 236.746094 466.3125 242.269531 \"/>\n",
       "<path style=\"fill-rule:nonzero;fill:rgb(100%,0%,0%);fill-opacity:1;stroke-width:1;stroke-linecap:butt;stroke-linejoin:miter;stroke:rgb(0%,0%,0%);stroke-opacity:1;stroke-miterlimit:10;\" d=\"M 108.9375 145.828125 C 108.9375 151.351562 104.460938 155.828125 98.9375 155.828125 C 93.417969 155.828125 88.9375 151.351562 88.9375 145.828125 C 88.9375 140.304688 93.417969 135.828125 98.9375 135.828125 C 104.460938 135.828125 108.9375 140.304688 108.9375 145.828125 \"/>\n",
       "<path style=\"fill-rule:nonzero;fill:rgb(100%,0%,0%);fill-opacity:1;stroke-width:1;stroke-linecap:butt;stroke-linejoin:miter;stroke:rgb(0%,0%,0%);stroke-opacity:1;stroke-miterlimit:10;\" d=\"M 216.578125 156.09375 C 216.578125 161.613281 212.101562 166.09375 206.578125 166.09375 C 201.058594 166.09375 196.578125 161.613281 196.578125 156.09375 C 196.578125 150.570312 201.058594 146.09375 206.578125 146.09375 C 212.101562 146.09375 216.578125 150.570312 216.578125 156.09375 \"/>\n",
       "<path style=\"fill-rule:nonzero;fill:rgb(100%,0%,0%);fill-opacity:1;stroke-width:1;stroke-linecap:butt;stroke-linejoin:miter;stroke:rgb(0%,0%,0%);stroke-opacity:1;stroke-miterlimit:10;\" d=\"M 437.839844 76.058594 C 437.839844 81.582031 433.363281 86.058594 427.839844 86.058594 C 422.316406 86.058594 417.839844 81.582031 417.839844 76.058594 C 417.839844 70.535156 422.316406 66.058594 427.839844 66.058594 C 433.363281 66.058594 437.839844 70.535156 437.839844 76.058594 \"/>\n",
       "<path style=\"fill-rule:nonzero;fill:rgb(100%,0%,0%);fill-opacity:1;stroke-width:1;stroke-linecap:butt;stroke-linejoin:miter;stroke:rgb(0%,0%,0%);stroke-opacity:1;stroke-miterlimit:10;\" d=\"M 149.3125 241.171875 C 149.3125 246.695312 144.835938 251.171875 139.3125 251.171875 C 133.789062 251.171875 129.3125 246.695312 129.3125 241.171875 C 129.3125 235.648438 133.789062 231.171875 139.3125 231.171875 C 144.835938 231.171875 149.3125 235.648438 149.3125 241.171875 \"/>\n",
       "<path style=\"fill-rule:nonzero;fill:rgb(100%,0%,0%);fill-opacity:1;stroke-width:1;stroke-linecap:butt;stroke-linejoin:miter;stroke:rgb(0%,0%,0%);stroke-opacity:1;stroke-miterlimit:10;\" d=\"M 430.996094 90.542969 C 430.996094 96.066406 426.519531 100.542969 420.996094 100.542969 C 415.472656 100.542969 410.996094 96.066406 410.996094 90.542969 C 410.996094 85.019531 415.472656 80.542969 420.996094 80.542969 C 426.519531 80.542969 430.996094 85.019531 430.996094 90.542969 \"/>\n",
       "<path style=\"fill-rule:nonzero;fill:rgb(100%,0%,0%);fill-opacity:1;stroke-width:1;stroke-linecap:butt;stroke-linejoin:miter;stroke:rgb(0%,0%,0%);stroke-opacity:1;stroke-miterlimit:10;\" d=\"M 133.828125 306.878906 C 133.828125 312.402344 129.351562 316.878906 123.828125 316.878906 C 118.304688 316.878906 113.828125 312.402344 113.828125 306.878906 C 113.828125 301.355469 118.304688 296.878906 123.828125 296.878906 C 129.351562 296.878906 133.828125 301.355469 133.828125 306.878906 \"/>\n",
       "<path style=\"fill-rule:nonzero;fill:rgb(100%,0%,0%);fill-opacity:1;stroke-width:1;stroke-linecap:butt;stroke-linejoin:miter;stroke:rgb(0%,0%,0%);stroke-opacity:1;stroke-miterlimit:10;\" d=\"M 30.5625 169.773438 C 30.5625 175.296875 26.085938 179.773438 20.5625 179.773438 C 15.042969 179.773438 10.5625 175.296875 10.5625 169.773438 C 10.5625 164.25 15.042969 159.773438 20.5625 159.773438 C 26.085938 159.773438 30.5625 164.25 30.5625 169.773438 \"/>\n",
       "<path style=\"fill-rule:nonzero;fill:rgb(100%,0%,0%);fill-opacity:1;stroke-width:1;stroke-linecap:butt;stroke-linejoin:miter;stroke:rgb(0%,0%,0%);stroke-opacity:1;stroke-miterlimit:10;\" d=\"M 483.191406 217.066406 C 483.191406 222.589844 478.714844 227.066406 473.191406 227.066406 C 467.667969 227.066406 463.191406 222.589844 463.191406 217.066406 C 463.191406 211.542969 467.667969 207.066406 473.191406 207.066406 C 478.714844 207.066406 483.191406 211.542969 483.191406 217.066406 \"/>\n",
       "<path style=\"fill-rule:nonzero;fill:rgb(100%,0%,0%);fill-opacity:1;stroke-width:1;stroke-linecap:butt;stroke-linejoin:miter;stroke:rgb(0%,0%,0%);stroke-opacity:1;stroke-miterlimit:10;\" d=\"M 166.144531 52.253906 C 166.144531 57.773438 161.667969 62.253906 156.144531 62.253906 C 150.621094 62.253906 146.144531 57.773438 146.144531 52.253906 C 146.144531 46.730469 150.621094 42.253906 156.144531 42.253906 C 161.667969 42.253906 166.144531 46.730469 166.144531 52.253906 \"/>\n",
       "<path style=\"fill-rule:nonzero;fill:rgb(100%,0%,0%);fill-opacity:1;stroke-width:1;stroke-linecap:butt;stroke-linejoin:miter;stroke:rgb(0%,0%,0%);stroke-opacity:1;stroke-miterlimit:10;\" d=\"M 221.207031 234.996094 C 221.207031 240.519531 216.726562 244.996094 211.207031 244.996094 C 205.683594 244.996094 201.207031 240.519531 201.207031 234.996094 C 201.207031 229.472656 205.683594 224.996094 211.207031 224.996094 C 216.726562 224.996094 221.207031 229.472656 221.207031 234.996094 \"/>\n",
       "<path style=\"fill-rule:nonzero;fill:rgb(100%,0%,0%);fill-opacity:1;stroke-width:1;stroke-linecap:butt;stroke-linejoin:miter;stroke:rgb(0%,0%,0%);stroke-opacity:1;stroke-miterlimit:10;\" d=\"M 182.179688 135.726562 C 182.179688 141.25 177.703125 145.726562 172.179688 145.726562 C 166.660156 145.726562 162.179688 141.25 162.179688 135.726562 C 162.179688 130.203125 166.660156 125.726562 172.179688 125.726562 C 177.703125 125.726562 182.179688 130.203125 182.179688 135.726562 \"/>\n",
       "<path style=\"fill-rule:nonzero;fill:rgb(100%,0%,0%);fill-opacity:1;stroke-width:1;stroke-linecap:butt;stroke-linejoin:miter;stroke:rgb(0%,0%,0%);stroke-opacity:1;stroke-miterlimit:10;\" d=\"M 87.085938 187.769531 C 87.085938 193.292969 82.609375 197.769531 77.085938 197.769531 C 71.566406 197.769531 67.085938 193.292969 67.085938 187.769531 C 67.085938 182.246094 71.566406 177.769531 77.085938 177.769531 C 82.609375 177.769531 87.085938 182.246094 87.085938 187.769531 \"/>\n",
       "<path style=\"fill-rule:nonzero;fill:rgb(100%,0%,0%);fill-opacity:1;stroke-width:1;stroke-linecap:butt;stroke-linejoin:miter;stroke:rgb(0%,0%,0%);stroke-opacity:1;stroke-miterlimit:10;\" d=\"M 137.136719 81.269531 C 137.136719 86.792969 132.660156 91.269531 127.136719 91.269531 C 121.613281 91.269531 117.136719 86.792969 117.136719 81.269531 C 117.136719 75.746094 121.613281 71.269531 127.136719 71.269531 C 132.660156 71.269531 137.136719 75.746094 137.136719 81.269531 \"/>\n",
       "<path style=\"fill-rule:nonzero;fill:rgb(100%,0%,0%);fill-opacity:1;stroke-width:1;stroke-linecap:butt;stroke-linejoin:miter;stroke:rgb(0%,0%,0%);stroke-opacity:1;stroke-miterlimit:10;\" d=\"M 108.304688 276.617188 C 108.304688 282.140625 103.828125 286.617188 98.304688 286.617188 C 92.78125 286.617188 88.304688 282.140625 88.304688 276.617188 C 88.304688 271.09375 92.78125 266.617188 98.304688 266.617188 C 103.828125 266.617188 108.304688 271.09375 108.304688 276.617188 \"/>\n",
       "<path style=\"fill-rule:nonzero;fill:rgb(100%,0%,0%);fill-opacity:1;stroke-width:1;stroke-linecap:butt;stroke-linejoin:miter;stroke:rgb(0%,0%,0%);stroke-opacity:1;stroke-miterlimit:10;\" d=\"M 372.480469 39.746094 C 372.480469 45.269531 368 49.746094 362.480469 49.746094 C 356.957031 49.746094 352.480469 45.269531 352.480469 39.746094 C 352.480469 34.222656 356.957031 29.746094 362.480469 29.746094 C 368 29.746094 372.480469 34.222656 372.480469 39.746094 \"/>\n",
       "<path style=\"fill-rule:nonzero;fill:rgb(100%,0%,0%);fill-opacity:1;stroke-width:1;stroke-linecap:butt;stroke-linejoin:miter;stroke:rgb(0%,0%,0%);stroke-opacity:1;stroke-miterlimit:10;\" d=\"M 31.925781 198.109375 C 31.925781 203.632812 27.449219 208.109375 21.925781 208.109375 C 16.402344 208.109375 11.925781 203.632812 11.925781 198.109375 C 11.925781 192.585938 16.402344 188.109375 21.925781 188.109375 C 27.449219 188.109375 31.925781 192.585938 31.925781 198.109375 \"/>\n",
       "<path style=\"fill-rule:nonzero;fill:rgb(100%,0%,0%);fill-opacity:1;stroke-width:1;stroke-linecap:butt;stroke-linejoin:miter;stroke:rgb(0%,0%,0%);stroke-opacity:1;stroke-miterlimit:10;\" d=\"M 266.296875 54.347656 C 266.296875 59.867188 261.820312 64.347656 256.296875 64.347656 C 250.777344 64.347656 246.296875 59.867188 246.296875 54.347656 C 246.296875 48.824219 250.777344 44.347656 256.296875 44.347656 C 261.820312 44.347656 266.296875 48.824219 266.296875 54.347656 \"/>\n",
       "<path style=\"fill-rule:nonzero;fill:rgb(100%,0%,0%);fill-opacity:1;stroke-width:1;stroke-linecap:butt;stroke-linejoin:miter;stroke:rgb(0%,0%,0%);stroke-opacity:1;stroke-miterlimit:10;\" d=\"M 373.988281 101.644531 C 373.988281 107.167969 369.507812 111.644531 363.988281 111.644531 C 358.464844 111.644531 353.988281 107.167969 353.988281 101.644531 C 353.988281 96.121094 358.464844 91.644531 363.988281 91.644531 C 369.507812 91.644531 373.988281 96.121094 373.988281 101.644531 \"/>\n",
       "<path style=\"fill-rule:nonzero;fill:rgb(100%,0%,0%);fill-opacity:1;stroke-width:1;stroke-linecap:butt;stroke-linejoin:miter;stroke:rgb(0%,0%,0%);stroke-opacity:1;stroke-miterlimit:10;\" d=\"M 312.082031 237.136719 C 312.082031 242.660156 307.605469 247.136719 302.082031 247.136719 C 296.558594 247.136719 292.082031 242.660156 292.082031 237.136719 C 292.082031 231.613281 296.558594 227.136719 302.082031 227.136719 C 307.605469 227.136719 312.082031 231.613281 312.082031 237.136719 \"/>\n",
       "<path style=\"fill-rule:nonzero;fill:rgb(100%,0%,0%);fill-opacity:1;stroke-width:1;stroke-linecap:butt;stroke-linejoin:miter;stroke:rgb(0%,0%,0%);stroke-opacity:1;stroke-miterlimit:10;\" d=\"M 422.519531 67.246094 C 422.519531 72.769531 418.042969 77.246094 412.519531 77.246094 C 407 77.246094 402.519531 72.769531 402.519531 67.246094 C 402.519531 61.722656 407 57.246094 412.519531 57.246094 C 418.042969 57.246094 422.519531 61.722656 422.519531 67.246094 \"/>\n",
       "<path style=\"fill-rule:nonzero;fill:rgb(100%,0%,0%);fill-opacity:1;stroke-width:1;stroke-linecap:butt;stroke-linejoin:miter;stroke:rgb(0%,0%,0%);stroke-opacity:1;stroke-miterlimit:10;\" d=\"M 62.449219 256.570312 C 62.449219 262.09375 57.96875 266.570312 52.449219 266.570312 C 46.925781 266.570312 42.449219 262.09375 42.449219 256.570312 C 42.449219 251.046875 46.925781 246.570312 52.449219 246.570312 C 57.96875 246.570312 62.449219 251.046875 62.449219 256.570312 \"/>\n",
       "<path style=\"fill-rule:nonzero;fill:rgb(100%,0%,0%);fill-opacity:1;stroke-width:1;stroke-linecap:butt;stroke-linejoin:miter;stroke:rgb(0%,0%,0%);stroke-opacity:1;stroke-miterlimit:10;\" d=\"M 263.492188 81.257812 C 263.492188 86.777344 259.015625 91.257812 253.492188 91.257812 C 247.96875 91.257812 243.492188 86.777344 243.492188 81.257812 C 243.492188 75.734375 247.96875 71.257812 253.492188 71.257812 C 259.015625 71.257812 263.492188 75.734375 263.492188 81.257812 \"/>\n",
       "<path style=\"fill-rule:nonzero;fill:rgb(100%,0%,0%);fill-opacity:1;stroke-width:1;stroke-linecap:butt;stroke-linejoin:miter;stroke:rgb(0%,0%,0%);stroke-opacity:1;stroke-miterlimit:10;\" d=\"M 111.980469 59.332031 C 111.980469 64.851562 107.503906 69.332031 101.980469 69.332031 C 96.457031 69.332031 91.980469 64.851562 91.980469 59.332031 C 91.980469 53.808594 96.457031 49.332031 101.980469 49.332031 C 107.503906 49.332031 111.980469 53.808594 111.980469 59.332031 \"/>\n",
       "<path style=\"fill-rule:nonzero;fill:rgb(100%,0%,0%);fill-opacity:1;stroke-width:1;stroke-linecap:butt;stroke-linejoin:miter;stroke:rgb(0%,0%,0%);stroke-opacity:1;stroke-miterlimit:10;\" d=\"M 238.285156 328.78125 C 238.285156 334.300781 233.808594 338.78125 228.285156 338.78125 C 222.761719 338.78125 218.285156 334.300781 218.285156 328.78125 C 218.285156 323.257812 222.761719 318.78125 228.285156 318.78125 C 233.808594 318.78125 238.285156 323.257812 238.285156 328.78125 \"/>\n",
       "<path style=\"fill-rule:nonzero;fill:rgb(100%,0%,0%);fill-opacity:1;stroke-width:1;stroke-linecap:butt;stroke-linejoin:miter;stroke:rgb(0%,0%,0%);stroke-opacity:1;stroke-miterlimit:10;\" d=\"M 74.011719 114.59375 C 74.011719 120.117188 69.535156 124.59375 64.011719 124.59375 C 58.488281 124.59375 54.011719 120.117188 54.011719 114.59375 C 54.011719 109.070312 58.488281 104.59375 64.011719 104.59375 C 69.535156 104.59375 74.011719 109.070312 74.011719 114.59375 \"/>\n",
       "<path style=\"fill-rule:nonzero;fill:rgb(100%,0%,0%);fill-opacity:1;stroke-width:1;stroke-linecap:butt;stroke-linejoin:miter;stroke:rgb(0%,0%,0%);stroke-opacity:1;stroke-miterlimit:10;\" d=\"M 294.957031 302.261719 C 294.957031 307.78125 290.476562 312.261719 284.957031 312.261719 C 279.433594 312.261719 274.957031 307.78125 274.957031 302.261719 C 274.957031 296.738281 279.433594 292.261719 284.957031 292.261719 C 290.476562 292.261719 294.957031 296.738281 294.957031 302.261719 \"/>\n",
       "<path style=\"fill-rule:nonzero;fill:rgb(100%,0%,0%);fill-opacity:1;stroke-width:1;stroke-linecap:butt;stroke-linejoin:miter;stroke:rgb(0%,0%,0%);stroke-opacity:1;stroke-miterlimit:10;\" d=\"M 306.929688 159.480469 C 306.929688 165.003906 302.453125 169.480469 296.929688 169.480469 C 291.40625 169.480469 286.929688 165.003906 286.929688 159.480469 C 286.929688 153.957031 291.40625 149.480469 296.929688 149.480469 C 302.453125 149.480469 306.929688 153.957031 306.929688 159.480469 \"/>\n",
       "<path style=\"fill-rule:nonzero;fill:rgb(100%,0%,0%);fill-opacity:1;stroke-width:1;stroke-linecap:butt;stroke-linejoin:miter;stroke:rgb(0%,0%,0%);stroke-opacity:1;stroke-miterlimit:10;\" d=\"M 409.15625 56.6875 C 409.15625 62.210938 404.679688 66.6875 399.15625 66.6875 C 393.632812 66.6875 389.15625 62.210938 389.15625 56.6875 C 389.15625 51.164062 393.632812 46.6875 399.15625 46.6875 C 404.679688 46.6875 409.15625 51.164062 409.15625 56.6875 \"/>\n",
       "<path style=\"fill-rule:nonzero;fill:rgb(100%,0%,0%);fill-opacity:1;stroke-width:1;stroke-linecap:butt;stroke-linejoin:miter;stroke:rgb(0%,0%,0%);stroke-opacity:1;stroke-miterlimit:10;\" d=\"M 491.269531 173.265625 C 491.269531 178.789062 486.792969 183.265625 481.269531 183.265625 C 475.746094 183.265625 471.269531 178.789062 471.269531 173.265625 C 471.269531 167.742188 475.746094 163.265625 481.269531 163.265625 C 486.792969 163.265625 491.269531 167.742188 491.269531 173.265625 \"/>\n",
       "<path style=\"fill-rule:nonzero;fill:rgb(100%,0%,0%);fill-opacity:1;stroke-width:1;stroke-linecap:butt;stroke-linejoin:miter;stroke:rgb(0%,0%,0%);stroke-opacity:1;stroke-miterlimit:10;\" d=\"M 402.925781 83.511719 C 402.925781 89.035156 398.449219 93.511719 392.925781 93.511719 C 387.402344 93.511719 382.925781 89.035156 382.925781 83.511719 C 382.925781 77.988281 387.402344 73.511719 392.925781 73.511719 C 398.449219 73.511719 402.925781 77.988281 402.925781 83.511719 \"/>\n",
       "<path style=\"fill-rule:nonzero;fill:rgb(100%,0%,0%);fill-opacity:1;stroke-width:1;stroke-linecap:butt;stroke-linejoin:miter;stroke:rgb(0%,0%,0%);stroke-opacity:1;stroke-miterlimit:10;\" d=\"M 446.050781 267.257812 C 446.050781 272.78125 441.574219 277.257812 436.050781 277.257812 C 430.527344 277.257812 426.050781 272.78125 426.050781 267.257812 C 426.050781 261.734375 430.527344 257.257812 436.050781 257.257812 C 441.574219 257.257812 446.050781 261.734375 446.050781 267.257812 \"/>\n",
       "<path style=\"fill-rule:nonzero;fill:rgb(100%,0%,0%);fill-opacity:1;stroke-width:1;stroke-linecap:butt;stroke-linejoin:miter;stroke:rgb(0%,0%,0%);stroke-opacity:1;stroke-miterlimit:10;\" d=\"M 39.449219 224.699219 C 39.449219 230.222656 34.972656 234.699219 29.449219 234.699219 C 23.925781 234.699219 19.449219 230.222656 19.449219 224.699219 C 19.449219 219.175781 23.925781 214.699219 29.449219 214.699219 C 34.972656 214.699219 39.449219 219.175781 39.449219 224.699219 \"/>\n",
       "<path style=\"fill-rule:nonzero;fill:rgb(100%,0%,0%);fill-opacity:1;stroke-width:1;stroke-linecap:butt;stroke-linejoin:miter;stroke:rgb(0%,0%,0%);stroke-opacity:1;stroke-miterlimit:10;\" d=\"M 145.714844 41.292969 C 145.714844 46.816406 141.238281 51.292969 135.714844 51.292969 C 130.191406 51.292969 125.714844 46.816406 125.714844 41.292969 C 125.714844 35.769531 130.191406 31.292969 135.714844 31.292969 C 141.238281 31.292969 145.714844 35.769531 145.714844 41.292969 \"/>\n",
       "<path style=\"fill-rule:nonzero;fill:rgb(100%,0%,0%);fill-opacity:1;stroke-width:1;stroke-linecap:butt;stroke-linejoin:miter;stroke:rgb(0%,0%,0%);stroke-opacity:1;stroke-miterlimit:10;\" d=\"M 253.4375 579.023438 C 253.4375 584.546875 248.960938 589.023438 243.4375 589.023438 C 237.914062 589.023438 233.4375 584.546875 233.4375 579.023438 C 233.4375 573.5 237.914062 569.023438 243.4375 569.023438 C 248.960938 569.023438 253.4375 573.5 253.4375 579.023438 \"/>\n",
       "<path style=\"fill-rule:nonzero;fill:rgb(100%,0%,0%);fill-opacity:1;stroke-width:1;stroke-linecap:butt;stroke-linejoin:miter;stroke:rgb(0%,0%,0%);stroke-opacity:1;stroke-miterlimit:10;\" d=\"M 127.175781 259.453125 C 127.175781 264.972656 122.699219 269.453125 117.175781 269.453125 C 111.65625 269.453125 107.175781 264.972656 107.175781 259.453125 C 107.175781 253.929688 111.65625 249.453125 117.175781 249.453125 C 122.699219 249.453125 127.175781 253.929688 127.175781 259.453125 \"/>\n",
       "<path style=\"fill-rule:nonzero;fill:rgb(100%,0%,0%);fill-opacity:1;stroke-width:1;stroke-linecap:butt;stroke-linejoin:miter;stroke:rgb(0%,0%,0%);stroke-opacity:1;stroke-miterlimit:10;\" d=\"M 333.273438 473.871094 C 333.273438 479.394531 328.796875 483.871094 323.273438 483.871094 C 317.753906 483.871094 313.273438 479.394531 313.273438 473.871094 C 313.273438 468.347656 317.753906 463.871094 323.273438 463.871094 C 328.796875 463.871094 333.273438 468.347656 333.273438 473.871094 \"/>\n",
       "<path style=\"fill-rule:nonzero;fill:rgb(100%,0%,0%);fill-opacity:1;stroke-width:1;stroke-linecap:butt;stroke-linejoin:miter;stroke:rgb(0%,0%,0%);stroke-opacity:1;stroke-miterlimit:10;\" d=\"M 138.238281 562.960938 C 138.238281 568.480469 133.761719 572.960938 128.238281 572.960938 C 122.714844 572.960938 118.238281 568.480469 118.238281 562.960938 C 118.238281 557.4375 122.714844 552.960938 128.238281 552.960938 C 133.761719 552.960938 138.238281 557.4375 138.238281 562.960938 \"/>\n",
       "<path style=\"fill-rule:nonzero;fill:rgb(100%,0%,0%);fill-opacity:1;stroke-width:1;stroke-linecap:butt;stroke-linejoin:miter;stroke:rgb(0%,0%,0%);stroke-opacity:1;stroke-miterlimit:10;\" d=\"M 107.296875 79.207031 C 107.296875 84.730469 102.820312 89.207031 97.296875 89.207031 C 91.773438 89.207031 87.296875 84.730469 87.296875 79.207031 C 87.296875 73.683594 91.773438 69.207031 97.296875 69.207031 C 102.820312 69.207031 107.296875 73.683594 107.296875 79.207031 \"/>\n",
       "<path style=\"fill-rule:nonzero;fill:rgb(100%,0%,0%);fill-opacity:1;stroke-width:1;stroke-linecap:butt;stroke-linejoin:miter;stroke:rgb(0%,0%,0%);stroke-opacity:1;stroke-miterlimit:10;\" d=\"M 472.445312 116.527344 C 472.445312 122.050781 467.96875 126.527344 462.445312 126.527344 C 456.921875 126.527344 452.445312 122.050781 452.445312 116.527344 C 452.445312 111.003906 456.921875 106.527344 462.445312 106.527344 C 467.96875 106.527344 472.445312 111.003906 472.445312 116.527344 \"/>\n",
       "<path style=\"fill-rule:nonzero;fill:rgb(100%,0%,0%);fill-opacity:1;stroke-width:1;stroke-linecap:butt;stroke-linejoin:miter;stroke:rgb(0%,0%,0%);stroke-opacity:1;stroke-miterlimit:10;\" d=\"M 458.792969 554.835938 C 458.792969 560.359375 454.316406 564.835938 448.792969 564.835938 C 443.269531 564.835938 438.792969 560.359375 438.792969 554.835938 C 438.792969 549.316406 443.269531 544.835938 448.792969 544.835938 C 454.316406 544.835938 458.792969 549.316406 458.792969 554.835938 \"/>\n",
       "<path style=\"fill-rule:nonzero;fill:rgb(100%,0%,0%);fill-opacity:1;stroke-width:1;stroke-linecap:butt;stroke-linejoin:miter;stroke:rgb(0%,0%,0%);stroke-opacity:1;stroke-miterlimit:10;\" d=\"M 311.28125 44.84375 C 311.28125 50.363281 306.804688 54.84375 301.28125 54.84375 C 295.761719 54.84375 291.28125 50.363281 291.28125 44.84375 C 291.28125 39.320312 295.761719 34.84375 301.28125 34.84375 C 306.804688 34.84375 311.28125 39.320312 311.28125 44.84375 \"/>\n",
       "<path style=\"fill-rule:nonzero;fill:rgb(100%,0%,0%);fill-opacity:1;stroke-width:1;stroke-linecap:butt;stroke-linejoin:miter;stroke:rgb(0%,0%,0%);stroke-opacity:1;stroke-miterlimit:10;\" d=\"M 322.515625 310.496094 C 322.515625 316.019531 318.039062 320.496094 312.515625 320.496094 C 306.992188 320.496094 302.515625 316.019531 302.515625 310.496094 C 302.515625 304.976562 306.992188 300.496094 312.515625 300.496094 C 318.039062 300.496094 322.515625 304.976562 322.515625 310.496094 \"/>\n",
       "<path style=\"fill-rule:nonzero;fill:rgb(100%,0%,0%);fill-opacity:1;stroke-width:1;stroke-linecap:butt;stroke-linejoin:miter;stroke:rgb(0%,0%,0%);stroke-opacity:1;stroke-miterlimit:10;\" d=\"M 377.265625 156.09375 C 377.265625 161.617188 372.789062 166.09375 367.265625 166.09375 C 361.742188 166.09375 357.265625 161.617188 357.265625 156.09375 C 357.265625 150.570312 361.742188 146.09375 367.265625 146.09375 C 372.789062 146.09375 377.265625 150.570312 377.265625 156.09375 \"/>\n",
       "<path style=\"fill-rule:nonzero;fill:rgb(100%,0%,0%);fill-opacity:1;stroke-width:1;stroke-linecap:butt;stroke-linejoin:miter;stroke:rgb(0%,0%,0%);stroke-opacity:1;stroke-miterlimit:10;\" d=\"M 101.679688 553.644531 C 101.679688 559.167969 97.203125 563.644531 91.679688 563.644531 C 86.15625 563.644531 81.679688 559.167969 81.679688 553.644531 C 81.679688 548.121094 86.15625 543.644531 91.679688 543.644531 C 97.203125 543.644531 101.679688 548.121094 101.679688 553.644531 \"/>\n",
       "<path style=\"fill-rule:nonzero;fill:rgb(100%,0%,0%);fill-opacity:1;stroke-width:1;stroke-linecap:butt;stroke-linejoin:miter;stroke:rgb(0%,0%,0%);stroke-opacity:1;stroke-miterlimit:10;\" d=\"M 560.054688 513.121094 C 560.054688 518.644531 555.578125 523.121094 550.054688 523.121094 C 544.53125 523.121094 540.054688 518.644531 540.054688 513.121094 C 540.054688 507.597656 544.53125 503.121094 550.054688 503.121094 C 555.578125 503.121094 560.054688 507.597656 560.054688 513.121094 \"/>\n",
       "<path style=\"fill-rule:nonzero;fill:rgb(100%,0%,0%);fill-opacity:1;stroke-width:1;stroke-linecap:butt;stroke-linejoin:miter;stroke:rgb(0%,0%,0%);stroke-opacity:1;stroke-miterlimit:10;\" d=\"M 79.730469 80.070312 C 79.730469 85.59375 75.253906 90.070312 69.730469 90.070312 C 64.207031 90.070312 59.730469 85.59375 59.730469 80.070312 C 59.730469 74.546875 64.207031 70.070312 69.730469 70.070312 C 75.253906 70.070312 79.730469 74.546875 79.730469 80.070312 \"/>\n",
       "<path style=\"fill-rule:nonzero;fill:rgb(100%,0%,0%);fill-opacity:1;stroke-width:1;stroke-linecap:butt;stroke-linejoin:miter;stroke:rgb(0%,0%,0%);stroke-opacity:1;stroke-miterlimit:10;\" d=\"M 205.515625 188.847656 C 205.515625 194.371094 201.039062 198.847656 195.515625 198.847656 C 189.992188 198.847656 185.515625 194.371094 185.515625 188.847656 C 185.515625 183.324219 189.992188 178.847656 195.515625 178.847656 C 201.039062 178.847656 205.515625 183.324219 205.515625 188.847656 \"/>\n",
       "<path style=\"fill-rule:nonzero;fill:rgb(100%,0%,0%);fill-opacity:1;stroke-width:1;stroke-linecap:butt;stroke-linejoin:miter;stroke:rgb(0%,0%,0%);stroke-opacity:1;stroke-miterlimit:10;\" d=\"M 424.046875 128.074219 C 424.046875 133.59375 419.570312 138.074219 414.046875 138.074219 C 408.527344 138.074219 404.046875 133.59375 404.046875 128.074219 C 404.046875 122.550781 408.527344 118.074219 414.046875 118.074219 C 419.570312 118.074219 424.046875 122.550781 424.046875 128.074219 \"/>\n",
       "<path style=\"fill-rule:nonzero;fill:rgb(100%,0%,0%);fill-opacity:1;stroke-width:1;stroke-linecap:butt;stroke-linejoin:miter;stroke:rgb(0%,0%,0%);stroke-opacity:1;stroke-miterlimit:10;\" d=\"M 360.347656 266.921875 C 360.347656 272.445312 355.871094 276.921875 350.347656 276.921875 C 344.824219 276.921875 340.347656 272.445312 340.347656 266.921875 C 340.347656 261.402344 344.824219 256.921875 350.347656 256.921875 C 355.871094 256.921875 360.347656 261.402344 360.347656 266.921875 \"/>\n",
       "<path style=\"fill-rule:nonzero;fill:rgb(100%,0%,0%);fill-opacity:1;stroke-width:1;stroke-linecap:butt;stroke-linejoin:miter;stroke:rgb(0%,0%,0%);stroke-opacity:1;stroke-miterlimit:10;\" d=\"M 387.214844 228.246094 C 387.214844 233.769531 382.738281 238.246094 377.214844 238.246094 C 371.695312 238.246094 367.214844 233.769531 367.214844 228.246094 C 367.214844 222.726562 371.695312 218.246094 377.214844 218.246094 C 382.738281 218.246094 387.214844 222.726562 387.214844 228.246094 \"/>\n",
       "<path style=\"fill-rule:nonzero;fill:rgb(100%,0%,0%);fill-opacity:1;stroke-width:1;stroke-linecap:butt;stroke-linejoin:miter;stroke:rgb(0%,0%,0%);stroke-opacity:1;stroke-miterlimit:10;\" d=\"M 214.074219 87.214844 C 214.074219 92.738281 209.597656 97.214844 204.074219 97.214844 C 198.550781 97.214844 194.074219 92.738281 194.074219 87.214844 C 194.074219 81.691406 198.550781 77.214844 204.074219 77.214844 C 209.597656 77.214844 214.074219 81.691406 214.074219 87.214844 \"/>\n",
       "<path style=\"fill-rule:nonzero;fill:rgb(100%,0%,0%);fill-opacity:1;stroke-width:1;stroke-linecap:butt;stroke-linejoin:miter;stroke:rgb(0%,0%,0%);stroke-opacity:1;stroke-miterlimit:10;\" d=\"M 590 496.0625 C 590 501.585938 585.523438 506.0625 580 506.0625 C 574.476562 506.0625 570 501.585938 570 496.0625 C 570 490.539062 574.476562 486.0625 580 486.0625 C 585.523438 486.0625 590 490.539062 590 496.0625 \"/>\n",
       "<path style=\"fill-rule:nonzero;fill:rgb(100%,0%,0%);fill-opacity:1;stroke-width:1;stroke-linecap:butt;stroke-linejoin:miter;stroke:rgb(0%,0%,0%);stroke-opacity:1;stroke-miterlimit:10;\" d=\"M 420.429688 565.183594 C 420.429688 570.703125 415.953125 575.183594 410.429688 575.183594 C 404.90625 575.183594 400.429688 570.703125 400.429688 565.183594 C 400.429688 559.660156 404.90625 555.183594 410.429688 555.183594 C 415.953125 555.183594 420.429688 559.660156 420.429688 565.183594 \"/>\n",
       "<path style=\"fill-rule:nonzero;fill:rgb(100%,0%,0%);fill-opacity:1;stroke-width:1;stroke-linecap:butt;stroke-linejoin:miter;stroke:rgb(0%,0%,0%);stroke-opacity:1;stroke-miterlimit:10;\" d=\"M 528.3125 528.664062 C 528.3125 534.1875 523.835938 538.664062 518.3125 538.664062 C 512.792969 538.664062 508.3125 534.1875 508.3125 528.664062 C 508.3125 523.140625 512.792969 518.664062 518.3125 518.664062 C 523.835938 518.664062 528.3125 523.140625 528.3125 528.664062 \"/>\n",
       "<path style=\"fill-rule:nonzero;fill:rgb(100%,0%,0%);fill-opacity:1;stroke-width:1;stroke-linecap:butt;stroke-linejoin:miter;stroke:rgb(0%,0%,0%);stroke-opacity:1;stroke-miterlimit:10;\" d=\"M 175.414062 570.28125 C 175.414062 575.804688 170.9375 580.28125 165.414062 580.28125 C 159.890625 580.28125 155.414062 575.804688 155.414062 570.28125 C 155.414062 564.757812 159.890625 560.28125 165.414062 560.28125 C 170.9375 560.28125 175.414062 564.757812 175.414062 570.28125 \"/>\n",
       "<path style=\"fill-rule:nonzero;fill:rgb(100%,0%,0%);fill-opacity:1;stroke-width:1;stroke-linecap:butt;stroke-linejoin:miter;stroke:rgb(0%,0%,0%);stroke-opacity:1;stroke-miterlimit:10;\" d=\"M 337.097656 578.183594 C 337.097656 583.707031 332.617188 588.183594 327.097656 588.183594 C 321.574219 588.183594 317.097656 583.707031 317.097656 578.183594 C 317.097656 572.664062 321.574219 568.183594 327.097656 568.183594 C 332.617188 568.183594 337.097656 572.664062 337.097656 578.183594 \"/>\n",
       "<path style=\"fill-rule:nonzero;fill:rgb(100%,0%,0%);fill-opacity:1;stroke-width:1;stroke-linecap:butt;stroke-linejoin:miter;stroke:rgb(0%,0%,0%);stroke-opacity:1;stroke-miterlimit:10;\" d=\"M 213.855469 575.722656 C 213.855469 581.246094 209.378906 585.722656 203.855469 585.722656 C 198.332031 585.722656 193.855469 581.246094 193.855469 575.722656 C 193.855469 570.199219 198.332031 565.722656 203.855469 565.722656 C 209.378906 565.722656 213.855469 570.199219 213.855469 575.722656 \"/>\n",
       "<path style=\"fill-rule:nonzero;fill:rgb(100%,0%,0%);fill-opacity:1;stroke-width:1;stroke-linecap:butt;stroke-linejoin:miter;stroke:rgb(0%,0%,0%);stroke-opacity:1;stroke-miterlimit:10;\" d=\"M 379.527344 573.195312 C 379.527344 578.71875 375.046875 583.195312 369.527344 583.195312 C 364.003906 583.195312 359.527344 578.71875 359.527344 573.195312 C 359.527344 567.671875 364.003906 563.195312 369.527344 563.195312 C 375.046875 563.195312 379.527344 567.671875 379.527344 573.195312 \"/>\n",
       "<path style=\"fill-rule:nonzero;fill:rgb(100%,0%,0%);fill-opacity:1;stroke-width:1;stroke-linecap:butt;stroke-linejoin:miter;stroke:rgb(0%,0%,0%);stroke-opacity:1;stroke-miterlimit:10;\" d=\"M 294.636719 580 C 294.636719 585.523438 290.160156 590 284.636719 590 C 279.113281 590 274.636719 585.523438 274.636719 580 C 274.636719 574.476562 279.113281 570 284.636719 570 C 290.160156 570 294.636719 574.476562 294.636719 580 \"/>\n",
       "<path style=\"fill-rule:nonzero;fill:rgb(100%,0%,0%);fill-opacity:1;stroke-width:1;stroke-linecap:butt;stroke-linejoin:miter;stroke:rgb(0%,0%,0%);stroke-opacity:1;stroke-miterlimit:10;\" d=\"M 452.832031 223.941406 C 452.832031 229.464844 448.355469 233.941406 442.832031 233.941406 C 437.308594 233.941406 432.832031 229.464844 432.832031 223.941406 C 432.832031 218.417969 437.308594 213.941406 442.832031 213.941406 C 448.355469 213.941406 452.832031 218.417969 452.832031 223.941406 \"/>\n",
       "<path style=\"fill-rule:nonzero;fill:rgb(100%,0%,0%);fill-opacity:1;stroke-width:1;stroke-linecap:butt;stroke-linejoin:miter;stroke:rgb(0%,0%,0%);stroke-opacity:1;stroke-miterlimit:10;\" d=\"M 331.382812 67.1875 C 331.382812 72.707031 326.90625 77.1875 321.382812 77.1875 C 315.863281 77.1875 311.382812 72.707031 311.382812 67.1875 C 311.382812 61.664062 315.863281 57.1875 321.382812 57.1875 C 326.90625 57.1875 331.382812 61.664062 331.382812 67.1875 \"/>\n",
       "<path style=\"fill-rule:nonzero;fill:rgb(100%,0%,0%);fill-opacity:1;stroke-width:1;stroke-linecap:butt;stroke-linejoin:miter;stroke:rgb(0%,0%,0%);stroke-opacity:1;stroke-miterlimit:10;\" d=\"M 72.28125 268.398438 C 72.28125 273.921875 67.804688 278.398438 62.28125 278.398438 C 56.757812 278.398438 52.28125 273.921875 52.28125 268.398438 C 52.28125 262.875 56.757812 258.398438 62.28125 258.398438 C 67.804688 258.398438 72.28125 262.875 72.28125 268.398438 \"/>\n",
       "<path style=\"fill-rule:nonzero;fill:rgb(100%,0%,0%);fill-opacity:1;stroke-width:1;stroke-linecap:butt;stroke-linejoin:miter;stroke:rgb(0%,0%,0%);stroke-opacity:1;stroke-miterlimit:10;\" d=\"M 250.242188 20 C 250.242188 25.523438 245.765625 30 240.242188 30 C 234.71875 30 230.242188 25.523438 230.242188 20 C 230.242188 14.476562 234.71875 10 240.242188 10 C 245.765625 10 250.242188 14.476562 250.242188 20 \"/>\n",
       "<path style=\"fill-rule:nonzero;fill:rgb(100%,0%,0%);fill-opacity:1;stroke-width:1;stroke-linecap:butt;stroke-linejoin:miter;stroke:rgb(0%,0%,0%);stroke-opacity:1;stroke-miterlimit:10;\" d=\"M 39.375 131.785156 C 39.375 137.308594 34.898438 141.785156 29.375 141.785156 C 23.851562 141.785156 19.375 137.308594 19.375 131.785156 C 19.375 126.261719 23.851562 121.785156 29.375 121.785156 C 34.898438 121.785156 39.375 126.261719 39.375 131.785156 \"/>\n",
       "<path style=\"fill-rule:nonzero;fill:rgb(100%,0%,0%);fill-opacity:1;stroke-width:1;stroke-linecap:butt;stroke-linejoin:miter;stroke:rgb(0%,0%,0%);stroke-opacity:1;stroke-miterlimit:10;\" d=\"M 233.898438 313.488281 C 233.898438 319.011719 229.421875 323.488281 223.898438 323.488281 C 218.378906 323.488281 213.898438 319.011719 213.898438 313.488281 C 213.898438 307.964844 218.378906 303.488281 223.898438 303.488281 C 229.421875 303.488281 233.898438 307.964844 233.898438 313.488281 \"/>\n",
       "<path style=\"fill-rule:nonzero;fill:rgb(100%,0%,0%);fill-opacity:1;stroke-width:1;stroke-linecap:butt;stroke-linejoin:miter;stroke:rgb(0%,0%,0%);stroke-opacity:1;stroke-miterlimit:10;\" d=\"M 95.007812 67.675781 C 95.007812 73.199219 90.53125 77.675781 85.007812 77.675781 C 79.488281 77.675781 75.007812 73.199219 75.007812 67.675781 C 75.007812 62.152344 79.488281 57.675781 85.007812 57.675781 C 90.53125 57.675781 95.007812 62.152344 95.007812 67.675781 \"/>\n",
       "<path style=\"fill-rule:nonzero;fill:rgb(100%,0%,0%);fill-opacity:1;stroke-width:1;stroke-linecap:butt;stroke-linejoin:miter;stroke:rgb(0%,0%,0%);stroke-opacity:1;stroke-miterlimit:10;\" d=\"M 54.824219 182.90625 C 54.824219 188.429688 50.347656 192.90625 44.824219 192.90625 C 39.300781 192.90625 34.824219 188.429688 34.824219 182.90625 C 34.824219 177.382812 39.300781 172.90625 44.824219 172.90625 C 50.347656 172.90625 54.824219 177.382812 54.824219 182.90625 \"/>\n",
       "<path style=\"fill-rule:nonzero;fill:rgb(100%,0%,0%);fill-opacity:1;stroke-width:1;stroke-linecap:butt;stroke-linejoin:miter;stroke:rgb(0%,0%,0%);stroke-opacity:1;stroke-miterlimit:10;\" d=\"M 191.78125 41.535156 C 191.78125 47.058594 187.300781 51.535156 181.78125 51.535156 C 176.257812 51.535156 171.78125 47.058594 171.78125 41.535156 C 171.78125 36.011719 176.257812 31.535156 181.78125 31.535156 C 187.300781 31.535156 191.78125 36.011719 191.78125 41.535156 \"/>\n",
       "<path style=\"fill-rule:nonzero;fill:rgb(100%,0%,0%);fill-opacity:1;stroke-width:1;stroke-linecap:butt;stroke-linejoin:miter;stroke:rgb(0%,0%,0%);stroke-opacity:1;stroke-miterlimit:10;\" d=\"M 249.519531 36.175781 C 249.519531 41.699219 245.042969 46.175781 239.519531 46.175781 C 234 46.175781 229.519531 41.699219 229.519531 36.175781 C 229.519531 30.652344 234 26.175781 239.519531 26.175781 C 245.042969 26.175781 249.519531 30.652344 249.519531 36.175781 \"/>\n",
       "<path style=\"fill-rule:nonzero;fill:rgb(100%,0%,0%);fill-opacity:1;stroke-width:1;stroke-linecap:butt;stroke-linejoin:miter;stroke:rgb(0%,0%,0%);stroke-opacity:1;stroke-miterlimit:10;\" d=\"M 390.066406 66.59375 C 390.066406 72.117188 385.589844 76.59375 380.066406 76.59375 C 374.542969 76.59375 370.066406 72.117188 370.066406 66.59375 C 370.066406 61.070312 374.542969 56.59375 380.066406 56.59375 C 385.589844 56.59375 390.066406 61.070312 390.066406 66.59375 \"/>\n",
       "<path style=\"fill-rule:nonzero;fill:rgb(100%,0%,0%);fill-opacity:1;stroke-width:1;stroke-linecap:butt;stroke-linejoin:miter;stroke:rgb(0%,0%,0%);stroke-opacity:1;stroke-miterlimit:10;\" d=\"M 457.570312 131.460938 C 457.570312 136.984375 453.09375 141.460938 447.570312 141.460938 C 442.046875 141.460938 437.570312 136.984375 437.570312 131.460938 C 437.570312 125.9375 442.046875 121.460938 447.570312 121.460938 C 453.09375 121.460938 457.570312 125.9375 457.570312 131.460938 \"/>\n",
       "<path style=\"fill-rule:nonzero;fill:rgb(100%,0%,0%);fill-opacity:1;stroke-width:1;stroke-linecap:butt;stroke-linejoin:miter;stroke:rgb(0%,0%,0%);stroke-opacity:1;stroke-miterlimit:10;\" d=\"M 481.058594 129.945312 C 481.058594 135.464844 476.582031 139.945312 471.058594 139.945312 C 465.535156 139.945312 461.058594 135.464844 461.058594 129.945312 C 461.058594 124.421875 465.535156 119.945312 471.058594 119.945312 C 476.582031 119.945312 481.058594 124.421875 481.058594 129.945312 \"/>\n",
       "<path style=\"fill-rule:nonzero;fill:rgb(100%,0%,0%);fill-opacity:1;stroke-width:1;stroke-linecap:butt;stroke-linejoin:miter;stroke:rgb(0%,0%,0%);stroke-opacity:1;stroke-miterlimit:10;\" d=\"M 141.425781 61.539062 C 141.425781 67.0625 136.949219 71.539062 131.425781 71.539062 C 125.902344 71.539062 121.425781 67.0625 121.425781 61.539062 C 121.425781 56.015625 125.902344 51.539062 131.425781 51.539062 C 136.949219 51.539062 141.425781 56.015625 141.425781 61.539062 \"/>\n",
       "<path style=\"fill-rule:nonzero;fill:rgb(100%,0%,0%);fill-opacity:1;stroke-width:1;stroke-linecap:butt;stroke-linejoin:miter;stroke:rgb(0%,0%,0%);stroke-opacity:1;stroke-miterlimit:10;\" d=\"M 260.503906 327.308594 C 260.503906 332.832031 256.027344 337.308594 250.503906 337.308594 C 244.980469 337.308594 240.503906 332.832031 240.503906 327.308594 C 240.503906 321.785156 244.980469 317.308594 250.503906 317.308594 C 256.027344 317.308594 260.503906 321.785156 260.503906 327.308594 \"/>\n",
       "<path style=\"fill-rule:nonzero;fill:rgb(100%,0%,0%);fill-opacity:1;stroke-width:1;stroke-linecap:butt;stroke-linejoin:miter;stroke:rgb(0%,0%,0%);stroke-opacity:1;stroke-miterlimit:10;\" d=\"M 437.222656 248.992188 C 437.222656 254.511719 432.746094 258.992188 427.222656 258.992188 C 421.699219 258.992188 417.222656 254.511719 417.222656 248.992188 C 417.222656 243.46875 421.699219 238.992188 427.222656 238.992188 C 432.746094 238.992188 437.222656 243.46875 437.222656 248.992188 \"/>\n",
       "<path style=\"fill-rule:nonzero;fill:rgb(100%,0%,0%);fill-opacity:1;stroke-width:1;stroke-linecap:butt;stroke-linejoin:miter;stroke:rgb(0%,0%,0%);stroke-opacity:1;stroke-miterlimit:10;\" d=\"M 338.144531 216.269531 C 338.144531 221.792969 333.667969 226.269531 328.144531 226.269531 C 322.621094 226.269531 318.144531 221.792969 318.144531 216.269531 C 318.144531 210.746094 322.621094 206.269531 328.144531 206.269531 C 333.667969 206.269531 338.144531 210.746094 338.144531 216.269531 \"/>\n",
       "<path style=\"fill-rule:nonzero;fill:rgb(100%,0%,0%);fill-opacity:1;stroke-width:1;stroke-linecap:butt;stroke-linejoin:miter;stroke:rgb(0%,0%,0%);stroke-opacity:1;stroke-miterlimit:10;\" d=\"M 355.253906 242.210938 C 355.253906 247.734375 350.777344 252.210938 345.253906 252.210938 C 339.730469 252.210938 335.253906 247.734375 335.253906 242.210938 C 335.253906 236.6875 339.730469 232.210938 345.253906 232.210938 C 350.777344 232.210938 355.253906 236.6875 355.253906 242.210938 \"/>\n",
       "<path style=\"fill-rule:nonzero;fill:rgb(100%,0%,0%);fill-opacity:1;stroke-width:1;stroke-linecap:butt;stroke-linejoin:miter;stroke:rgb(0%,0%,0%);stroke-opacity:1;stroke-miterlimit:10;\" d=\"M 395.039062 252.273438 C 395.039062 257.796875 390.5625 262.273438 385.039062 262.273438 C 379.515625 262.273438 375.039062 257.796875 375.039062 252.273438 C 375.039062 246.75 379.515625 242.273438 385.039062 242.273438 C 390.5625 242.273438 395.039062 246.75 395.039062 252.273438 \"/>\n",
       "<path style=\"fill-rule:nonzero;fill:rgb(100%,0%,0%);fill-opacity:1;stroke-width:1;stroke-linecap:butt;stroke-linejoin:miter;stroke:rgb(0%,0%,0%);stroke-opacity:1;stroke-miterlimit:10;\" d=\"M 79.742188 239.777344 C 79.742188 245.300781 75.265625 249.777344 69.742188 249.777344 C 64.21875 249.777344 59.742188 245.300781 59.742188 239.777344 C 59.742188 234.253906 64.21875 229.777344 69.742188 229.777344 C 75.265625 229.777344 79.742188 234.253906 79.742188 239.777344 \"/>\n",
       "<path style=\"fill-rule:nonzero;fill:rgb(100%,0%,0%);fill-opacity:1;stroke-width:1;stroke-linecap:butt;stroke-linejoin:miter;stroke:rgb(0%,0%,0%);stroke-opacity:1;stroke-miterlimit:10;\" d=\"M 237.988281 209.835938 C 237.988281 215.359375 233.511719 219.835938 227.988281 219.835938 C 222.46875 219.835938 217.988281 215.359375 217.988281 209.835938 C 217.988281 204.3125 222.46875 199.835938 227.988281 199.835938 C 233.511719 199.835938 237.988281 204.3125 237.988281 209.835938 \"/>\n",
       "<path style=\"fill-rule:nonzero;fill:rgb(100%,0%,0%);fill-opacity:1;stroke-width:1;stroke-linecap:butt;stroke-linejoin:miter;stroke:rgb(0%,0%,0%);stroke-opacity:1;stroke-miterlimit:10;\" d=\"M 470.109375 163.511719 C 470.109375 169.035156 465.632812 173.511719 460.109375 173.511719 C 454.589844 173.511719 450.109375 169.035156 450.109375 163.511719 C 450.109375 157.988281 454.589844 153.511719 460.109375 153.511719 C 465.632812 153.511719 470.109375 157.988281 470.109375 163.511719 \"/>\n",
       "<path style=\"fill-rule:nonzero;fill:rgb(100%,0%,0%);fill-opacity:1;stroke-width:1;stroke-linecap:butt;stroke-linejoin:miter;stroke:rgb(0%,0%,0%);stroke-opacity:1;stroke-miterlimit:10;\" d=\"M 391.007812 47.765625 C 391.007812 53.289062 386.53125 57.765625 381.007812 57.765625 C 375.484375 57.765625 371.007812 53.289062 371.007812 47.765625 C 371.007812 42.242188 375.484375 37.765625 381.007812 37.765625 C 386.53125 37.765625 391.007812 42.242188 391.007812 47.765625 \"/>\n",
       "<path style=\"fill-rule:nonzero;fill:rgb(100%,0%,0%);fill-opacity:1;stroke-width:1;stroke-linecap:butt;stroke-linejoin:miter;stroke:rgb(0%,0%,0%);stroke-opacity:1;stroke-miterlimit:10;\" d=\"M 396.171875 181.578125 C 396.171875 187.101562 391.695312 191.578125 386.171875 191.578125 C 380.648438 191.578125 376.171875 187.101562 376.171875 181.578125 C 376.171875 176.054688 380.648438 171.578125 386.171875 171.578125 C 391.695312 171.578125 396.171875 176.054688 396.171875 181.578125 \"/>\n",
       "<path style=\"fill-rule:nonzero;fill:rgb(100%,0%,0%);fill-opacity:1;stroke-width:1;stroke-linecap:butt;stroke-linejoin:miter;stroke:rgb(0%,0%,0%);stroke-opacity:1;stroke-miterlimit:10;\" d=\"M 488.324219 201.613281 C 488.324219 207.136719 483.847656 211.613281 478.324219 211.613281 C 472.800781 211.613281 468.324219 207.136719 468.324219 201.613281 C 468.324219 196.089844 472.800781 191.613281 478.324219 191.613281 C 483.847656 191.613281 488.324219 196.089844 488.324219 201.613281 \"/>\n",
       "<path style=\"fill-rule:nonzero;fill:rgb(100%,0%,0%);fill-opacity:1;stroke-width:1;stroke-linecap:butt;stroke-linejoin:miter;stroke:rgb(0%,0%,0%);stroke-opacity:1;stroke-miterlimit:10;\" d=\"M 221.585938 42.054688 C 221.585938 47.578125 217.109375 52.054688 211.585938 52.054688 C 206.0625 52.054688 201.585938 47.578125 201.585938 42.054688 C 201.585938 36.53125 206.0625 32.054688 211.585938 32.054688 C 217.109375 32.054688 221.585938 36.53125 221.585938 42.054688 \"/>\n",
       "<path style=\"fill-rule:nonzero;fill:rgb(100%,0%,0%);fill-opacity:1;stroke-width:1;stroke-linecap:butt;stroke-linejoin:miter;stroke:rgb(0%,0%,0%);stroke-opacity:1;stroke-miterlimit:10;\" d=\"M 411.101562 208.246094 C 411.101562 213.769531 406.625 218.246094 401.101562 218.246094 C 395.578125 218.246094 391.101562 213.769531 391.101562 208.246094 C 391.101562 202.722656 395.578125 198.246094 401.101562 198.246094 C 406.625 198.246094 411.101562 202.722656 411.101562 208.246094 \"/>\n",
       "<path style=\"fill-rule:nonzero;fill:rgb(100%,0%,0%);fill-opacity:1;stroke-width:1;stroke-linecap:butt;stroke-linejoin:miter;stroke:rgb(0%,0%,0%);stroke-opacity:1;stroke-miterlimit:10;\" d=\"M 364.210938 312.476562 C 364.210938 318 359.734375 322.476562 354.210938 322.476562 C 348.691406 322.476562 344.210938 318 344.210938 312.476562 C 344.210938 306.953125 348.691406 302.476562 354.210938 302.476562 C 359.734375 302.476562 364.210938 306.953125 364.210938 312.476562 \"/>\n",
       "<path style=\"fill-rule:nonzero;fill:rgb(100%,0%,0%);fill-opacity:1;stroke-width:1;stroke-linecap:butt;stroke-linejoin:miter;stroke:rgb(0%,0%,0%);stroke-opacity:1;stroke-miterlimit:10;\" d=\"M 172.789062 79.308594 C 172.789062 84.832031 168.3125 89.308594 162.789062 89.308594 C 157.265625 89.308594 152.789062 84.832031 152.789062 79.308594 C 152.789062 73.785156 157.265625 69.308594 162.789062 69.308594 C 168.3125 69.308594 172.789062 73.785156 172.789062 79.308594 \"/>\n",
       "<path style=\"fill-rule:nonzero;fill:rgb(100%,0%,0%);fill-opacity:1;stroke-width:1;stroke-linecap:butt;stroke-linejoin:miter;stroke:rgb(0%,0%,0%);stroke-opacity:1;stroke-miterlimit:10;\" d=\"M 84.628906 279.53125 C 84.628906 285.054688 80.152344 289.53125 74.628906 289.53125 C 69.105469 289.53125 64.628906 285.054688 64.628906 279.53125 C 64.628906 274.007812 69.105469 269.53125 74.628906 269.53125 C 80.152344 269.53125 84.628906 274.007812 84.628906 279.53125 \"/>\n",
       "<path style=\"fill-rule:nonzero;fill:rgb(100%,0%,0%);fill-opacity:1;stroke-width:1;stroke-linecap:butt;stroke-linejoin:miter;stroke:rgb(0%,0%,0%);stroke-opacity:1;stroke-miterlimit:10;\" d=\"M 160.914062 103.234375 C 160.914062 108.757812 156.4375 113.234375 150.914062 113.234375 C 145.390625 113.234375 140.914062 108.757812 140.914062 103.234375 C 140.914062 97.710938 145.390625 93.234375 150.914062 93.234375 C 156.4375 93.234375 160.914062 97.710938 160.914062 103.234375 \"/>\n",
       "<path style=\"fill-rule:nonzero;fill:rgb(100%,0%,0%);fill-opacity:1;stroke-width:1;stroke-linecap:butt;stroke-linejoin:miter;stroke:rgb(0%,0%,0%);stroke-opacity:1;stroke-miterlimit:10;\" d=\"M 368.394531 288.402344 C 368.394531 293.925781 363.917969 298.402344 358.394531 298.402344 C 352.871094 298.402344 348.394531 293.925781 348.394531 288.402344 C 348.394531 282.878906 352.871094 278.402344 358.394531 278.402344 C 363.917969 278.402344 368.394531 282.878906 368.394531 288.402344 \"/>\n",
       "<path style=\"fill-rule:nonzero;fill:rgb(100%,0%,0%);fill-opacity:1;stroke-width:1;stroke-linecap:butt;stroke-linejoin:miter;stroke:rgb(0%,0%,0%);stroke-opacity:1;stroke-miterlimit:10;\" d=\"M 117.945312 298.972656 C 117.945312 304.496094 113.464844 308.972656 107.945312 308.972656 C 102.421875 308.972656 97.945312 304.496094 97.945312 298.972656 C 97.945312 293.449219 102.421875 288.972656 107.945312 288.972656 C 113.464844 288.972656 117.945312 293.449219 117.945312 298.972656 \"/>\n",
       "<path style=\"fill-rule:nonzero;fill:rgb(100%,0%,0%);fill-opacity:1;stroke-width:1;stroke-linecap:butt;stroke-linejoin:miter;stroke:rgb(0%,0%,0%);stroke-opacity:1;stroke-miterlimit:10;\" d=\"M 476.402344 230.578125 C 476.402344 236.101562 471.925781 240.578125 466.402344 240.578125 C 460.882812 240.578125 456.402344 236.101562 456.402344 230.578125 C 456.402344 225.058594 460.882812 220.578125 466.402344 220.578125 C 471.925781 220.578125 476.402344 225.058594 476.402344 230.578125 \"/>\n",
       "<path style=\"fill-rule:nonzero;fill:rgb(100%,0%,0%);fill-opacity:1;stroke-width:1;stroke-linecap:butt;stroke-linejoin:miter;stroke:rgb(0%,0%,0%);stroke-opacity:1;stroke-miterlimit:10;\" d=\"M 101.855469 122.582031 C 101.855469 128.105469 97.378906 132.582031 91.855469 132.582031 C 86.335938 132.582031 81.855469 128.105469 81.855469 122.582031 C 81.855469 117.0625 86.335938 112.582031 91.855469 112.582031 C 97.378906 112.582031 101.855469 117.0625 101.855469 122.582031 \"/>\n",
       "<path style=\"fill-rule:nonzero;fill:rgb(100%,0%,0%);fill-opacity:1;stroke-width:1;stroke-linecap:butt;stroke-linejoin:miter;stroke:rgb(0%,0%,0%);stroke-opacity:1;stroke-miterlimit:10;\" d=\"M 284.726562 37.296875 C 284.726562 42.820312 280.25 47.296875 274.726562 47.296875 C 269.203125 47.296875 264.726562 42.820312 264.726562 37.296875 C 264.726562 31.773438 269.203125 27.296875 274.726562 27.296875 C 280.25 27.296875 284.726562 31.773438 284.726562 37.296875 \"/>\n",
       "<path style=\"fill-rule:nonzero;fill:rgb(100%,0%,0%);fill-opacity:1;stroke-width:1;stroke-linecap:butt;stroke-linejoin:miter;stroke:rgb(0%,0%,0%);stroke-opacity:1;stroke-miterlimit:10;\" d=\"M 228.875 22.269531 C 228.875 27.792969 224.398438 32.269531 218.875 32.269531 C 213.355469 32.269531 208.875 27.792969 208.875 22.269531 C 208.875 16.746094 213.355469 12.269531 218.875 12.269531 C 224.398438 12.269531 228.875 16.746094 228.875 22.269531 \"/>\n",
       "<path style=\"fill-rule:nonzero;fill:rgb(100%,0%,0%);fill-opacity:1;stroke-width:1;stroke-linecap:butt;stroke-linejoin:miter;stroke:rgb(0%,0%,0%);stroke-opacity:1;stroke-miterlimit:10;\" d=\"M 43.34375 144.164062 C 43.34375 149.6875 38.867188 154.164062 33.34375 154.164062 C 27.820312 154.164062 23.34375 149.6875 23.34375 144.164062 C 23.34375 138.644531 27.820312 134.164062 33.34375 134.164062 C 38.867188 134.164062 43.34375 138.644531 43.34375 144.164062 \"/>\n",
       "<path style=\"fill-rule:nonzero;fill:rgb(100%,0%,0%);fill-opacity:1;stroke-width:1;stroke-linecap:butt;stroke-linejoin:miter;stroke:rgb(0%,0%,0%);stroke-opacity:1;stroke-miterlimit:10;\" d=\"M 157.621094 299.175781 C 157.621094 304.699219 153.144531 309.175781 147.621094 309.175781 C 142.097656 309.175781 137.621094 304.699219 137.621094 299.175781 C 137.621094 293.652344 142.097656 289.175781 147.621094 289.175781 C 153.144531 289.175781 157.621094 293.652344 157.621094 299.175781 \"/>\n",
       "<path style=\"fill-rule:nonzero;fill:rgb(100%,0%,0%);fill-opacity:1;stroke-width:1;stroke-linecap:butt;stroke-linejoin:miter;stroke:rgb(0%,0%,0%);stroke-opacity:1;stroke-miterlimit:10;\" d=\"M 419.421875 265.71875 C 419.421875 271.242188 414.945312 275.71875 409.421875 275.71875 C 403.898438 275.71875 399.421875 271.242188 399.421875 265.71875 C 399.421875 260.195312 403.898438 255.71875 409.421875 255.71875 C 414.945312 255.71875 419.421875 260.195312 419.421875 265.71875 \"/>\n",
       "<path style=\"fill-rule:nonzero;fill:rgb(100%,0%,0%);fill-opacity:1;stroke-width:1;stroke-linecap:butt;stroke-linejoin:miter;stroke:rgb(0%,0%,0%);stroke-opacity:1;stroke-miterlimit:10;\" d=\"M 449.445312 150.820312 C 449.445312 156.339844 444.96875 160.820312 439.445312 160.820312 C 433.921875 160.820312 429.445312 156.339844 429.445312 150.820312 C 429.445312 145.296875 433.921875 140.820312 439.445312 140.820312 C 444.96875 140.820312 449.445312 145.296875 449.445312 150.820312 \"/>\n",
       "<path style=\"fill-rule:nonzero;fill:rgb(100%,0%,0%);fill-opacity:1;stroke-width:1;stroke-linecap:butt;stroke-linejoin:miter;stroke:rgb(0%,0%,0%);stroke-opacity:1;stroke-miterlimit:10;\" d=\"M 459.199219 254.992188 C 459.199219 260.515625 454.71875 264.992188 449.199219 264.992188 C 443.675781 264.992188 439.199219 260.515625 439.199219 254.992188 C 439.199219 249.46875 443.675781 244.992188 449.199219 244.992188 C 454.71875 244.992188 459.199219 249.46875 459.199219 254.992188 \"/>\n",
       "<path style=\"fill-rule:nonzero;fill:rgb(100%,0%,0%);fill-opacity:1;stroke-width:1;stroke-linecap:butt;stroke-linejoin:miter;stroke:rgb(0%,0%,0%);stroke-opacity:1;stroke-miterlimit:10;\" d=\"M 50.640625 245.589844 C 50.640625 251.113281 46.164062 255.589844 40.640625 255.589844 C 35.121094 255.589844 30.640625 251.113281 30.640625 245.589844 C 30.640625 240.066406 35.121094 235.589844 40.640625 235.589844 C 46.164062 235.589844 50.640625 240.066406 50.640625 245.589844 \"/>\n",
       "<path style=\"fill-rule:nonzero;fill:rgb(100%,0%,0%);fill-opacity:1;stroke-width:1;stroke-linecap:butt;stroke-linejoin:miter;stroke:rgb(0%,0%,0%);stroke-opacity:1;stroke-miterlimit:10;\" d=\"M 54.769531 106.367188 C 54.769531 111.890625 50.292969 116.367188 44.769531 116.367188 C 39.246094 116.367188 34.769531 111.890625 34.769531 106.367188 C 34.769531 100.84375 39.246094 96.367188 44.769531 96.367188 C 50.292969 96.367188 54.769531 100.84375 54.769531 106.367188 \"/>\n",
       "<path style=\"fill-rule:nonzero;fill:rgb(100%,0%,0%);fill-opacity:1;stroke-width:1;stroke-linecap:butt;stroke-linejoin:miter;stroke:rgb(0%,0%,0%);stroke-opacity:1;stroke-miterlimit:10;\" d=\"M 215.5625 326.746094 C 215.5625 332.269531 211.085938 336.746094 205.5625 336.746094 C 200.039062 336.746094 195.5625 332.269531 195.5625 326.746094 C 195.5625 321.222656 200.039062 316.746094 205.5625 316.746094 C 211.085938 316.746094 215.5625 321.222656 215.5625 326.746094 \"/>\n",
       "<path style=\"fill-rule:nonzero;fill:rgb(100%,0%,0%);fill-opacity:1;stroke-width:1;stroke-linecap:butt;stroke-linejoin:miter;stroke:rgb(0%,0%,0%);stroke-opacity:1;stroke-miterlimit:10;\" d=\"M 288.894531 209.957031 C 288.894531 215.476562 284.414062 219.957031 278.894531 219.957031 C 273.371094 219.957031 268.894531 215.476562 268.894531 209.957031 C 268.894531 204.433594 273.371094 199.957031 278.894531 199.957031 C 284.414062 199.957031 288.894531 204.433594 288.894531 209.957031 \"/>\n",
       "<path style=\"fill-rule:nonzero;fill:rgb(100%,0%,0%);fill-opacity:1;stroke-width:1;stroke-linecap:butt;stroke-linejoin:miter;stroke:rgb(0%,0%,0%);stroke-opacity:1;stroke-miterlimit:10;\" d=\"M 163.839844 268.644531 C 163.839844 274.167969 159.363281 278.644531 153.839844 278.644531 C 148.316406 278.644531 143.839844 274.167969 143.839844 268.644531 C 143.839844 263.121094 148.316406 258.644531 153.839844 258.644531 C 159.363281 258.644531 163.839844 263.121094 163.839844 268.644531 \"/>\n",
       "<path style=\"fill-rule:nonzero;fill:rgb(100%,0%,0%);fill-opacity:1;stroke-width:1;stroke-linecap:butt;stroke-linejoin:miter;stroke:rgb(0%,0%,0%);stroke-opacity:1;stroke-miterlimit:10;\" d=\"M 187.46875 213.410156 C 187.46875 218.933594 182.988281 223.410156 177.46875 223.410156 C 171.945312 223.410156 167.46875 218.933594 167.46875 213.410156 C 167.46875 207.886719 171.945312 203.410156 177.46875 203.410156 C 182.988281 203.410156 187.46875 207.886719 187.46875 213.410156 \"/>\n",
       "<path style=\"fill-rule:nonzero;fill:rgb(100%,0%,0%);fill-opacity:1;stroke-width:1;stroke-linecap:butt;stroke-linejoin:miter;stroke:rgb(0%,0%,0%);stroke-opacity:1;stroke-miterlimit:10;\" d=\"M 152.238281 189.550781 C 152.238281 195.074219 147.761719 199.550781 142.238281 199.550781 C 136.714844 199.550781 132.238281 195.074219 132.238281 189.550781 C 132.238281 184.027344 136.714844 179.550781 142.238281 179.550781 C 147.761719 179.550781 152.238281 184.027344 152.238281 189.550781 \"/>\n",
       "<path style=\"fill-rule:nonzero;fill:rgb(100%,0%,0%);fill-opacity:1;stroke-width:1;stroke-linecap:butt;stroke-linejoin:miter;stroke:rgb(0%,0%,0%);stroke-opacity:1;stroke-miterlimit:10;\" d=\"M 152.84375 314.789062 C 152.84375 320.3125 148.367188 324.789062 142.84375 324.789062 C 137.320312 324.789062 132.84375 320.3125 132.84375 314.789062 C 132.84375 309.265625 137.320312 304.789062 142.84375 304.789062 C 148.367188 304.789062 152.84375 309.265625 152.84375 314.789062 \"/>\n",
       "<path style=\"fill-rule:nonzero;fill:rgb(100%,0%,0%);fill-opacity:1;stroke-width:1;stroke-linecap:butt;stroke-linejoin:miter;stroke:rgb(0%,0%,0%);stroke-opacity:1;stroke-miterlimit:10;\" d=\"M 88.347656 96.050781 C 88.347656 101.574219 83.867188 106.050781 78.347656 106.050781 C 72.824219 106.050781 68.347656 101.574219 68.347656 96.050781 C 68.347656 90.527344 72.824219 86.050781 78.347656 86.050781 C 83.867188 86.050781 88.347656 90.527344 88.347656 96.050781 \"/>\n",
       "<path style=\"fill-rule:nonzero;fill:rgb(100%,0%,0%);fill-opacity:1;stroke-width:1;stroke-linecap:butt;stroke-linejoin:miter;stroke:rgb(0%,0%,0%);stroke-opacity:1;stroke-miterlimit:10;\" d=\"M 120.402344 102.554688 C 120.402344 108.078125 115.925781 112.554688 110.402344 112.554688 C 104.878906 112.554688 100.402344 108.078125 100.402344 102.554688 C 100.402344 97.035156 104.878906 92.554688 110.402344 92.554688 C 115.925781 92.554688 120.402344 97.035156 120.402344 102.554688 \"/>\n",
       "<path style=\"fill-rule:nonzero;fill:rgb(100%,0%,0%);fill-opacity:1;stroke-width:1;stroke-linecap:butt;stroke-linejoin:miter;stroke:rgb(0%,0%,0%);stroke-opacity:1;stroke-miterlimit:10;\" d=\"M 316.746094 189.714844 C 316.746094 195.238281 312.269531 199.714844 306.746094 199.714844 C 301.222656 199.714844 296.746094 195.238281 296.746094 189.714844 C 296.746094 184.191406 301.222656 179.714844 306.746094 179.714844 C 312.269531 179.714844 316.746094 184.191406 316.746094 189.714844 \"/>\n",
       "<path style=\"fill-rule:nonzero;fill:rgb(100%,0%,0%);fill-opacity:1;stroke-width:1;stroke-linecap:butt;stroke-linejoin:miter;stroke:rgb(0%,0%,0%);stroke-opacity:1;stroke-miterlimit:10;\" d=\"M 464.726562 182.894531 C 464.726562 188.417969 460.25 192.894531 454.726562 192.894531 C 449.203125 192.894531 444.726562 188.417969 444.726562 182.894531 C 444.726562 177.371094 449.203125 172.894531 454.726562 172.894531 C 460.25 172.894531 464.726562 177.371094 464.726562 182.894531 \"/>\n",
       "<path style=\"fill-rule:nonzero;fill:rgb(100%,0%,0%);fill-opacity:1;stroke-width:1;stroke-linecap:butt;stroke-linejoin:miter;stroke:rgb(0%,0%,0%);stroke-opacity:1;stroke-miterlimit:10;\" d=\"M 483.21875 143.824219 C 483.21875 149.347656 478.742188 153.824219 473.21875 153.824219 C 467.699219 153.824219 463.21875 149.347656 463.21875 143.824219 C 463.21875 138.304688 467.699219 133.824219 473.21875 133.824219 C 478.742188 133.824219 483.21875 138.304688 483.21875 143.824219 \"/>\n",
       "<path style=\"fill-rule:nonzero;fill:rgb(100%,0%,0%);fill-opacity:1;stroke-width:1;stroke-linecap:butt;stroke-linejoin:miter;stroke:rgb(0%,0%,0%);stroke-opacity:1;stroke-miterlimit:10;\" d=\"M 489.757812 187.308594 C 489.757812 192.832031 485.28125 197.308594 479.757812 197.308594 C 474.238281 197.308594 469.757812 192.832031 469.757812 187.308594 C 469.757812 181.785156 474.238281 177.308594 479.757812 177.308594 C 485.28125 177.308594 489.757812 181.785156 489.757812 187.308594 \"/>\n",
       "<path style=\"fill-rule:nonzero;fill:rgb(100%,0%,0%);fill-opacity:1;stroke-width:1;stroke-linecap:butt;stroke-linejoin:miter;stroke:rgb(0%,0%,0%);stroke-opacity:1;stroke-miterlimit:10;\" d=\"M 431.589844 279.203125 C 431.589844 284.726562 427.109375 289.203125 421.589844 289.203125 C 416.066406 289.203125 411.589844 284.726562 411.589844 279.203125 C 411.589844 273.679688 416.066406 269.203125 421.589844 269.203125 C 427.109375 269.203125 431.589844 273.679688 431.589844 279.203125 \"/>\n",
       "<path style=\"fill-rule:nonzero;fill:rgb(100%,0%,0%);fill-opacity:1;stroke-width:1;stroke-linecap:butt;stroke-linejoin:miter;stroke:rgb(0%,0%,0%);stroke-opacity:1;stroke-miterlimit:10;\" d=\"M 369.882812 201.917969 C 369.882812 207.441406 365.402344 211.917969 359.882812 211.917969 C 354.359375 211.917969 349.882812 207.441406 349.882812 201.917969 C 349.882812 196.394531 354.359375 191.917969 359.882812 191.917969 C 365.402344 191.917969 369.882812 196.394531 369.882812 201.917969 \"/>\n",
       "<path style=\"fill-rule:nonzero;fill:rgb(100%,0%,0%);fill-opacity:1;stroke-width:1;stroke-linecap:butt;stroke-linejoin:miter;stroke:rgb(0%,0%,0%);stroke-opacity:1;stroke-miterlimit:10;\" d=\"M 453.050781 89.925781 C 453.050781 95.449219 448.570312 99.925781 443.050781 99.925781 C 437.527344 99.925781 433.050781 95.449219 433.050781 89.925781 C 433.050781 84.40625 437.527344 79.925781 443.050781 79.925781 C 448.570312 79.925781 453.050781 84.40625 453.050781 89.925781 \"/>\n",
       "<path style=\"fill-rule:nonzero;fill:rgb(100%,0%,0%);fill-opacity:1;stroke-width:1;stroke-linecap:butt;stroke-linejoin:miter;stroke:rgb(0%,0%,0%);stroke-opacity:1;stroke-miterlimit:10;\" d=\"M 279.546875 283.464844 C 279.546875 288.988281 275.070312 293.464844 269.546875 293.464844 C 264.023438 293.464844 259.546875 288.988281 259.546875 283.464844 C 259.546875 277.941406 264.023438 273.464844 269.546875 273.464844 C 275.070312 273.464844 279.546875 277.941406 279.546875 283.464844 \"/>\n",
       "<path style=\"fill-rule:nonzero;fill:rgb(100%,0%,0%);fill-opacity:1;stroke-width:1;stroke-linecap:butt;stroke-linejoin:miter;stroke:rgb(0%,0%,0%);stroke-opacity:1;stroke-miterlimit:10;\" d=\"M 48.699219 120.53125 C 48.699219 126.054688 44.21875 130.53125 38.699219 130.53125 C 33.175781 130.53125 28.699219 126.054688 28.699219 120.53125 C 28.699219 115.007812 33.175781 110.53125 38.699219 110.53125 C 44.21875 110.53125 48.699219 115.007812 48.699219 120.53125 \"/>\n",
       "<path style=\"fill-rule:nonzero;fill:rgb(100%,0%,0%);fill-opacity:1;stroke-width:1;stroke-linecap:butt;stroke-linejoin:miter;stroke:rgb(0%,0%,0%);stroke-opacity:1;stroke-miterlimit:10;\" d=\"M 408.566406 107.425781 C 408.566406 112.949219 404.089844 117.425781 398.566406 117.425781 C 393.042969 117.425781 388.566406 112.949219 388.566406 107.425781 C 388.566406 101.902344 393.042969 97.425781 398.566406 97.425781 C 404.089844 97.425781 408.566406 101.902344 408.566406 107.425781 \"/>\n",
       "<path style=\"fill-rule:nonzero;fill:rgb(100%,0%,0%);fill-opacity:1;stroke-width:1;stroke-linecap:butt;stroke-linejoin:miter;stroke:rgb(0%,0%,0%);stroke-opacity:1;stroke-miterlimit:10;\" d=\"M 111.195312 205.253906 C 111.195312 210.777344 106.71875 215.253906 101.195312 215.253906 C 95.671875 215.253906 91.195312 210.777344 91.195312 205.253906 C 91.195312 199.730469 95.671875 195.253906 101.195312 195.253906 C 106.71875 195.253906 111.195312 199.730469 111.195312 205.253906 \"/>\n",
       "<path style=\"fill-rule:nonzero;fill:rgb(100%,0%,0%);fill-opacity:1;stroke-width:1;stroke-linecap:butt;stroke-linejoin:miter;stroke:rgb(0%,0%,0%);stroke-opacity:1;stroke-miterlimit:10;\" d=\"M 120.027344 175.046875 C 120.027344 180.566406 115.550781 185.046875 110.027344 185.046875 C 104.503906 185.046875 100.027344 180.566406 100.027344 175.046875 C 100.027344 169.523438 104.503906 165.046875 110.027344 165.046875 C 115.550781 165.046875 120.027344 169.523438 120.027344 175.046875 \"/>\n",
       "<path style=\"fill-rule:nonzero;fill:rgb(100%,0%,0%);fill-opacity:1;stroke-width:1;stroke-linecap:butt;stroke-linejoin:miter;stroke:rgb(0%,0%,0%);stroke-opacity:1;stroke-miterlimit:10;\" d=\"M 204.976562 268.074219 C 204.976562 273.59375 200.5 278.074219 194.976562 278.074219 C 189.457031 278.074219 184.976562 273.59375 184.976562 268.074219 C 184.976562 262.550781 189.457031 258.074219 194.976562 258.074219 C 200.5 258.074219 204.976562 262.550781 204.976562 268.074219 \"/>\n",
       "<path style=\"fill-rule:nonzero;fill:rgb(100%,0%,0%);fill-opacity:1;stroke-width:1;stroke-linecap:butt;stroke-linejoin:miter;stroke:rgb(0%,0%,0%);stroke-opacity:1;stroke-miterlimit:10;\" d=\"M 270.816406 21.0625 C 270.816406 26.585938 266.335938 31.0625 260.816406 31.0625 C 255.292969 31.0625 250.816406 26.585938 250.816406 21.0625 C 250.816406 15.542969 255.292969 11.0625 260.816406 11.0625 C 266.335938 11.0625 270.816406 15.542969 270.816406 21.0625 \"/>\n",
       "<path style=\"fill-rule:nonzero;fill:rgb(100%,0%,0%);fill-opacity:1;stroke-width:1;stroke-linecap:butt;stroke-linejoin:miter;stroke:rgb(0%,0%,0%);stroke-opacity:1;stroke-miterlimit:10;\" d=\"M 444.4375 110.339844 C 444.4375 115.863281 439.957031 120.339844 434.4375 120.339844 C 428.914062 120.339844 424.4375 115.863281 424.4375 110.339844 C 424.4375 104.816406 428.914062 100.339844 434.4375 100.339844 C 439.957031 100.339844 444.4375 104.816406 444.4375 110.339844 \"/>\n",
       "<path style=\"fill-rule:nonzero;fill:rgb(100%,0%,0%);fill-opacity:1;stroke-width:1;stroke-linecap:butt;stroke-linejoin:miter;stroke:rgb(0%,0%,0%);stroke-opacity:1;stroke-miterlimit:10;\" d=\"M 412.75 150.398438 C 412.75 155.921875 408.269531 160.398438 402.75 160.398438 C 397.226562 160.398438 392.75 155.921875 392.75 150.398438 C 392.75 144.875 397.226562 140.398438 402.75 140.398438 C 408.269531 140.398438 412.75 144.875 412.75 150.398438 \"/>\n",
       "<path style=\"fill-rule:nonzero;fill:rgb(100%,0%,0%);fill-opacity:1;stroke-width:1;stroke-linecap:butt;stroke-linejoin:miter;stroke:rgb(0%,0%,0%);stroke-opacity:1;stroke-miterlimit:10;\" d=\"M 490.292969 156.863281 C 490.292969 162.386719 485.816406 166.863281 480.292969 166.863281 C 474.769531 166.863281 470.292969 162.386719 470.292969 156.863281 C 470.292969 151.339844 474.769531 146.863281 480.292969 146.863281 C 485.816406 146.863281 490.292969 151.339844 490.292969 156.863281 \"/>\n",
       "<path style=\"fill-rule:nonzero;fill:rgb(100%,0%,0%);fill-opacity:1;stroke-width:1;stroke-linecap:butt;stroke-linejoin:miter;stroke:rgb(0%,0%,0%);stroke-opacity:1;stroke-miterlimit:10;\" d=\"M 233.714844 64.785156 C 233.714844 70.304688 229.238281 74.785156 223.714844 74.785156 C 218.195312 74.785156 213.714844 70.304688 213.714844 64.785156 C 213.714844 59.261719 218.195312 54.785156 223.714844 54.785156 C 229.238281 54.785156 233.714844 59.261719 233.714844 64.785156 \"/>\n",
       "<path style=\"fill-rule:nonzero;fill:rgb(100%,0%,0%);fill-opacity:1;stroke-width:1;stroke-linecap:butt;stroke-linejoin:miter;stroke:rgb(0%,0%,0%);stroke-opacity:1;stroke-miterlimit:10;\" d=\"M 311.78125 24.765625 C 311.78125 30.289062 307.304688 34.765625 301.78125 34.765625 C 296.257812 34.765625 291.78125 30.289062 291.78125 24.765625 C 291.78125 19.242188 296.257812 14.765625 301.78125 14.765625 C 307.304688 14.765625 311.78125 19.242188 311.78125 24.765625 \"/>\n",
       "<path style=\"fill-rule:nonzero;fill:rgb(100%,0%,0%);fill-opacity:1;stroke-width:1;stroke-linecap:butt;stroke-linejoin:miter;stroke:rgb(0%,0%,0%);stroke-opacity:1;stroke-miterlimit:10;\" d=\"M 380.847656 128.433594 C 380.847656 133.957031 376.367188 138.433594 370.847656 138.433594 C 365.324219 138.433594 360.847656 133.957031 360.847656 128.433594 C 360.847656 122.910156 365.324219 118.433594 370.847656 118.433594 C 376.367188 118.433594 380.847656 122.910156 380.847656 128.433594 \"/>\n",
       "<path style=\"fill-rule:nonzero;fill:rgb(100%,0%,0%);fill-opacity:1;stroke-width:1;stroke-linecap:butt;stroke-linejoin:miter;stroke:rgb(0%,0%,0%);stroke-opacity:1;stroke-miterlimit:10;\" d=\"M 340.761719 45.203125 C 340.761719 50.726562 336.285156 55.203125 330.761719 55.203125 C 325.238281 55.203125 320.761719 50.726562 320.761719 45.203125 C 320.761719 39.679688 325.238281 35.203125 330.761719 35.203125 C 336.285156 35.203125 340.761719 39.679688 340.761719 45.203125 \"/>\n",
       "<path style=\"fill-rule:nonzero;fill:rgb(100%,0%,0%);fill-opacity:1;stroke-width:1;stroke-linecap:butt;stroke-linejoin:miter;stroke:rgb(0%,0%,0%);stroke-opacity:1;stroke-miterlimit:10;\" d=\"M 93.636719 257.574219 C 93.636719 263.09375 89.160156 267.574219 83.636719 267.574219 C 78.113281 267.574219 73.636719 263.09375 73.636719 257.574219 C 73.636719 252.050781 78.113281 247.574219 83.636719 247.574219 C 89.160156 247.574219 93.636719 252.050781 93.636719 257.574219 \"/>\n",
       "<path style=\"fill-rule:nonzero;fill:rgb(100%,0%,0%);fill-opacity:1;stroke-width:1;stroke-linecap:butt;stroke-linejoin:miter;stroke:rgb(0%,0%,0%);stroke-opacity:1;stroke-miterlimit:10;\" d=\"M 59.074219 203.738281 C 59.074219 209.261719 54.597656 213.738281 49.074219 213.738281 C 43.550781 213.738281 39.074219 209.261719 39.074219 203.738281 C 39.074219 198.214844 43.550781 193.738281 49.074219 193.738281 C 54.597656 193.738281 59.074219 198.214844 59.074219 203.738281 \"/>\n",
       "<path style=\"fill-rule:nonzero;fill:rgb(100%,0%,0%);fill-opacity:1;stroke-width:1;stroke-linecap:butt;stroke-linejoin:miter;stroke:rgb(0%,0%,0%);stroke-opacity:1;stroke-miterlimit:10;\" d=\"M 136.566406 284.429688 C 136.566406 289.953125 132.089844 294.429688 126.566406 294.429688 C 121.042969 294.429688 116.566406 289.953125 116.566406 284.429688 C 116.566406 278.90625 121.042969 274.429688 126.566406 274.429688 C 132.089844 274.429688 136.566406 278.90625 136.566406 284.429688 \"/>\n",
       "<path style=\"fill-rule:nonzero;fill:rgb(100%,0%,0%);fill-opacity:1;stroke-width:1;stroke-linecap:butt;stroke-linejoin:miter;stroke:rgb(0%,0%,0%);stroke-opacity:1;stroke-miterlimit:10;\" d=\"M 31.253906 154.832031 C 31.253906 160.355469 26.777344 164.832031 21.253906 164.832031 C 15.734375 164.832031 11.253906 160.355469 11.253906 154.832031 C 11.253906 149.308594 15.734375 144.832031 21.253906 144.832031 C 26.777344 144.832031 31.253906 149.308594 31.253906 154.832031 \"/>\n",
       "<path style=\"fill-rule:nonzero;fill:rgb(100%,0%,0%);fill-opacity:1;stroke-width:1;stroke-linecap:butt;stroke-linejoin:miter;stroke:rgb(0%,0%,0%);stroke-opacity:1;stroke-miterlimit:10;\" d=\"M 266.691406 233.359375 C 266.691406 238.882812 262.210938 243.359375 256.691406 243.359375 C 251.167969 243.359375 246.691406 238.882812 246.691406 233.359375 C 246.691406 227.835938 251.167969 223.359375 256.691406 223.359375 C 262.210938 223.359375 266.691406 227.835938 266.691406 233.359375 \"/>\n",
       "<path style=\"fill-rule:nonzero;fill:rgb(100%,0%,0%);fill-opacity:1;stroke-width:1;stroke-linecap:butt;stroke-linejoin:miter;stroke:rgb(0%,0%,0%);stroke-opacity:1;stroke-miterlimit:10;\" d=\"M 146.933594 215.425781 C 146.933594 220.949219 142.457031 225.425781 136.933594 225.425781 C 131.414062 225.425781 126.933594 220.949219 126.933594 215.425781 C 126.933594 209.902344 131.414062 205.425781 136.933594 205.425781 C 142.457031 205.425781 146.933594 209.902344 146.933594 215.425781 \"/>\n",
       "<path style=\"fill-rule:nonzero;fill:rgb(100%,0%,0%);fill-opacity:1;stroke-width:1;stroke-linecap:butt;stroke-linejoin:miter;stroke:rgb(0%,0%,0%);stroke-opacity:1;stroke-miterlimit:10;\" d=\"M 53.148438 232.246094 C 53.148438 237.769531 48.671875 242.246094 43.148438 242.246094 C 37.625 242.246094 33.148438 237.769531 33.148438 232.246094 C 33.148438 226.726562 37.625 222.246094 43.148438 222.246094 C 48.671875 222.246094 53.148438 226.726562 53.148438 232.246094 \"/>\n",
       "<path style=\"fill-rule:nonzero;fill:rgb(100%,0%,0%);fill-opacity:1;stroke-width:1;stroke-linecap:butt;stroke-linejoin:miter;stroke:rgb(0%,0%,0%);stroke-opacity:1;stroke-miterlimit:10;\" d=\"M 182.355469 289.792969 C 182.355469 295.3125 177.878906 299.792969 172.355469 299.792969 C 166.832031 299.792969 162.355469 295.3125 162.355469 289.792969 C 162.355469 284.269531 166.832031 279.792969 172.355469 279.792969 C 177.878906 279.792969 182.355469 284.269531 182.355469 289.792969 \"/>\n",
       "<path style=\"fill-rule:nonzero;fill:rgb(100%,0%,0%);fill-opacity:1;stroke-width:1;stroke-linecap:butt;stroke-linejoin:miter;stroke:rgb(0%,0%,0%);stroke-opacity:1;stroke-miterlimit:10;\" d=\"M 466.160156 205.433594 C 466.160156 210.957031 461.683594 215.433594 456.160156 215.433594 C 450.636719 215.433594 446.160156 210.957031 446.160156 205.433594 C 446.160156 199.914062 450.636719 195.433594 456.160156 195.433594 C 461.683594 195.433594 466.160156 199.914062 466.160156 205.433594 \"/>\n",
       "<path style=\"fill-rule:nonzero;fill:rgb(100%,0%,0%);fill-opacity:1;stroke-width:1;stroke-linecap:butt;stroke-linejoin:miter;stroke:rgb(0%,0%,0%);stroke-opacity:1;stroke-miterlimit:10;\" d=\"M 339.5625 319.003906 C 339.5625 324.527344 335.085938 329.003906 329.5625 329.003906 C 324.042969 329.003906 319.5625 324.527344 319.5625 319.003906 C 319.5625 313.480469 324.042969 309.003906 329.5625 309.003906 C 335.085938 309.003906 339.5625 313.480469 339.5625 319.003906 \"/>\n",
       "<path style=\"fill-rule:nonzero;fill:rgb(100%,0%,0%);fill-opacity:1;stroke-width:1;stroke-linecap:butt;stroke-linejoin:miter;stroke:rgb(0%,0%,0%);stroke-opacity:1;stroke-miterlimit:10;\" d=\"M 431.207031 172.800781 C 431.207031 178.324219 426.730469 182.800781 421.207031 182.800781 C 415.683594 182.800781 411.207031 178.324219 411.207031 172.800781 C 411.207031 167.277344 415.683594 162.800781 421.207031 162.800781 C 426.730469 162.800781 431.207031 167.277344 431.207031 172.800781 \"/>\n",
       "<path style=\"fill-rule:nonzero;fill:rgb(100%,0%,0%);fill-opacity:1;stroke-width:1;stroke-linecap:butt;stroke-linejoin:miter;stroke:rgb(0%,0%,0%);stroke-opacity:1;stroke-miterlimit:10;\" d=\"M 307.175781 321.507812 C 307.175781 327.027344 302.699219 331.507812 297.175781 331.507812 C 291.652344 331.507812 287.175781 327.027344 287.175781 321.507812 C 287.175781 315.984375 291.652344 311.507812 297.175781 311.507812 C 302.699219 311.507812 307.175781 315.984375 307.175781 321.507812 \"/>\n",
       "<path style=\"fill-rule:nonzero;fill:rgb(100%,0%,0%);fill-opacity:1;stroke-width:1;stroke-linecap:butt;stroke-linejoin:miter;stroke:rgb(0%,0%,0%);stroke-opacity:1;stroke-miterlimit:10;\" d=\"M 365.601562 56.285156 C 365.601562 61.808594 361.121094 66.285156 355.601562 66.285156 C 350.078125 66.285156 345.601562 61.808594 345.601562 56.285156 C 345.601562 50.765625 350.078125 46.285156 355.601562 46.285156 C 361.121094 46.285156 365.601562 50.765625 365.601562 56.285156 \"/>\n",
       "<path style=\"fill-rule:nonzero;fill:rgb(100%,0%,0%);fill-opacity:1;stroke-width:1;stroke-linecap:butt;stroke-linejoin:miter;stroke:rgb(0%,0%,0%);stroke-opacity:1;stroke-miterlimit:10;\" d=\"M 30 184.097656 C 30 189.621094 25.523438 194.097656 20 194.097656 C 14.476562 194.097656 10 189.621094 10 184.097656 C 10 178.574219 14.476562 174.097656 20 174.097656 C 25.523438 174.097656 30 178.574219 30 184.097656 \"/>\n",
       "<path style=\"fill-rule:nonzero;fill:rgb(100%,0%,0%);fill-opacity:1;stroke-width:1;stroke-linecap:butt;stroke-linejoin:miter;stroke:rgb(0%,0%,0%);stroke-opacity:1;stroke-miterlimit:10;\" d=\"M 197.339844 109.941406 C 197.339844 115.464844 192.863281 119.941406 187.339844 119.941406 C 181.820312 119.941406 177.339844 115.464844 177.339844 109.941406 C 177.339844 104.417969 181.820312 99.941406 187.339844 99.941406 C 192.863281 99.941406 197.339844 104.417969 197.339844 109.941406 \"/>\n",
       "<path style=\"fill-rule:nonzero;fill:rgb(100%,0%,0%);fill-opacity:1;stroke-width:1;stroke-linecap:butt;stroke-linejoin:miter;stroke:rgb(0%,0%,0%);stroke-opacity:1;stroke-miterlimit:10;\" d=\"M 349.789062 175.570312 C 349.789062 181.09375 345.3125 185.570312 339.789062 185.570312 C 334.265625 185.570312 329.789062 181.09375 329.789062 175.570312 C 329.789062 170.046875 334.265625 165.570312 339.789062 165.570312 C 345.3125 165.570312 349.789062 170.046875 349.789062 175.570312 \"/>\n",
       "<path style=\"fill-rule:nonzero;fill:rgb(100%,0%,0%);fill-opacity:1;stroke-width:1;stroke-linecap:butt;stroke-linejoin:miter;stroke:rgb(0%,0%,0%);stroke-opacity:1;stroke-miterlimit:10;\" d=\"M 320.128906 91.699219 C 320.128906 97.222656 315.652344 101.699219 310.128906 101.699219 C 304.605469 101.699219 300.128906 97.222656 300.128906 91.699219 C 300.128906 86.175781 304.605469 81.699219 310.128906 81.699219 C 315.652344 81.699219 320.128906 86.175781 320.128906 91.699219 \"/>\n",
       "<path style=\"fill-rule:nonzero;fill:rgb(100%,0%,0%);fill-opacity:1;stroke-width:1;stroke-linecap:butt;stroke-linejoin:miter;stroke:rgb(0%,0%,0%);stroke-opacity:1;stroke-miterlimit:10;\" d=\"M 172.300781 317.808594 C 172.300781 323.332031 167.824219 327.808594 162.300781 327.808594 C 156.777344 327.808594 152.300781 323.332031 152.300781 317.808594 C 152.300781 312.285156 156.777344 307.808594 162.300781 307.808594 C 167.824219 307.808594 172.300781 312.285156 172.300781 317.808594 \"/>\n",
       "<path style=\"fill-rule:nonzero;fill:rgb(100%,0%,0%);fill-opacity:1;stroke-width:1;stroke-linecap:butt;stroke-linejoin:miter;stroke:rgb(0%,0%,0%);stroke-opacity:1;stroke-miterlimit:10;\" d=\"M 178.214844 168.640625 C 178.214844 174.160156 173.738281 178.640625 168.214844 178.640625 C 162.691406 178.640625 158.214844 174.160156 158.214844 168.640625 C 158.214844 163.117188 162.691406 158.640625 168.214844 158.640625 C 173.738281 158.640625 178.214844 163.117188 178.214844 168.640625 \"/>\n",
       "<path style=\"fill-rule:nonzero;fill:rgb(100%,0%,0%);fill-opacity:1;stroke-width:1;stroke-linecap:butt;stroke-linejoin:miter;stroke:rgb(0%,0%,0%);stroke-opacity:1;stroke-miterlimit:10;\" d=\"M 303.699219 128.109375 C 303.699219 133.632812 299.222656 138.109375 293.699219 138.109375 C 288.175781 138.109375 283.699219 133.632812 283.699219 128.109375 C 283.699219 122.585938 288.175781 118.109375 293.699219 118.109375 C 299.222656 118.109375 303.699219 122.585938 303.699219 128.109375 \"/>\n",
       "<path style=\"fill-rule:nonzero;fill:rgb(100%,0%,0%);fill-opacity:1;stroke-width:1;stroke-linecap:butt;stroke-linejoin:miter;stroke:rgb(0%,0%,0%);stroke-opacity:1;stroke-miterlimit:10;\" d=\"M 126.699219 49.234375 C 126.699219 54.753906 122.222656 59.234375 116.699219 59.234375 C 111.175781 59.234375 106.699219 54.753906 106.699219 49.234375 C 106.699219 43.710938 111.175781 39.234375 116.699219 39.234375 C 122.222656 39.234375 126.699219 43.710938 126.699219 49.234375 \"/>\n",
       "<path style=\"fill-rule:nonzero;fill:rgb(100%,0%,0%);fill-opacity:1;stroke-width:1;stroke-linecap:butt;stroke-linejoin:miter;stroke:rgb(0%,0%,0%);stroke-opacity:1;stroke-miterlimit:10;\" d=\"M 424.667969 231.515625 C 424.667969 237.039062 420.191406 241.515625 414.667969 241.515625 C 409.144531 241.515625 404.667969 237.039062 404.667969 231.515625 C 404.667969 225.992188 409.144531 221.515625 414.667969 221.515625 C 420.191406 221.515625 424.667969 225.992188 424.667969 231.515625 \"/>\n",
       "<path style=\"fill-rule:nonzero;fill:rgb(100%,0%,0%);fill-opacity:1;stroke-width:1;stroke-linecap:butt;stroke-linejoin:miter;stroke:rgb(0%,0%,0%);stroke-opacity:1;stroke-miterlimit:10;\" d=\"M 331.261719 28.054688 C 331.261719 33.578125 326.78125 38.054688 321.261719 38.054688 C 315.738281 38.054688 311.261719 33.578125 311.261719 28.054688 C 311.261719 22.53125 315.738281 18.054688 321.261719 18.054688 C 326.78125 18.054688 331.261719 22.53125 331.261719 28.054688 \"/>\n",
       "<path style=\"fill-rule:nonzero;fill:rgb(100%,0%,0%);fill-opacity:1;stroke-width:1;stroke-linecap:butt;stroke-linejoin:miter;stroke:rgb(0%,0%,0%);stroke-opacity:1;stroke-miterlimit:10;\" d=\"M 399.585938 296.921875 C 399.585938 302.445312 395.109375 306.921875 389.585938 306.921875 C 384.0625 306.921875 379.585938 302.445312 379.585938 296.921875 C 379.585938 291.398438 384.0625 286.921875 389.585938 286.921875 C 395.109375 286.921875 399.585938 291.398438 399.585938 296.921875 \"/>\n",
       "<path style=\"fill-rule:nonzero;fill:rgb(100%,0%,0%);fill-opacity:1;stroke-width:1;stroke-linecap:butt;stroke-linejoin:miter;stroke:rgb(0%,0%,0%);stroke-opacity:1;stroke-miterlimit:10;\" d=\"M 282.417969 322.902344 C 282.417969 328.421875 277.941406 332.902344 272.417969 332.902344 C 266.894531 332.902344 262.417969 328.421875 262.417969 322.902344 C 262.417969 317.378906 266.894531 312.902344 272.417969 312.902344 C 277.941406 312.902344 282.417969 317.378906 282.417969 322.902344 \"/>\n",
       "<path style=\"fill-rule:nonzero;fill:rgb(100%,0%,0%);fill-opacity:1;stroke-width:1;stroke-linecap:butt;stroke-linejoin:miter;stroke:rgb(0%,0%,0%);stroke-opacity:1;stroke-miterlimit:10;\" d=\"M 165.652344 34.324219 C 165.652344 39.847656 161.175781 44.324219 155.652344 44.324219 C 150.128906 44.324219 145.652344 39.847656 145.652344 34.324219 C 145.652344 28.800781 150.128906 24.324219 155.652344 24.324219 C 161.175781 24.324219 165.652344 28.800781 165.652344 34.324219 \"/>\n",
       "<path style=\"fill-rule:nonzero;fill:rgb(100%,0%,0%);fill-opacity:1;stroke-width:1;stroke-linecap:butt;stroke-linejoin:miter;stroke:rgb(0%,0%,0%);stroke-opacity:1;stroke-miterlimit:10;\" d=\"M 438.28125 197.355469 C 438.28125 202.878906 433.804688 207.355469 428.28125 207.355469 C 422.757812 207.355469 418.28125 202.878906 418.28125 197.355469 C 418.28125 191.832031 422.757812 187.355469 428.28125 187.355469 C 433.804688 187.355469 438.28125 191.832031 438.28125 197.355469 \"/>\n",
       "<path style=\"fill-rule:nonzero;fill:rgb(100%,0%,0%);fill-opacity:1;stroke-width:1;stroke-linecap:butt;stroke-linejoin:miter;stroke:rgb(0%,0%,0%);stroke-opacity:1;stroke-miterlimit:10;\" d=\"M 185.765625 244.167969 C 185.765625 249.691406 181.289062 254.167969 175.765625 254.167969 C 170.242188 254.167969 165.765625 249.691406 165.765625 244.167969 C 165.765625 238.644531 170.242188 234.167969 175.765625 234.167969 C 181.289062 234.167969 185.765625 238.644531 185.765625 244.167969 \"/>\n",
       "<path style=\"fill-rule:nonzero;fill:rgb(100%,0%,0%);fill-opacity:1;stroke-width:1;stroke-linecap:butt;stroke-linejoin:miter;stroke:rgb(0%,0%,0%);stroke-opacity:1;stroke-miterlimit:10;\" d=\"M 100.8125 291.261719 C 100.8125 296.785156 96.335938 301.261719 90.8125 301.261719 C 85.289062 301.261719 80.8125 296.785156 80.8125 291.261719 C 80.8125 285.738281 85.289062 281.261719 90.8125 281.261719 C 96.335938 281.261719 100.8125 285.738281 100.8125 291.261719 \"/>\n",
       "<path style=\"fill-rule:nonzero;fill:rgb(100%,0%,0%);fill-opacity:1;stroke-width:1;stroke-linecap:butt;stroke-linejoin:miter;stroke:rgb(0%,0%,0%);stroke-opacity:1;stroke-miterlimit:10;\" d=\"M 65.988281 93.324219 C 65.988281 98.847656 61.511719 103.324219 55.988281 103.324219 C 50.464844 103.324219 45.988281 98.847656 45.988281 93.324219 C 45.988281 87.800781 50.464844 83.324219 55.988281 83.324219 C 61.511719 83.324219 65.988281 87.800781 65.988281 93.324219 \"/>\n",
       "<path style=\"fill-rule:nonzero;fill:rgb(100%,0%,0%);fill-opacity:1;stroke-width:1;stroke-linecap:butt;stroke-linejoin:miter;stroke:rgb(0%,0%,0%);stroke-opacity:1;stroke-miterlimit:10;\" d=\"M 393.824219 277.367188 C 393.824219 282.890625 389.347656 287.367188 383.824219 287.367188 C 378.300781 287.367188 373.824219 282.890625 373.824219 277.367188 C 373.824219 271.84375 378.300781 267.367188 383.824219 267.367188 C 389.347656 267.367188 393.824219 271.84375 393.824219 277.367188 \"/>\n",
       "</g>\n",
       "</svg>\n"
      ],
      "text/plain": [
       "<igraph.drawing.Plot at 0x1297bf590>"
      ]
     },
     "execution_count": 17,
     "metadata": {},
     "output_type": "execute_result"
    }
   ],
   "source": [
    "layout = graph2.layout(\"kk\")\n",
    "plot(graph2,layout=layout)"
   ]
  },
  {
   "cell_type": "code",
   "execution_count": 167,
   "metadata": {
    "collapsed": false
   },
   "outputs": [
    {
     "data": {
      "text/plain": [
       "0.29003428356055594"
      ]
     },
     "execution_count": 167,
     "metadata": {},
     "output_type": "execute_result"
    }
   ],
   "source": []
  },
  {
   "cell_type": "code",
   "execution_count": null,
   "metadata": {
    "collapsed": true
   },
   "outputs": [],
   "source": []
  },
  {
   "cell_type": "code",
   "execution_count": null,
   "metadata": {
    "collapsed": true
   },
   "outputs": [],
   "source": []
  },
  {
   "cell_type": "code",
   "execution_count": null,
   "metadata": {
    "collapsed": true
   },
   "outputs": [],
   "source": []
  },
  {
   "cell_type": "code",
   "execution_count": 448,
   "metadata": {
    "collapsed": false
   },
   "outputs": [],
   "source": [
    "a = graph.vs.select(membership_eq=comm, name_eq='/user_details?userid=v8cFU4eJKgVgGYCyovE3kQ')"
   ]
  },
  {
   "cell_type": "code",
   "execution_count": 470,
   "metadata": {
    "collapsed": false
   },
   "outputs": [],
   "source": [
    "a = graph.vs.select(lambda vertex: vertex.index not in [0,1,2])"
   ]
  },
  {
   "cell_type": "code",
   "execution_count": 471,
   "metadata": {
    "collapsed": true
   },
   "outputs": [
    {
     "data": {
      "text/plain": [
       "[3,\n",
       " 4,\n",
       " 5,\n",
       " 6,\n",
       " 7,\n",
       " 8,\n",
       " 9,\n",
       " 10,\n",
       " 11,\n",
       " 12,\n",
       " 13,\n",
       " 14,\n",
       " 15,\n",
       " 16,\n",
       " 17,\n",
       " 18,\n",
       " 19,\n",
       " 20,\n",
       " 21,\n",
       " 22,\n",
       " 23,\n",
       " 24,\n",
       " 25,\n",
       " 26,\n",
       " 27,\n",
       " 28,\n",
       " 29,\n",
       " 30,\n",
       " 31,\n",
       " 32,\n",
       " 33,\n",
       " 34,\n",
       " 35,\n",
       " 36,\n",
       " 37,\n",
       " 38,\n",
       " 39,\n",
       " 40,\n",
       " 41,\n",
       " 42,\n",
       " 43,\n",
       " 44,\n",
       " 45,\n",
       " 46,\n",
       " 47,\n",
       " 48,\n",
       " 49,\n",
       " 50,\n",
       " 51,\n",
       " 52,\n",
       " 53,\n",
       " 54,\n",
       " 55,\n",
       " 56,\n",
       " 57,\n",
       " 58,\n",
       " 59,\n",
       " 60,\n",
       " 61,\n",
       " 62,\n",
       " 63,\n",
       " 64,\n",
       " 65,\n",
       " 66,\n",
       " 67,\n",
       " 68,\n",
       " 69,\n",
       " 70,\n",
       " 71,\n",
       " 72,\n",
       " 73,\n",
       " 74,\n",
       " 75,\n",
       " 76,\n",
       " 77,\n",
       " 78,\n",
       " 79,\n",
       " 80,\n",
       " 81,\n",
       " 82,\n",
       " 83,\n",
       " 84,\n",
       " 85,\n",
       " 86,\n",
       " 87,\n",
       " 88,\n",
       " 89,\n",
       " 90,\n",
       " 91,\n",
       " 92,\n",
       " 93,\n",
       " 94,\n",
       " 95,\n",
       " 96,\n",
       " 97,\n",
       " 98,\n",
       " 99,\n",
       " 100,\n",
       " 101,\n",
       " 102,\n",
       " 103,\n",
       " 104,\n",
       " 105,\n",
       " 106,\n",
       " 107,\n",
       " 108,\n",
       " 109,\n",
       " 110,\n",
       " 111,\n",
       " 112,\n",
       " 113,\n",
       " 114,\n",
       " 115,\n",
       " 116,\n",
       " 117,\n",
       " 118,\n",
       " 119,\n",
       " 120,\n",
       " 121,\n",
       " 122,\n",
       " 123,\n",
       " 124,\n",
       " 125,\n",
       " 126,\n",
       " 127,\n",
       " 128,\n",
       " 129,\n",
       " 130,\n",
       " 131,\n",
       " 132,\n",
       " 133,\n",
       " 134,\n",
       " 135,\n",
       " 136,\n",
       " 137,\n",
       " 138,\n",
       " 139,\n",
       " 140,\n",
       " 141,\n",
       " 142,\n",
       " 143,\n",
       " 144,\n",
       " 145,\n",
       " 146,\n",
       " 147,\n",
       " 148,\n",
       " 149,\n",
       " 150,\n",
       " 151,\n",
       " 152,\n",
       " 153,\n",
       " 154,\n",
       " 155,\n",
       " 156,\n",
       " 157,\n",
       " 158,\n",
       " 159,\n",
       " 160,\n",
       " 161,\n",
       " 162,\n",
       " 163,\n",
       " 164,\n",
       " 165,\n",
       " 166,\n",
       " 167,\n",
       " 168,\n",
       " 169,\n",
       " 170,\n",
       " 171,\n",
       " 172,\n",
       " 173,\n",
       " 174,\n",
       " 175,\n",
       " 176,\n",
       " 177,\n",
       " 178,\n",
       " 179,\n",
       " 180,\n",
       " 181,\n",
       " 182,\n",
       " 183,\n",
       " 184,\n",
       " 185,\n",
       " 186,\n",
       " 187,\n",
       " 188,\n",
       " 189,\n",
       " 190,\n",
       " 191,\n",
       " 192,\n",
       " 193,\n",
       " 194,\n",
       " 195,\n",
       " 196,\n",
       " 197,\n",
       " 198,\n",
       " 199,\n",
       " 200,\n",
       " 201,\n",
       " 202,\n",
       " 203,\n",
       " 204,\n",
       " 205,\n",
       " 206,\n",
       " 207,\n",
       " 208,\n",
       " 209,\n",
       " 210,\n",
       " 211,\n",
       " 212,\n",
       " 213,\n",
       " 214,\n",
       " 215,\n",
       " 216,\n",
       " 217,\n",
       " 218,\n",
       " 219,\n",
       " 220,\n",
       " 221,\n",
       " 222,\n",
       " 223,\n",
       " 224,\n",
       " 225,\n",
       " 226,\n",
       " 227,\n",
       " 228,\n",
       " 229,\n",
       " 230,\n",
       " 231,\n",
       " 232,\n",
       " 233,\n",
       " 234,\n",
       " 235,\n",
       " 236,\n",
       " 237,\n",
       " 238,\n",
       " 239,\n",
       " 240,\n",
       " 241,\n",
       " 242,\n",
       " 243,\n",
       " 244,\n",
       " 245,\n",
       " 246,\n",
       " 247,\n",
       " 248,\n",
       " 249,\n",
       " 250,\n",
       " 251,\n",
       " 252,\n",
       " 253,\n",
       " 254,\n",
       " 255,\n",
       " 256,\n",
       " 257,\n",
       " 258,\n",
       " 259,\n",
       " 260,\n",
       " 261,\n",
       " 262,\n",
       " 263,\n",
       " 264,\n",
       " 265,\n",
       " 266,\n",
       " 267,\n",
       " 268,\n",
       " 269,\n",
       " 270,\n",
       " 271,\n",
       " 272,\n",
       " 273,\n",
       " 274,\n",
       " 275,\n",
       " 276,\n",
       " 277,\n",
       " 278,\n",
       " 279,\n",
       " 280,\n",
       " 281,\n",
       " 282,\n",
       " 283,\n",
       " 284,\n",
       " 285,\n",
       " 286,\n",
       " 287,\n",
       " 288,\n",
       " 289,\n",
       " 290,\n",
       " 291,\n",
       " 292,\n",
       " 293,\n",
       " 294,\n",
       " 295,\n",
       " 296,\n",
       " 297,\n",
       " 298,\n",
       " 299,\n",
       " 300,\n",
       " 301,\n",
       " 302,\n",
       " 303,\n",
       " 304,\n",
       " 305,\n",
       " 306,\n",
       " 307,\n",
       " 308,\n",
       " 309,\n",
       " 310,\n",
       " 311,\n",
       " 312,\n",
       " 313,\n",
       " 314,\n",
       " 315,\n",
       " 316,\n",
       " 317,\n",
       " 318,\n",
       " 319,\n",
       " 320,\n",
       " 321,\n",
       " 322,\n",
       " 323,\n",
       " 324,\n",
       " 325,\n",
       " 326,\n",
       " 327,\n",
       " 328,\n",
       " 329,\n",
       " 330,\n",
       " 331,\n",
       " 332,\n",
       " 333,\n",
       " 334,\n",
       " 335,\n",
       " 336,\n",
       " 337,\n",
       " 338,\n",
       " 339,\n",
       " 340,\n",
       " 341,\n",
       " 342,\n",
       " 343,\n",
       " 344,\n",
       " 345,\n",
       " 346,\n",
       " 347,\n",
       " 348,\n",
       " 349,\n",
       " 350,\n",
       " 351,\n",
       " 352,\n",
       " 353,\n",
       " 354,\n",
       " 355,\n",
       " 356,\n",
       " 357,\n",
       " 358,\n",
       " 359,\n",
       " 360,\n",
       " 361,\n",
       " 362,\n",
       " 363,\n",
       " 364,\n",
       " 365,\n",
       " 366,\n",
       " 367,\n",
       " 368,\n",
       " 369,\n",
       " 370,\n",
       " 371,\n",
       " 372,\n",
       " 373,\n",
       " 374,\n",
       " 375,\n",
       " 376,\n",
       " 377,\n",
       " 378,\n",
       " 379,\n",
       " 380,\n",
       " 381,\n",
       " 382,\n",
       " 383,\n",
       " 384,\n",
       " 385,\n",
       " 386,\n",
       " 387,\n",
       " 388,\n",
       " 389,\n",
       " 390,\n",
       " 391,\n",
       " 392,\n",
       " 393,\n",
       " 394,\n",
       " 395,\n",
       " 396,\n",
       " 397,\n",
       " 398,\n",
       " 399,\n",
       " 400,\n",
       " 401,\n",
       " 402,\n",
       " 403,\n",
       " 404,\n",
       " 405,\n",
       " 406,\n",
       " 407,\n",
       " 408,\n",
       " 409,\n",
       " 410,\n",
       " 411,\n",
       " 412,\n",
       " 413,\n",
       " 414,\n",
       " 415,\n",
       " 416,\n",
       " 417,\n",
       " 418,\n",
       " 419,\n",
       " 420,\n",
       " 421,\n",
       " 422,\n",
       " 423,\n",
       " 424,\n",
       " 425,\n",
       " 426,\n",
       " 427,\n",
       " 428,\n",
       " 429,\n",
       " 430,\n",
       " 431,\n",
       " 432,\n",
       " 433,\n",
       " 434,\n",
       " 435,\n",
       " 436,\n",
       " 437,\n",
       " 438,\n",
       " 439,\n",
       " 440,\n",
       " 441,\n",
       " 442,\n",
       " 443,\n",
       " 444,\n",
       " 445,\n",
       " 446,\n",
       " 447,\n",
       " 448,\n",
       " 449,\n",
       " 450,\n",
       " 451,\n",
       " 452,\n",
       " 453,\n",
       " 454,\n",
       " 455,\n",
       " 456,\n",
       " 457,\n",
       " 458,\n",
       " 459,\n",
       " 460,\n",
       " 461,\n",
       " 462,\n",
       " 463,\n",
       " 464,\n",
       " 465,\n",
       " 466,\n",
       " 467,\n",
       " 468,\n",
       " 469,\n",
       " 470,\n",
       " 471,\n",
       " 472,\n",
       " 473,\n",
       " 474,\n",
       " 475,\n",
       " 476,\n",
       " 477,\n",
       " 478,\n",
       " 479,\n",
       " 480,\n",
       " 481,\n",
       " 482,\n",
       " 483,\n",
       " 484,\n",
       " 485,\n",
       " 486,\n",
       " 487,\n",
       " 488,\n",
       " 489,\n",
       " 490,\n",
       " 491,\n",
       " 492,\n",
       " 493,\n",
       " 494,\n",
       " 495,\n",
       " 496,\n",
       " 497,\n",
       " 498,\n",
       " 499,\n",
       " 500,\n",
       " 501,\n",
       " 502,\n",
       " 503,\n",
       " 504,\n",
       " 505,\n",
       " 506,\n",
       " 507,\n",
       " 508,\n",
       " 509,\n",
       " 510,\n",
       " 511,\n",
       " 512,\n",
       " 513,\n",
       " 514,\n",
       " 515,\n",
       " 516,\n",
       " 517,\n",
       " 518,\n",
       " 519,\n",
       " 520,\n",
       " 521,\n",
       " 522,\n",
       " 523,\n",
       " 524,\n",
       " 525,\n",
       " 526,\n",
       " 527,\n",
       " 528,\n",
       " 529,\n",
       " 530,\n",
       " 531,\n",
       " 532,\n",
       " 533,\n",
       " 534,\n",
       " 535,\n",
       " 536,\n",
       " 537,\n",
       " 538,\n",
       " 539,\n",
       " 540,\n",
       " 541,\n",
       " 542,\n",
       " 543,\n",
       " 544,\n",
       " 545,\n",
       " 546,\n",
       " 547,\n",
       " 548,\n",
       " 549,\n",
       " 550,\n",
       " 551,\n",
       " 552,\n",
       " 553,\n",
       " 554,\n",
       " 555,\n",
       " 556,\n",
       " 557,\n",
       " 558,\n",
       " 559,\n",
       " 560,\n",
       " 561,\n",
       " 562,\n",
       " 563,\n",
       " 564,\n",
       " 565,\n",
       " 566,\n",
       " 567,\n",
       " 568,\n",
       " 569,\n",
       " 570,\n",
       " 571,\n",
       " 572,\n",
       " 573,\n",
       " 574,\n",
       " 575,\n",
       " 576,\n",
       " 577,\n",
       " 578,\n",
       " 579,\n",
       " 580,\n",
       " 581,\n",
       " 582,\n",
       " 583,\n",
       " 584,\n",
       " 585,\n",
       " 586,\n",
       " 587,\n",
       " 588,\n",
       " 589,\n",
       " 590,\n",
       " 591,\n",
       " 592,\n",
       " 593,\n",
       " 594,\n",
       " 595,\n",
       " 596,\n",
       " 597,\n",
       " 598,\n",
       " 599,\n",
       " 600,\n",
       " 601,\n",
       " 602,\n",
       " 603,\n",
       " 604,\n",
       " 605,\n",
       " 606,\n",
       " 607,\n",
       " 608,\n",
       " 609,\n",
       " 610,\n",
       " 611,\n",
       " 612,\n",
       " 613,\n",
       " 614,\n",
       " 615,\n",
       " 616,\n",
       " 617,\n",
       " 618,\n",
       " 619,\n",
       " 620,\n",
       " 621,\n",
       " 622,\n",
       " 623,\n",
       " 624,\n",
       " 625,\n",
       " 626,\n",
       " 627,\n",
       " 628,\n",
       " 629,\n",
       " 630,\n",
       " 631,\n",
       " 632,\n",
       " 633,\n",
       " 634,\n",
       " 635,\n",
       " 636,\n",
       " 637,\n",
       " 638,\n",
       " 639,\n",
       " 640,\n",
       " 641,\n",
       " 642,\n",
       " 643,\n",
       " 644,\n",
       " 645,\n",
       " 646,\n",
       " 647,\n",
       " 648,\n",
       " 649,\n",
       " 650,\n",
       " 651,\n",
       " 652,\n",
       " 653,\n",
       " 654,\n",
       " 655,\n",
       " 656,\n",
       " 657,\n",
       " 658,\n",
       " 659,\n",
       " 660,\n",
       " 661,\n",
       " 662,\n",
       " 663,\n",
       " 664,\n",
       " 665,\n",
       " 666,\n",
       " 667,\n",
       " 668,\n",
       " 669,\n",
       " 670,\n",
       " 671,\n",
       " 672,\n",
       " 673,\n",
       " 674,\n",
       " 675,\n",
       " 676,\n",
       " 677,\n",
       " 678,\n",
       " 679,\n",
       " 680,\n",
       " 681,\n",
       " 682,\n",
       " 683,\n",
       " 684,\n",
       " 685,\n",
       " 686,\n",
       " 687,\n",
       " 688,\n",
       " 689,\n",
       " 690,\n",
       " 691,\n",
       " 692,\n",
       " 693,\n",
       " 694,\n",
       " 695,\n",
       " 696,\n",
       " 697,\n",
       " 698,\n",
       " 699,\n",
       " 700,\n",
       " 701,\n",
       " 702,\n",
       " 703,\n",
       " 704,\n",
       " 705,\n",
       " 706,\n",
       " 707,\n",
       " 708,\n",
       " 709,\n",
       " 710,\n",
       " 711,\n",
       " 712,\n",
       " 713,\n",
       " 714,\n",
       " 715,\n",
       " 716,\n",
       " 717,\n",
       " 718,\n",
       " 719,\n",
       " 720,\n",
       " 721,\n",
       " 722,\n",
       " 723,\n",
       " 724,\n",
       " 725,\n",
       " 726,\n",
       " 727,\n",
       " 728,\n",
       " 729,\n",
       " 730,\n",
       " 731,\n",
       " 732,\n",
       " 733,\n",
       " 734,\n",
       " 735,\n",
       " 736,\n",
       " 737,\n",
       " 738,\n",
       " 739,\n",
       " 740,\n",
       " 741,\n",
       " 742,\n",
       " 743,\n",
       " 744,\n",
       " 745,\n",
       " 746,\n",
       " 747,\n",
       " 748,\n",
       " 749,\n",
       " 750,\n",
       " 751,\n",
       " 752,\n",
       " 753,\n",
       " 754,\n",
       " 755,\n",
       " 756,\n",
       " 757,\n",
       " 758,\n",
       " 759,\n",
       " 760,\n",
       " 761,\n",
       " 762,\n",
       " 763,\n",
       " 764,\n",
       " 765,\n",
       " 766,\n",
       " 767,\n",
       " 768,\n",
       " 769,\n",
       " 770,\n",
       " 771,\n",
       " 772,\n",
       " 773,\n",
       " 774,\n",
       " 775,\n",
       " 776,\n",
       " 777,\n",
       " 778,\n",
       " 779,\n",
       " 780,\n",
       " 781,\n",
       " 782,\n",
       " 783,\n",
       " 784,\n",
       " 785,\n",
       " 786,\n",
       " 787,\n",
       " 788,\n",
       " 789,\n",
       " 790,\n",
       " 791,\n",
       " 792,\n",
       " 793,\n",
       " 794,\n",
       " 795,\n",
       " 796,\n",
       " 797,\n",
       " 798,\n",
       " 799,\n",
       " 800,\n",
       " 801,\n",
       " 802,\n",
       " 803,\n",
       " 804,\n",
       " 805,\n",
       " 806,\n",
       " 807,\n",
       " 808,\n",
       " 809,\n",
       " 810,\n",
       " 811,\n",
       " 812,\n",
       " 813,\n",
       " 814,\n",
       " 815,\n",
       " 816,\n",
       " 817,\n",
       " 818,\n",
       " 819,\n",
       " 820,\n",
       " 821,\n",
       " 822,\n",
       " 823,\n",
       " 824,\n",
       " 825,\n",
       " 826,\n",
       " 827,\n",
       " 828,\n",
       " 829,\n",
       " 830,\n",
       " 831,\n",
       " 832,\n",
       " 833,\n",
       " 834,\n",
       " 835,\n",
       " 836,\n",
       " 837,\n",
       " 838,\n",
       " 839,\n",
       " 840,\n",
       " 841,\n",
       " 842,\n",
       " 843,\n",
       " 844,\n",
       " 845,\n",
       " 846,\n",
       " 847,\n",
       " 848,\n",
       " 849,\n",
       " 850,\n",
       " 851,\n",
       " 852,\n",
       " 853,\n",
       " 854,\n",
       " 855,\n",
       " 856,\n",
       " 857,\n",
       " 858,\n",
       " 859,\n",
       " 860,\n",
       " 861,\n",
       " 862,\n",
       " 863,\n",
       " 864,\n",
       " 865,\n",
       " 866,\n",
       " 867,\n",
       " 868,\n",
       " 869,\n",
       " 870,\n",
       " 871,\n",
       " 872,\n",
       " 873,\n",
       " 874,\n",
       " 875,\n",
       " 876,\n",
       " 877,\n",
       " 878,\n",
       " 879,\n",
       " 880,\n",
       " 881,\n",
       " 882,\n",
       " 883,\n",
       " 884,\n",
       " 885,\n",
       " 886,\n",
       " 887,\n",
       " 888,\n",
       " 889,\n",
       " 890,\n",
       " 891,\n",
       " 892,\n",
       " 893,\n",
       " 894,\n",
       " 895,\n",
       " 896,\n",
       " 897,\n",
       " 898,\n",
       " 899,\n",
       " 900,\n",
       " 901,\n",
       " 902,\n",
       " 903,\n",
       " 904,\n",
       " 905,\n",
       " 906,\n",
       " 907,\n",
       " 908,\n",
       " 909,\n",
       " 910,\n",
       " 911,\n",
       " 912,\n",
       " 913,\n",
       " 914,\n",
       " 915,\n",
       " 916,\n",
       " 917,\n",
       " 918,\n",
       " 919,\n",
       " 920,\n",
       " 921,\n",
       " 922,\n",
       " 923,\n",
       " 924,\n",
       " 925,\n",
       " 926,\n",
       " 927,\n",
       " 928,\n",
       " 929,\n",
       " 930,\n",
       " 931,\n",
       " 932,\n",
       " 933,\n",
       " 934,\n",
       " 935,\n",
       " 936,\n",
       " 937,\n",
       " 938,\n",
       " 939,\n",
       " 940,\n",
       " 941,\n",
       " 942,\n",
       " 943,\n",
       " 944,\n",
       " 945,\n",
       " 946,\n",
       " 947,\n",
       " 948,\n",
       " 949,\n",
       " 950,\n",
       " 951,\n",
       " 952,\n",
       " 953,\n",
       " 954,\n",
       " 955,\n",
       " 956,\n",
       " 957,\n",
       " 958,\n",
       " 959,\n",
       " 960,\n",
       " 961,\n",
       " 962,\n",
       " 963,\n",
       " 964,\n",
       " 965,\n",
       " 966,\n",
       " 967,\n",
       " 968,\n",
       " 969,\n",
       " 970,\n",
       " 971,\n",
       " 972,\n",
       " 973,\n",
       " 974,\n",
       " 975,\n",
       " 976,\n",
       " 977,\n",
       " 978,\n",
       " 979,\n",
       " 980,\n",
       " 981,\n",
       " 982,\n",
       " 983,\n",
       " 984,\n",
       " 985,\n",
       " 986,\n",
       " 987,\n",
       " 988,\n",
       " 989,\n",
       " 990,\n",
       " 991,\n",
       " 992,\n",
       " 993,\n",
       " 994,\n",
       " 995,\n",
       " 996,\n",
       " 997,\n",
       " 998,\n",
       " 999,\n",
       " 1000,\n",
       " 1001,\n",
       " 1002,\n",
       " ...]"
      ]
     },
     "execution_count": 471,
     "metadata": {},
     "output_type": "execute_result"
    }
   ],
   "source": [
    "[i.index for i in a]"
   ]
  },
  {
   "cell_type": "code",
   "execution_count": 482,
   "metadata": {
    "collapsed": false
   },
   "outputs": [],
   "source": [
    "a = graph.community_fastgreedy()"
   ]
  },
  {
   "cell_type": "code",
   "execution_count": 486,
   "metadata": {
    "collapsed": false
   },
   "outputs": [],
   "source": [
    "a1 = a.as_clustering()"
   ]
  },
  {
   "cell_type": "code",
   "execution_count": 489,
   "metadata": {
    "collapsed": true
   },
   "outputs": [],
   "source": [
    "graph.vs['membership'] = a1.membership"
   ]
  },
  {
   "cell_type": "code",
   "execution_count": 522,
   "metadata": {
    "collapsed": false
   },
   "outputs": [
    {
     "data": {
      "text/plain": [
       "4.0"
      ]
     },
     "execution_count": 522,
     "metadata": {},
     "output_type": "execute_result"
    }
   ],
   "source": [
    "graph.es['rating'][0]"
   ]
  },
  {
   "cell_type": "code",
   "execution_count": 525,
   "metadata": {
    "collapsed": true
   },
   "outputs": [],
   "source": [
    "a = np.array([np.nan, np.nan, 5, 1])"
   ]
  },
  {
   "cell_type": "code",
   "execution_count": 526,
   "metadata": {
    "collapsed": false
   },
   "outputs": [
    {
     "data": {
      "text/plain": [
       "array([ nan,  nan,   5.,   1.])"
      ]
     },
     "execution_count": 526,
     "metadata": {},
     "output_type": "execute_result"
    }
   ],
   "source": [
    "a"
   ]
  },
  {
   "cell_type": "code",
   "execution_count": 527,
   "metadata": {
    "collapsed": false
   },
   "outputs": [
    {
     "data": {
      "text/plain": [
       "3.0"
      ]
     },
     "execution_count": 527,
     "metadata": {},
     "output_type": "execute_result"
    }
   ],
   "source": [
    "np.nanmean(a)"
   ]
  },
  {
   "cell_type": "code",
   "execution_count": 528,
   "metadata": {
    "collapsed": false
   },
   "outputs": [
    {
     "ename": "TypeError",
     "evalue": "unsupported operand type(s) for -: 'list' and 'list'",
     "output_type": "error",
     "traceback": [
      "\u001b[0;31m---------------------------------------------------------------------------\u001b[0m",
      "\u001b[0;31mTypeError\u001b[0m                                 Traceback (most recent call last)",
      "\u001b[0;32m<ipython-input-528-37f5d9bb3fa3>\u001b[0m in \u001b[0;36m<module>\u001b[0;34m()\u001b[0m\n\u001b[0;32m----> 1\u001b[0;31m \u001b[0mnp\u001b[0m\u001b[0;34m.\u001b[0m\u001b[0msum\u001b[0m\u001b[0;34m(\u001b[0m\u001b[0;34m(\u001b[0m\u001b[0;34m[\u001b[0m\u001b[0;34m]\u001b[0m \u001b[0;34m-\u001b[0m \u001b[0;34m[\u001b[0m\u001b[0;34m]\u001b[0m\u001b[0;34m)\u001b[0m \u001b[0;34m**\u001b[0m \u001b[0;36m2\u001b[0m\u001b[0;34m)\u001b[0m\u001b[0;34m\u001b[0m\u001b[0m\n\u001b[0m",
      "\u001b[0;31mTypeError\u001b[0m: unsupported operand type(s) for -: 'list' and 'list'"
     ]
    }
   ],
   "source": [
    "np.sum(([] - []) ** 2)"
   ]
  },
  {
   "cell_type": "code",
   "execution_count": 529,
   "metadata": {
    "collapsed": true
   },
   "outputs": [],
   "source": [
    "a = np.array([0,0,0])\n",
    "b = np.array([0,0,0])"
   ]
  },
  {
   "cell_type": "code",
   "execution_count": 530,
   "metadata": {
    "collapsed": true
   },
   "outputs": [],
   "source": [
    "c = a[a!=0]\n",
    "d = b[a!=0]"
   ]
  },
  {
   "cell_type": "code",
   "execution_count": 533,
   "metadata": {
    "collapsed": false
   },
   "outputs": [],
   "source": [
    "mse2 = np.array([0,0,0,0,0])"
   ]
  },
  {
   "cell_type": "code",
   "execution_count": 540,
   "metadata": {
    "collapsed": false
   },
   "outputs": [
    {
     "data": {
      "text/plain": [
       "0"
      ]
     },
     "execution_count": 540,
     "metadata": {},
     "output_type": "execute_result"
    }
   ],
   "source": [
    "len(mse2[mse2!=0])"
   ]
  },
  {
   "cell_type": "code",
   "execution_count": 535,
   "metadata": {
    "collapsed": false
   },
   "outputs": [
    {
     "data": {
      "text/plain": [
       "nan"
      ]
     },
     "execution_count": 535,
     "metadata": {},
     "output_type": "execute_result"
    }
   ],
   "source": [
    "np.mean(mse2[mse2!=0])"
   ]
  },
  {
   "cell_type": "code",
   "execution_count": 542,
   "metadata": {
    "collapsed": false
   },
   "outputs": [
    {
     "data": {
      "text/plain": [
       "4.0"
      ]
     },
     "execution_count": 542,
     "metadata": {},
     "output_type": "execute_result"
    }
   ],
   "source": [
    "np.nanmean(4)"
   ]
  },
  {
   "cell_type": "code",
   "execution_count": 545,
   "metadata": {
    "collapsed": false
   },
   "outputs": [
    {
     "data": {
      "text/plain": [
       "array([0, 0, 0, ..., 0, 0, 0])"
      ]
     },
     "execution_count": 545,
     "metadata": {},
     "output_type": "execute_result"
    }
   ],
   "source": [
    "np.array([0]) * np.arange(0,1315)"
   ]
  },
  {
   "cell_type": "code",
   "execution_count": 550,
   "metadata": {
    "collapsed": false
   },
   "outputs": [
    {
     "ename": "ValueError",
     "evalue": "operands could not be broadcast together with shapes (0,) (1315,) ",
     "output_type": "error",
     "traceback": [
      "\u001b[0;31m---------------------------------------------------------------------------\u001b[0m",
      "\u001b[0;31mValueError\u001b[0m                                Traceback (most recent call last)",
      "\u001b[0;32m<ipython-input-550-cde89af33268>\u001b[0m in \u001b[0;36m<module>\u001b[0;34m()\u001b[0m\n\u001b[0;32m----> 1\u001b[0;31m \u001b[0mnp\u001b[0m\u001b[0;34m.\u001b[0m\u001b[0marray\u001b[0m\u001b[0;34m(\u001b[0m\u001b[0;34m[\u001b[0m\u001b[0;34m]\u001b[0m\u001b[0;34m)\u001b[0m \u001b[0;34m*\u001b[0m \u001b[0mnp\u001b[0m\u001b[0;34m.\u001b[0m\u001b[0marange\u001b[0m\u001b[0;34m(\u001b[0m\u001b[0;36m0\u001b[0m\u001b[0;34m,\u001b[0m\u001b[0;36m1315\u001b[0m\u001b[0;34m)\u001b[0m\u001b[0;34m\u001b[0m\u001b[0m\n\u001b[0m",
      "\u001b[0;31mValueError\u001b[0m: operands could not be broadcast together with shapes (0,) (1315,) "
     ]
    }
   ],
   "source": [
    "np.array([]) * np.arange(0,1315)"
   ]
  },
  {
   "cell_type": "code",
   "execution_count": 552,
   "metadata": {
    "collapsed": false
   },
   "outputs": [],
   "source": [
    "def rescale_value(value):\n",
    "        OldMax = 1.0\n",
    "        OldMin = -1.0\n",
    "        NewMax = 1.0\n",
    "        NewMin = 0.0\n",
    "        OldRange = (OldMax - OldMin)\n",
    "        NewRange = (NewMax - NewMin)\n",
    "        NewValue = (((value - OldMin) * NewRange) / OldRange) + NewMin\n",
    "        return NewValue"
   ]
  },
  {
   "cell_type": "code",
   "execution_count": 564,
   "metadata": {
    "collapsed": false
   },
   "outputs": [
    {
     "data": {
      "text/plain": [
       "['membership', 'name', 'cruisine']"
      ]
     },
     "execution_count": 564,
     "metadata": {},
     "output_type": "execute_result"
    }
   ],
   "source": [
    "graph.vs.attribute_names()"
   ]
  },
  {
   "cell_type": "code",
   "execution_count": 565,
   "metadata": {
    "collapsed": false
   },
   "outputs": [
    {
     "data": {
      "text/plain": [
       "0.3068233477804441"
      ]
     },
     "execution_count": 565,
     "metadata": {},
     "output_type": "execute_result"
    }
   ],
   "source": [
    "graph.modularity(graph`.vs['membership'])"
   ]
  },
  {
   "cell_type": "code",
   "execution_count": 786,
   "metadata": {
    "collapsed": false
   },
   "outputs": [
    {
     "data": {
      "text/plain": [
       "igraph.Graph"
      ]
     },
     "execution_count": 786,
     "metadata": {},
     "output_type": "execute_result"
    }
   ],
   "source": [
    "x = Graph()\n",
    "type(x)"
   ]
  },
  {
   "cell_type": "code",
   "execution_count": 787,
   "metadata": {
    "collapsed": false
   },
   "outputs": [
    {
     "ename": "ValueError",
     "evalue": "sequence must not be empty",
     "output_type": "error",
     "traceback": [
      "\u001b[0;31m---------------------------------------------------------------------------\u001b[0m",
      "\u001b[0;31mValueError\u001b[0m                                Traceback (most recent call last)",
      "\u001b[0;32m<ipython-input-787-b526ea1d4ad6>\u001b[0m in \u001b[0;36m<module>\u001b[0;34m()\u001b[0m\n\u001b[1;32m      5\u001b[0m \u001b[0mx\u001b[0m\u001b[0;34m.\u001b[0m\u001b[0madd_vertex\u001b[0m\u001b[0;34m(\u001b[0m\u001b[0mname\u001b[0m\u001b[0;34m=\u001b[0m\u001b[0;34m'business'\u001b[0m\u001b[0;34m)\u001b[0m \u001b[0;31m# business\u001b[0m\u001b[0;34m\u001b[0m\u001b[0m\n\u001b[1;32m      6\u001b[0m \u001b[0mx\u001b[0m\u001b[0;34m.\u001b[0m\u001b[0mvs\u001b[0m\u001b[0;34m[\u001b[0m\u001b[0;34m'age'\u001b[0m\u001b[0;34m]\u001b[0m \u001b[0;34m=\u001b[0m \u001b[0;34m[\u001b[0m\u001b[0;36m234\u001b[0m\u001b[0;34m,\u001b[0m\u001b[0;36m345\u001b[0m\u001b[0;34m,\u001b[0m\u001b[0;36m1\u001b[0m\u001b[0;34m,\u001b[0m\u001b[0;36m42\u001b[0m\u001b[0;34m,\u001b[0m\u001b[0;36m3\u001b[0m\u001b[0;34m,\u001b[0m\u001b[0;36m234\u001b[0m\u001b[0;34m]\u001b[0m\u001b[0;34m\u001b[0m\u001b[0m\n\u001b[0;32m----> 7\u001b[0;31m \u001b[0mx\u001b[0m\u001b[0;34m.\u001b[0m\u001b[0mvs\u001b[0m\u001b[0;34m[\u001b[0m\u001b[0;34m'height'\u001b[0m\u001b[0;34m]\u001b[0m \u001b[0;34m=\u001b[0m \u001b[0;34m[\u001b[0m\u001b[0;34m]\u001b[0m\u001b[0;34m\u001b[0m\u001b[0m\n\u001b[0m\u001b[1;32m      8\u001b[0m \u001b[0mx\u001b[0m\u001b[0;34m.\u001b[0m\u001b[0madd_edges\u001b[0m\u001b[0;34m(\u001b[0m\u001b[0;34m[\u001b[0m\u001b[0;34m(\u001b[0m\u001b[0;36m0\u001b[0m\u001b[0;34m,\u001b[0m\u001b[0;36m1\u001b[0m\u001b[0;34m)\u001b[0m\u001b[0;34m,\u001b[0m \u001b[0;34m(\u001b[0m\u001b[0;36m1\u001b[0m\u001b[0;34m,\u001b[0m\u001b[0;36m2\u001b[0m\u001b[0;34m)\u001b[0m\u001b[0;34m]\u001b[0m\u001b[0;34m)\u001b[0m\u001b[0;34m\u001b[0m\u001b[0m\n",
      "\u001b[0;31mValueError\u001b[0m: sequence must not be empty"
     ]
    }
   ],
   "source": [
    "x.add_vertex(name='allen') # in community\n",
    "x.add_vertex(name='joe') # DELETE\n",
    "x.add_vertex(name='hans') # in community\n",
    "x.add_vertex(name='mike') # in community\n",
    "x.add_vertex(name='business') # business\n",
    "x.vs['age'] = [234,345,1,42,3,234]\n",
    "x.vs['height'] = []\n",
    "x.add_edges([(0,1), (1,2)])"
   ]
  },
  {
   "cell_type": "code",
   "execution_count": 780,
   "metadata": {
    "collapsed": false
   },
   "outputs": [],
   "source": [
    "sel = x.vs.select(lambda vertex: vertex.index not in [0,2,3] and vertex.index != 4)"
   ]
  },
  {
   "cell_type": "code",
   "execution_count": 781,
   "metadata": {
    "collapsed": false
   },
   "outputs": [
    {
     "data": {
      "text/plain": [
       "[1]"
      ]
     },
     "execution_count": 781,
     "metadata": {},
     "output_type": "execute_result"
    }
   ],
   "source": [
    "[i.index for i in sel]"
   ]
  },
  {
   "cell_type": "code",
   "execution_count": 782,
   "metadata": {
    "collapsed": false
   },
   "outputs": [],
   "source": [
    "x2 = x.copy()\n",
    "x2.delete_vertices([i.index for i in sel])"
   ]
  },
  {
   "cell_type": "code",
   "execution_count": 785,
   "metadata": {
    "collapsed": false
   },
   "outputs": [
    {
     "data": {
      "text/plain": [
       "[234, 1, 42, 3]"
      ]
     },
     "execution_count": 785,
     "metadata": {},
     "output_type": "execute_result"
    }
   ],
   "source": [
    "x2.vs['hi']"
   ]
  },
  {
   "cell_type": "code",
   "execution_count": 788,
   "metadata": {
    "collapsed": true
   },
   "outputs": [],
   "source": [
    "users = pickle.load(open(\"../data/extra/users.p\", 'rb'  ))\n",
    "businesses = pickle.load(open(\"../data/extra/businesses.p\", 'rb'  ))"
   ]
  },
  {
   "cell_type": "code",
   "execution_count": 792,
   "metadata": {
    "collapsed": false
   },
   "outputs": [
    {
     "data": {
      "text/plain": [
       "'IGRAPH UN-- 17756 108399 -- \\n+ attr: cruisine (v), membership (v), name (v), name (e), rating (e), review_id (e)'"
      ]
     },
     "execution_count": 792,
     "metadata": {},
     "output_type": "execute_result"
    }
   ],
   "source": [
    "graph.summary()"
   ]
  },
  {
   "cell_type": "code",
   "execution_count": 26,
   "metadata": {
    "collapsed": true
   },
   "outputs": [],
   "source": [
    "dict_all_users_of_a_business = pickle.load(open(\"../data/dict_all_users_of_a_business.p\", 'rb'  ))\n",
    "dict_all_businesses_of_a_user = pickle.load(open(\"../data/dict_all_businesses_of_a_user.p\", 'rb'  ))"
   ]
  },
  {
   "cell_type": "code",
   "execution_count": 35,
   "metadata": {
    "collapsed": false
   },
   "outputs": [],
   "source": [
    "a = dict_all_businesses_of_a_user[u'/user_details?userid=5APTqkWxEPTcYEY6PfFjrw']"
   ]
  },
  {
   "cell_type": "code",
   "execution_count": 36,
   "metadata": {
    "collapsed": false
   },
   "outputs": [
    {
     "data": {
      "text/plain": [
       "{u'bella-trattoria-san-francisco',\n",
       " u'chabaa-thai-cuisine-san-francisco-2',\n",
       " u'dotties-true-blue-cafe-san-francisco'}"
      ]
     },
     "execution_count": 36,
     "metadata": {},
     "output_type": "execute_result"
    }
   ],
   "source": [
    "a"
   ]
  },
  {
   "cell_type": "code",
   "execution_count": 59,
   "metadata": {
    "collapsed": false
   },
   "outputs": [],
   "source": [
    "sel = g.vs.select(business_id_in=a)"
   ]
  },
  {
   "cell_type": "code",
   "execution_count": 61,
   "metadata": {
    "collapsed": false
   },
   "outputs": [
    {
     "data": {
      "text/plain": [
       "[igraph.Vertex(<igraph.Graph object at 0x121020718>,0,{'business_id': u'bella-trattoria-san-francisco'}),\n",
       " igraph.Vertex(<igraph.Graph object at 0x121020718>,1,{'business_id': u'chabaa-thai-cuisine-san-francisco-2'}),\n",
       " igraph.Vertex(<igraph.Graph object at 0x121020718>,2,{'business_id': u'dotties-true-blue-cafe-san-francisco'})]"
      ]
     },
     "execution_count": 61,
     "metadata": {},
     "output_type": "execute_result"
    }
   ],
   "source": [
    "[i for i in sel]"
   ]
  },
  {
   "cell_type": "code",
   "execution_count": 163,
   "metadata": {
    "collapsed": false
   },
   "outputs": [],
   "source": [
    "g = Graph()\n",
    "g.add_vertex()\n",
    "g.add_vertex()\n",
    "g.add_vertex()\n",
    "g.add_vertex()\n",
    "g.add_vertex()\n",
    "g.add_vertex()\n",
    "g.add_vertex()"
   ]
  },
  {
   "cell_type": "code",
   "execution_count": 181,
   "metadata": {
    "collapsed": false
   },
   "outputs": [],
   "source": [
    "g.vs['business_id'] = [u'bella-trattoria-san-francisco',u'bella-trattoria-san-francisco',u'bella-trattoria-san-francisco',u'chabaa-thai-cuisine-san-francisco-2',u'chabaa-thai-cuisine-san-francisco-2',u'dotties-true-blue-cafe-san-francisco','test']\n",
    "g.vs['rating'] = [1,5,3]"
   ]
  },
  {
   "cell_type": "code",
   "execution_count": 182,
   "metadata": {
    "collapsed": false
   },
   "outputs": [
    {
     "data": {
      "text/plain": [
       "[u'bella-trattoria-san-francisco',\n",
       " u'bella-trattoria-san-francisco',\n",
       " u'bella-trattoria-san-francisco',\n",
       " u'chabaa-thai-cuisine-san-francisco-2',\n",
       " u'chabaa-thai-cuisine-san-francisco-2',\n",
       " u'dotties-true-blue-cafe-san-francisco',\n",
       " 'test']"
      ]
     },
     "execution_count": 182,
     "metadata": {},
     "output_type": "execute_result"
    }
   ],
   "source": [
    "g.vs['business_id']"
   ]
  },
  {
   "cell_type": "code",
   "execution_count": 186,
   "metadata": {
    "collapsed": false
   },
   "outputs": [
    {
     "data": {
      "text/plain": [
       "[igraph.Vertex(<igraph.Graph object at 0x121020908>,0,{'rating': 1, 'business_id': u'bella-trattoria-san-francisco'}),\n",
       " igraph.Vertex(<igraph.Graph object at 0x121020908>,1,{'rating': 5, 'business_id': u'bella-trattoria-san-francisco'}),\n",
       " igraph.Vertex(<igraph.Graph object at 0x121020908>,2,{'rating': 3, 'business_id': u'bella-trattoria-san-francisco'})]"
      ]
     },
     "execution_count": 186,
     "metadata": {},
     "output_type": "execute_result"
    }
   ],
   "source": [
    "[i for i in g.vs.select(business_id_in={u'bella-trattoria-san-francisco'})]"
   ]
  },
  {
   "cell_type": "code",
   "execution_count": 192,
   "metadata": {
    "collapsed": false
   },
   "outputs": [
    {
     "ename": "TypeError",
     "evalue": "'int' object is not iterable",
     "output_type": "error",
     "traceback": [
      "\u001b[0;31m---------------------------------------------------------------------------\u001b[0m",
      "\u001b[0;31mTypeError\u001b[0m                                 Traceback (most recent call last)",
      "\u001b[0;32m<ipython-input-192-0780605267eb>\u001b[0m in \u001b[0;36m<module>\u001b[0;34m()\u001b[0m\n\u001b[0;32m----> 1\u001b[0;31m \u001b[0mlist\u001b[0m\u001b[0;34m(\u001b[0m\u001b[0;36m0\u001b[0m\u001b[0;34m)\u001b[0m\u001b[0;34m\u001b[0m\u001b[0m\n\u001b[0m",
      "\u001b[0;31mTypeError\u001b[0m: 'int' object is not iterable"
     ]
    }
   ],
   "source": [
    "list(0)"
   ]
  },
  {
   "cell_type": "code",
   "execution_count": 169,
   "metadata": {
    "collapsed": false
   },
   "outputs": [
    {
     "data": {
      "text/plain": [
       "[1, 5, 3, 1, 5, 3, 1]"
      ]
     },
     "execution_count": 169,
     "metadata": {},
     "output_type": "execute_result"
    }
   ],
   "source": [
    "g.vs['rating']"
   ]
  },
  {
   "cell_type": "code",
   "execution_count": 82,
   "metadata": {
    "collapsed": false
   },
   "outputs": [
    {
     "data": {
      "text/plain": [
       "[u'bella-trattoria-san-francisco',\n",
       " u'bella-trattoria-san-francisco',\n",
       " u'chabaa-thai-cuisine-san-francisco-2']"
      ]
     },
     "execution_count": 82,
     "metadata": {},
     "output_type": "execute_result"
    }
   ],
   "source": [
    "[i for i in g.vs[0,1,2]['business_id']]"
   ]
  },
  {
   "cell_type": "code",
   "execution_count": 84,
   "metadata": {
    "collapsed": false
   },
   "outputs": [],
   "source": [
    "x = [i for i in g.vs[[0,1,3]]['business_id']]"
   ]
  },
  {
   "cell_type": "code",
   "execution_count": 113,
   "metadata": {
    "collapsed": false
   },
   "outputs": [
    {
     "data": {
      "text/plain": [
       "[(u'bella-trattoria-san-francisco', 3),\n",
       " (u'chabaa-thai-cuisine-san-francisco-2', 2),\n",
       " (u'dotties-true-blue-cafe-san-francisco', 1),\n",
       " ('test', 1)]"
      ]
     },
     "execution_count": 113,
     "metadata": {},
     "output_type": "execute_result"
    }
   ],
   "source": [
    "Counter(g.vs['business_id']).most_common()"
   ]
  },
  {
   "cell_type": "code",
   "execution_count": 132,
   "metadata": {
    "collapsed": true
   },
   "outputs": [],
   "source": [
    "nofind = 5"
   ]
  },
  {
   "cell_type": "code",
   "execution_count": 133,
   "metadata": {
    "collapsed": false
   },
   "outputs": [
    {
     "data": {
      "text/plain": [
       "[(u'chabaa-thai-cuisine-san-francisco-2', 1),\n",
       " ('test', 1),\n",
       " (u'dotties-true-blue-cafe-san-francisco', 1)]"
      ]
     },
     "execution_count": 133,
     "metadata": {},
     "output_type": "execute_result"
    }
   ],
   "source": [
    "list(reversed(Counter(g.vs['business_id']).most_common()))[0:nofind]"
   ]
  },
  {
   "cell_type": "code",
   "execution_count": 130,
   "metadata": {
    "collapsed": false
   },
   "outputs": [],
   "source": [
    "g.delete_vertices([0,0,0,0,0,0,0])"
   ]
  },
  {
   "cell_type": "code",
   "execution_count": 198,
   "metadata": {
    "collapsed": false
   },
   "outputs": [
    {
     "data": {
      "text/plain": [
       "['membership', 'name', 'cruisine']"
      ]
     },
     "execution_count": 198,
     "metadata": {},
     "output_type": "execute_result"
    }
   ],
   "source": [
    "graph.vs.attribute_names()"
   ]
  },
  {
   "cell_type": "code",
   "execution_count": 244,
   "metadata": {
    "collapsed": false
   },
   "outputs": [
    {
     "data": {
      "text/plain": [
       "['rating', 'name', 'review_id']"
      ]
     },
     "execution_count": 244,
     "metadata": {},
     "output_type": "execute_result"
    }
   ],
   "source": [
    "graph.es.attribute_names()"
   ]
  },
  {
   "cell_type": "code",
   "execution_count": 243,
   "metadata": {
    "collapsed": false
   },
   "outputs": [
    {
     "data": {
      "text/plain": [
       "'IGRAPH UN-- 17756 108399 -- \\n+ attr: cruisine (v), membership (v), name (v), name (e), rating (e), review_id (e)'"
      ]
     },
     "execution_count": 243,
     "metadata": {},
     "output_type": "execute_result"
    }
   ],
   "source": [
    "graph.summary()"
   ]
  },
  {
   "cell_type": "code",
   "execution_count": 254,
   "metadata": {
    "collapsed": false
   },
   "outputs": [],
   "source": [
    "a.append(graph.vs[0]['cruisine'])"
   ]
  },
  {
   "cell_type": "code",
   "execution_count": 253,
   "metadata": {
    "collapsed": true
   },
   "outputs": [],
   "source": [
    "a=[12,2]"
   ]
  },
  {
   "cell_type": "code",
   "execution_count": 259,
   "metadata": {
    "collapsed": false
   },
   "outputs": [],
   "source": [
    "a = graph.vs[0:5]"
   ]
  },
  {
   "cell_type": "code",
   "execution_count": 260,
   "metadata": {
    "collapsed": false
   },
   "outputs": [
    {
     "data": {
      "text/plain": [
       "[0.2636385234460844,\n",
       " 0.3394967302764924,\n",
       " 0.26865694225880643,\n",
       " 0.26674378774676244,\n",
       " 0.29695601271115574]"
      ]
     },
     "execution_count": 260,
     "metadata": {},
     "output_type": "execute_result"
    }
   ],
   "source": [
    "a.closeness()"
   ]
  },
  {
   "cell_type": "markdown",
   "metadata": {},
   "source": [
    "# Stuff"
   ]
  },
  {
   "cell_type": "code",
   "execution_count": null,
   "metadata": {
    "collapsed": true
   },
   "outputs": [],
   "source": [
    "mongoexport --db yelp --collection yelp_500_plus --type=csv --fields id,name,review_count,rating,categories,location --query '{\"type\":\"business\", \"review_count\": {$gte: 500 }}' --out yelp_businesses.csv"
   ]
  },
  {
   "cell_type": "code",
   "execution_count": 416,
   "metadata": {
    "collapsed": false
   },
   "outputs": [],
   "source": [
    "yelp = pd.read_csv(\"../data/yelp_businesses.csv\")"
   ]
  },
  {
   "cell_type": "code",
   "execution_count": 417,
   "metadata": {
    "collapsed": false
   },
   "outputs": [],
   "source": [
    "yelp['latitude'] = yelp['location'].map(lambda x: json.loads(x)['coordinate']['latitude'])\n",
    "yelp['longitude'] = yelp['location'].map(lambda x: json.loads(x)['coordinate']['longitude'])"
   ]
  },
  {
   "cell_type": "code",
   "execution_count": 418,
   "metadata": {
    "collapsed": false
   },
   "outputs": [],
   "source": [
    "yelp.drop(['location'], axis=1, inplace=True)"
   ]
  },
  {
   "cell_type": "code",
   "execution_count": 419,
   "metadata": {
    "collapsed": true
   },
   "outputs": [],
   "source": [
    "yelp.to_csv(\"../data/yelp_businesses.csv\")"
   ]
  },
  {
   "cell_type": "code",
   "execution_count": 436,
   "metadata": {
    "collapsed": false
   },
   "outputs": [],
   "source": [
    "a = set((1,2,3,4))"
   ]
  },
  {
   "cell_type": "code",
   "execution_count": 437,
   "metadata": {
    "collapsed": false
   },
   "outputs": [
    {
     "data": {
      "text/plain": [
       "{1, 2, 3, 4}"
      ]
     },
     "execution_count": 437,
     "metadata": {},
     "output_type": "execute_result"
    }
   ],
   "source": [
    "a"
   ]
  },
  {
   "cell_type": "code",
   "execution_count": 439,
   "metadata": {
    "collapsed": false
   },
   "outputs": [],
   "source": [
    "if 0 in a:\n",
    "    a.remove(0)"
   ]
  },
  {
   "cell_type": "code",
   "execution_count": 440,
   "metadata": {
    "collapsed": false
   },
   "outputs": [
    {
     "data": {
      "text/plain": [
       "{1, 2, 3, 4}"
      ]
     },
     "execution_count": 440,
     "metadata": {},
     "output_type": "execute_result"
    }
   ],
   "source": [
    "a"
   ]
  },
  {
   "cell_type": "code",
   "execution_count": null,
   "metadata": {
    "collapsed": true
   },
   "outputs": [],
   "source": []
  }
 ],
 "metadata": {
  "kernelspec": {
   "display_name": "Python 2",
   "language": "python",
   "name": "python2"
  },
  "language_info": {
   "codemirror_mode": {
    "name": "ipython",
    "version": 2
   },
   "file_extension": ".py",
   "mimetype": "text/x-python",
   "name": "python",
   "nbconvert_exporter": "python",
   "pygments_lexer": "ipython2",
   "version": "2.7.11"
  }
 },
 "nbformat": 4,
 "nbformat_minor": 0
}
