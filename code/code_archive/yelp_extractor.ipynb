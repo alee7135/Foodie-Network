{
 "cells": [
  {
   "cell_type": "code",
   "execution_count": 1,
   "metadata": {
    "collapsed": true
   },
   "outputs": [],
   "source": [
    "import json\n",
    "import oauth2\n",
    "import urllib\n",
    "import urllib2\n",
    "import pprint"
   ]
  },
  {
   "cell_type": "code",
   "execution_count": 2,
   "metadata": {
    "collapsed": false
   },
   "outputs": [],
   "source": [
    "yelp_keys = json.load(open(\"/Users/alee/Downloads/yelp_key.json\"), encoding='UTF-8')\n",
    "\n",
    "API_HOST = 'api.yelp.com'\n",
    "SEARCH_LIMIT = 20\n",
    "KEY = yelp_keys['Consumer Key']\n",
    "SECRET_KEY = yelp_keys['Consumer Secret']\n",
    "TOKEN = yelp_keys['Token']\n",
    "SECRET_TOKEN = yelp_keys['Token Secret']"
   ]
  },
  {
   "cell_type": "code",
   "execution_count": 12,
   "metadata": {
    "collapsed": false
   },
   "outputs": [],
   "source": [
    "def request(host, path, url_params=None):\n",
    "    \"\"\"Prepares OAuth authentication and sends the request to the API.\n",
    "    Args:\n",
    "        host (str): The domain host of the API.\n",
    "        path (str): The path of the API after the domain.\n",
    "        url_params (dict): An optional set of query parameters in the request.\n",
    "    Returns:\n",
    "        dict: The JSON response from the request.\n",
    "    Raises:\n",
    "        urllib2.HTTPError: An error occurs from the HTTP request.\n",
    "    \"\"\"\n",
    "    # create endpoint url\n",
    "    url_params = url_params or {}\n",
    "    url = 'http://{0}{1}?'.format(host,urllib.quote(path.encode('utf8')))\n",
    "    # create consumer access\n",
    "    consumer = oauth2.Consumer(KEY, SECRET_KEY)\n",
    "    # GET Request\n",
    "    oauth_request = oauth2.Request(method=\"GET\", url=url, parameters=url_params)\n",
    "    oauth_request.update(\n",
    "        {\n",
    "            'oauth_nonce': oauth2.generate_nonce(),\n",
    "            'oauth_timestamp': oauth2.generate_timestamp(),\n",
    "            'oauth_token': TOKEN,\n",
    "            'oauth_consumer_key': KEY\n",
    "        }\n",
    "    )\n",
    "    token = oauth2.Token(TOKEN, SECRET_TOKEN)\n",
    "    oauth_request.sign_request(oauth2.SignatureMethod_HMAC_SHA1(), consumer, token)\n",
    "    signed_url = oauth_request.to_url()\n",
    "\n",
    "    print u'Querying {0} ...'.format(signed_url)\n",
    "\n",
    "    conn = urllib2.urlopen(signed_url, None)\n",
    "    try:\n",
    "        response = json.loads(conn.read())\n",
    "    finally:\n",
    "        conn.close()\n",
    "    return response\n",
    "\n",
    "def search(term, location):\n",
    "    \"\"\"Query the Search API by a search term and location.\n",
    "    Args:\n",
    "        term (str): The search term passed to the API.\n",
    "        location (str): The search location passed to the API.\n",
    "    Returns:\n",
    "        dict: The JSON response from the request.\n",
    "    \"\"\"\n",
    "    SEARCH_PATH = '/v2/search/'\n",
    "    url_params = {\n",
    "        'term': term.replace(' ', '+'),\n",
    "        'location': location.replace(' ', '+'),\n",
    "        'limit': SEARCH_LIMIT\n",
    "    }\n",
    "    return request(API_HOST, SEARCH_PATH, url_params=url_params)\n",
    "\n",
    "def get_business(business_id):\n",
    "    \"\"\"Query the Business API by a business ID.\n",
    "    Args:\n",
    "        business_id (str): The ID of the business to query.\n",
    "    Returns:\n",
    "        dict: The JSON response from the request.\n",
    "    \"\"\"\n",
    "    BUSINESS_PATH = '/v2/business/'\n",
    "    business_path = BUSINESS_PATH + business_id\n",
    "    print business_path\n",
    "    return request(API_HOST, business_path)\n",
    "\n",
    "\n",
    "def query_restaurant_url(term, location, print_info=False):\n",
    "    \"\"\"Queries the API by the input values from the user.\n",
    "    Args:\n",
    "        term (str): The search term to query.\n",
    "        location (str): The location of the business to query.\n",
    "    \"\"\"\n",
    "    # first create a search\n",
    "    response = search(term, location)\n",
    "    # check if it actually is a business, if not we dont care\n",
    "    businesses = response.get('businesses')\n",
    "\n",
    "    if not businesses:\n",
    "        print u'No businesses for {0} in {1} found.'.format(term, location)\n",
    "        return\n",
    "    # talk only the first business id\n",
    "    business_id = businesses[0]['id']\n",
    "\n",
    "    print u'{0} businesses found, querying business info ' \\\n",
    "        'for the top result \"{1}\" ...'.format(\n",
    "            len(businesses), business_id)\n",
    "    response = get_business(business_id)\n",
    "\n",
    "    print u'Result for business \"{0}\" found:'.format(business_id)\n",
    "    if print_info == True:\n",
    "        pprint.pprint(response, indent=2)\n",
    "    return response['url']"
   ]
  },
  {
   "cell_type": "code",
   "execution_count": 14,
   "metadata": {
    "collapsed": false
   },
   "outputs": [
    {
     "name": "stdout",
     "output_type": "stream",
     "text": [
      "http://www.yelp.com/biz/kung-food-san-francisco?utm_campaign=yelp_api&utm_medium=api_v2_business&utm_source=CPFP0J_VTrIOmSs71cdDtQ\n"
     ]
    }
   ],
   "source": []
  }
 ],
 "metadata": {
  "kernelspec": {
   "display_name": "Python 2",
   "language": "python",
   "name": "python2"
  },
  "language_info": {
   "codemirror_mode": {
    "name": "ipython",
    "version": 2
   },
   "file_extension": ".py",
   "mimetype": "text/x-python",
   "name": "python",
   "nbconvert_exporter": "python",
   "pygments_lexer": "ipython2",
   "version": "2.7.10"
  }
 },
 "nbformat": 4,
 "nbformat_minor": 0
}
